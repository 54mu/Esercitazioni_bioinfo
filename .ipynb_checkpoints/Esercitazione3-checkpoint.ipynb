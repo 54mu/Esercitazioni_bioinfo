{
 "cells": [
  {
   "cell_type": "code",
   "execution_count": 16,
   "id": "debc5751-5107-4670-a074-9f6df168784c",
   "metadata": {},
   "outputs": [
    {
     "name": "stdout",
     "output_type": "stream",
     "text": [
      "Preparing transaction: ...working... done\n",
      "Verifying transaction: ...working... done\n",
      "Executing transaction: ...working... done\n"
     ]
    }
   ],
   "source": [
    "%%bash\n",
    "\n",
    "mamba install -y -q -c bioconda bedtools metilene ipyigv \n",
    "pip install -q plotly jbrowse_jupyter biopython tqdm"
   ]
  },
  {
   "cell_type": "code",
   "execution_count": 75,
   "id": "1d937bfc-bbba-41cf-9a7a-a40581350eff",
   "metadata": {},
   "outputs": [
    {
     "name": "stdout",
     "output_type": "stream",
     "text": [
      "Requirement already satisfied: tqdm in /opt/conda/lib/python3.11/site-packages (4.66.1)\n"
     ]
    }
   ],
   "source": []
  },
  {
   "cell_type": "markdown",
   "id": "59adeb47-0d29-44eb-a48c-61f27d3ff661",
   "metadata": {},
   "source": [
    "---\n",
    "title: Esercitazione 3 \n",
    "authors:\n",
    "    - name: Samuele Greco\n",
    "      email: samuele.greco@units.it\n",
    "---\n",
    "\n",
    "# Epigenetica\n",
    "---\n",
    "\n",
    "L'epigenetica è un ramo della biologia che studia le modifiche ereditabili dell'espressione genica che non alterano la sequenza del DNA. Tali modifiche, definite epigenetiche (*epi-*, sopra), influenzano il modo in cui i geni vengono attivati o silenziati e possono essere trasmesse attraverso le generazioni cellulari. Ciò implica che l'attivazione o l'inattivazione di geni cruciali per lo sviluppo o il funzionamento delle cellule può essere regolata non solo dalla sequenza genetica stessa, ma anche dalle condizioni ambientali e dallo stile di vita, che influiscono su questi cambiamenti.\n",
    "\n",
    "Esistono vari tipi di modificazioni epigenetiche che hanno effetti significativi sull'espressione genica:\n",
    "\n",
    "1. **Modificazioni degli istoni**: Gli istoni sono proteine attorno alle quali il DNA si avvolge per formare la cromatina. Possono subire diverse modifiche chimiche, tra cui l'acetilazione, la metilazione, la fosforilazione e l'ubiquitinazione. L'acetilazione, ad esempio, tende a rendere il DNA più accessibile ai fattori di trascrizione, attivando l'espressione genica. La metilazione degli istoni, a seconda del tipo di modificazione, può sia attivare che reprimere i geni. Un tipo di analisi molto usato per rilevare questo tipo di modificazioni è la [**Chromatin Immuno Precipitation (ChIP)**](https://it.wikipedia.org/wiki/Immunoprecipitazione_della_cromatina).\n",
    "\n",
    "2. **RNA non codificanti**: Gli RNA non codificanti, come i microRNA e i RNA lunghi non codificanti (lncRNA), possono regolare l'espressione genica interagendo con altre molecole di RNA o proteine. Possono destabilizzare le molecole di RNA messaggero (mRNA), inibire la traduzione o interferire con la cromatina per modulare l'accessibilità ai geni.\n",
    "\n",
    "3. **Riarrangiamento della cromatina**: Alcune proteine specializzate sono in grado di rimodellare la struttura della cromatina per renderla più o meno accessibile ai fattori di trascrizione. Questo processo consente di regolare l'espressione genica adattando l'organizzazione del genoma a livello nucleare e consiste principalmente in scorrimento, espulsione e riposizionamento dei [**nucleosomi**](https://it.wikipedia.org/wiki/Nucleosoma).\n",
    "\n",
    "4. **Metilazione del DNA**: Uno dei meccanismi epigenetici più studiati è la metilazione del DNA. Questo processo comporta l'aggiunta di un gruppo metilico (-CH₃) a una citosina presente nelle sequenze CpG del DNA. Tale modifica agisce generalmente reprimendo l'espressione genica, spesso bloccando i fattori di trascrizione o reclutando proteine che reprimono l'attività trascrizionale. La metilazione svolge un ruolo chiave nello sviluppo, nella differenziazione cellulare e nella regolazione genica. Un'alterazione anomala della metilazione è spesso correlata a malattie come il cancro, l'autismo e le malattie autoimmuni.\n",
    "\n",
    "L'insieme di questi meccanismi epigenetici permette alle cellule di rispondere rapidamente agli stimoli ambientali, ma la loro regolazione anomala può portare a disfunzioni e patologie complesse.\n",
    "\n",
    ":::{note}CpG islands\n",
    "Le isole CpG sono tratti di DNA caratterizzati da una concentrazione elevata di coppie di basi citosina-guanina. Queste isole si trovano spesso nelle regioni promotrici dei geni, cioè nelle aree dove inizia la trascrizione del DNA per la sintesi dell’RNA\n",
    ":::\n",
    "\n",
    "## Analisi di metilazione del DNA\n",
    "\n",
    "Questa esercitazione è basata sullo studio [Li *et. al.*, 2015](https://journals.plos.org/plosone/article?id=10.1371/journal.pone.0118453).\n",
    "\n",
    "Questo studio ha esplorato le alterazioni epigenetiche associate al cancro al seno, concentrandosi in particolare sui modelli di metilazione del DNA nei diversi tipi di tessuto mammario e di tumori associati. I ricercatori hanno utilizzato il sequenziamento dell'intero genoma trattato con bisolfito di sodio (whole-genome bisulfite sequencing) per analizzare e confrontare i metilomi (profili completi di metilazione del DNA) del tessuto mammario normale, tessuto mammario tumorale e della linea cellulare di cancro al seno MCF7. Per semplicità confronteremo solo tessuto tumorale con tessuto normale. \n",
    "\n",
    ":::{note} Bisulfite sequencing\n",
    "In questo metodo, il DNA viene trattato con bisolfito di sodio, che converte la citosina non metilata in uracile, mentre le citosine metilate rimangono invariate. Durante il sequenziamento successivo, le citosine non metilate appaiono come timine, consentendo di distinguere tra le basi metilate e non metilate e fornendo un profilo dettagliato delle regioni metilate nel genoma. [Pagina Wikipedia](https://en.wikipedia.org/wiki/Bisulfite_sequencing)\n",
    ":::\n",
    "\n",
    "### Sequenziamento e preparazione delle read\n",
    "\n",
    "Nella prima parte dell'esperimento (che qui saltiamo per ragioni di tempo, abbiamo già visto questi meccanismi) il DNA è stato trattato con bisolfito di sodio e successivamente sequenziato. Le read di sequenziamento, quando sottoposte a controllo qualità producevano il seguente grafico di composizione nucleotidica:\n",
    "\n",
    ":::{figure}https://training.galaxyproject.org/training-material/topics/epigenetics/images/fastqc.png\n",
    ":::\n",
    "\n",
    ":::{warning}Domanda\n",
    "Ci vedete qualcosa di strano rispetto a quelle che abbiamo visto la scorsa volta?\n",
    ":::\n",
    "\n",
    "Le read sono state poi **trimmate** e **mappate** sul genoma umano di riferimento con un allineatore in grado di tollerare le mutazioni C→T indotte dal bisolfito di sodio e di quantificare quindi anche gli eventi di metilazione delle citosine. \n",
    "\n",
    "## Analisi di metilazione differenziale \n",
    "\n",
    "Ora scaricheremo il dataset pre-processato per andare a valutare le differenze di metilazione a livello dei geni e scoprire se tra le diverse condizioni sperimentali dei campioni esistoni differenze significative ed eventualmente determinare i geni la cui metilazione/demetilazione determina un certo fenotipo.\n",
    "\n",
    "Il comando nella cella successiva scarica i file e li ordina al volo usando bedtools.\n",
    "\n",
    ":::{dropdown}BEDtools\n",
    "Bedtools è una raccolta di strumenti software progettati per l'analisi e la manipolazione di file in formato BED (Browser Extensible Data), un formato comunemente utilizzato per rappresentare regioni genomiche. Bedtools offre una serie di funzionalità, come l'intersezione, il confronto e la sottrazione di regioni genomiche, consentendo agli utenti di eseguire operazioni complesse sui dati di genomica e bioinformatica. Questi strumenti sono ampiamente impiegati nella ricerca genomica per compiti quali l'identificazione di sovrapposizioni tra annotazioni genomiche, la creazione di regioni uniche o la combinazione di dati da diversi esperimenti.\n",
    ":::"
   ]
  },
  {
   "cell_type": "code",
   "execution_count": 103,
   "id": "f68a01c0-082b-4c2a-a83b-ff02aa9e4b63",
   "metadata": {},
   "outputs": [
    {
     "name": "stderr",
     "output_type": "stream",
     "text": [
      "  % Total    % Received % Xferd  Average Speed   Time    Time     Time  Current\n",
      "                                 Dload  Upload   Total   Spent    Left  Speed\n",
      "100  777M  100  777M    0     0  6639k      0  0:01:59  0:01:59 --:--:-- 11.7M\n",
      "  % Total    % Received % Xferd  Average Speed   Time    Time     Time  Current\n",
      "                                 Dload  Upload   Total   Spent    Left  Speed\n",
      "100  441M  100  441M    0     0  7520k      0  0:01:00  0:01:00 --:--:-- 11.9M\n",
      "  % Total    % Received % Xferd  Average Speed   Time    Time     Time  Current\n",
      "                                 Dload  Upload   Total   Spent    Left  Speed\n",
      "100  705M  100  705M    0     0  6269k      0  0:01:55  0:01:55 --:--:-- 11.8M\n",
      "  % Total    % Received % Xferd  Average Speed   Time    Time     Time  Current\n",
      "                                 Dload  Upload   Total   Spent    Left  Speed\n",
      "100  566M  100  566M    0     0  4263k      0  0:02:16  0:02:16 --:--:-- 11.7M\n"
     ]
    }
   ],
   "source": [
    "%%bash\n",
    "\n",
    "curl https://zenodo.org/records/557099/files/NB2_CpG.meth.bedGraph?download=1 | bedtools sort -i - > NB2.bedgraph\n",
    "curl https://zenodo.org/records/557099/files/NB1_CpG.meth.bedGraph?download=1 | bedtools sort -i - > NB1.bedgraph\n",
    "curl https://zenodo.org/records/557099/files/BT089_CpG.meth.bedGraph?download=1 | bedtools sort -i - > BT089.bedgraph\n",
    "curl https://zenodo.org/records/557099/files/BT126_CpG.meth.bedGraph?download=1 | bedtools sort -i - > BT126.bedgraph"
   ]
  },
  {
   "cell_type": "markdown",
   "id": "f9bbd408-500e-4cd2-bbbd-21e58572da7b",
   "metadata": {},
   "source": [
    "Adesso scarichiamo anche un file in formato `bed` che contiene le coordinate delle cpg islands già precalcolate per il genoma umano, questo servirà per limitare la ricerca di regioni differenzialmente metilate su *loci* predefiniti, semplificando il lavoro. \n",
    "La cella successiva produce anche un'anteprima del file `cpg_islands.bed`"
   ]
  },
  {
   "cell_type": "code",
   "execution_count": 104,
   "id": "84868a0b-eb72-4db0-abc8-b13eedbe9dbd",
   "metadata": {},
   "outputs": [
    {
     "name": "stderr",
     "output_type": "stream",
     "text": [
      "  % Total    % Received % Xferd  Average Speed   Time    Time     Time  Current\n",
      "                                 Dload  Upload   Total   Spent    Left  Speed\n",
      "100  794k  100  794k    0     0  1784k      0 --:--:-- --:--:-- --:--:-- 1786k\n"
     ]
    },
    {
     "name": "stdout",
     "output_type": "stream",
     "text": [
      "1\t28735\t29737\tCpG:_111\n",
      "1\t135124\t135563\tCpG:_30\n",
      "1\t199251\t200121\tCpG:_104\n",
      "1\t368792\t370063\tCpG:_99\n",
      "1\t381172\t382185\tCpG:_84\n",
      "1\t491107\t491546\tCpG:_29\n",
      "1\t597839\t598734\tCpG:_94\n",
      "1\t609358\t611269\tCpG:_171\n",
      "1\t778604\t779167\tCpG:_60\n",
      "1\t827036\t828065\tCpG:_111\n"
     ]
    }
   ],
   "source": [
    "%%bash\n",
    "curl https://zenodo.org/records/557099/files/CpGIslands.bed?download=1 > cpg_islands.bed\n",
    "head cpg_islands.bed"
   ]
  },
  {
   "cell_type": "markdown",
   "id": "024ea13e-5d3d-41b5-8d96-4da36e666851",
   "metadata": {},
   "source": [
    "### identificazione delle regioni differenzialmente metilate (DMRs)\n",
    "Useremo ora lo strumento **metilene** per trovare le regioni differenzialmente metilate tra la condizione normale e quella tumorale. Verrà effettuato un test statistico, utile per dare un peso alle nostre osservazioni, permettendoci di ridurre il più possibile il rumore di fondo ed i falsi positivi. Il test statistico in questione è il [Test di Wilcoxon Mann Whitney](https://it.wikipedia.org/wiki/Test_di_Wilcoxon-Mann-Whitney), che ci fornirà un valore detto [p-value](https://it.wikipedia.org/wiki/Valore_p) corretto col metodo di [Bonferroni](https://it.wikipedia.org/wiki/Correzione_di_Bonferroni). \n",
    "\n",
    "Innanzitutto metilene richiede la creazione di un unico file che definisca i valori di metilazione delle regioni genomiche ed i raggruppamenti dei campioni:"
   ]
  },
  {
   "cell_type": "code",
   "execution_count": 105,
   "id": "464c4af0-587b-4aad-afc2-11dcd389d371",
   "metadata": {},
   "outputs": [
    {
     "name": "stderr",
     "output_type": "stream",
     "text": [
      "[WARNING]\tFri May 10, 13:35:16, 2024\tInput files need to be SORTED, i.e., use \"bedtools sort -i file >file.sorted\"\n",
      "[INFO]\tFri May 10, 13:35:16, 2024\tChecking flags\n"
     ]
    },
    {
     "name": "stdout",
     "output_type": "stream",
     "text": [
      "/opt/conda/bin/bedtools\n"
     ]
    },
    {
     "name": "stderr",
     "output_type": "stream",
     "text": [
      "[INFO]\tFri May 10, 13:35:16, 2024\tWrite metilene input to metilene_tumor_normal.input\n",
      "\n",
      "*****\n",
      "\n",
      "[BASIC CALL:] metilene_executable -t 4 -a tumor -b normal metilene_tumor_normal.input >out.file\n",
      "Please adjust executable of metilene, number of threads (-t) and names of groups (-a, -b). For further parameters: metilene_executable --help\n"
     ]
    }
   ],
   "source": [
    "%%bash\n",
    "metilene_input.pl --in1 BT089.bedgraph,BT126.bedgraph --in2 NB1.bedgraph,NB2.bedgraph --h1 tumor --h2 normal"
   ]
  },
  {
   "cell_type": "markdown",
   "id": "dc439ea9-fcb7-40c7-837b-f920a2e532e6",
   "metadata": {},
   "source": [
    "Il comando sopra creerà il file `metilene_normal_tumor.input`, che usiamo nella cella successiva per calcolare le regioni differenzialmente metilate. \n",
    "Come vedete, il comando sotto è in realtà una **pipeline** di comandi, che si passano gli output. Di default, metilene produce i messaggi di log e gli output come testo visibile, cosa che se incontrollata bloccherebbe questa pagina. Quindi con '2>' diciamo di scrivere i log nel file `metilene.log` e con ol carattere `|` passiamo l'output relativo alle regioni metilate al comando sort, che si occuperà di ordinare i risultati per cromosoma e significatività, salvando poi il risultato finale nel file `metilene.output.tsv`"
   ]
  },
  {
   "cell_type": "code",
   "execution_count": 106,
   "id": "9dfa3faf-15d6-4452-8b03-de3790a4a1af",
   "metadata": {},
   "outputs": [],
   "source": [
    "%%bash\n",
    "metilene -t 4 -f 2 -a tumor -b normal -B cpg_islands.bed metilene_normal_tumor.input 2> metilene.log | sort -V -k1,1 -k2,2n > metilene.output.tsv"
   ]
  },
  {
   "cell_type": "markdown",
   "id": "eb641bc8-864f-47a0-a33c-a9acf64d6143",
   "metadata": {},
   "source": [
    "ora passiamo questo file al comando `metilene_output.pl` che lo filtrerà e fornirà un piccolo report dei risultati"
   ]
  },
  {
   "cell_type": "code",
   "execution_count": 107,
   "id": "36330c5d-d85c-4487-bfdf-22810e89b3c6",
   "metadata": {},
   "outputs": [
    {
     "name": "stderr",
     "output_type": "stream",
     "text": [
      "[INFO]\tFri May 10, 13:41:42, 2024\tChecking flags\n",
      "[INFO]\tFri May 10, 13:41:42, 2024\tFilter DMRs.\n",
      "[INFO]\tFri May 10, 13:41:42, 2024\tWrote 774 DMRs with adj. p-value<0.05, a minimum absolute difference>=0.1, a minimum length [CpG]>=10 and a minimum length [nt]>=0\n",
      "[INFO]\tFri May 10, 13:41:42, 2024\tBedgraph file containing DMR difference: /home/jovyan/work/metilene_qval.0.05.bedgraph\n",
      "[INFO]\tFri May 10, 13:41:42, 2024\tPlot DMR statistics.\n",
      "Warning message:\n",
      "Removed 2 rows containing missing values (`geom_bar()`). \n",
      "Warning message:\n",
      "Using `size` aesthetic for lines was deprecated in ggplot2 3.4.0.\n",
      "ℹ Please use `linewidth` instead. \n"
     ]
    },
    {
     "name": "stdout",
     "output_type": "stream",
     "text": [
      "null device \n",
      "          1 \n"
     ]
    }
   ],
   "source": [
    "%%bash\n",
    "metilene_output.pl -q metilene.output.tsv -a tumor -b normal"
   ]
  },
  {
   "cell_type": "markdown",
   "id": "a4ecba53-16db-412e-8b53-f71a88b75bab",
   "metadata": {},
   "source": [
    "Ora possiamo visualizzare i risultati aprendo la tabella `metilene_qval.0.05.out` e processarli con python nella cella successiva"
   ]
  },
  {
   "cell_type": "code",
   "execution_count": 108,
   "id": "15ca241c-f5ef-45ca-961e-0dcca38ca632",
   "metadata": {},
   "outputs": [
    {
     "data": {
      "text/html": [
       "<div>\n",
       "<style scoped>\n",
       "    .dataframe tbody tr th:only-of-type {\n",
       "        vertical-align: middle;\n",
       "    }\n",
       "\n",
       "    .dataframe tbody tr th {\n",
       "        vertical-align: top;\n",
       "    }\n",
       "\n",
       "    .dataframe thead th {\n",
       "        text-align: right;\n",
       "    }\n",
       "</style>\n",
       "<table border=\"1\" class=\"dataframe\">\n",
       "  <thead>\n",
       "    <tr style=\"text-align: right;\">\n",
       "      <th></th>\n",
       "      <th>chr</th>\n",
       "      <th>start</th>\n",
       "      <th>stop</th>\n",
       "      <th>q-value</th>\n",
       "      <th>mean methylation difference</th>\n",
       "      <th>#CpGs</th>\n",
       "      <th>mean tumor</th>\n",
       "      <th>mean normal</th>\n",
       "    </tr>\n",
       "  </thead>\n",
       "  <tbody>\n",
       "    <tr>\n",
       "      <th>0</th>\n",
       "      <td>1</td>\n",
       "      <td>1032586</td>\n",
       "      <td>1034858</td>\n",
       "      <td>1.469000e-03</td>\n",
       "      <td>-0.260630</td>\n",
       "      <td>66</td>\n",
       "      <td>0.26177</td>\n",
       "      <td>0.522400</td>\n",
       "    </tr>\n",
       "    <tr>\n",
       "      <th>1</th>\n",
       "      <td>1</td>\n",
       "      <td>1162663</td>\n",
       "      <td>1165204</td>\n",
       "      <td>3.472000e-26</td>\n",
       "      <td>-0.474782</td>\n",
       "      <td>100</td>\n",
       "      <td>0.25210</td>\n",
       "      <td>0.726880</td>\n",
       "    </tr>\n",
       "    <tr>\n",
       "      <th>2</th>\n",
       "      <td>1</td>\n",
       "      <td>1173934</td>\n",
       "      <td>1174765</td>\n",
       "      <td>7.747500e-04</td>\n",
       "      <td>0.365682</td>\n",
       "      <td>24</td>\n",
       "      <td>0.76420</td>\n",
       "      <td>0.398520</td>\n",
       "    </tr>\n",
       "    <tr>\n",
       "      <th>3</th>\n",
       "      <td>1</td>\n",
       "      <td>1332055</td>\n",
       "      <td>1333606</td>\n",
       "      <td>1.545200e-03</td>\n",
       "      <td>-0.108488</td>\n",
       "      <td>103</td>\n",
       "      <td>0.43000</td>\n",
       "      <td>0.538490</td>\n",
       "    </tr>\n",
       "    <tr>\n",
       "      <th>4</th>\n",
       "      <td>1</td>\n",
       "      <td>2290759</td>\n",
       "      <td>2291130</td>\n",
       "      <td>9.162300e-04</td>\n",
       "      <td>0.461399</td>\n",
       "      <td>19</td>\n",
       "      <td>0.48649</td>\n",
       "      <td>0.025089</td>\n",
       "    </tr>\n",
       "  </tbody>\n",
       "</table>\n",
       "</div>"
      ],
      "text/plain": [
       "  chr    start     stop       q-value  mean methylation difference  #CpGs  \\\n",
       "0   1  1032586  1034858  1.469000e-03                    -0.260630     66   \n",
       "1   1  1162663  1165204  3.472000e-26                    -0.474782    100   \n",
       "2   1  1173934  1174765  7.747500e-04                     0.365682     24   \n",
       "3   1  1332055  1333606  1.545200e-03                    -0.108488    103   \n",
       "4   1  2290759  2291130  9.162300e-04                     0.461399     19   \n",
       "\n",
       "   mean tumor  mean normal  \n",
       "0     0.26177     0.522400  \n",
       "1     0.25210     0.726880  \n",
       "2     0.76420     0.398520  \n",
       "3     0.43000     0.538490  \n",
       "4     0.48649     0.025089  "
      ]
     },
     "execution_count": 108,
     "metadata": {},
     "output_type": "execute_result"
    }
   ],
   "source": [
    "import pandas as pd \n",
    "import plotly.express as px \n",
    "import numpy as np\n",
    "from jbrowse_jupyter import launch, create\n",
    "header = [\n",
    "    'chr', 'start', 'stop', 'q-value',\n",
    "    'mean methylation difference', '#CpGs',\n",
    "    'mean tumor', 'mean normal'\n",
    "]\n",
    "dmrs = pd.read_csv(\"metilene_qval.0.05.out\", sep = \"\\t\", names = header)\n",
    "dmrs.head()"
   ]
  },
  {
   "cell_type": "markdown",
   "id": "07944877-de7d-4c3d-9eb5-7c144301631e",
   "metadata": {},
   "source": [
    "Adesso disegnamo un **volcano plot**, che mette in relazione le differenze in metilazione con la significatività di tali differenze. Sull'asse $x$ avremo la differenza di metilazione, mentre sull'asse $y$ applicheremo la trasformazione $-log$ al *p-value* per renderlo lineare e direttamente proporzionale alla significatività:\n"
   ]
  },
  {
   "cell_type": "code",
   "execution_count": 109,
   "id": "dd3f08da-4321-494e-ae96-2afe966809d8",
   "metadata": {},
   "outputs": [
    {
     "data": {
      "application/vnd.plotly.v1+json": {
       "config": {
        "plotlyServerURL": "https://plot.ly"
       },
       "data": [
        {
         "customdata": [
          [
           "1",
           1032586,
           1034858
          ],
          [
           "1",
           1162663,
           1165204
          ],
          [
           "1",
           1173934,
           1174765
          ],
          [
           "1",
           1332055,
           1333606
          ],
          [
           "1",
           2290759,
           2291130
          ],
          [
           "1",
           2300871,
           2301178
          ],
          [
           "1",
           2428487,
           2428728
          ],
          [
           "1",
           2911220,
           2911729
          ],
          [
           "1",
           3404705,
           3405746
          ],
          [
           "1",
           3543310,
           3543705
          ],
          [
           "1",
           3718069,
           3718537
          ],
          [
           "1",
           6454048,
           6455985
          ],
          [
           "1",
           6460524,
           6461895
          ],
          [
           "1",
           9039221,
           9040454
          ],
          [
           "1",
           10638242,
           10640041
          ],
          [
           "1",
           10704392,
           10704868
          ],
          [
           "1",
           11501309,
           11502099
          ],
          [
           "1",
           13583642,
           13584373
          ],
          [
           "1",
           16872131,
           16873554
          ],
          [
           "1",
           18784226,
           18784438
          ],
          [
           "1",
           19273755,
           19274448
          ],
          [
           "1",
           19338516,
           19338782
          ],
          [
           "1",
           26863421,
           26863637
          ],
          [
           "1",
           27349428,
           27351525
          ],
          [
           "1",
           27360533,
           27361252
          ],
          [
           "1",
           29134365,
           29134660
          ],
          [
           "1",
           35576831,
           35577843
          ],
          [
           "1",
           36178354,
           36179042
          ],
          [
           "1",
           37995912,
           37996316
          ],
          [
           "1",
           43565615,
           43566167
          ],
          [
           "1",
           44617067,
           44617613
          ],
          [
           "1",
           47984198,
           47984472
          ],
          [
           "1",
           54390728,
           54390935
          ],
          [
           "1",
           54781069,
           54781846
          ],
          [
           "1",
           68051571,
           68051791
          ],
          [
           "1",
           120952492,
           120953081
          ],
          [
           "1",
           125085509,
           125088028
          ],
          [
           "1",
           143326822,
           143327608
          ],
          [
           "1",
           143449787,
           143451252
          ],
          [
           "1",
           143497155,
           143498908
          ],
          [
           "1",
           145447303,
           145447803
          ],
          [
           "1",
           151837984,
           151839208
          ],
          [
           "1",
           152188845,
           152189452
          ],
          [
           "1",
           155188536,
           155192004
          ],
          [
           "1",
           156076552,
           156077593
          ],
          [
           "1",
           156646761,
           156647154
          ],
          [
           "1",
           156907977,
           156908350
          ],
          [
           "1",
           157194748,
           157195345
          ],
          [
           "1",
           158177643,
           158178064
          ],
          [
           "1",
           161038587,
           161039040
          ],
          [
           "1",
           161079556,
           161079947
          ],
          [
           "1",
           161440076,
           161472713
          ],
          [
           "1",
           164576303,
           164576680
          ],
          [
           "1",
           166165021,
           166167211
          ],
          [
           "1",
           171841327,
           171842185
          ],
          [
           "1",
           180953779,
           180954556
          ],
          [
           "1",
           182056469,
           182057376
          ],
          [
           "1",
           200873068,
           200874260
          ],
          [
           "1",
           201647913,
           201650660
          ],
          [
           "1",
           203075594,
           203076262
          ],
          [
           "1",
           207644966,
           207645607
          ],
          [
           "1",
           211416335,
           211416879
          ],
          [
           "1",
           211478964,
           211479412
          ],
          [
           "1",
           217138125,
           217138431
          ],
          [
           "1",
           220878624,
           220880331
          ],
          [
           "1",
           220884121,
           220884870
          ],
          [
           "1",
           225887450,
           225887980
          ],
          [
           "1",
           228157676,
           228158999
          ],
          [
           "1",
           228211770,
           228214336
          ],
          [
           "1",
           228635026,
           228635503
          ],
          [
           "1",
           229431459,
           229434937
          ],
          [
           "1",
           236064382,
           236065517
          ],
          [
           "1",
           247518097,
           247518649
          ],
          [
           "2",
           467849,
           468659
          ],
          [
           "2",
           868244,
           869405
          ],
          [
           "2",
           3594957,
           3595161
          ],
          [
           "2",
           5691055,
           5694076
          ],
          [
           "2",
           5695936,
           5697511
          ],
          [
           "2",
           9393443,
           9393678
          ],
          [
           "2",
           26178826,
           26179150
          ],
          [
           "2",
           26184553,
           26185384
          ],
          [
           "2",
           26727670,
           26728606
          ],
          [
           "2",
           27442072,
           27442803
          ],
          [
           "2",
           38959636,
           38960827
          ],
          [
           "2",
           39243601,
           39244067
          ],
          [
           "2",
           53859639,
           53860129
          ],
          [
           "2",
           73268792,
           73269782
          ],
          [
           "2",
           74513197,
           74516668
          ],
          [
           "2",
           80302552,
           80303721
          ],
          [
           "2",
           85584217,
           85584732
          ],
          [
           "2",
           89611125,
           89612239
          ],
          [
           "2",
           91441994,
           91443568
          ],
          [
           "2",
           91477061,
           91479459
          ],
          [
           "2",
           94735635,
           94735891
          ],
          [
           "2",
           96500471,
           96500923
          ],
          [
           "2",
           102187212,
           102188096
          ],
          [
           "2",
           104853026,
           104857030
          ],
          [
           "2",
           113198766,
           113199465
          ],
          [
           "2",
           113235627,
           113236498
          ],
          [
           "2",
           114662151,
           114662684
          ],
          [
           "2",
           127415899,
           127416217
          ],
          [
           "2",
           130036887,
           130037242
          ],
          [
           "2",
           130037767,
           130038141
          ],
          [
           "2",
           130213360,
           130213800
          ],
          [
           "2",
           130288427,
           130288908
          ],
          [
           "2",
           130916113,
           130916577
          ],
          [
           "2",
           131039789,
           131040515
          ],
          [
           "2",
           144389556,
           144389909
          ],
          [
           "2",
           149320299,
           149320705
          ],
          [
           "2",
           156319739,
           156320834
          ],
          [
           "2",
           161423324,
           161424198
          ],
          [
           "2",
           163348230,
           163348529
          ],
          [
           "2",
           172100034,
           172103129
          ],
          [
           "2",
           174334735,
           174337795
          ],
          [
           "2",
           176079359,
           176083718
          ],
          [
           "2",
           176116037,
           176116695
          ],
          [
           "2",
           176151688,
           176152761
          ],
          [
           "2",
           176188229,
           176189622
          ],
          [
           "2",
           199461948,
           199464958
          ],
          [
           "2",
           218033767,
           218034112
          ],
          [
           "2",
           218871410,
           218871870
          ],
          [
           "2",
           218873359,
           218874066
          ],
          [
           "2",
           219447976,
           219449372
          ],
          [
           "2",
           219483566,
           219485062
          ],
          [
           "2",
           219541641,
           219542118
          ],
          [
           "2",
           226797366,
           226800196
          ],
          [
           "2",
           230990522,
           230991242
          ],
          [
           "2",
           233060381,
           233060608
          ],
          [
           "2",
           240557159,
           240558183
          ],
          [
           "2",
           240983360,
           240983726
          ],
          [
           "2",
           241035489,
           241036901
          ],
          [
           "2",
           241890848,
           241891078
          ],
          [
           "3",
           4983075,
           4983282
          ],
          [
           "3",
           9862647,
           9863127
          ],
          [
           "3",
           9915138,
           9915980
          ],
          [
           "3",
           32816702,
           32819014
          ],
          [
           "3",
           36763974,
           36764723
          ],
          [
           "3",
           42936338,
           42936598
          ],
          [
           "3",
           46464671,
           46464926
          ],
          [
           "3",
           47008996,
           47010119
          ],
          [
           "3",
           50340372,
           50341109
          ],
          [
           "3",
           50345458,
           50345879
          ],
          [
           "3",
           55482082,
           55482402
          ],
          [
           "3",
           62318839,
           62319105
          ],
          [
           "3",
           65356528,
           65357209
          ],
          [
           "3",
           75395561,
           75396460
          ],
          [
           "3",
           126541645,
           126542513
          ],
          [
           "3",
           128075526,
           128077293
          ],
          [
           "3",
           129003440,
           129004193
          ],
          [
           "3",
           129343987,
           129344290
          ],
          [
           "3",
           129974280,
           129975998
          ],
          [
           "3",
           137770752,
           137772162
          ],
          [
           "3",
           138434427,
           138435779
          ],
          [
           "3",
           138937785,
           138940265
          ],
          [
           "3",
           141095071,
           141095292
          ],
          [
           "3",
           141797213,
           141797797
          ],
          [
           "3",
           193869563,
           193870100
          ],
          [
           "4",
           681054,
           682302
          ],
          [
           "4",
           1194397,
           1195374
          ],
          [
           "4",
           1402503,
           1407942
          ],
          [
           "4",
           1593566,
           1593812
          ],
          [
           "4",
           2817772,
           2818702
          ],
          [
           "4",
           2931917,
           2932152
          ],
          [
           "4",
           3484236,
           3484654
          ],
          [
           "4",
           6657544,
           6658060
          ],
          [
           "4",
           40856867,
           40857290
          ],
          [
           "4",
           42150749,
           42152967
          ],
          [
           "4",
           52076812,
           52077082
          ],
          [
           "4",
           73620327,
           73620541
          ],
          [
           "4",
           73981811,
           73982113
          ],
          [
           "4",
           80202458,
           80203164
          ],
          [
           "4",
           81214734,
           81215381
          ],
          [
           "4",
           101790672,
           101791042
          ],
          [
           "4",
           150579611,
           150580147
          ],
          [
           "4",
           150582859,
           150583933
          ],
          [
           "4",
           154781188,
           154782176
          ],
          [
           "4",
           157220252,
           157220684
          ],
          [
           "4",
           186298166,
           186298591
          ],
          [
           "4",
           189810492,
           189811043
          ],
          [
           "5",
           169463,
           169683
          ],
          [
           "5",
           191677,
           192429
          ],
          [
           "5",
           421109,
           421636
          ],
          [
           "5",
           958670,
           959057
          ],
          [
           "5",
           1874793,
           1878918
          ],
          [
           "5",
           1879575,
           1879814
          ],
          [
           "5",
           3326214,
           3326531
          ],
          [
           "5",
           3590530,
           3591886
          ],
          [
           "5",
           3594353,
           3603136
          ],
          [
           "5",
           3606374,
           3607021
          ],
          [
           "5",
           42991931,
           42992853
          ],
          [
           "5",
           43042005,
           43043375
          ],
          [
           "5",
           51389619,
           51390314
          ],
          [
           "5",
           73446781,
           73448760
          ],
          [
           "5",
           79689601,
           79689959
          ],
          [
           "5",
           80960133,
           80961187
          ],
          [
           "5",
           93594823,
           93595124
          ],
          [
           "5",
           116361437,
           116361892
          ],
          [
           "5",
           132257732,
           132258120
          ],
          [
           "5",
           132822850,
           132823511
          ],
          [
           "5",
           135489708,
           135490806
          ],
          [
           "5",
           139392021,
           139395222
          ],
          [
           "5",
           140672474,
           140673796
          ],
          [
           "5",
           140787506,
           140788554
          ],
          [
           "5",
           140796081,
           140797228
          ],
          [
           "5",
           140829168,
           140830372
          ],
          [
           "5",
           140835615,
           140836574
          ],
          [
           "5",
           140862488,
           140863422
          ],
          [
           "5",
           140876688,
           140877705
          ],
          [
           "5",
           140883500,
           140884569
          ],
          [
           "5",
           141478297,
           141478498
          ],
          [
           "5",
           174731677,
           174732726
          ],
          [
           "5",
           176596776,
           176597650
          ],
          [
           "5",
           177971161,
           177971433
          ],
          [
           "5",
           178994224,
           178995336
          ],
          [
           "5",
           180590099,
           180592062
          ],
          [
           "5",
           180618789,
           180621897
          ],
          [
           "6",
           391188,
           393802
          ],
          [
           "6",
           1601389,
           1601903
          ],
          [
           "6",
           1618858,
           1620859
          ],
          [
           "6",
           9398860,
           9399366
          ],
          [
           "6",
           10381325,
           10382121
          ],
          [
           "6",
           10389937,
           10390332
          ],
          [
           "6",
           10390655,
           10390865
          ],
          [
           "6",
           10421181,
           10421494
          ],
          [
           "6",
           25882099,
           25882332
          ],
          [
           "6",
           28988329,
           28988801
          ],
          [
           "6",
           30071104,
           30071700
          ],
          [
           "6",
           32095756,
           32097267
          ],
          [
           "6",
           33593115,
           33593412
          ],
          [
           "6",
           34531536,
           34531803
          ],
          [
           "6",
           35485999,
           35486658
          ],
          [
           "6",
           41371498,
           41372289
          ],
          [
           "6",
           41372929,
           41374805
          ],
          [
           "6",
           41407007,
           41407449
          ],
          [
           "6",
           41560528,
           41561162
          ],
          [
           "6",
           42104294,
           42104963
          ],
          [
           "6",
           42259343,
           42259750
          ],
          [
           "6",
           84762984,
           84764414
          ],
          [
           "6",
           100464195,
           100465461
          ],
          [
           "6",
           101402753,
           101403098
          ],
          [
           "6",
           149963546,
           149965379
          ],
          [
           "6",
           151807687,
           151808636
          ],
          [
           "6",
           158516253,
           158516459
          ],
          [
           "6",
           160347382,
           160349276
          ],
          [
           "6",
           166166485,
           166169935
          ],
          [
           "6",
           170423031,
           170423354
          ],
          [
           "7",
           253934,
           254266
          ],
          [
           "7",
           379553,
           379950
          ],
          [
           "7",
           462641,
           464240
          ],
          [
           "7",
           604544,
           604824
          ],
          [
           "7",
           989829,
           990689
          ],
          [
           "7",
           1050541,
           1050881
          ],
          [
           "7",
           1096108,
           1096356
          ],
          [
           "7",
           1713810,
           1714070
          ],
          [
           "7",
           2020272,
           2020496
          ],
          [
           "7",
           2531603,
           2531877
          ],
          [
           "7",
           2679192,
           2679490
          ],
          [
           "7",
           4808620,
           4809573
          ],
          [
           "7",
           20783688,
           20785511
          ],
          [
           "7",
           23468565,
           23470093
          ],
          [
           "7",
           23473915,
           23474793
          ],
          [
           "7",
           24283939,
           24285461
          ],
          [
           "7",
           25858617,
           25859151
          ],
          [
           "7",
           27106450,
           27106981
          ],
          [
           "7",
           27139443,
           27139892
          ],
          [
           "7",
           27147308,
           27148073
          ],
          [
           "7",
           27158563,
           27158895
          ],
          [
           "7",
           27164296,
           27166843
          ],
          [
           "7",
           27172797,
           27174777
          ],
          [
           "7",
           35253374,
           35255063
          ],
          [
           "7",
           44962512,
           44963246
          ],
          [
           "7",
           49773412,
           49776156
          ],
          [
           "7",
           57868076,
           57869442
          ],
          [
           "7",
           62376229,
           62380897
          ],
          [
           "7",
           64045599,
           64045920
          ],
          [
           "7",
           71131242,
           71133396
          ],
          [
           "7",
           73831104,
           73831715
          ],
          [
           "7",
           74480485,
           74480780
          ],
          [
           "7",
           98616493,
           98618447
          ],
          [
           "7",
           100493557,
           100493975
          ],
          [
           "7",
           100866136,
           100866524
          ],
          [
           "7",
           102300501,
           102301273
          ],
          [
           "7",
           102689503,
           102690207
          ],
          [
           "7",
           105244602,
           105244953
          ],
          [
           "7",
           128270807,
           128271234
          ],
          [
           "7",
           143510892,
           143511705
          ],
          [
           "7",
           150958020,
           150958555
          ],
          [
           "7",
           151013594,
           151014245
          ],
          [
           "7",
           155802998,
           155810541
          ],
          [
           "7",
           156616329,
           156617171
          ],
          [
           "7",
           157501609,
           157501823
          ],
          [
           "7",
           157688558,
           157694027
          ],
          [
           "7",
           157897867,
           157898078
          ],
          [
           "7",
           158549968,
           158550272
          ],
          [
           "7",
           158958293,
           158958519
          ],
          [
           "7",
           158973435,
           158974709
          ],
          [
           "8",
           649904,
           650309
          ],
          [
           "8",
           673372,
           673710
          ],
          [
           "8",
           2127580,
           2127833
          ],
          [
           "8",
           10726306,
           10726746
          ],
          [
           "8",
           17413094,
           17413611
          ],
          [
           "8",
           22689703,
           22695914
          ],
          [
           "8",
           24913389,
           24915034
          ],
          [
           "8",
           37841328,
           37842413
          ],
          [
           "8",
           37964968,
           37966490
          ],
          [
           "8",
           38650781,
           38651230
          ],
          [
           "8",
           38974073,
           38974834
          ],
          [
           "8",
           41308333,
           41309621
          ],
          [
           "8",
           41566822,
           41567781
          ],
          [
           "8",
           41895822,
           41897732
          ],
          [
           "8",
           46617367,
           46617752
          ],
          [
           "8",
           52564984,
           52566067
          ],
          [
           "8",
           53879285,
           53882581
          ],
          [
           "8",
           54457868,
           54459965
          ],
          [
           "8",
           54466368,
           54467626
          ],
          [
           "8",
           55101096,
           55103124
          ],
          [
           "8",
           56445567,
           56446856
          ],
          [
           "8",
           66961153,
           66963365
          ],
          [
           "8",
           86069424,
           86069817
          ],
          [
           "8",
           95073041,
           95073519
          ],
          [
           "8",
           100105694,
           100106465
          ],
          [
           "8",
           109973884,
           109974754
          ],
          [
           "8",
           131040003,
           131042503
          ],
          [
           "8",
           138496552,
           138497531
          ],
          [
           "8",
           140097738,
           140100885
          ],
          [
           "8",
           141226938,
           141227261
          ],
          [
           "8",
           142464084,
           142465101
          ],
          [
           "8",
           142544264,
           142544801
          ],
          [
           "8",
           142700163,
           142700806
          ],
          [
           "8",
           143185912,
           143186407
          ],
          [
           "8",
           143278496,
           143279334
          ],
          [
           "8",
           143973125,
           143978137
          ],
          [
           "8",
           144108130,
           144110564
          ],
          [
           "8",
           144429134,
           144429427
          ],
          [
           "8",
           144500077,
           144501324
          ],
          [
           "8",
           144524471,
           144525026
          ],
          [
           "8",
           144713107,
           144714323
          ],
          [
           "9",
           112916,
           114839
          ],
          [
           "9",
           116701,
           118177
          ],
          [
           "9",
           14346019,
           14348150
          ],
          [
           "9",
           42850943,
           42852981
          ],
          [
           "9",
           77018410,
           77021114
          ],
          [
           "9",
           89676353,
           89676609
          ],
          [
           "9",
           91900283,
           91900536
          ],
          [
           "9",
           93951044,
           93955904
          ],
          [
           "9",
           98707297,
           98709872
          ],
          [
           "9",
           113059791,
           113061136
          ],
          [
           "9",
           113062404,
           113062753
          ],
          [
           "9",
           121598159,
           121600103
          ],
          [
           "9",
           122126670,
           122127103
          ],
          [
           "9",
           122213474,
           122214413
          ],
          [
           "9",
           122217050,
           122217320
          ],
          [
           "9",
           122225464,
           122228807
          ],
          [
           "9",
           123339498,
           123339759
          ],
          [
           "9",
           124502891,
           124505380
          ],
          [
           "9",
           126623833,
           126626952
          ],
          [
           "9",
           127754128,
           127755570
          ],
          [
           "9",
           128250175,
           128251150
          ],
          [
           "9",
           130913285,
           130913527
          ],
          [
           "9",
           133701451,
           133701774
          ],
          [
           "9",
           134768667,
           134768896
          ],
          [
           "9",
           135244204,
           135244448
          ],
          [
           "9",
           135989945,
           135990181
          ],
          [
           "9",
           136011486,
           136012075
          ],
          [
           "9",
           136292708,
           136292927
          ],
          [
           "9",
           136510637,
           136510840
          ],
          [
           "9",
           136531665,
           136531990
          ],
          [
           "9",
           136533866,
           136534075
          ],
          [
           "9",
           137218177,
           137218497
          ],
          [
           "9",
           137278161,
           137281653
          ],
          [
           "9",
           137368473,
           137369196
          ],
          [
           "10",
           484773,
           485159
          ],
          [
           "10",
           1362464,
           1364024
          ],
          [
           "10",
           5648564,
           5648952
          ],
          [
           "10",
           8058421,
           8058805
          ],
          [
           "10",
           17228431,
           17230618
          ],
          [
           "10",
           21499704,
           21500659
          ],
          [
           "10",
           22252503,
           22253810
          ],
          [
           "10",
           22475779,
           22478121
          ],
          [
           "10",
           26215454,
           26218505
          ],
          [
           "10",
           28925122,
           28925433
          ],
          [
           "10",
           35765194,
           35765451
          ],
          [
           "10",
           42753075,
           42755464
          ],
          [
           "10",
           46774385,
           46775278
          ],
          [
           "10",
           49609555,
           49612310
          ],
          [
           "10",
           49768301,
           49769091
          ],
          [
           "10",
           70255021,
           70255940
          ],
          [
           "10",
           86942558,
           86943565
          ],
          [
           "10",
           99234063,
           99234431
          ],
          [
           "10",
           100519405,
           100519973
          ],
          [
           "10",
           103276871,
           103278327
          ],
          [
           "10",
           103584416,
           103585282
          ],
          [
           "10",
           103668747,
           103668955
          ],
          [
           "10",
           117541810,
           117545857
          ],
          [
           "10",
           120011469,
           120011911
          ],
          [
           "10",
           120948997,
           120949386
          ],
          [
           "10",
           123134559,
           123137850
          ],
          [
           "10",
           124589729,
           124589934
          ],
          [
           "10",
           129962905,
           129973432
          ],
          [
           "10",
           132783853,
           132789145
          ],
          [
           "10",
           132965179,
           132965569
          ],
          [
           "10",
           133142004,
           133142296
          ],
          [
           "11",
           394257,
           394619
          ],
          [
           "11",
           396685,
           398880
          ],
          [
           "11",
           504189,
           504659
          ],
          [
           "11",
           720561,
           721369
          ],
          [
           "11",
           849087,
           850982
          ],
          [
           "11",
           1200345,
           1200637
          ],
          [
           "11",
           2869158,
           2870107
          ],
          [
           "11",
           2909059,
           2909863
          ],
          [
           "11",
           6629674,
           6630848
          ],
          [
           "11",
           14904925,
           14906224
          ],
          [
           "11",
           44308992,
           44310123
          ],
          [
           "11",
           46345326,
           46345551
          ],
          [
           "11",
           60950956,
           60951521
          ],
          [
           "11",
           65546372,
           65546984
          ],
          [
           "11",
           65607228,
           65607837
          ],
          [
           "11",
           65640873,
           65641087
          ],
          [
           "11",
           65646307,
           65647732
          ],
          [
           "11",
           67990683,
           67991974
          ],
          [
           "11",
           69470956,
           69471711
          ],
          [
           "11",
           69654042,
           69654384
          ],
          [
           "11",
           69702163,
           69705161
          ],
          [
           "11",
           70662223,
           70662512
          ],
          [
           "11",
           70826729,
           70826950
          ],
          [
           "11",
           72821567,
           72822729
          ],
          [
           "11",
           73342603,
           73343257
          ],
          [
           "11",
           75428409,
           75428772
          ],
          [
           "11",
           75566321,
           75566987
          ],
          [
           "11",
           77039648,
           77040731
          ],
          [
           "11",
           120137338,
           120138002
          ],
          [
           "11",
           128549303,
           128549618
          ],
          [
           "12",
           203425,
           204165
          ],
          [
           "12",
           3199646,
           3201104
          ],
          [
           "12",
           5945183,
           5945566
          ],
          [
           "12",
           6056775,
           6057091
          ],
          [
           "12",
           6555259,
           6556135
          ],
          [
           "12",
           29389285,
           29389905
          ],
          [
           "12",
           43550916,
           43552482
          ],
          [
           "12",
           51820395,
           51822354
          ],
          [
           "12",
           52250198,
           52250627
          ],
          [
           "12",
           52789929,
           52790396
          ],
          [
           "12",
           54030826,
           54031389
          ],
          [
           "12",
           54046858,
           54047759
          ],
          [
           "12",
           54052092,
           54052329
          ],
          [
           "12",
           54079521,
           54079778
          ],
          [
           "12",
           57736045,
           57736578
          ],
          [
           "12",
           57737087,
           57738951
          ],
          [
           "12",
           63149856,
           63151187
          ],
          [
           "12",
           66188915,
           66189565
          ],
          [
           "12",
           98745608,
           98745991
          ],
          [
           "12",
           107581065,
           107581528
          ],
          [
           "12",
           109718462,
           109718717
          ],
          [
           "12",
           114667043,
           114667743
          ],
          [
           "12",
           114671698,
           114672256
          ],
          [
           "12",
           114674209,
           114674822
          ],
          [
           "12",
           116508390,
           116508802
          ],
          [
           "12",
           127455396,
           127456362
          ],
          [
           "12",
           128853325,
           128854326
          ],
          [
           "12",
           130160782,
           130164443
          ],
          [
           "12",
           132227228,
           132227511
          ],
          [
           "12",
           132406581,
           132407768
          ],
          [
           "12",
           132582639,
           132583990
          ],
          [
           "13",
           18874865,
           18875178
          ],
          [
           "13",
           19344445,
           19345081
          ],
          [
           "13",
           20301379,
           20302075
          ],
          [
           "13",
           21319017,
           21319466
          ],
          [
           "13",
           33015790,
           33017290
          ],
          [
           "13",
           48318499,
           48319721
          ],
          [
           "13",
           57632392,
           57634796
          ],
          [
           "13",
           77918290,
           77919247
          ],
          [
           "13",
           94710898,
           94713797
          ],
          [
           "13",
           99895379,
           99896657
          ],
          [
           "13",
           99967987,
           99972053
          ],
          [
           "13",
           101453814,
           101454137
          ],
          [
           "13",
           110812391,
           110813641
          ],
          [
           "13",
           112066250,
           112069268
          ],
          [
           "13",
           112194261,
           112194907
          ],
          [
           "13",
           112755690,
           112756048
          ],
          [
           "13",
           112979529,
           112979751
          ],
          [
           "13",
           112981340,
           112981585
          ],
          [
           "13",
           112994029,
           112994396
          ],
          [
           "13",
           113401785,
           113402262
          ],
          [
           "13",
           113818053,
           113818752
          ],
          [
           "14",
           24132289,
           24132491
          ],
          [
           "14",
           24315941,
           24316663
          ],
          [
           "14",
           33799740,
           33801232
          ],
          [
           "14",
           37591636,
           37592914
          ],
          [
           "14",
           38255049,
           38256332
          ],
          [
           "14",
           52267489,
           52268768
          ],
          [
           "14",
           53951959,
           53952163
          ],
          [
           "14",
           55440479,
           55440715
          ],
          [
           "14",
           56807889,
           56810122
          ],
          [
           "14",
           68628298,
           68628690
          ],
          [
           "14",
           95360338,
           95360604
          ],
          [
           "14",
           100824186,
           100824531
          ],
          [
           "14",
           100826526,
           100826764
          ],
          [
           "14",
           103102028,
           103105162
          ],
          [
           "14",
           103126897,
           103127586
          ],
          [
           "14",
           104905234,
           104906993
          ],
          [
           "14",
           105526162,
           105530077
          ],
          [
           "15",
           19943440,
           19944862
          ],
          [
           "15",
           21324508,
           21325396
          ],
          [
           "15",
           22257334,
           22259340
          ],
          [
           "15",
           26893754,
           26894506
          ],
          [
           "15",
           34494291,
           34495937
          ],
          [
           "15",
           39976380,
           39976860
          ],
          [
           "15",
           40925591,
           40930982
          ],
          [
           "15",
           40936244,
           40936674
          ],
          [
           "15",
           41501364,
           41503107
          ],
          [
           "15",
           41881886,
           41882657
          ],
          [
           "15",
           45135098,
           45136008
          ],
          [
           "15",
           65395701,
           65396201
          ],
          [
           "15",
           73998003,
           73998419
          ],
          [
           "15",
           74132750,
           74136480
          ],
          [
           "15",
           83283435,
           83285178
          ],
          [
           "15",
           84816961,
           84817634
          ],
          [
           "15",
           89406142,
           89407899
          ],
          [
           "15",
           90956663,
           90957469
          ],
          [
           "15",
           96353699,
           96354072
          ],
          [
           "15",
           96361493,
           96361821
          ],
          [
           "15",
           99104824,
           99106239
          ],
          [
           "16",
           22843,
           23151
          ],
          [
           "16",
           268618,
           268902
          ],
          [
           "16",
           324732,
           325328
          ],
          [
           "16",
           565682,
           565927
          ],
          [
           "16",
           622265,
           622507
          ],
          [
           "16",
           782827,
           783042
          ],
          [
           "16",
           990965,
           991365
          ],
          [
           "16",
           1019294,
           1020214
          ],
          [
           "16",
           1509964,
           1510193
          ],
          [
           "16",
           1533808,
           1534640
          ],
          [
           "16",
           2842578,
           2842809
          ],
          [
           "16",
           3029535,
           3029953
          ],
          [
           "16",
           3182835,
           3184048
          ],
          [
           "16",
           4680261,
           4680486
          ],
          [
           "16",
           19115799,
           19116002
          ],
          [
           "16",
           29785040,
           29785436
          ],
          [
           "16",
           32084341,
           32086012
          ],
          [
           "16",
           33027600,
           33029286
          ],
          [
           "16",
           33058893,
           33059993
          ],
          [
           "16",
           34014586,
           34015526
          ],
          [
           "16",
           34050115,
           34051243
          ],
          [
           "16",
           34158770,
           34160020
          ],
          [
           "16",
           53373415,
           53373842
          ],
          [
           "16",
           54281690,
           54290692
          ],
          [
           "16",
           55328825,
           55329375
          ],
          [
           "16",
           55330911,
           55331402
          ],
          [
           "16",
           68235107,
           68238240
          ],
          [
           "16",
           81678259,
           81678730
          ],
          [
           "16",
           85611341,
           85615421
          ],
          [
           "16",
           88429793,
           88431355
          ],
          [
           "16",
           88533202,
           88535122
          ],
          [
           "16",
           88881305,
           88881607
          ],
          [
           "16",
           89159279,
           89159787
          ],
          [
           "16",
           90077275,
           90077673
          ],
          [
           "17",
           2049625,
           2059334
          ],
          [
           "17",
           3386068,
           3386778
          ],
          [
           "17",
           4898970,
           4902107
          ],
          [
           "17",
           5499811,
           5501282
          ],
          [
           "17",
           7383879,
           7384621
          ],
          [
           "17",
           7740479,
           7740993
          ],
          [
           "17",
           8799024,
           8799506
          ],
          [
           "17",
           15786194,
           15786913
          ],
          [
           "17",
           17809597,
           17811069
          ],
          [
           "17",
           21841825,
           21844463
          ],
          [
           "17",
           26773238,
           26775813
          ],
          [
           "17",
           26962461,
           26963406
          ],
          [
           "17",
           27349278,
           27349577
          ],
          [
           "17",
           28381206,
           28381786
          ],
          [
           "17",
           29572493,
           29573049
          ],
          [
           "17",
           34637356,
           34638414
          ],
          [
           "17",
           36934599,
           36943576
          ],
          [
           "17",
           38509752,
           38510998
          ],
          [
           "17",
           38559455,
           38559759
          ],
          [
           "17",
           38561491,
           38562357
          ],
          [
           "17",
           38563308,
           38563702
          ],
          [
           "17",
           42039769,
           42040432
          ],
          [
           "17",
           42785165,
           42785462
          ],
          [
           "17",
           44353646,
           44355187
          ],
          [
           "17",
           44557465,
           44559483
          ],
          [
           "17",
           44656118,
           44657258
          ],
          [
           "17",
           45120910,
           45121406
          ],
          [
           "17",
           45241062,
           45242061
          ],
          [
           "17",
           46769773,
           46770097
          ],
          [
           "17",
           46977951,
           46979472
          ],
          [
           "17",
           48554438,
           48554850
          ],
          [
           "17",
           48621518,
           48621721
          ],
          [
           "17",
           49890510,
           49891046
          ],
          [
           "17",
           57045434,
           57046657
          ],
          [
           "17",
           64778248,
           64781679
          ],
          [
           "17",
           72116683,
           72118130
          ],
          [
           "17",
           74356688,
           74357659
          ],
          [
           "17",
           74919473,
           74920415
          ],
          [
           "17",
           76948663,
           76948889
          ],
          [
           "17",
           77528507,
           77529070
          ],
          [
           "17",
           79103913,
           79104121
          ],
          [
           "17",
           79789565,
           79793557
          ],
          [
           "17",
           81285482,
           81285737
          ],
          [
           "17",
           81498789,
           81499599
          ],
          [
           "17",
           82096295,
           82096516
          ],
          [
           "17",
           82242728,
           82243000
          ],
          [
           "17",
           82782658,
           82783053
          ],
          [
           "18",
           6413960,
           6415120
          ],
          [
           "18",
           10032461,
           10032910
          ],
          [
           "18",
           10726249,
           10726669
          ],
          [
           "18",
           12777497,
           12778114
          ],
          [
           "18",
           13641585,
           13642416
          ],
          [
           "18",
           23619467,
           23619834
          ],
          [
           "18",
           31041523,
           31043151
          ],
          [
           "18",
           37243835,
           37244054
          ],
          [
           "18",
           47246621,
           47249206
          ],
          [
           "18",
           50268080,
           50268626
          ],
          [
           "18",
           50729174,
           50729989
          ],
          [
           "18",
           77249600,
           77251866
          ],
          [
           "18",
           78309222,
           78309699
          ],
          [
           "18",
           78977005,
           78981362
          ],
          [
           "18",
           79458227,
           79458866
          ],
          [
           "18",
           80159763,
           80160706
          ],
          [
           "19",
           418898,
           419191
          ],
          [
           "19",
           518847,
           519905
          ],
          [
           "19",
           947547,
           947981
          ],
          [
           "19",
           1152016,
           1152250
          ],
          [
           "19",
           1287417,
           1287886
          ],
          [
           "19",
           1908119,
           1908510
          ],
          [
           "19",
           2041824,
           2042594
          ],
          [
           "19",
           2302467,
           2303000
          ],
          [
           "19",
           3178743,
           3179988
          ],
          [
           "19",
           3369479,
           3369859
          ],
          [
           "19",
           3387965,
           3388205
          ],
          [
           "19",
           3671904,
           3672123
          ],
          [
           "19",
           4326881,
           4327383
          ],
          [
           "19",
           4328526,
           4328868
          ],
          [
           "19",
           5822273,
           5822521
          ],
          [
           "19",
           5827887,
           5828394
          ],
          [
           "19",
           5914996,
           5915290
          ],
          [
           "19",
           6752504,
           6753646
          ],
          [
           "19",
           7868377,
           7870012
          ],
          [
           "19",
           8333074,
           8335866
          ],
          [
           "19",
           8403420,
           8404060
          ],
          [
           "19",
           10286927,
           10288027
          ],
          [
           "19",
           10352950,
           10353702
          ],
          [
           "19",
           10513799,
           10515100
          ],
          [
           "19",
           10625323,
           10625720
          ],
          [
           "19",
           12873318,
           12874652
          ],
          [
           "19",
           13024503,
           13025355
          ],
          [
           "19",
           13097529,
           13099711
          ],
          [
           "19",
           13207232,
           13207998
          ],
          [
           "19",
           13961853,
           13964012
          ],
          [
           "19",
           14471607,
           14474286
          ],
          [
           "19",
           15233280,
           15233608
          ],
          [
           "19",
           15457216,
           15458416
          ],
          [
           "19",
           15551302,
           15551547
          ],
          [
           "19",
           17292230,
           17292761
          ],
          [
           "19",
           17327245,
           17329509
          ],
          [
           "19",
           17872100,
           17873012
          ],
          [
           "19",
           18650462,
           18650859
          ],
          [
           "19",
           18660268,
           18660530
          ],
          [
           "19",
           18777222,
           18778159
          ],
          [
           "19",
           29524874,
           29530460
          ],
          [
           "19",
           31357040,
           31357303
          ],
          [
           "19",
           35860538,
           35861265
          ],
          [
           "19",
           36151425,
           36152683
          ],
          [
           "19",
           38209693,
           38209937
          ],
          [
           "19",
           38385430,
           38388310
          ],
          [
           "19",
           39891641,
           39892181
          ],
          [
           "19",
           41904163,
           41904383
          ],
          [
           "19",
           44757095,
           44758552
          ],
          [
           "19",
           45152035,
           45153855
          ],
          [
           "19",
           45472590,
           45473004
          ],
          [
           "19",
           45591076,
           45591853
          ],
          [
           "19",
           45677962,
           45678197
          ],
          [
           "19",
           45815232,
           45816003
          ],
          [
           "19",
           46022788,
           46023076
          ],
          [
           "19",
           46412054,
           46412545
          ],
          [
           "19",
           46495771,
           46496033
          ],
          [
           "19",
           46697591,
           46697812
          ],
          [
           "19",
           47544539,
           47545905
          ],
          [
           "19",
           47716574,
           47717041
          ],
          [
           "19",
           48480305,
           48480918
          ],
          [
           "19",
           48720576,
           48721019
          ],
          [
           "19",
           48837231,
           48837517
          ],
          [
           "19",
           51098565,
           51099184
          ],
          [
           "19",
           51339821,
           51340672
          ],
          [
           "19",
           55080537,
           55082612
          ],
          [
           "19",
           55086609,
           55087519
          ],
          [
           "19",
           55377637,
           55378108
          ],
          [
           "19",
           56476944,
           56478372
          ],
          [
           "19",
           58349975,
           58351040
          ],
          [
           "19",
           58513941,
           58514338
          ],
          [
           "20",
           841031,
           841857
          ],
          [
           "20",
           3164475,
           3165100
          ],
          [
           "20",
           3248592,
           3249047
          ],
          [
           "20",
           3749714,
           3750434
          ],
          [
           "20",
           3751414,
           3752149
          ],
          [
           "20",
           5315620,
           5317152
          ],
          [
           "20",
           18504617,
           18504936
          ],
          [
           "20",
           21395720,
           21397607
          ],
          [
           "20",
           25083202,
           25084889
          ],
          [
           "20",
           26208002,
           26209712
          ],
          [
           "20",
           28602359,
           28603251
          ],
          [
           "20",
           29740672,
           29744343
          ],
          [
           "20",
           30300234,
           30300532
          ],
          [
           "20",
           30316173,
           30317179
          ],
          [
           "20",
           30487990,
           30489950
          ],
          [
           "20",
           30585515,
           30586519
          ],
          [
           "20",
           30723549,
           30723844
          ],
          [
           "20",
           30724087,
           30724425
          ],
          [
           "20",
           30892713,
           30892940
          ],
          [
           "20",
           30894675,
           30894885
          ],
          [
           "20",
           30895231,
           30895459
          ],
          [
           "20",
           30898812,
           30899151
          ],
          [
           "20",
           30899444,
           30899652
          ],
          [
           "20",
           30900198,
           30900403
          ],
          [
           "20",
           32030990,
           32031335
          ],
          [
           "20",
           34268853,
           34269442
          ],
          [
           "20",
           34997354,
           34997647
          ],
          [
           "20",
           35434209,
           35434704
          ],
          [
           "20",
           38723487,
           38728729
          ],
          [
           "20",
           40682738,
           40683795
          ],
          [
           "20",
           40692649,
           40693007
          ],
          [
           "20",
           45097656,
           45098731
          ],
          [
           "20",
           51492257,
           51492918
          ],
          [
           "20",
           56625223,
           56631733
          ],
          [
           "20",
           58888597,
           58892684
          ],
          [
           "20",
           60087402,
           60087905
          ],
          [
           "20",
           61251921,
           61253922
          ],
          [
           "20",
           62396479,
           62396720
          ],
          [
           "20",
           62603765,
           62604065
          ],
          [
           "20",
           62877063,
           62877325
          ],
          [
           "20",
           62879182,
           62879855
          ],
          [
           "20",
           63487845,
           63489267
          ],
          [
           "20",
           63807754,
           63808480
          ],
          [
           "21",
           14063798,
           14064641
          ],
          [
           "21",
           45984194,
           45984398
          ],
          [
           "21",
           46160578,
           46162151
          ],
          [
           "22",
           18048449,
           18048738
          ],
          [
           "22",
           19566491,
           19566890
          ],
          [
           "22",
           19717987,
           19724583
          ],
          [
           "22",
           19765789,
           19767490
          ],
          [
           "22",
           20425096,
           20426273
          ],
          [
           "22",
           20429179,
           20431914
          ],
          [
           "22",
           27438464,
           27438669
          ],
          [
           "22",
           30080023,
           30080541
          ],
          [
           "22",
           38214328,
           38214821
          ],
          [
           "22",
           39231585,
           39231806
          ],
          [
           "22",
           39685514,
           39686550
          ],
          [
           "22",
           42769941,
           42770281
          ],
          [
           "22",
           44729101,
           44729975
          ],
          [
           "22",
           45889597,
           45891742
          ],
          [
           "22",
           46085935,
           46086144
          ],
          [
           "22",
           46685853,
           46686148
          ],
          [
           "22",
           50603864,
           50604994
          ],
          [
           "X",
           1465541,
           1466680
          ],
          [
           "X",
           17860321,
           17861141
          ],
          [
           "X",
           18353777,
           18355028
          ],
          [
           "X",
           19886909,
           19888439
          ],
          [
           "X",
           21655900,
           21658948
          ],
          [
           "X",
           24024718,
           24025977
          ],
          [
           "X",
           30308322,
           30309551
          ],
          [
           "X",
           40094181,
           40109994
          ],
          [
           "X",
           40174986,
           40177255
          ],
          [
           "X",
           46573619,
           46575467
          ],
          [
           "X",
           49186223,
           49186606
          ],
          [
           "X",
           54182506,
           54183309
          ],
          [
           "X",
           67543963,
           67544235
          ],
          [
           "X",
           84187388,
           84188516
          ],
          [
           "X",
           101390792,
           101391119
          ],
          [
           "X",
           111681075,
           111682047
          ],
          [
           "X",
           112840843,
           112841587
          ],
          [
           "X",
           115843397,
           115889109
          ],
          [
           "X",
           143633594,
           143635126
          ],
          [
           "X",
           154370595,
           154372236
          ],
          [
           "X",
           155026640,
           155027421
          ]
         ],
         "hovertemplate": "mean methylation difference=%{x}<br>y=%{y}<br>chr=%{customdata[0]}<br>start=%{customdata[1]}<br>stop=%{customdata[2]}<br>color=%{marker.color}<extra></extra>",
         "legendgroup": "",
         "marker": {
          "color": [
           6.5231733817903965,
           58.622481621047086,
           7.162970161296417,
           6.472601927172148,
           6.995243133105333,
           7.609196762366903,
           8.369463079391902,
           9.747167798281174,
           21.179287668671726,
           14.17272850644615,
           5.009850602047605,
           76.99536018049214,
           19.468704486509665,
           6.901673808666269,
           16.801530152664473,
           20.773212669799225,
           6.621449152710287,
           5.736977379513842,
           3.9018251804517,
           6.66582922836856,
           22.41467331224776,
           7.097415699479798,
           7.102651567358244,
           4.862413584499309,
           5.836377163267796,
           7.85936235598386,
           23.6797581667628,
           14.243558755272696,
           19.357276229166885,
           38.208166996440774,
           29.51726710426255,
           10.798750917218207,
           17.12016215985388,
           6.743937193752742,
           19.67601702056686,
           5.581874624422868,
           5.532673545076349,
           19.744639007489884,
           3.977415224195198,
           15.679131294309752,
           4.86591176771762,
           64.90669481749916,
           9.160027558102593,
           19.07739956789876,
           7.587413841361528,
           9.030605491078996,
           27.24331272940964,
           7.94938250216759,
           10.34491149949856,
           20.593290760524667,
           9.56884556122107,
           25.58728447511949,
           5.015592561065573,
           7.453241363011752,
           7.732241970381255,
           19.131991895139983,
           31.08533450474194,
           4.804731497044745,
           16.816737901800245,
           11.030808005340981,
           6.527881520540882,
           4.540319213668475,
           19.935490527307685,
           7.205218363289023,
           3.307761684876642,
           34.445286051823345,
           4.673770277480348,
           15.385631608021423,
           8.820259665911765,
           3.961003187649865,
           3.0912524754114035,
           7.474728063371129,
           7.365529987215304,
           8.458216986315941,
           15.833894630343195,
           10.219294788713757,
           13.135347304962623,
           5.65319392854539,
           7.8519569216171305,
           3.9170857997706086,
           20.870907744860844,
           5.815697759284702,
           47.573724310312066,
           4.941664422851308,
           3.400247832626567,
           19.244779789837047,
           26.110895407175136,
           6.7368317671405515,
           5.243034042924806,
           14.529146200951557,
           6.529866938644207,
           10.887575442476109,
           58.36162505053731,
           9.55923140360289,
           3.938366980767748,
           17.340809646103498,
           7.143464954355474,
           8.775899155631501,
           9.722099764902264,
           10.287122678057644,
           6.005441775038841,
           13.520828045867749,
           16.552948375961076,
           9.158222417714075,
           12.03396978893055,
           15.218869697710756,
           82.34315163531245,
           13.465628634433143,
           4.292990641935923,
           3.688199685209179,
           8.23344384199217,
           6.054745193035725,
           17.42288376052307,
           13.121713588562832,
           10.098189430219035,
           18.382710812700736,
           11.740616841984647,
           8.820056585863682,
           9.692562342066458,
           12.007320152278472,
           35.336639854249164,
           47.98957439725376,
           48.80340618720497,
           6.573285045031597,
           10.299883906384416,
           5.7340355178272215,
           15.967006796595463,
           9.320233366035307,
           9.182530671336915,
           10.592045280762266,
           6.1795305718094955,
           10.221546361646626,
           16.163082556692718,
           9.954949282160728,
           39.679218597569694,
           3.4461842873965534,
           3.170395232420674,
           8.97163848174612,
           3.586611716166358,
           9.649108934793613,
           6.086214883653793,
           3.4453373746563565,
           14.683296880778814,
           9.16422043636263,
           15.342309136877573,
           10.083882965536622,
           5.323491595096757,
           31.42286396110059,
           17.366368714180837,
           5.547522592190106,
           19.76353254722942,
           7.008891396653527,
           7.146101304539544,
           17.021593561033722,
           6.277547898196066,
           4.791391336323158,
           8.303050022299326,
           8.92681693467326,
           6.655907659539572,
           14.30543938201728,
           4.709076204384537,
           7.450863076668852,
           9.34794863518413,
           7.951311361902168,
           8.293329899177678,
           8.339758556195678,
           11.364505459851955,
           18.401760859099856,
           6.077414669245985,
           8.374565793166482,
           11.396476652326982,
           8.085638073548333,
           8.747172553739729,
           23.10098404275597,
           22.141587644905062,
           18.893359949361862,
           5.684450546356709,
           3.6649285799581497,
           7.629404820014795,
           4.068910760965291,
           5.78581716501053,
           3.4287947088542596,
           25.882586771438866,
           168.16227221834006,
           18.919149693508984,
           8.532713003074274,
           22.260290068871466,
           53.586910216227636,
           5.638950246654714,
           12.371749497196054,
           7.223823108628574,
           4.4058276448598335,
           7.693675859694437,
           7.886081001775825,
           13.357326505523881,
           3.124043031722029,
           45.00234984586685,
           4.464539056248346,
           22.88678488181746,
           10.221106632073223,
           35.75684812361612,
           18.691033834282372,
           10.920482988531916,
           3.283521018361732,
           3.19493959582473,
           7.398075907790788,
           3.8211773221285696,
           3.870449293518218,
           7.194690963384126,
           7.188514701695228,
           42.841826417210015,
           5.327437265121889,
           5.7067669236971605,
           11.711888730032747,
           6.881795177312606,
           9.756585940973434,
           7.305415921316063,
           5.470839098863844,
           27.34802500546748,
           8.27609185072825,
           18.715669444919918,
           7.8151853824240956,
           6.994730292996544,
           14.110673878630717,
           9.26789533501961,
           11.823044030298846,
           13.706297472990958,
           81.88887163473703,
           6.349054194975115,
           4.368360443910067,
           4.75972094583669,
           25.502075379345623,
           18.384155969269994,
           6.161256922925197,
           42.48742237400031,
           60.84002059255452,
           5.7500882275327125,
           7.26724847618282,
           3.6924859497080478,
           4.352545505351713,
           8.77066709253828,
           18.81443469613252,
           18.38377038993227,
           7.885495973172515,
           4.651779729440004,
           4.246866569057539,
           13.286471804778925,
           3.1328357527758164,
           13.277848280244724,
           4.400109142224648,
           3.372814027270386,
           3.4255617981147717,
           9.152260160899658,
           5.052801942258145,
           5.841872814936946,
           9.529829639077077,
           46.22808110721924,
           15.079481097307907,
           4.092885626985857,
           5.11846552365501,
           8.798893192190471,
           10.934852492255748,
           5.896554447324997,
           18.106965494453767,
           12.728566074163847,
           3.4313576647570465,
           16.09106431190729,
           15.590884997943006,
           5.504652966212879,
           5.30355103834665,
           40.4549108598029,
           4.053068270910262,
           17.30560472925359,
           10.193225069300322,
           15.369939587367575,
           4.588608097689113,
           35.03583061459276,
           15.565015459295493,
           17.67969623397826,
           24.97538764705147,
           4.831744616041761,
           34.79183806301218,
           9.477370504697102,
           5.660493126557804,
           13.116182518329248,
           10.338958362730699,
           14.085300323352255,
           26.9535461047629,
           52.46220319512715,
           6.905657480899991,
           6.484253808387874,
           9.324707996793984,
           5.655935612399014,
           3.8870865201381144,
           4.167044295640379,
           13.468381026869073,
           18.35902136356564,
           18.99512087144709,
           15.578682570340417,
           18.668667856749156,
           3.1303156478887204,
           7.2140223203770235,
           3.8326574500474053,
           103.56165162344136,
           16.84324962765335,
           14.884777659437919,
           19.46787774567432,
           10.89660533452361,
           11.002980228631545,
           14.047379565596842,
           6.044949715581635,
           5.892669537292321,
           22.588822557376172,
           23.23777020973336,
           25.960770364097936,
           9.013705080542769,
           12.373001283516649,
           8.669703550638562,
           13.702271162357762,
           7.318509349023912,
           12.791047267932486,
           6.46775992797715,
           4.7102973955305725,
           29.406690724007657,
           8.805342039457463,
           17.569333948718874,
           57.10707590354465,
           10.937436327878515,
           5.947715640177967,
           41.329904861961104,
           6.415623297663401,
           14.627824230715436,
           11.394609238152187,
           24.731359311125292,
           9.043640196085185,
           35.25697475233749,
           3.2803257871844234,
           15.834496903944174,
           5.41321207743325,
           4.747967229626813,
           4.950283650711514,
           6.804206403353578,
           7.510257691320032,
           4.793187935326927,
           9.260739329560035,
           5.931310624288235,
           27.821068439753567,
           28.62938995883831,
           33.37014065487443,
           45.78045409389256,
           51.27885271900116,
           3.7128853025807826,
           8.555830075031155,
           5.154372878875086,
           6.996357010825009,
           52.7408840160636,
           52.695171644217666,
           5.488993727724745,
           20.35924791875242,
           3.1322624437350823,
           3.0369710215705883,
           5.300018813187794,
           3.160394675118129,
           5.209153308240332,
           10.424902377856387,
           10.624869612110857,
           7.892833546283278,
           7.818834613805759,
           13.971135657547661,
           14.601145903959381,
           23.51165879073116,
           6.394811899245145,
           9.641923608239406,
           17.115379542042007,
           4.086197837086332,
           4.2167834194146785,
           15.631050555857733,
           29.465980404462822,
           14.058372240144587,
           20.43186568512622,
           12.18872400719556,
           15.52521089233677,
           10.520451772363787,
           12.056239845772952,
           13.925425875445132,
           6.521405034733655,
           8.677655413857298,
           7.878211848100074,
           7.124556485552768,
           9.574298919932621,
           5.088640079744227,
           5.84297557885048,
           4.861521564143467,
           6.796482276572708,
           16.82928461001903,
           4.463670623714392,
           11.634742877793148,
           3.15622971821793,
           14.988598578709189,
           12.365772024287848,
           4.404190447375603,
           10.84330282945724,
           6.936257639454849,
           6.467695526109473,
           9.321875466728809,
           17.558339462505966,
           48.17021692554689,
           9.264004896561875,
           5.020715933439206,
           22.944455291736464,
           34.227402210202115,
           5.764679633607507,
           8.097069382299413,
           4.114935099838109,
           5.256427142787852,
           16.385360905682518,
           15.694659657528918,
           9.484645647386325,
           8.081619270537756,
           13.568728608084665,
           7.103478234720354,
           13.742445987107269,
           12.810769484906235,
           24.88734640385341,
           4.393289826952592,
           13.81683142993169,
           11.901754719426966,
           30.935291443813696,
           7.871399707239762,
           6.375246444385004,
           4.817522176224102,
           3.9313587417348885,
           24.162196238925805,
           67.56016437898542,
           4.322777075469921,
           8.195798335104298,
           83.34823353847348,
           19.133377783757027,
           10.918052853678624,
           45.90354050890039,
           26.53187563609878,
           3.8403537187377865,
           28.89914140674496,
           16.614969061106308,
           7.076481670261783,
           11.388674502632371,
           13.333701883268777,
           27.04034972695784,
           7.987742103527082,
           3.7757453871355984,
           42.55283345104531,
           3.4890782274393364,
           8.68821878846834,
           7.753867176235046,
           13.918728925216744,
           34.10323481922005,
           16.697574918041358,
           4.951371597919162,
           12.563462130406775,
           5.572675267997555,
           6.937081108363966,
           16.24817016832415,
           6.057048948320827,
           7.966762313057887,
           8.257563431531617,
           4.139613931669636,
           13.89842488479227,
           4.705211540168317,
           4.673031555008328,
           13.37178673773902,
           5.018324782580636,
           13.145990308035485,
           3.154235746387751,
           4.875890263228648,
           7.731170610906093,
           11.09678421686483,
           4.342575178912954,
           6.253296953037303,
           22.18424064174289,
           7.32629042918605,
           4.71138662339801,
           19.2892294798411,
           5.424583784552869,
           18.34427541274996,
           3.929372643763259,
           7.623966399140634,
           3.655212596643452,
           6.566722031033362,
           20.112359611770376,
           10.694159362986126,
           4.027433856939473,
           4.072309135361488,
           3.8980214857923325,
           9.490292398366053,
           11.196583052025236,
           8.201069445333154,
           5.19903327501881,
           4.758519520311773,
           76.03323860256106,
           19.193628994715866,
           12.473455481990145,
           6.4818341623065905,
           9.156894396270557,
           7.718717995726602,
           6.052319195378473,
           3.7600317984420255,
           7.432105279568015,
           6.717713599173044,
           9.461047841636603,
           3.187789064336103,
           13.338407191603316,
           13.265137351395785,
           12.094745962893844,
           22.83160080228123,
           44.01396812160087,
           8.676071696483726,
           5.9637715620912335,
           28.864285424889882,
           24.5451282626666,
           4.69311654539213,
           19.793585151953497,
           4.027826751171789,
           4.189292807532617,
           8.21048084868271,
           15.064480728220946,
           4.771579024321997,
           6.114627026058877,
           4.771909774655763,
           7.786413096049441,
           35.7161072682902,
           10.793866902625782,
           31.20154880725315,
           9.676415727004102,
           55.91700770037699,
           3.93790507514225,
           18.461575657797837,
           8.499598883015286,
           7.546224898251387,
           31.493873077350244,
           18.861311996099634,
           9.151411304446896,
           21.198804757690823,
           7.5952186430737845,
           13.576493657493774,
           16.393585682644737,
           11.001000445760937,
           6.158038746934297,
           7.9152844912905636,
           4.517525676136045,
           9.373977573566009,
           3.2075155972975664,
           17.52655382477993,
           8.325870599091864,
           20.16788758613136,
           3.097853596620751,
           3.072570122278616,
           41.91685535434949,
           4.752070546351568,
           34.661023128058346,
           6.768428213761038,
           42.57555162498236,
           11.498233916227239,
           24.50509426071673,
           4.663498695888218,
           22.016908093269933,
           47.23544729052688,
           26.159420998229557,
           19.267981937678456,
           4.364108134171537,
           10.994429334900017,
           8.128670804038386,
           6.979015003554513,
           8.188933154217045,
           46.83071198622103,
           13.334505170610763,
           57.94887903656011,
           16.703626861311406,
           15.37820802451456,
           29.794279143701495,
           38.24423248542942,
           30.872474915809995,
           3.1671376294637863,
           7.424029050321854,
           22.797441268953747,
           11.110331140287085,
           3.5930966587372204,
           29.903756186953707,
           4.7812274047823635,
           15.333600675939099,
           47.163156256562324,
           12.129815555813419,
           7.781968804444197,
           11.483755087670449,
           19.071630875812524,
           3.9249056312591595,
           3.2429380112189596,
           3.3937352924310256,
           7.169808591800104,
           24.3609199989849,
           5.809242995314361,
           6.006253364581421,
           15.97990015220692,
           34.79474018617715,
           5.007754447721867,
           6.848731938532676,
           37.463826557879145,
           3.9448561625233864,
           49.459500985177634,
           6.461660194788077,
           7.193891879624268,
           4.122620587573837,
           3.3612461661599276,
           7.405944413872996,
           7.4320208151148295,
           12.124842950297493,
           4.77959500425544,
           11.49734743500691,
           11.449856773503246,
           38.193988991554136,
           3.524687924192452,
           8.188321192139593,
           13.080597828171861,
           10.933507049738626,
           7.210117918903869,
           7.157178639316828,
           5.428517172219508,
           4.426187530459651,
           5.761019715132299,
           12.526966852188067,
           8.036404184026786,
           8.715949054673617,
           22.886175947867976,
           30.651271517296266,
           10.728521764138732,
           5.181726151939402,
           5.719058562208717,
           11.672331597193443,
           3.778497862823155,
           101.17650707343293,
           3.3429096057916485,
           7.547228999996307,
           6.0610718930599905,
           50.354621609241825,
           12.321371269893637,
           9.462951354706378,
           10.666070559816067,
           5.276712442795652,
           8.023747731481784,
           4.138923605620068,
           29.511611798863218,
           11.26528444205563,
           55.53402157338159,
           13.219314903480779,
           9.3583416647667,
           15.600433449933341,
           5.177055943058546,
           13.766244316661355,
           3.7938844774111047,
           13.102413702096708,
           27.518228288453425,
           6.786334423777798,
           20.584896167681638,
           26.239764089228913,
           9.336266472575034,
           8.587079318880404,
           13.872038582306146,
           21.933592115244522,
           36.511122926039036,
           5.0915146016218795,
           11.64820695955877,
           6.2263264913763905,
           6.423109372999531,
           11.336035298173481,
           5.113349314813177,
           4.716492884632357,
           22.074888276535024,
           12.217760685325365,
           10.617327356321162,
           11.337712447413569,
           36.77951408457865,
           18.073833938332612,
           7.971618375323428,
           7.959751193021667,
           9.36221032131431,
           70.63009065512266,
           15.437983052668836,
           22.196949828402893,
           11.33052057831497,
           48.928460695477455,
           24.85456488216228,
           10.001409139096957,
           13.644249948529744,
           17.179180967735707,
           4.488276434516592,
           30.179852075520525,
           7.822197719998674,
           3.902765984165469,
           7.834652056643517,
           4.007763277708982,
           6.498696635363842,
           4.139676712220242,
           5.574387123671651,
           20.44291053988109,
           11.70064154608149,
           13.702271162357762,
           31.99183435420323,
           3.1485105622076373,
           4.192199978394154,
           4.703191036342532,
           3.155736719956915,
           11.729937850354197,
           12.951018511324007,
           4.798924852408513,
           7.357501482407438,
           5.846221998555448,
           3.264972120761174,
           5.405768955866174,
           10.600080663500373,
           16.825301188769306,
           36.81618118937443,
           3.4887179791916507,
           4.799689837965736,
           28.950741528798797,
           9.81874207409007,
           9.190243670277061,
           17.320736010050478,
           12.171941786814028,
           4.256134345846642,
           10.461929030243782,
           4.685577960290341,
           21.192214023367928,
           47.07970658138507,
           10.489611600352347,
           5.9770095261383975,
           16.769486873277938,
           41.93629729126052,
           4.473878800306916,
           8.836434732775784,
           12.312945415178998,
           75.40058163719799,
           41.26704747191903,
           35.184505781141475,
           5.017327637957381,
           26.92648899050204,
           16.928226187004086,
           7.721263816213266,
           7.748961729733024,
           12.793851310464293,
           7.263516354911186,
           4.700371371732484,
           4.874200620074777,
           4.790825292891309,
           7.14213673972315,
           4.815792456748629,
           7.010098130150642,
           7.457598969768857,
           13.197895440016765,
           8.073597707946806,
           5.672341948821882,
           8.051448619090886,
           48.27132543216061,
           18.395207947979333,
           41.8632599742797,
           3.7195036236577455,
           6.420955989819001,
           14.687951882560167,
           11.55337252978541,
           3.9974175084450945,
           6.197603499606368,
           3.369320879014897,
           6.222942735212249,
           9.839424144246793,
           6.667322059130966,
           6.995308620990097
          ],
          "coloraxis": "coloraxis",
          "symbol": "circle"
         },
         "mode": "markers",
         "name": "",
         "orientation": "v",
         "showlegend": false,
         "type": "scatter",
         "x": [
          -0.26063,
          -0.474782,
          0.365682,
          -0.108488,
          0.461399,
          0.477204,
          -0.430987,
          -0.338216,
          -0.364136,
          -0.550559,
          -0.258991,
          0.454323,
          0.461764,
          -0.423448,
          0.360538,
          -0.442352,
          0.379563,
          0.207713,
          0.174647,
          0.749244,
          0.320336,
          -0.715573,
          -0.722695,
          0.236558,
          0.195474,
          0.345335,
          0.422314,
          -0.551227,
          -0.221547,
          0.567658,
          -0.328661,
          0.428701,
          0.55564,
          0.232817,
          0.447357,
          0.548875,
          0.16727,
          0.762908,
          0.493991,
          0.206659,
          -0.496957,
          0.536749,
          0.16348,
          -0.553534,
          0.192639,
          0.274278,
          -0.486547,
          0.405951,
          -0.28049,
          -0.576927,
          0.23341,
          0.181069,
          0.547307,
          0.123573,
          0.211979,
          -0.252658,
          0.36984,
          0.232526,
          -0.150968,
          0.438685,
          0.261127,
          -0.119536,
          0.547937,
          0.283958,
          0.152389,
          -0.443152,
          0.476044,
          -0.139592,
          0.192818,
          -0.674464,
          0.132318,
          0.191483,
          0.312485,
          0.276574,
          -0.143671,
          0.457001,
          0.242214,
          0.234882,
          0.571547,
          -0.52694,
          0.317789,
          0.146192,
          -0.491964,
          0.239625,
          0.231054,
          -0.515533,
          -0.15683,
          0.16463,
          0.252929,
          0.643445,
          0.206504,
          0.106194,
          0.182335,
          0.422179,
          0.190104,
          -0.18232,
          0.17626,
          -0.129162,
          0.399669,
          0.187542,
          -0.119203,
          0.603428,
          0.542874,
          0.350423,
          -0.322679,
          0.522668,
          0.488704,
          -0.513373,
          0.303741,
          0.268152,
          0.283784,
          -0.543106,
          0.247118,
          0.153777,
          0.16527,
          0.246682,
          -0.151588,
          0.245621,
          0.17118,
          0.331282,
          0.567412,
          0.442673,
          0.454598,
          0.119661,
          -0.166411,
          -0.202382,
          0.32998,
          0.600874,
          -0.21656,
          -0.22768,
          -0.452752,
          -0.4463,
          -0.574605,
          0.233134,
          0.246612,
          0.145115,
          0.189382,
          0.445716,
          -0.351667,
          0.343524,
          0.181132,
          -0.135201,
          0.607836,
          -0.116963,
          0.269886,
          -0.210863,
          0.203872,
          0.333891,
          -0.351288,
          -0.314353,
          0.233582,
          0.29335,
          0.120301,
          0.134112,
          0.482414,
          0.335952,
          0.452527,
          -0.332559,
          0.188447,
          0.156574,
          -0.471324,
          -0.11207,
          0.640756,
          -0.355211,
          0.401585,
          -0.214696,
          0.233205,
          0.579984,
          -0.183043,
          -0.199499,
          0.193658,
          0.26124,
          0.424782,
          0.487275,
          0.362493,
          0.397148,
          -0.157746,
          0.434101,
          -0.281725,
          0.516997,
          -0.21922,
          -0.26465,
          -0.568623,
          0.631386,
          0.748619,
          -0.360277,
          0.21039,
          0.212183,
          0.370947,
          0.302287,
          0.213398,
          0.173346,
          0.113798,
          -0.306514,
          0.219524,
          -0.43695,
          -0.454273,
          -0.273908,
          -0.332949,
          0.272296,
          0.13073,
          0.213077,
          0.237006,
          0.185485,
          0.216186,
          0.210262,
          0.27234,
          0.206905,
          0.206101,
          -0.328874,
          0.416016,
          0.323914,
          -0.3302,
          0.248385,
          0.194991,
          -0.165401,
          0.164599,
          0.292078,
          0.279711,
          0.438467,
          0.643575,
          0.343316,
          0.699383,
          0.547221,
          -0.548128,
          0.436807,
          0.326568,
          -0.331136,
          -0.522326,
          0.274314,
          -0.318272,
          0.349951,
          0.136023,
          0.288436,
          0.612819,
          0.682493,
          0.260675,
          0.180478,
          0.341108,
          0.390638,
          0.328948,
          -0.179223,
          0.678968,
          0.322363,
          0.11682,
          -0.380745,
          -0.530254,
          0.422464,
          -0.17321,
          0.310958,
          -0.369452,
          0.229215,
          -0.526039,
          -0.554629,
          0.231377,
          -0.108302,
          -0.670643,
          0.351564,
          0.202973,
          0.143204,
          0.172707,
          0.321721,
          0.297295,
          0.35643,
          -0.27656,
          0.145747,
          -0.271361,
          0.253354,
          0.222269,
          0.205477,
          -0.193347,
          0.19567,
          0.195207,
          0.109109,
          0.415739,
          0.194054,
          -0.594449,
          0.207762,
          0.217725,
          0.593997,
          -0.342789,
          0.290075,
          -0.616499,
          0.202457,
          0.460419,
          0.23109,
          0.344713,
          -0.276673,
          0.311817,
          0.41951,
          -0.460193,
          0.149868,
          -0.506428,
          0.312132,
          -0.175776,
          0.365894,
          -0.182486,
          0.35862,
          -0.643114,
          0.504825,
          -0.141942,
          -0.169296,
          0.274612,
          -0.571559,
          0.133539,
          0.439448,
          -0.186802,
          0.191398,
          0.418493,
          0.245162,
          0.41607,
          0.143573,
          0.138931,
          0.272639,
          0.207692,
          0.238427,
          0.2661,
          0.167613,
          0.49439,
          0.386494,
          0.383239,
          0.218794,
          0.106929,
          0.365127,
          -0.113512,
          0.280588,
          0.443736,
          -0.490904,
          0.292562,
          -0.400715,
          0.29077,
          -0.128239,
          0.174745,
          0.566332,
          0.329589,
          -0.452925,
          0.205136,
          0.115352,
          0.240514,
          0.231296,
          0.29151,
          0.14995,
          -0.479964,
          0.527632,
          0.116794,
          0.118975,
          0.317242,
          0.661481,
          -0.297839,
          -0.385295,
          -0.350199,
          -0.394925,
          -0.169127,
          0.385891,
          0.16203,
          0.47565,
          -0.334505,
          -0.256281,
          -0.538552,
          -0.308119,
          -0.419919,
          -0.437802,
          -0.225327,
          0.418255,
          -0.540754,
          0.271987,
          0.433024,
          0.723348,
          -0.505642,
          -0.211749,
          0.413141,
          0.150939,
          -0.182829,
          -0.488241,
          -0.587061,
          0.148287,
          0.543657,
          0.431411,
          0.255665,
          0.19159,
          0.350081,
          0.50585,
          0.219532,
          0.235102,
          0.22528,
          0.240956,
          0.364852,
          -0.256417,
          0.121634,
          0.456725,
          0.168245,
          0.22476,
          0.574547,
          0.137065,
          -0.42041,
          0.396332,
          0.148494,
          -0.640877,
          -0.106303,
          0.118204,
          0.194105,
          -0.458774,
          -0.433559,
          0.231722,
          -0.232912,
          0.353195,
          -0.41374,
          -0.426149,
          0.293261,
          0.519501,
          -0.307741,
          0.171777,
          0.199491,
          0.467806,
          0.303021,
          -0.462097,
          -0.318088,
          0.484614,
          -0.18615,
          0.344332,
          0.236557,
          -0.537166,
          0.136671,
          0.700901,
          0.346822,
          -0.213847,
          -0.165341,
          -0.603046,
          0.232167,
          0.12413,
          -0.46896,
          0.432322,
          -0.356403,
          -0.218644,
          -0.25089,
          -0.275999,
          0.640926,
          -0.398494,
          0.297365,
          -0.15292,
          0.431329,
          0.244254,
          0.592472,
          0.328251,
          0.643386,
          0.443721,
          -0.284455,
          -0.108685,
          0.280944,
          0.220003,
          0.651707,
          -0.172103,
          0.447092,
          -0.454312,
          -0.378337,
          -0.395607,
          0.662042,
          0.232133,
          0.170713,
          0.144869,
          -0.373052,
          -0.228525,
          0.161533,
          0.472458,
          0.27648,
          0.434232,
          0.376479,
          0.136293,
          -0.291601,
          0.28772,
          0.306076,
          0.197018,
          0.161657,
          0.133496,
          0.124887,
          0.356679,
          0.118246,
          0.219602,
          0.462683,
          0.264563,
          0.277447,
          -0.399117,
          -0.347449,
          0.292313,
          -0.393435,
          0.397499,
          0.153829,
          -0.122859,
          0.251494,
          0.211295,
          -0.549149,
          0.498756,
          0.20855,
          -0.314952,
          0.438522,
          0.31354,
          -0.32218,
          0.186517,
          -0.451038,
          -0.236112,
          0.136416,
          0.190878,
          0.785455,
          0.184087,
          0.32028,
          0.165119,
          -0.12816,
          -0.125981,
          0.198849,
          0.192451,
          -0.136156,
          0.430203,
          -0.300196,
          0.38032,
          -0.167709,
          0.254994,
          0.357547,
          0.171038,
          -0.20745,
          0.454334,
          -0.576874,
          0.2247,
          0.166747,
          -0.74542,
          0.315649,
          -0.398835,
          -0.28556,
          -0.517072,
          -0.295451,
          -0.335508,
          0.413082,
          0.481091,
          0.338386,
          0.53037,
          0.16949,
          -0.408475,
          0.5931,
          0.380668,
          0.357327,
          0.276546,
          0.376933,
          0.280164,
          0.18017,
          0.277153,
          -0.372806,
          0.115116,
          0.170485,
          0.580794,
          -0.145286,
          0.25488,
          -0.175253,
          0.340616,
          -0.1236,
          -0.767219,
          -0.248761,
          -0.197663,
          0.183453,
          0.348382,
          0.221034,
          -0.390198,
          0.466658,
          0.347512,
          -0.404764,
          -0.340415,
          -0.605029,
          0.252747,
          0.195447,
          0.276914,
          -0.24837,
          0.225687,
          0.149153,
          0.274749,
          0.132124,
          -0.484323,
          0.619124,
          0.635632,
          0.411671,
          0.424244,
          0.597813,
          -0.478921,
          0.229246,
          0.279257,
          0.227903,
          -0.637667,
          0.515458,
          0.122972,
          -0.635906,
          -0.590149,
          0.542669,
          0.451869,
          -0.240603,
          -0.238867,
          0.190244,
          0.239667,
          -0.40238,
          0.177294,
          0.417267,
          0.184487,
          0.692511,
          0.193255,
          -0.512053,
          -0.379442,
          0.354465,
          0.265073,
          0.440584,
          -0.516491,
          0.189286,
          0.550329,
          -0.237006,
          0.182933,
          0.432793,
          0.221885,
          0.378065,
          0.151077,
          0.21635,
          -0.328995,
          0.175577,
          0.445058,
          0.272428,
          0.195736,
          -0.278231,
          0.202961,
          0.397893,
          0.361292,
          -0.412427,
          -0.115271,
          0.45663,
          0.20606,
          -0.387116,
          -0.353169,
          0.622881,
          0.641582,
          0.611552,
          -0.349058,
          0.1382,
          -0.41603,
          0.412438,
          0.158293,
          -0.25933,
          0.323353,
          0.188702,
          0.160961,
          0.361388,
          -0.186902,
          0.284186,
          -0.20472,
          0.174449,
          0.262064,
          0.15418,
          0.239991,
          0.410721,
          -0.272612,
          0.517007,
          0.149473,
          -0.276207,
          0.178426,
          0.465715,
          0.171274,
          0.227781,
          0.168302,
          -0.284366,
          0.387689,
          0.505161,
          0.666886,
          0.159914,
          0.321041,
          -0.642037,
          0.295365,
          0.165984,
          -0.482074,
          -0.183735,
          -0.263695,
          0.578493,
          0.432493,
          -0.21613,
          -0.413211,
          0.377697,
          0.326635,
          0.554584,
          0.489672,
          -0.347409,
          0.361306,
          0.191625,
          0.13612,
          0.392328,
          0.324558,
          0.459913,
          0.263249,
          0.295022,
          -0.204746,
          -0.223178,
          0.356048,
          0.240362,
          -0.311066,
          -0.270684,
          0.143515,
          -0.579245,
          0.188358,
          0.189075,
          0.231376,
          0.178269,
          0.180801,
          0.373671,
          0.326647,
          0.310418,
          0.323669,
          0.297314,
          0.188787,
          0.462313,
          0.514184,
          0.548029,
          0.446957,
          0.364714,
          0.498027,
          -0.184426,
          -0.103618,
          -0.470339,
          0.294452,
          0.119425,
          0.415045,
          0.23155,
          0.149773,
          0.592632,
          0.156071,
          0.179643,
          0.206374,
          0.216096,
          0.286119,
          0.579024,
          0.331042,
          0.183406,
          0.453722,
          0.251957,
          0.128887,
          0.281609,
          0.186967,
          -0.344635,
          0.226232,
          0.130962,
          -0.186339,
          -0.520853,
          -0.323156,
          -0.3806,
          0.654096,
          -0.232394,
          0.238212,
          0.209942,
          -0.35755,
          0.427607,
          0.297756,
          -0.377736,
          0.347404,
          0.233072,
          -0.156405,
          0.32655,
          0.207084,
          0.301412,
          0.210107,
          0.283542,
          0.345769,
          0.199921,
          0.20065,
          0.238903,
          -0.291262,
          0.231796,
          0.456317,
          0.290268,
          0.385095,
          0.284903,
          0.52097,
          -0.145438,
          0.314158,
          -0.234524,
          0.230975
         ],
         "xaxis": "x",
         "y": [
          6.5231733817903965,
          58.622481621047086,
          7.162970161296417,
          6.472601927172148,
          6.995243133105333,
          7.609196762366903,
          8.369463079391902,
          9.747167798281174,
          21.179287668671726,
          14.17272850644615,
          5.009850602047605,
          76.99536018049214,
          19.468704486509665,
          6.901673808666269,
          16.801530152664473,
          20.773212669799225,
          6.621449152710287,
          5.736977379513842,
          3.9018251804517,
          6.66582922836856,
          22.41467331224776,
          7.097415699479798,
          7.102651567358244,
          4.862413584499309,
          5.836377163267796,
          7.85936235598386,
          23.6797581667628,
          14.243558755272696,
          19.357276229166885,
          38.208166996440774,
          29.51726710426255,
          10.798750917218207,
          17.12016215985388,
          6.743937193752742,
          19.67601702056686,
          5.581874624422868,
          5.532673545076349,
          19.744639007489884,
          3.977415224195198,
          15.679131294309752,
          4.86591176771762,
          64.90669481749916,
          9.160027558102593,
          19.07739956789876,
          7.587413841361528,
          9.030605491078996,
          27.24331272940964,
          7.94938250216759,
          10.34491149949856,
          20.593290760524667,
          9.56884556122107,
          25.58728447511949,
          5.015592561065573,
          7.453241363011752,
          7.732241970381255,
          19.131991895139983,
          31.08533450474194,
          4.804731497044745,
          16.816737901800245,
          11.030808005340981,
          6.527881520540882,
          4.540319213668475,
          19.935490527307685,
          7.205218363289023,
          3.307761684876642,
          34.445286051823345,
          4.673770277480348,
          15.385631608021423,
          8.820259665911765,
          3.961003187649865,
          3.0912524754114035,
          7.474728063371129,
          7.365529987215304,
          8.458216986315941,
          15.833894630343195,
          10.219294788713757,
          13.135347304962623,
          5.65319392854539,
          7.8519569216171305,
          3.9170857997706086,
          20.870907744860844,
          5.815697759284702,
          47.573724310312066,
          4.941664422851308,
          3.400247832626567,
          19.244779789837047,
          26.110895407175136,
          6.7368317671405515,
          5.243034042924806,
          14.529146200951557,
          6.529866938644207,
          10.887575442476109,
          58.36162505053731,
          9.55923140360289,
          3.938366980767748,
          17.340809646103498,
          7.143464954355474,
          8.775899155631501,
          9.722099764902264,
          10.287122678057644,
          6.005441775038841,
          13.520828045867749,
          16.552948375961076,
          9.158222417714075,
          12.03396978893055,
          15.218869697710756,
          82.34315163531245,
          13.465628634433143,
          4.292990641935923,
          3.688199685209179,
          8.23344384199217,
          6.054745193035725,
          17.42288376052307,
          13.121713588562832,
          10.098189430219035,
          18.382710812700736,
          11.740616841984647,
          8.820056585863682,
          9.692562342066458,
          12.007320152278472,
          35.336639854249164,
          47.98957439725376,
          48.80340618720497,
          6.573285045031597,
          10.299883906384416,
          5.7340355178272215,
          15.967006796595463,
          9.320233366035307,
          9.182530671336915,
          10.592045280762266,
          6.1795305718094955,
          10.221546361646626,
          16.163082556692718,
          9.954949282160728,
          39.679218597569694,
          3.4461842873965534,
          3.170395232420674,
          8.97163848174612,
          3.586611716166358,
          9.649108934793613,
          6.086214883653793,
          3.4453373746563565,
          14.683296880778814,
          9.16422043636263,
          15.342309136877573,
          10.083882965536622,
          5.323491595096757,
          31.42286396110059,
          17.366368714180837,
          5.547522592190106,
          19.76353254722942,
          7.008891396653527,
          7.146101304539544,
          17.021593561033722,
          6.277547898196066,
          4.791391336323158,
          8.303050022299326,
          8.92681693467326,
          6.655907659539572,
          14.30543938201728,
          4.709076204384537,
          7.450863076668852,
          9.34794863518413,
          7.951311361902168,
          8.293329899177678,
          8.339758556195678,
          11.364505459851955,
          18.401760859099856,
          6.077414669245985,
          8.374565793166482,
          11.396476652326982,
          8.085638073548333,
          8.747172553739729,
          23.10098404275597,
          22.141587644905062,
          18.893359949361862,
          5.684450546356709,
          3.6649285799581497,
          7.629404820014795,
          4.068910760965291,
          5.78581716501053,
          3.4287947088542596,
          25.882586771438866,
          168.16227221834006,
          18.919149693508984,
          8.532713003074274,
          22.260290068871466,
          53.586910216227636,
          5.638950246654714,
          12.371749497196054,
          7.223823108628574,
          4.4058276448598335,
          7.693675859694437,
          7.886081001775825,
          13.357326505523881,
          3.124043031722029,
          45.00234984586685,
          4.464539056248346,
          22.88678488181746,
          10.221106632073223,
          35.75684812361612,
          18.691033834282372,
          10.920482988531916,
          3.283521018361732,
          3.19493959582473,
          7.398075907790788,
          3.8211773221285696,
          3.870449293518218,
          7.194690963384126,
          7.188514701695228,
          42.841826417210015,
          5.327437265121889,
          5.7067669236971605,
          11.711888730032747,
          6.881795177312606,
          9.756585940973434,
          7.305415921316063,
          5.470839098863844,
          27.34802500546748,
          8.27609185072825,
          18.715669444919918,
          7.8151853824240956,
          6.994730292996544,
          14.110673878630717,
          9.26789533501961,
          11.823044030298846,
          13.706297472990958,
          81.88887163473703,
          6.349054194975115,
          4.368360443910067,
          4.75972094583669,
          25.502075379345623,
          18.384155969269994,
          6.161256922925197,
          42.48742237400031,
          60.84002059255452,
          5.7500882275327125,
          7.26724847618282,
          3.6924859497080478,
          4.352545505351713,
          8.77066709253828,
          18.81443469613252,
          18.38377038993227,
          7.885495973172515,
          4.651779729440004,
          4.246866569057539,
          13.286471804778925,
          3.1328357527758164,
          13.277848280244724,
          4.400109142224648,
          3.372814027270386,
          3.4255617981147717,
          9.152260160899658,
          5.052801942258145,
          5.841872814936946,
          9.529829639077077,
          46.22808110721924,
          15.079481097307907,
          4.092885626985857,
          5.11846552365501,
          8.798893192190471,
          10.934852492255748,
          5.896554447324997,
          18.106965494453767,
          12.728566074163847,
          3.4313576647570465,
          16.09106431190729,
          15.590884997943006,
          5.504652966212879,
          5.30355103834665,
          40.4549108598029,
          4.053068270910262,
          17.30560472925359,
          10.193225069300322,
          15.369939587367575,
          4.588608097689113,
          35.03583061459276,
          15.565015459295493,
          17.67969623397826,
          24.97538764705147,
          4.831744616041761,
          34.79183806301218,
          9.477370504697102,
          5.660493126557804,
          13.116182518329248,
          10.338958362730699,
          14.085300323352255,
          26.9535461047629,
          52.46220319512715,
          6.905657480899991,
          6.484253808387874,
          9.324707996793984,
          5.655935612399014,
          3.8870865201381144,
          4.167044295640379,
          13.468381026869073,
          18.35902136356564,
          18.99512087144709,
          15.578682570340417,
          18.668667856749156,
          3.1303156478887204,
          7.2140223203770235,
          3.8326574500474053,
          103.56165162344136,
          16.84324962765335,
          14.884777659437919,
          19.46787774567432,
          10.89660533452361,
          11.002980228631545,
          14.047379565596842,
          6.044949715581635,
          5.892669537292321,
          22.588822557376172,
          23.23777020973336,
          25.960770364097936,
          9.013705080542769,
          12.373001283516649,
          8.669703550638562,
          13.702271162357762,
          7.318509349023912,
          12.791047267932486,
          6.46775992797715,
          4.7102973955305725,
          29.406690724007657,
          8.805342039457463,
          17.569333948718874,
          57.10707590354465,
          10.937436327878515,
          5.947715640177967,
          41.329904861961104,
          6.415623297663401,
          14.627824230715436,
          11.394609238152187,
          24.731359311125292,
          9.043640196085185,
          35.25697475233749,
          3.2803257871844234,
          15.834496903944174,
          5.41321207743325,
          4.747967229626813,
          4.950283650711514,
          6.804206403353578,
          7.510257691320032,
          4.793187935326927,
          9.260739329560035,
          5.931310624288235,
          27.821068439753567,
          28.62938995883831,
          33.37014065487443,
          45.78045409389256,
          51.27885271900116,
          3.7128853025807826,
          8.555830075031155,
          5.154372878875086,
          6.996357010825009,
          52.7408840160636,
          52.695171644217666,
          5.488993727724745,
          20.35924791875242,
          3.1322624437350823,
          3.0369710215705883,
          5.300018813187794,
          3.160394675118129,
          5.209153308240332,
          10.424902377856387,
          10.624869612110857,
          7.892833546283278,
          7.818834613805759,
          13.971135657547661,
          14.601145903959381,
          23.51165879073116,
          6.394811899245145,
          9.641923608239406,
          17.115379542042007,
          4.086197837086332,
          4.2167834194146785,
          15.631050555857733,
          29.465980404462822,
          14.058372240144587,
          20.43186568512622,
          12.18872400719556,
          15.52521089233677,
          10.520451772363787,
          12.056239845772952,
          13.925425875445132,
          6.521405034733655,
          8.677655413857298,
          7.878211848100074,
          7.124556485552768,
          9.574298919932621,
          5.088640079744227,
          5.84297557885048,
          4.861521564143467,
          6.796482276572708,
          16.82928461001903,
          4.463670623714392,
          11.634742877793148,
          3.15622971821793,
          14.988598578709189,
          12.365772024287848,
          4.404190447375603,
          10.84330282945724,
          6.936257639454849,
          6.467695526109473,
          9.321875466728809,
          17.558339462505966,
          48.17021692554689,
          9.264004896561875,
          5.020715933439206,
          22.944455291736464,
          34.227402210202115,
          5.764679633607507,
          8.097069382299413,
          4.114935099838109,
          5.256427142787852,
          16.385360905682518,
          15.694659657528918,
          9.484645647386325,
          8.081619270537756,
          13.568728608084665,
          7.103478234720354,
          13.742445987107269,
          12.810769484906235,
          24.88734640385341,
          4.393289826952592,
          13.81683142993169,
          11.901754719426966,
          30.935291443813696,
          7.871399707239762,
          6.375246444385004,
          4.817522176224102,
          3.9313587417348885,
          24.162196238925805,
          67.56016437898542,
          4.322777075469921,
          8.195798335104298,
          83.34823353847348,
          19.133377783757027,
          10.918052853678624,
          45.90354050890039,
          26.53187563609878,
          3.8403537187377865,
          28.89914140674496,
          16.614969061106308,
          7.076481670261783,
          11.388674502632371,
          13.333701883268777,
          27.04034972695784,
          7.987742103527082,
          3.7757453871355984,
          42.55283345104531,
          3.4890782274393364,
          8.68821878846834,
          7.753867176235046,
          13.918728925216744,
          34.10323481922005,
          16.697574918041358,
          4.951371597919162,
          12.563462130406775,
          5.572675267997555,
          6.937081108363966,
          16.24817016832415,
          6.057048948320827,
          7.966762313057887,
          8.257563431531617,
          4.139613931669636,
          13.89842488479227,
          4.705211540168317,
          4.673031555008328,
          13.37178673773902,
          5.018324782580636,
          13.145990308035485,
          3.154235746387751,
          4.875890263228648,
          7.731170610906093,
          11.09678421686483,
          4.342575178912954,
          6.253296953037303,
          22.18424064174289,
          7.32629042918605,
          4.71138662339801,
          19.2892294798411,
          5.424583784552869,
          18.34427541274996,
          3.929372643763259,
          7.623966399140634,
          3.655212596643452,
          6.566722031033362,
          20.112359611770376,
          10.694159362986126,
          4.027433856939473,
          4.072309135361488,
          3.8980214857923325,
          9.490292398366053,
          11.196583052025236,
          8.201069445333154,
          5.19903327501881,
          4.758519520311773,
          76.03323860256106,
          19.193628994715866,
          12.473455481990145,
          6.4818341623065905,
          9.156894396270557,
          7.718717995726602,
          6.052319195378473,
          3.7600317984420255,
          7.432105279568015,
          6.717713599173044,
          9.461047841636603,
          3.187789064336103,
          13.338407191603316,
          13.265137351395785,
          12.094745962893844,
          22.83160080228123,
          44.01396812160087,
          8.676071696483726,
          5.9637715620912335,
          28.864285424889882,
          24.5451282626666,
          4.69311654539213,
          19.793585151953497,
          4.027826751171789,
          4.189292807532617,
          8.21048084868271,
          15.064480728220946,
          4.771579024321997,
          6.114627026058877,
          4.771909774655763,
          7.786413096049441,
          35.7161072682902,
          10.793866902625782,
          31.20154880725315,
          9.676415727004102,
          55.91700770037699,
          3.93790507514225,
          18.461575657797837,
          8.499598883015286,
          7.546224898251387,
          31.493873077350244,
          18.861311996099634,
          9.151411304446896,
          21.198804757690823,
          7.5952186430737845,
          13.576493657493774,
          16.393585682644737,
          11.001000445760937,
          6.158038746934297,
          7.9152844912905636,
          4.517525676136045,
          9.373977573566009,
          3.2075155972975664,
          17.52655382477993,
          8.325870599091864,
          20.16788758613136,
          3.097853596620751,
          3.072570122278616,
          41.91685535434949,
          4.752070546351568,
          34.661023128058346,
          6.768428213761038,
          42.57555162498236,
          11.498233916227239,
          24.50509426071673,
          4.663498695888218,
          22.016908093269933,
          47.23544729052688,
          26.159420998229557,
          19.267981937678456,
          4.364108134171537,
          10.994429334900017,
          8.128670804038386,
          6.979015003554513,
          8.188933154217045,
          46.83071198622103,
          13.334505170610763,
          57.94887903656011,
          16.703626861311406,
          15.37820802451456,
          29.794279143701495,
          38.24423248542942,
          30.872474915809995,
          3.1671376294637863,
          7.424029050321854,
          22.797441268953747,
          11.110331140287085,
          3.5930966587372204,
          29.903756186953707,
          4.7812274047823635,
          15.333600675939099,
          47.163156256562324,
          12.129815555813419,
          7.781968804444197,
          11.483755087670449,
          19.071630875812524,
          3.9249056312591595,
          3.2429380112189596,
          3.3937352924310256,
          7.169808591800104,
          24.3609199989849,
          5.809242995314361,
          6.006253364581421,
          15.97990015220692,
          34.79474018617715,
          5.007754447721867,
          6.848731938532676,
          37.463826557879145,
          3.9448561625233864,
          49.459500985177634,
          6.461660194788077,
          7.193891879624268,
          4.122620587573837,
          3.3612461661599276,
          7.405944413872996,
          7.4320208151148295,
          12.124842950297493,
          4.77959500425544,
          11.49734743500691,
          11.449856773503246,
          38.193988991554136,
          3.524687924192452,
          8.188321192139593,
          13.080597828171861,
          10.933507049738626,
          7.210117918903869,
          7.157178639316828,
          5.428517172219508,
          4.426187530459651,
          5.761019715132299,
          12.526966852188067,
          8.036404184026786,
          8.715949054673617,
          22.886175947867976,
          30.651271517296266,
          10.728521764138732,
          5.181726151939402,
          5.719058562208717,
          11.672331597193443,
          3.778497862823155,
          101.17650707343293,
          3.3429096057916485,
          7.547228999996307,
          6.0610718930599905,
          50.354621609241825,
          12.321371269893637,
          9.462951354706378,
          10.666070559816067,
          5.276712442795652,
          8.023747731481784,
          4.138923605620068,
          29.511611798863218,
          11.26528444205563,
          55.53402157338159,
          13.219314903480779,
          9.3583416647667,
          15.600433449933341,
          5.177055943058546,
          13.766244316661355,
          3.7938844774111047,
          13.102413702096708,
          27.518228288453425,
          6.786334423777798,
          20.584896167681638,
          26.239764089228913,
          9.336266472575034,
          8.587079318880404,
          13.872038582306146,
          21.933592115244522,
          36.511122926039036,
          5.0915146016218795,
          11.64820695955877,
          6.2263264913763905,
          6.423109372999531,
          11.336035298173481,
          5.113349314813177,
          4.716492884632357,
          22.074888276535024,
          12.217760685325365,
          10.617327356321162,
          11.337712447413569,
          36.77951408457865,
          18.073833938332612,
          7.971618375323428,
          7.959751193021667,
          9.36221032131431,
          70.63009065512266,
          15.437983052668836,
          22.196949828402893,
          11.33052057831497,
          48.928460695477455,
          24.85456488216228,
          10.001409139096957,
          13.644249948529744,
          17.179180967735707,
          4.488276434516592,
          30.179852075520525,
          7.822197719998674,
          3.902765984165469,
          7.834652056643517,
          4.007763277708982,
          6.498696635363842,
          4.139676712220242,
          5.574387123671651,
          20.44291053988109,
          11.70064154608149,
          13.702271162357762,
          31.99183435420323,
          3.1485105622076373,
          4.192199978394154,
          4.703191036342532,
          3.155736719956915,
          11.729937850354197,
          12.951018511324007,
          4.798924852408513,
          7.357501482407438,
          5.846221998555448,
          3.264972120761174,
          5.405768955866174,
          10.600080663500373,
          16.825301188769306,
          36.81618118937443,
          3.4887179791916507,
          4.799689837965736,
          28.950741528798797,
          9.81874207409007,
          9.190243670277061,
          17.320736010050478,
          12.171941786814028,
          4.256134345846642,
          10.461929030243782,
          4.685577960290341,
          21.192214023367928,
          47.07970658138507,
          10.489611600352347,
          5.9770095261383975,
          16.769486873277938,
          41.93629729126052,
          4.473878800306916,
          8.836434732775784,
          12.312945415178998,
          75.40058163719799,
          41.26704747191903,
          35.184505781141475,
          5.017327637957381,
          26.92648899050204,
          16.928226187004086,
          7.721263816213266,
          7.748961729733024,
          12.793851310464293,
          7.263516354911186,
          4.700371371732484,
          4.874200620074777,
          4.790825292891309,
          7.14213673972315,
          4.815792456748629,
          7.010098130150642,
          7.457598969768857,
          13.197895440016765,
          8.073597707946806,
          5.672341948821882,
          8.051448619090886,
          48.27132543216061,
          18.395207947979333,
          41.8632599742797,
          3.7195036236577455,
          6.420955989819001,
          14.687951882560167,
          11.55337252978541,
          3.9974175084450945,
          6.197603499606368,
          3.369320879014897,
          6.222942735212249,
          9.839424144246793,
          6.667322059130966,
          6.995308620990097
         ],
         "yaxis": "y"
        }
       ],
       "layout": {
        "coloraxis": {
         "colorbar": {
          "title": {
           "text": "color"
          }
         },
         "colorscale": [
          [
           0,
           "#0d0887"
          ],
          [
           0.1111111111111111,
           "#46039f"
          ],
          [
           0.2222222222222222,
           "#7201a8"
          ],
          [
           0.3333333333333333,
           "#9c179e"
          ],
          [
           0.4444444444444444,
           "#bd3786"
          ],
          [
           0.5555555555555556,
           "#d8576b"
          ],
          [
           0.6666666666666666,
           "#ed7953"
          ],
          [
           0.7777777777777778,
           "#fb9f3a"
          ],
          [
           0.8888888888888888,
           "#fdca26"
          ],
          [
           1,
           "#f0f921"
          ]
         ]
        },
        "height": 500,
        "legend": {
         "tracegroupgap": 0
        },
        "margin": {
         "t": 60
        },
        "template": {
         "data": {
          "bar": [
           {
            "error_x": {
             "color": "#2a3f5f"
            },
            "error_y": {
             "color": "#2a3f5f"
            },
            "marker": {
             "line": {
              "color": "#E5ECF6",
              "width": 0.5
             },
             "pattern": {
              "fillmode": "overlay",
              "size": 10,
              "solidity": 0.2
             }
            },
            "type": "bar"
           }
          ],
          "barpolar": [
           {
            "marker": {
             "line": {
              "color": "#E5ECF6",
              "width": 0.5
             },
             "pattern": {
              "fillmode": "overlay",
              "size": 10,
              "solidity": 0.2
             }
            },
            "type": "barpolar"
           }
          ],
          "carpet": [
           {
            "aaxis": {
             "endlinecolor": "#2a3f5f",
             "gridcolor": "white",
             "linecolor": "white",
             "minorgridcolor": "white",
             "startlinecolor": "#2a3f5f"
            },
            "baxis": {
             "endlinecolor": "#2a3f5f",
             "gridcolor": "white",
             "linecolor": "white",
             "minorgridcolor": "white",
             "startlinecolor": "#2a3f5f"
            },
            "type": "carpet"
           }
          ],
          "choropleth": [
           {
            "colorbar": {
             "outlinewidth": 0,
             "ticks": ""
            },
            "type": "choropleth"
           }
          ],
          "contour": [
           {
            "colorbar": {
             "outlinewidth": 0,
             "ticks": ""
            },
            "colorscale": [
             [
              0,
              "#0d0887"
             ],
             [
              0.1111111111111111,
              "#46039f"
             ],
             [
              0.2222222222222222,
              "#7201a8"
             ],
             [
              0.3333333333333333,
              "#9c179e"
             ],
             [
              0.4444444444444444,
              "#bd3786"
             ],
             [
              0.5555555555555556,
              "#d8576b"
             ],
             [
              0.6666666666666666,
              "#ed7953"
             ],
             [
              0.7777777777777778,
              "#fb9f3a"
             ],
             [
              0.8888888888888888,
              "#fdca26"
             ],
             [
              1,
              "#f0f921"
             ]
            ],
            "type": "contour"
           }
          ],
          "contourcarpet": [
           {
            "colorbar": {
             "outlinewidth": 0,
             "ticks": ""
            },
            "type": "contourcarpet"
           }
          ],
          "heatmap": [
           {
            "colorbar": {
             "outlinewidth": 0,
             "ticks": ""
            },
            "colorscale": [
             [
              0,
              "#0d0887"
             ],
             [
              0.1111111111111111,
              "#46039f"
             ],
             [
              0.2222222222222222,
              "#7201a8"
             ],
             [
              0.3333333333333333,
              "#9c179e"
             ],
             [
              0.4444444444444444,
              "#bd3786"
             ],
             [
              0.5555555555555556,
              "#d8576b"
             ],
             [
              0.6666666666666666,
              "#ed7953"
             ],
             [
              0.7777777777777778,
              "#fb9f3a"
             ],
             [
              0.8888888888888888,
              "#fdca26"
             ],
             [
              1,
              "#f0f921"
             ]
            ],
            "type": "heatmap"
           }
          ],
          "heatmapgl": [
           {
            "colorbar": {
             "outlinewidth": 0,
             "ticks": ""
            },
            "colorscale": [
             [
              0,
              "#0d0887"
             ],
             [
              0.1111111111111111,
              "#46039f"
             ],
             [
              0.2222222222222222,
              "#7201a8"
             ],
             [
              0.3333333333333333,
              "#9c179e"
             ],
             [
              0.4444444444444444,
              "#bd3786"
             ],
             [
              0.5555555555555556,
              "#d8576b"
             ],
             [
              0.6666666666666666,
              "#ed7953"
             ],
             [
              0.7777777777777778,
              "#fb9f3a"
             ],
             [
              0.8888888888888888,
              "#fdca26"
             ],
             [
              1,
              "#f0f921"
             ]
            ],
            "type": "heatmapgl"
           }
          ],
          "histogram": [
           {
            "marker": {
             "pattern": {
              "fillmode": "overlay",
              "size": 10,
              "solidity": 0.2
             }
            },
            "type": "histogram"
           }
          ],
          "histogram2d": [
           {
            "colorbar": {
             "outlinewidth": 0,
             "ticks": ""
            },
            "colorscale": [
             [
              0,
              "#0d0887"
             ],
             [
              0.1111111111111111,
              "#46039f"
             ],
             [
              0.2222222222222222,
              "#7201a8"
             ],
             [
              0.3333333333333333,
              "#9c179e"
             ],
             [
              0.4444444444444444,
              "#bd3786"
             ],
             [
              0.5555555555555556,
              "#d8576b"
             ],
             [
              0.6666666666666666,
              "#ed7953"
             ],
             [
              0.7777777777777778,
              "#fb9f3a"
             ],
             [
              0.8888888888888888,
              "#fdca26"
             ],
             [
              1,
              "#f0f921"
             ]
            ],
            "type": "histogram2d"
           }
          ],
          "histogram2dcontour": [
           {
            "colorbar": {
             "outlinewidth": 0,
             "ticks": ""
            },
            "colorscale": [
             [
              0,
              "#0d0887"
             ],
             [
              0.1111111111111111,
              "#46039f"
             ],
             [
              0.2222222222222222,
              "#7201a8"
             ],
             [
              0.3333333333333333,
              "#9c179e"
             ],
             [
              0.4444444444444444,
              "#bd3786"
             ],
             [
              0.5555555555555556,
              "#d8576b"
             ],
             [
              0.6666666666666666,
              "#ed7953"
             ],
             [
              0.7777777777777778,
              "#fb9f3a"
             ],
             [
              0.8888888888888888,
              "#fdca26"
             ],
             [
              1,
              "#f0f921"
             ]
            ],
            "type": "histogram2dcontour"
           }
          ],
          "mesh3d": [
           {
            "colorbar": {
             "outlinewidth": 0,
             "ticks": ""
            },
            "type": "mesh3d"
           }
          ],
          "parcoords": [
           {
            "line": {
             "colorbar": {
              "outlinewidth": 0,
              "ticks": ""
             }
            },
            "type": "parcoords"
           }
          ],
          "pie": [
           {
            "automargin": true,
            "type": "pie"
           }
          ],
          "scatter": [
           {
            "fillpattern": {
             "fillmode": "overlay",
             "size": 10,
             "solidity": 0.2
            },
            "type": "scatter"
           }
          ],
          "scatter3d": [
           {
            "line": {
             "colorbar": {
              "outlinewidth": 0,
              "ticks": ""
             }
            },
            "marker": {
             "colorbar": {
              "outlinewidth": 0,
              "ticks": ""
             }
            },
            "type": "scatter3d"
           }
          ],
          "scattercarpet": [
           {
            "marker": {
             "colorbar": {
              "outlinewidth": 0,
              "ticks": ""
             }
            },
            "type": "scattercarpet"
           }
          ],
          "scattergeo": [
           {
            "marker": {
             "colorbar": {
              "outlinewidth": 0,
              "ticks": ""
             }
            },
            "type": "scattergeo"
           }
          ],
          "scattergl": [
           {
            "marker": {
             "colorbar": {
              "outlinewidth": 0,
              "ticks": ""
             }
            },
            "type": "scattergl"
           }
          ],
          "scattermapbox": [
           {
            "marker": {
             "colorbar": {
              "outlinewidth": 0,
              "ticks": ""
             }
            },
            "type": "scattermapbox"
           }
          ],
          "scatterpolar": [
           {
            "marker": {
             "colorbar": {
              "outlinewidth": 0,
              "ticks": ""
             }
            },
            "type": "scatterpolar"
           }
          ],
          "scatterpolargl": [
           {
            "marker": {
             "colorbar": {
              "outlinewidth": 0,
              "ticks": ""
             }
            },
            "type": "scatterpolargl"
           }
          ],
          "scatterternary": [
           {
            "marker": {
             "colorbar": {
              "outlinewidth": 0,
              "ticks": ""
             }
            },
            "type": "scatterternary"
           }
          ],
          "surface": [
           {
            "colorbar": {
             "outlinewidth": 0,
             "ticks": ""
            },
            "colorscale": [
             [
              0,
              "#0d0887"
             ],
             [
              0.1111111111111111,
              "#46039f"
             ],
             [
              0.2222222222222222,
              "#7201a8"
             ],
             [
              0.3333333333333333,
              "#9c179e"
             ],
             [
              0.4444444444444444,
              "#bd3786"
             ],
             [
              0.5555555555555556,
              "#d8576b"
             ],
             [
              0.6666666666666666,
              "#ed7953"
             ],
             [
              0.7777777777777778,
              "#fb9f3a"
             ],
             [
              0.8888888888888888,
              "#fdca26"
             ],
             [
              1,
              "#f0f921"
             ]
            ],
            "type": "surface"
           }
          ],
          "table": [
           {
            "cells": {
             "fill": {
              "color": "#EBF0F8"
             },
             "line": {
              "color": "white"
             }
            },
            "header": {
             "fill": {
              "color": "#C8D4E3"
             },
             "line": {
              "color": "white"
             }
            },
            "type": "table"
           }
          ]
         },
         "layout": {
          "annotationdefaults": {
           "arrowcolor": "#2a3f5f",
           "arrowhead": 0,
           "arrowwidth": 1
          },
          "autotypenumbers": "strict",
          "coloraxis": {
           "colorbar": {
            "outlinewidth": 0,
            "ticks": ""
           }
          },
          "colorscale": {
           "diverging": [
            [
             0,
             "#8e0152"
            ],
            [
             0.1,
             "#c51b7d"
            ],
            [
             0.2,
             "#de77ae"
            ],
            [
             0.3,
             "#f1b6da"
            ],
            [
             0.4,
             "#fde0ef"
            ],
            [
             0.5,
             "#f7f7f7"
            ],
            [
             0.6,
             "#e6f5d0"
            ],
            [
             0.7,
             "#b8e186"
            ],
            [
             0.8,
             "#7fbc41"
            ],
            [
             0.9,
             "#4d9221"
            ],
            [
             1,
             "#276419"
            ]
           ],
           "sequential": [
            [
             0,
             "#0d0887"
            ],
            [
             0.1111111111111111,
             "#46039f"
            ],
            [
             0.2222222222222222,
             "#7201a8"
            ],
            [
             0.3333333333333333,
             "#9c179e"
            ],
            [
             0.4444444444444444,
             "#bd3786"
            ],
            [
             0.5555555555555556,
             "#d8576b"
            ],
            [
             0.6666666666666666,
             "#ed7953"
            ],
            [
             0.7777777777777778,
             "#fb9f3a"
            ],
            [
             0.8888888888888888,
             "#fdca26"
            ],
            [
             1,
             "#f0f921"
            ]
           ],
           "sequentialminus": [
            [
             0,
             "#0d0887"
            ],
            [
             0.1111111111111111,
             "#46039f"
            ],
            [
             0.2222222222222222,
             "#7201a8"
            ],
            [
             0.3333333333333333,
             "#9c179e"
            ],
            [
             0.4444444444444444,
             "#bd3786"
            ],
            [
             0.5555555555555556,
             "#d8576b"
            ],
            [
             0.6666666666666666,
             "#ed7953"
            ],
            [
             0.7777777777777778,
             "#fb9f3a"
            ],
            [
             0.8888888888888888,
             "#fdca26"
            ],
            [
             1,
             "#f0f921"
            ]
           ]
          },
          "colorway": [
           "#636efa",
           "#EF553B",
           "#00cc96",
           "#ab63fa",
           "#FFA15A",
           "#19d3f3",
           "#FF6692",
           "#B6E880",
           "#FF97FF",
           "#FECB52"
          ],
          "font": {
           "color": "#2a3f5f"
          },
          "geo": {
           "bgcolor": "white",
           "lakecolor": "white",
           "landcolor": "#E5ECF6",
           "showlakes": true,
           "showland": true,
           "subunitcolor": "white"
          },
          "hoverlabel": {
           "align": "left"
          },
          "hovermode": "closest",
          "mapbox": {
           "style": "light"
          },
          "paper_bgcolor": "white",
          "plot_bgcolor": "#E5ECF6",
          "polar": {
           "angularaxis": {
            "gridcolor": "white",
            "linecolor": "white",
            "ticks": ""
           },
           "bgcolor": "#E5ECF6",
           "radialaxis": {
            "gridcolor": "white",
            "linecolor": "white",
            "ticks": ""
           }
          },
          "scene": {
           "xaxis": {
            "backgroundcolor": "#E5ECF6",
            "gridcolor": "white",
            "gridwidth": 2,
            "linecolor": "white",
            "showbackground": true,
            "ticks": "",
            "zerolinecolor": "white"
           },
           "yaxis": {
            "backgroundcolor": "#E5ECF6",
            "gridcolor": "white",
            "gridwidth": 2,
            "linecolor": "white",
            "showbackground": true,
            "ticks": "",
            "zerolinecolor": "white"
           },
           "zaxis": {
            "backgroundcolor": "#E5ECF6",
            "gridcolor": "white",
            "gridwidth": 2,
            "linecolor": "white",
            "showbackground": true,
            "ticks": "",
            "zerolinecolor": "white"
           }
          },
          "shapedefaults": {
           "line": {
            "color": "#2a3f5f"
           }
          },
          "ternary": {
           "aaxis": {
            "gridcolor": "white",
            "linecolor": "white",
            "ticks": ""
           },
           "baxis": {
            "gridcolor": "white",
            "linecolor": "white",
            "ticks": ""
           },
           "bgcolor": "#E5ECF6",
           "caxis": {
            "gridcolor": "white",
            "linecolor": "white",
            "ticks": ""
           }
          },
          "title": {
           "x": 0.05
          },
          "xaxis": {
           "automargin": true,
           "gridcolor": "white",
           "linecolor": "white",
           "ticks": "",
           "title": {
            "standoff": 15
           },
           "zerolinecolor": "white",
           "zerolinewidth": 2
          },
          "yaxis": {
           "automargin": true,
           "gridcolor": "white",
           "linecolor": "white",
           "ticks": "",
           "title": {
            "standoff": 15
           },
           "zerolinecolor": "white",
           "zerolinewidth": 2
          }
         }
        },
        "width": 500,
        "xaxis": {
         "anchor": "y",
         "autorange": true,
         "domain": [
          0,
          1
         ],
         "range": [
          -0.8758954199584199,
          0.8941314199584199
         ],
         "title": {
          "text": "mean methylation difference"
         },
         "type": "linear"
        },
        "yaxis": {
         "anchor": "x",
         "autorange": true,
         "domain": [
          0,
          1
         ],
         "range": [
          -8.310502283420679,
          179.50974552333133
         ],
         "title": {
          "text": "y"
         },
         "type": "linear"
        }
       }
      },
      "image/png": "[encoded data removed]",
      "text/html": [
       "<div>                            <div id=\"f739b08e-6897-4d4b-97d8-1b2622bc4762\" class=\"plotly-graph-div\" style=\"height:500px; width:500px;\"></div>            <script type=\"text/javascript\">                require([\"plotly\"], function(Plotly) {                    window.PLOTLYENV=window.PLOTLYENV || {};                                    if (document.getElementById(\"f739b08e-6897-4d4b-97d8-1b2622bc4762\")) {                    Plotly.newPlot(                        \"f739b08e-6897-4d4b-97d8-1b2622bc4762\",                        [{\"customdata\":[[\"1\",1032586,1034858],[\"1\",1162663,1165204],[\"1\",1173934,1174765],[\"1\",1332055,1333606],[\"1\",2290759,2291130],[\"1\",2300871,2301178],[\"1\",2428487,2428728],[\"1\",2911220,2911729],[\"1\",3404705,3405746],[\"1\",3543310,3543705],[\"1\",3718069,3718537],[\"1\",6454048,6455985],[\"1\",6460524,6461895],[\"1\",9039221,9040454],[\"1\",10638242,10640041],[\"1\",10704392,10704868],[\"1\",11501309,11502099],[\"1\",13583642,13584373],[\"1\",16872131,16873554],[\"1\",18784226,18784438],[\"1\",19273755,19274448],[\"1\",19338516,19338782],[\"1\",26863421,26863637],[\"1\",27349428,27351525],[\"1\",27360533,27361252],[\"1\",29134365,29134660],[\"1\",35576831,35577843],[\"1\",36178354,36179042],[\"1\",37995912,37996316],[\"1\",43565615,43566167],[\"1\",44617067,44617613],[\"1\",47984198,47984472],[\"1\",54390728,54390935],[\"1\",54781069,54781846],[\"1\",68051571,68051791],[\"1\",120952492,120953081],[\"1\",125085509,125088028],[\"1\",143326822,143327608],[\"1\",143449787,143451252],[\"1\",143497155,143498908],[\"1\",145447303,145447803],[\"1\",151837984,151839208],[\"1\",152188845,152189452],[\"1\",155188536,155192004],[\"1\",156076552,156077593],[\"1\",156646761,156647154],[\"1\",156907977,156908350],[\"1\",157194748,157195345],[\"1\",158177643,158178064],[\"1\",161038587,161039040],[\"1\",161079556,161079947],[\"1\",161440076,161472713],[\"1\",164576303,164576680],[\"1\",166165021,166167211],[\"1\",171841327,171842185],[\"1\",180953779,180954556],[\"1\",182056469,182057376],[\"1\",200873068,200874260],[\"1\",201647913,201650660],[\"1\",203075594,203076262],[\"1\",207644966,207645607],[\"1\",211416335,211416879],[\"1\",211478964,211479412],[\"1\",217138125,217138431],[\"1\",220878624,220880331],[\"1\",220884121,220884870],[\"1\",225887450,225887980],[\"1\",228157676,228158999],[\"1\",228211770,228214336],[\"1\",228635026,228635503],[\"1\",229431459,229434937],[\"1\",236064382,236065517],[\"1\",247518097,247518649],[\"2\",467849,468659],[\"2\",868244,869405],[\"2\",3594957,3595161],[\"2\",5691055,5694076],[\"2\",5695936,5697511],[\"2\",9393443,9393678],[\"2\",26178826,26179150],[\"2\",26184553,26185384],[\"2\",26727670,26728606],[\"2\",27442072,27442803],[\"2\",38959636,38960827],[\"2\",39243601,39244067],[\"2\",53859639,53860129],[\"2\",73268792,73269782],[\"2\",74513197,74516668],[\"2\",80302552,80303721],[\"2\",85584217,85584732],[\"2\",89611125,89612239],[\"2\",91441994,91443568],[\"2\",91477061,91479459],[\"2\",94735635,94735891],[\"2\",96500471,96500923],[\"2\",102187212,102188096],[\"2\",104853026,104857030],[\"2\",113198766,113199465],[\"2\",113235627,113236498],[\"2\",114662151,114662684],[\"2\",127415899,127416217],[\"2\",130036887,130037242],[\"2\",130037767,130038141],[\"2\",130213360,130213800],[\"2\",130288427,130288908],[\"2\",130916113,130916577],[\"2\",131039789,131040515],[\"2\",144389556,144389909],[\"2\",149320299,149320705],[\"2\",156319739,156320834],[\"2\",161423324,161424198],[\"2\",163348230,163348529],[\"2\",172100034,172103129],[\"2\",174334735,174337795],[\"2\",176079359,176083718],[\"2\",176116037,176116695],[\"2\",176151688,176152761],[\"2\",176188229,176189622],[\"2\",199461948,199464958],[\"2\",218033767,218034112],[\"2\",218871410,218871870],[\"2\",218873359,218874066],[\"2\",219447976,219449372],[\"2\",219483566,219485062],[\"2\",219541641,219542118],[\"2\",226797366,226800196],[\"2\",230990522,230991242],[\"2\",233060381,233060608],[\"2\",240557159,240558183],[\"2\",240983360,240983726],[\"2\",241035489,241036901],[\"2\",241890848,241891078],[\"3\",4983075,4983282],[\"3\",9862647,9863127],[\"3\",9915138,9915980],[\"3\",32816702,32819014],[\"3\",36763974,36764723],[\"3\",42936338,42936598],[\"3\",46464671,46464926],[\"3\",47008996,47010119],[\"3\",50340372,50341109],[\"3\",50345458,50345879],[\"3\",55482082,55482402],[\"3\",62318839,62319105],[\"3\",65356528,65357209],[\"3\",75395561,75396460],[\"3\",126541645,126542513],[\"3\",128075526,128077293],[\"3\",129003440,129004193],[\"3\",129343987,129344290],[\"3\",129974280,129975998],[\"3\",137770752,137772162],[\"3\",138434427,138435779],[\"3\",138937785,138940265],[\"3\",141095071,141095292],[\"3\",141797213,141797797],[\"3\",193869563,193870100],[\"4\",681054,682302],[\"4\",1194397,1195374],[\"4\",1402503,1407942],[\"4\",1593566,1593812],[\"4\",2817772,2818702],[\"4\",2931917,2932152],[\"4\",3484236,3484654],[\"4\",6657544,6658060],[\"4\",40856867,40857290],[\"4\",42150749,42152967],[\"4\",52076812,52077082],[\"4\",73620327,73620541],[\"4\",73981811,73982113],[\"4\",80202458,80203164],[\"4\",81214734,81215381],[\"4\",101790672,101791042],[\"4\",150579611,150580147],[\"4\",150582859,150583933],[\"4\",154781188,154782176],[\"4\",157220252,157220684],[\"4\",186298166,186298591],[\"4\",189810492,189811043],[\"5\",169463,169683],[\"5\",191677,192429],[\"5\",421109,421636],[\"5\",958670,959057],[\"5\",1874793,1878918],[\"5\",1879575,1879814],[\"5\",3326214,3326531],[\"5\",3590530,3591886],[\"5\",3594353,3603136],[\"5\",3606374,3607021],[\"5\",42991931,42992853],[\"5\",43042005,43043375],[\"5\",51389619,51390314],[\"5\",73446781,73448760],[\"5\",79689601,79689959],[\"5\",80960133,80961187],[\"5\",93594823,93595124],[\"5\",116361437,116361892],[\"5\",132257732,132258120],[\"5\",132822850,132823511],[\"5\",135489708,135490806],[\"5\",139392021,139395222],[\"5\",140672474,140673796],[\"5\",140787506,140788554],[\"5\",140796081,140797228],[\"5\",140829168,140830372],[\"5\",140835615,140836574],[\"5\",140862488,140863422],[\"5\",140876688,140877705],[\"5\",140883500,140884569],[\"5\",141478297,141478498],[\"5\",174731677,174732726],[\"5\",176596776,176597650],[\"5\",177971161,177971433],[\"5\",178994224,178995336],[\"5\",180590099,180592062],[\"5\",180618789,180621897],[\"6\",391188,393802],[\"6\",1601389,1601903],[\"6\",1618858,1620859],[\"6\",9398860,9399366],[\"6\",10381325,10382121],[\"6\",10389937,10390332],[\"6\",10390655,10390865],[\"6\",10421181,10421494],[\"6\",25882099,25882332],[\"6\",28988329,28988801],[\"6\",30071104,30071700],[\"6\",32095756,32097267],[\"6\",33593115,33593412],[\"6\",34531536,34531803],[\"6\",35485999,35486658],[\"6\",41371498,41372289],[\"6\",41372929,41374805],[\"6\",41407007,41407449],[\"6\",41560528,41561162],[\"6\",42104294,42104963],[\"6\",42259343,42259750],[\"6\",84762984,84764414],[\"6\",100464195,100465461],[\"6\",101402753,101403098],[\"6\",149963546,149965379],[\"6\",151807687,151808636],[\"6\",158516253,158516459],[\"6\",160347382,160349276],[\"6\",166166485,166169935],[\"6\",170423031,170423354],[\"7\",253934,254266],[\"7\",379553,379950],[\"7\",462641,464240],[\"7\",604544,604824],[\"7\",989829,990689],[\"7\",1050541,1050881],[\"7\",1096108,1096356],[\"7\",1713810,1714070],[\"7\",2020272,2020496],[\"7\",2531603,2531877],[\"7\",2679192,2679490],[\"7\",4808620,4809573],[\"7\",20783688,20785511],[\"7\",23468565,23470093],[\"7\",23473915,23474793],[\"7\",24283939,24285461],[\"7\",25858617,25859151],[\"7\",27106450,27106981],[\"7\",27139443,27139892],[\"7\",27147308,27148073],[\"7\",27158563,27158895],[\"7\",27164296,27166843],[\"7\",27172797,27174777],[\"7\",35253374,35255063],[\"7\",44962512,44963246],[\"7\",49773412,49776156],[\"7\",57868076,57869442],[\"7\",62376229,62380897],[\"7\",64045599,64045920],[\"7\",71131242,71133396],[\"7\",73831104,73831715],[\"7\",74480485,74480780],[\"7\",98616493,98618447],[\"7\",100493557,100493975],[\"7\",100866136,100866524],[\"7\",102300501,102301273],[\"7\",102689503,102690207],[\"7\",105244602,105244953],[\"7\",128270807,128271234],[\"7\",143510892,143511705],[\"7\",150958020,150958555],[\"7\",151013594,151014245],[\"7\",155802998,155810541],[\"7\",156616329,156617171],[\"7\",157501609,157501823],[\"7\",157688558,157694027],[\"7\",157897867,157898078],[\"7\",158549968,158550272],[\"7\",158958293,158958519],[\"7\",158973435,158974709],[\"8\",649904,650309],[\"8\",673372,673710],[\"8\",2127580,2127833],[\"8\",10726306,10726746],[\"8\",17413094,17413611],[\"8\",22689703,22695914],[\"8\",24913389,24915034],[\"8\",37841328,37842413],[\"8\",37964968,37966490],[\"8\",38650781,38651230],[\"8\",38974073,38974834],[\"8\",41308333,41309621],[\"8\",41566822,41567781],[\"8\",41895822,41897732],[\"8\",46617367,46617752],[\"8\",52564984,52566067],[\"8\",53879285,53882581],[\"8\",54457868,54459965],[\"8\",54466368,54467626],[\"8\",55101096,55103124],[\"8\",56445567,56446856],[\"8\",66961153,66963365],[\"8\",86069424,86069817],[\"8\",95073041,95073519],[\"8\",100105694,100106465],[\"8\",109973884,109974754],[\"8\",131040003,131042503],[\"8\",138496552,138497531],[\"8\",140097738,140100885],[\"8\",141226938,141227261],[\"8\",142464084,142465101],[\"8\",142544264,142544801],[\"8\",142700163,142700806],[\"8\",143185912,143186407],[\"8\",143278496,143279334],[\"8\",143973125,143978137],[\"8\",144108130,144110564],[\"8\",144429134,144429427],[\"8\",144500077,144501324],[\"8\",144524471,144525026],[\"8\",144713107,144714323],[\"9\",112916,114839],[\"9\",116701,118177],[\"9\",14346019,14348150],[\"9\",42850943,42852981],[\"9\",77018410,77021114],[\"9\",89676353,89676609],[\"9\",91900283,91900536],[\"9\",93951044,93955904],[\"9\",98707297,98709872],[\"9\",113059791,113061136],[\"9\",113062404,113062753],[\"9\",121598159,121600103],[\"9\",122126670,122127103],[\"9\",122213474,122214413],[\"9\",122217050,122217320],[\"9\",122225464,122228807],[\"9\",123339498,123339759],[\"9\",124502891,124505380],[\"9\",126623833,126626952],[\"9\",127754128,127755570],[\"9\",128250175,128251150],[\"9\",130913285,130913527],[\"9\",133701451,133701774],[\"9\",134768667,134768896],[\"9\",135244204,135244448],[\"9\",135989945,135990181],[\"9\",136011486,136012075],[\"9\",136292708,136292927],[\"9\",136510637,136510840],[\"9\",136531665,136531990],[\"9\",136533866,136534075],[\"9\",137218177,137218497],[\"9\",137278161,137281653],[\"9\",137368473,137369196],[\"10\",484773,485159],[\"10\",1362464,1364024],[\"10\",5648564,5648952],[\"10\",8058421,8058805],[\"10\",17228431,17230618],[\"10\",21499704,21500659],[\"10\",22252503,22253810],[\"10\",22475779,22478121],[\"10\",26215454,26218505],[\"10\",28925122,28925433],[\"10\",35765194,35765451],[\"10\",42753075,42755464],[\"10\",46774385,46775278],[\"10\",49609555,49612310],[\"10\",49768301,49769091],[\"10\",70255021,70255940],[\"10\",86942558,86943565],[\"10\",99234063,99234431],[\"10\",100519405,100519973],[\"10\",103276871,103278327],[\"10\",103584416,103585282],[\"10\",103668747,103668955],[\"10\",117541810,117545857],[\"10\",120011469,120011911],[\"10\",120948997,120949386],[\"10\",123134559,123137850],[\"10\",124589729,124589934],[\"10\",129962905,129973432],[\"10\",132783853,132789145],[\"10\",132965179,132965569],[\"10\",133142004,133142296],[\"11\",394257,394619],[\"11\",396685,398880],[\"11\",504189,504659],[\"11\",720561,721369],[\"11\",849087,850982],[\"11\",1200345,1200637],[\"11\",2869158,2870107],[\"11\",2909059,2909863],[\"11\",6629674,6630848],[\"11\",14904925,14906224],[\"11\",44308992,44310123],[\"11\",46345326,46345551],[\"11\",60950956,60951521],[\"11\",65546372,65546984],[\"11\",65607228,65607837],[\"11\",65640873,65641087],[\"11\",65646307,65647732],[\"11\",67990683,67991974],[\"11\",69470956,69471711],[\"11\",69654042,69654384],[\"11\",69702163,69705161],[\"11\",70662223,70662512],[\"11\",70826729,70826950],[\"11\",72821567,72822729],[\"11\",73342603,73343257],[\"11\",75428409,75428772],[\"11\",75566321,75566987],[\"11\",77039648,77040731],[\"11\",120137338,120138002],[\"11\",128549303,128549618],[\"12\",203425,204165],[\"12\",3199646,3201104],[\"12\",5945183,5945566],[\"12\",6056775,6057091],[\"12\",6555259,6556135],[\"12\",29389285,29389905],[\"12\",43550916,43552482],[\"12\",51820395,51822354],[\"12\",52250198,52250627],[\"12\",52789929,52790396],[\"12\",54030826,54031389],[\"12\",54046858,54047759],[\"12\",54052092,54052329],[\"12\",54079521,54079778],[\"12\",57736045,57736578],[\"12\",57737087,57738951],[\"12\",63149856,63151187],[\"12\",66188915,66189565],[\"12\",98745608,98745991],[\"12\",107581065,107581528],[\"12\",109718462,109718717],[\"12\",114667043,114667743],[\"12\",114671698,114672256],[\"12\",114674209,114674822],[\"12\",116508390,116508802],[\"12\",127455396,127456362],[\"12\",128853325,128854326],[\"12\",130160782,130164443],[\"12\",132227228,132227511],[\"12\",132406581,132407768],[\"12\",132582639,132583990],[\"13\",18874865,18875178],[\"13\",19344445,19345081],[\"13\",20301379,20302075],[\"13\",21319017,21319466],[\"13\",33015790,33017290],[\"13\",48318499,48319721],[\"13\",57632392,57634796],[\"13\",77918290,77919247],[\"13\",94710898,94713797],[\"13\",99895379,99896657],[\"13\",99967987,99972053],[\"13\",101453814,101454137],[\"13\",110812391,110813641],[\"13\",112066250,112069268],[\"13\",112194261,112194907],[\"13\",112755690,112756048],[\"13\",112979529,112979751],[\"13\",112981340,112981585],[\"13\",112994029,112994396],[\"13\",113401785,113402262],[\"13\",113818053,113818752],[\"14\",24132289,24132491],[\"14\",24315941,24316663],[\"14\",33799740,33801232],[\"14\",37591636,37592914],[\"14\",38255049,38256332],[\"14\",52267489,52268768],[\"14\",53951959,53952163],[\"14\",55440479,55440715],[\"14\",56807889,56810122],[\"14\",68628298,68628690],[\"14\",95360338,95360604],[\"14\",100824186,100824531],[\"14\",100826526,100826764],[\"14\",103102028,103105162],[\"14\",103126897,103127586],[\"14\",104905234,104906993],[\"14\",105526162,105530077],[\"15\",19943440,19944862],[\"15\",21324508,21325396],[\"15\",22257334,22259340],[\"15\",26893754,26894506],[\"15\",34494291,34495937],[\"15\",39976380,39976860],[\"15\",40925591,40930982],[\"15\",40936244,40936674],[\"15\",41501364,41503107],[\"15\",41881886,41882657],[\"15\",45135098,45136008],[\"15\",65395701,65396201],[\"15\",73998003,73998419],[\"15\",74132750,74136480],[\"15\",83283435,83285178],[\"15\",84816961,84817634],[\"15\",89406142,89407899],[\"15\",90956663,90957469],[\"15\",96353699,96354072],[\"15\",96361493,96361821],[\"15\",99104824,99106239],[\"16\",22843,23151],[\"16\",268618,268902],[\"16\",324732,325328],[\"16\",565682,565927],[\"16\",622265,622507],[\"16\",782827,783042],[\"16\",990965,991365],[\"16\",1019294,1020214],[\"16\",1509964,1510193],[\"16\",1533808,1534640],[\"16\",2842578,2842809],[\"16\",3029535,3029953],[\"16\",3182835,3184048],[\"16\",4680261,4680486],[\"16\",19115799,19116002],[\"16\",29785040,29785436],[\"16\",32084341,32086012],[\"16\",33027600,33029286],[\"16\",33058893,33059993],[\"16\",34014586,34015526],[\"16\",34050115,34051243],[\"16\",34158770,34160020],[\"16\",53373415,53373842],[\"16\",54281690,54290692],[\"16\",55328825,55329375],[\"16\",55330911,55331402],[\"16\",68235107,68238240],[\"16\",81678259,81678730],[\"16\",85611341,85615421],[\"16\",88429793,88431355],[\"16\",88533202,88535122],[\"16\",88881305,88881607],[\"16\",89159279,89159787],[\"16\",90077275,90077673],[\"17\",2049625,2059334],[\"17\",3386068,3386778],[\"17\",4898970,4902107],[\"17\",5499811,5501282],[\"17\",7383879,7384621],[\"17\",7740479,7740993],[\"17\",8799024,8799506],[\"17\",15786194,15786913],[\"17\",17809597,17811069],[\"17\",21841825,21844463],[\"17\",26773238,26775813],[\"17\",26962461,26963406],[\"17\",27349278,27349577],[\"17\",28381206,28381786],[\"17\",29572493,29573049],[\"17\",34637356,34638414],[\"17\",36934599,36943576],[\"17\",38509752,38510998],[\"17\",38559455,38559759],[\"17\",38561491,38562357],[\"17\",38563308,38563702],[\"17\",42039769,42040432],[\"17\",42785165,42785462],[\"17\",44353646,44355187],[\"17\",44557465,44559483],[\"17\",44656118,44657258],[\"17\",45120910,45121406],[\"17\",45241062,45242061],[\"17\",46769773,46770097],[\"17\",46977951,46979472],[\"17\",48554438,48554850],[\"17\",48621518,48621721],[\"17\",49890510,49891046],[\"17\",57045434,57046657],[\"17\",64778248,64781679],[\"17\",72116683,72118130],[\"17\",74356688,74357659],[\"17\",74919473,74920415],[\"17\",76948663,76948889],[\"17\",77528507,77529070],[\"17\",79103913,79104121],[\"17\",79789565,79793557],[\"17\",81285482,81285737],[\"17\",81498789,81499599],[\"17\",82096295,82096516],[\"17\",82242728,82243000],[\"17\",82782658,82783053],[\"18\",6413960,6415120],[\"18\",10032461,10032910],[\"18\",10726249,10726669],[\"18\",12777497,12778114],[\"18\",13641585,13642416],[\"18\",23619467,23619834],[\"18\",31041523,31043151],[\"18\",37243835,37244054],[\"18\",47246621,47249206],[\"18\",50268080,50268626],[\"18\",50729174,50729989],[\"18\",77249600,77251866],[\"18\",78309222,78309699],[\"18\",78977005,78981362],[\"18\",79458227,79458866],[\"18\",80159763,80160706],[\"19\",418898,419191],[\"19\",518847,519905],[\"19\",947547,947981],[\"19\",1152016,1152250],[\"19\",1287417,1287886],[\"19\",1908119,1908510],[\"19\",2041824,2042594],[\"19\",2302467,2303000],[\"19\",3178743,3179988],[\"19\",3369479,3369859],[\"19\",3387965,3388205],[\"19\",3671904,3672123],[\"19\",4326881,4327383],[\"19\",4328526,4328868],[\"19\",5822273,5822521],[\"19\",5827887,5828394],[\"19\",5914996,5915290],[\"19\",6752504,6753646],[\"19\",7868377,7870012],[\"19\",8333074,8335866],[\"19\",8403420,8404060],[\"19\",10286927,10288027],[\"19\",10352950,10353702],[\"19\",10513799,10515100],[\"19\",10625323,10625720],[\"19\",12873318,12874652],[\"19\",13024503,13025355],[\"19\",13097529,13099711],[\"19\",13207232,13207998],[\"19\",13961853,13964012],[\"19\",14471607,14474286],[\"19\",15233280,15233608],[\"19\",15457216,15458416],[\"19\",15551302,15551547],[\"19\",17292230,17292761],[\"19\",17327245,17329509],[\"19\",17872100,17873012],[\"19\",18650462,18650859],[\"19\",18660268,18660530],[\"19\",18777222,18778159],[\"19\",29524874,29530460],[\"19\",31357040,31357303],[\"19\",35860538,35861265],[\"19\",36151425,36152683],[\"19\",38209693,38209937],[\"19\",38385430,38388310],[\"19\",39891641,39892181],[\"19\",41904163,41904383],[\"19\",44757095,44758552],[\"19\",45152035,45153855],[\"19\",45472590,45473004],[\"19\",45591076,45591853],[\"19\",45677962,45678197],[\"19\",45815232,45816003],[\"19\",46022788,46023076],[\"19\",46412054,46412545],[\"19\",46495771,46496033],[\"19\",46697591,46697812],[\"19\",47544539,47545905],[\"19\",47716574,47717041],[\"19\",48480305,48480918],[\"19\",48720576,48721019],[\"19\",48837231,48837517],[\"19\",51098565,51099184],[\"19\",51339821,51340672],[\"19\",55080537,55082612],[\"19\",55086609,55087519],[\"19\",55377637,55378108],[\"19\",56476944,56478372],[\"19\",58349975,58351040],[\"19\",58513941,58514338],[\"20\",841031,841857],[\"20\",3164475,3165100],[\"20\",3248592,3249047],[\"20\",3749714,3750434],[\"20\",3751414,3752149],[\"20\",5315620,5317152],[\"20\",18504617,18504936],[\"20\",21395720,21397607],[\"20\",25083202,25084889],[\"20\",26208002,26209712],[\"20\",28602359,28603251],[\"20\",29740672,29744343],[\"20\",30300234,30300532],[\"20\",30316173,30317179],[\"20\",30487990,30489950],[\"20\",30585515,30586519],[\"20\",30723549,30723844],[\"20\",30724087,30724425],[\"20\",30892713,30892940],[\"20\",30894675,30894885],[\"20\",30895231,30895459],[\"20\",30898812,30899151],[\"20\",30899444,30899652],[\"20\",30900198,30900403],[\"20\",32030990,32031335],[\"20\",34268853,34269442],[\"20\",34997354,34997647],[\"20\",35434209,35434704],[\"20\",38723487,38728729],[\"20\",40682738,40683795],[\"20\",40692649,40693007],[\"20\",45097656,45098731],[\"20\",51492257,51492918],[\"20\",56625223,56631733],[\"20\",58888597,58892684],[\"20\",60087402,60087905],[\"20\",61251921,61253922],[\"20\",62396479,62396720],[\"20\",62603765,62604065],[\"20\",62877063,62877325],[\"20\",62879182,62879855],[\"20\",63487845,63489267],[\"20\",63807754,63808480],[\"21\",14063798,14064641],[\"21\",45984194,45984398],[\"21\",46160578,46162151],[\"22\",18048449,18048738],[\"22\",19566491,19566890],[\"22\",19717987,19724583],[\"22\",19765789,19767490],[\"22\",20425096,20426273],[\"22\",20429179,20431914],[\"22\",27438464,27438669],[\"22\",30080023,30080541],[\"22\",38214328,38214821],[\"22\",39231585,39231806],[\"22\",39685514,39686550],[\"22\",42769941,42770281],[\"22\",44729101,44729975],[\"22\",45889597,45891742],[\"22\",46085935,46086144],[\"22\",46685853,46686148],[\"22\",50603864,50604994],[\"X\",1465541,1466680],[\"X\",17860321,17861141],[\"X\",18353777,18355028],[\"X\",19886909,19888439],[\"X\",21655900,21658948],[\"X\",24024718,24025977],[\"X\",30308322,30309551],[\"X\",40094181,40109994],[\"X\",40174986,40177255],[\"X\",46573619,46575467],[\"X\",49186223,49186606],[\"X\",54182506,54183309],[\"X\",67543963,67544235],[\"X\",84187388,84188516],[\"X\",101390792,101391119],[\"X\",111681075,111682047],[\"X\",112840843,112841587],[\"X\",115843397,115889109],[\"X\",143633594,143635126],[\"X\",154370595,154372236],[\"X\",155026640,155027421]],\"hovertemplate\":\"mean methylation difference=%{x}\\u003cbr\\u003ey=%{y}\\u003cbr\\u003echr=%{customdata[0]}\\u003cbr\\u003estart=%{customdata[1]}\\u003cbr\\u003estop=%{customdata[2]}\\u003cbr\\u003ecolor=%{marker.color}\\u003cextra\\u003e\\u003c\\u002fextra\\u003e\",\"legendgroup\":\"\",\"marker\":{\"color\":[6.5231733817903965,58.622481621047086,7.162970161296417,6.472601927172148,6.995243133105333,7.609196762366903,8.369463079391902,9.747167798281174,21.179287668671726,14.17272850644615,5.009850602047605,76.99536018049214,19.468704486509665,6.901673808666269,16.801530152664473,20.773212669799225,6.621449152710287,5.736977379513842,3.9018251804517,6.66582922836856,22.41467331224776,7.097415699479798,7.102651567358244,4.862413584499309,5.836377163267796,7.85936235598386,23.6797581667628,14.243558755272696,19.357276229166885,38.208166996440774,29.51726710426255,10.798750917218207,17.12016215985388,6.743937193752742,19.67601702056686,5.581874624422868,5.532673545076349,19.744639007489884,3.977415224195198,15.679131294309752,4.86591176771762,64.90669481749916,9.160027558102593,19.07739956789876,7.587413841361528,9.030605491078996,27.24331272940964,7.94938250216759,10.34491149949856,20.593290760524667,9.56884556122107,25.58728447511949,5.015592561065573,7.453241363011752,7.732241970381255,19.131991895139983,31.08533450474194,4.804731497044745,16.816737901800245,11.030808005340981,6.527881520540882,4.540319213668475,19.935490527307685,7.205218363289023,3.307761684876642,34.445286051823345,4.673770277480348,15.385631608021423,8.820259665911765,3.961003187649865,3.0912524754114035,7.474728063371129,7.365529987215304,8.458216986315941,15.833894630343195,10.219294788713757,13.135347304962623,5.65319392854539,7.8519569216171305,3.9170857997706086,20.870907744860844,5.815697759284702,47.573724310312066,4.941664422851308,3.400247832626567,19.244779789837047,26.110895407175136,6.7368317671405515,5.243034042924806,14.529146200951557,6.529866938644207,10.887575442476109,58.36162505053731,9.55923140360289,3.938366980767748,17.340809646103498,7.143464954355474,8.775899155631501,9.722099764902264,10.287122678057644,6.005441775038841,13.520828045867749,16.552948375961076,9.158222417714075,12.03396978893055,15.218869697710756,82.34315163531245,13.465628634433143,4.292990641935923,3.688199685209179,8.23344384199217,6.054745193035725,17.42288376052307,13.121713588562832,10.098189430219035,18.382710812700736,11.740616841984647,8.820056585863682,9.692562342066458,12.007320152278472,35.336639854249164,47.98957439725376,48.80340618720497,6.573285045031597,10.299883906384416,5.7340355178272215,15.967006796595463,9.320233366035307,9.182530671336915,10.592045280762266,6.1795305718094955,10.221546361646626,16.163082556692718,9.954949282160728,39.679218597569694,3.4461842873965534,3.170395232420674,8.97163848174612,3.586611716166358,9.649108934793613,6.086214883653793,3.4453373746563565,14.683296880778814,9.16422043636263,15.342309136877573,10.083882965536622,5.323491595096757,31.42286396110059,17.366368714180837,5.547522592190106,19.76353254722942,7.008891396653527,7.146101304539544,17.021593561033722,6.277547898196066,4.791391336323158,8.303050022299326,8.92681693467326,6.655907659539572,14.30543938201728,4.709076204384537,7.450863076668852,9.34794863518413,7.951311361902168,8.293329899177678,8.339758556195678,11.364505459851955,18.401760859099856,6.077414669245985,8.374565793166482,11.396476652326982,8.085638073548333,8.747172553739729,23.10098404275597,22.141587644905062,18.893359949361862,5.684450546356709,3.6649285799581497,7.629404820014795,4.068910760965291,5.78581716501053,3.4287947088542596,25.882586771438866,168.16227221834006,18.919149693508984,8.532713003074274,22.260290068871466,53.586910216227636,5.638950246654714,12.371749497196054,7.223823108628574,4.4058276448598335,7.693675859694437,7.886081001775825,13.357326505523881,3.124043031722029,45.00234984586685,4.464539056248346,22.88678488181746,10.221106632073223,35.75684812361612,18.691033834282372,10.920482988531916,3.283521018361732,3.19493959582473,7.398075907790788,3.8211773221285696,3.870449293518218,7.194690963384126,7.188514701695228,42.841826417210015,5.327437265121889,5.7067669236971605,11.711888730032747,6.881795177312606,9.756585940973434,7.305415921316063,5.470839098863844,27.34802500546748,8.27609185072825,18.715669444919918,7.8151853824240956,6.994730292996544,14.110673878630717,9.26789533501961,11.823044030298846,13.706297472990958,81.88887163473703,6.349054194975115,4.368360443910067,4.75972094583669,25.502075379345623,18.384155969269994,6.161256922925197,42.48742237400031,60.84002059255452,5.7500882275327125,7.26724847618282,3.6924859497080478,4.352545505351713,8.77066709253828,18.81443469613252,18.38377038993227,7.885495973172515,4.651779729440004,4.246866569057539,13.286471804778925,3.1328357527758164,13.277848280244724,4.400109142224648,3.372814027270386,3.4255617981147717,9.152260160899658,5.052801942258145,5.841872814936946,9.529829639077077,46.22808110721924,15.079481097307907,4.092885626985857,5.11846552365501,8.798893192190471,10.934852492255748,5.896554447324997,18.106965494453767,12.728566074163847,3.4313576647570465,16.09106431190729,15.590884997943006,5.504652966212879,5.30355103834665,40.4549108598029,4.053068270910262,17.30560472925359,10.193225069300322,15.369939587367575,4.588608097689113,35.03583061459276,15.565015459295493,17.67969623397826,24.97538764705147,4.831744616041761,34.79183806301218,9.477370504697102,5.660493126557804,13.116182518329248,10.338958362730699,14.085300323352255,26.9535461047629,52.46220319512715,6.905657480899991,6.484253808387874,9.324707996793984,5.655935612399014,3.8870865201381144,4.167044295640379,13.468381026869073,18.35902136356564,18.99512087144709,15.578682570340417,18.668667856749156,3.1303156478887204,7.2140223203770235,3.8326574500474053,103.56165162344136,16.84324962765335,14.884777659437919,19.46787774567432,10.89660533452361,11.002980228631545,14.047379565596842,6.044949715581635,5.892669537292321,22.588822557376172,23.23777020973336,25.960770364097936,9.013705080542769,12.373001283516649,8.669703550638562,13.702271162357762,7.318509349023912,12.791047267932486,6.46775992797715,4.7102973955305725,29.406690724007657,8.805342039457463,17.569333948718874,57.10707590354465,10.937436327878515,5.947715640177967,41.329904861961104,6.415623297663401,14.627824230715436,11.394609238152187,24.731359311125292,9.043640196085185,35.25697475233749,3.2803257871844234,15.834496903944174,5.41321207743325,4.747967229626813,4.950283650711514,6.804206403353578,7.510257691320032,4.793187935326927,9.260739329560035,5.931310624288235,27.821068439753567,28.62938995883831,33.37014065487443,45.78045409389256,51.27885271900116,3.7128853025807826,8.555830075031155,5.154372878875086,6.996357010825009,52.7408840160636,52.695171644217666,5.488993727724745,20.35924791875242,3.1322624437350823,3.0369710215705883,5.300018813187794,3.160394675118129,5.209153308240332,10.424902377856387,10.624869612110857,7.892833546283278,7.818834613805759,13.971135657547661,14.601145903959381,23.51165879073116,6.394811899245145,9.641923608239406,17.115379542042007,4.086197837086332,4.2167834194146785,15.631050555857733,29.465980404462822,14.058372240144587,20.43186568512622,12.18872400719556,15.52521089233677,10.520451772363787,12.056239845772952,13.925425875445132,6.521405034733655,8.677655413857298,7.878211848100074,7.124556485552768,9.574298919932621,5.088640079744227,5.84297557885048,4.861521564143467,6.796482276572708,16.82928461001903,4.463670623714392,11.634742877793148,3.15622971821793,14.988598578709189,12.365772024287848,4.404190447375603,10.84330282945724,6.936257639454849,6.467695526109473,9.321875466728809,17.558339462505966,48.17021692554689,9.264004896561875,5.020715933439206,22.944455291736464,34.227402210202115,5.764679633607507,8.097069382299413,4.114935099838109,5.256427142787852,16.385360905682518,15.694659657528918,9.484645647386325,8.081619270537756,13.568728608084665,7.103478234720354,13.742445987107269,12.810769484906235,24.88734640385341,4.393289826952592,13.81683142993169,11.901754719426966,30.935291443813696,7.871399707239762,6.375246444385004,4.817522176224102,3.9313587417348885,24.162196238925805,67.56016437898542,4.322777075469921,8.195798335104298,83.34823353847348,19.133377783757027,10.918052853678624,45.90354050890039,26.53187563609878,3.8403537187377865,28.89914140674496,16.614969061106308,7.076481670261783,11.388674502632371,13.333701883268777,27.04034972695784,7.987742103527082,3.7757453871355984,42.55283345104531,3.4890782274393364,8.68821878846834,7.753867176235046,13.918728925216744,34.10323481922005,16.697574918041358,4.951371597919162,12.563462130406775,5.572675267997555,6.937081108363966,16.24817016832415,6.057048948320827,7.966762313057887,8.257563431531617,4.139613931669636,13.89842488479227,4.705211540168317,4.673031555008328,13.37178673773902,5.018324782580636,13.145990308035485,3.154235746387751,4.875890263228648,7.731170610906093,11.09678421686483,4.342575178912954,6.253296953037303,22.18424064174289,7.32629042918605,4.71138662339801,19.2892294798411,5.424583784552869,18.34427541274996,3.929372643763259,7.623966399140634,3.655212596643452,6.566722031033362,20.112359611770376,10.694159362986126,4.027433856939473,4.072309135361488,3.8980214857923325,9.490292398366053,11.196583052025236,8.201069445333154,5.19903327501881,4.758519520311773,76.03323860256106,19.193628994715866,12.473455481990145,6.4818341623065905,9.156894396270557,7.718717995726602,6.052319195378473,3.7600317984420255,7.432105279568015,6.717713599173044,9.461047841636603,3.187789064336103,13.338407191603316,13.265137351395785,12.094745962893844,22.83160080228123,44.01396812160087,8.676071696483726,5.9637715620912335,28.864285424889882,24.5451282626666,4.69311654539213,19.793585151953497,4.027826751171789,4.189292807532617,8.21048084868271,15.064480728220946,4.771579024321997,6.114627026058877,4.771909774655763,7.786413096049441,35.7161072682902,10.793866902625782,31.20154880725315,9.676415727004102,55.91700770037699,3.93790507514225,18.461575657797837,8.499598883015286,7.546224898251387,31.493873077350244,18.861311996099634,9.151411304446896,21.198804757690823,7.5952186430737845,13.576493657493774,16.393585682644737,11.001000445760937,6.158038746934297,7.9152844912905636,4.517525676136045,9.373977573566009,3.2075155972975664,17.52655382477993,8.325870599091864,20.16788758613136,3.097853596620751,3.072570122278616,41.91685535434949,4.752070546351568,34.661023128058346,6.768428213761038,42.57555162498236,11.498233916227239,24.50509426071673,4.663498695888218,22.016908093269933,47.23544729052688,26.159420998229557,19.267981937678456,4.364108134171537,10.994429334900017,8.128670804038386,6.979015003554513,8.188933154217045,46.83071198622103,13.334505170610763,57.94887903656011,16.703626861311406,15.37820802451456,29.794279143701495,38.24423248542942,30.872474915809995,3.1671376294637863,7.424029050321854,22.797441268953747,11.110331140287085,3.5930966587372204,29.903756186953707,4.7812274047823635,15.333600675939099,47.163156256562324,12.129815555813419,7.781968804444197,11.483755087670449,19.071630875812524,3.9249056312591595,3.2429380112189596,3.3937352924310256,7.169808591800104,24.3609199989849,5.809242995314361,6.006253364581421,15.97990015220692,34.79474018617715,5.007754447721867,6.848731938532676,37.463826557879145,3.9448561625233864,49.459500985177634,6.461660194788077,7.193891879624268,4.122620587573837,3.3612461661599276,7.405944413872996,7.4320208151148295,12.124842950297493,4.77959500425544,11.49734743500691,11.449856773503246,38.193988991554136,3.524687924192452,8.188321192139593,13.080597828171861,10.933507049738626,7.210117918903869,7.157178639316828,5.428517172219508,4.426187530459651,5.761019715132299,12.526966852188067,8.036404184026786,8.715949054673617,22.886175947867976,30.651271517296266,10.728521764138732,5.181726151939402,5.719058562208717,11.672331597193443,3.778497862823155,101.17650707343293,3.3429096057916485,7.547228999996307,6.0610718930599905,50.354621609241825,12.321371269893637,9.462951354706378,10.666070559816067,5.276712442795652,8.023747731481784,4.138923605620068,29.511611798863218,11.26528444205563,55.53402157338159,13.219314903480779,9.3583416647667,15.600433449933341,5.177055943058546,13.766244316661355,3.7938844774111047,13.102413702096708,27.518228288453425,6.786334423777798,20.584896167681638,26.239764089228913,9.336266472575034,8.587079318880404,13.872038582306146,21.933592115244522,36.511122926039036,5.0915146016218795,11.64820695955877,6.2263264913763905,6.423109372999531,11.336035298173481,5.113349314813177,4.716492884632357,22.074888276535024,12.217760685325365,10.617327356321162,11.337712447413569,36.77951408457865,18.073833938332612,7.971618375323428,7.959751193021667,9.36221032131431,70.63009065512266,15.437983052668836,22.196949828402893,11.33052057831497,48.928460695477455,24.85456488216228,10.001409139096957,13.644249948529744,17.179180967735707,4.488276434516592,30.179852075520525,7.822197719998674,3.902765984165469,7.834652056643517,4.007763277708982,6.498696635363842,4.139676712220242,5.574387123671651,20.44291053988109,11.70064154608149,13.702271162357762,31.99183435420323,3.1485105622076373,4.192199978394154,4.703191036342532,3.155736719956915,11.729937850354197,12.951018511324007,4.798924852408513,7.357501482407438,5.846221998555448,3.264972120761174,5.405768955866174,10.600080663500373,16.825301188769306,36.81618118937443,3.4887179791916507,4.799689837965736,28.950741528798797,9.81874207409007,9.190243670277061,17.320736010050478,12.171941786814028,4.256134345846642,10.461929030243782,4.685577960290341,21.192214023367928,47.07970658138507,10.489611600352347,5.9770095261383975,16.769486873277938,41.93629729126052,4.473878800306916,8.836434732775784,12.312945415178998,75.40058163719799,41.26704747191903,35.184505781141475,5.017327637957381,26.92648899050204,16.928226187004086,7.721263816213266,7.748961729733024,12.793851310464293,7.263516354911186,4.700371371732484,4.874200620074777,4.790825292891309,7.14213673972315,4.815792456748629,7.010098130150642,7.457598969768857,13.197895440016765,8.073597707946806,5.672341948821882,8.051448619090886,48.27132543216061,18.395207947979333,41.8632599742797,3.7195036236577455,6.420955989819001,14.687951882560167,11.55337252978541,3.9974175084450945,6.197603499606368,3.369320879014897,6.222942735212249,9.839424144246793,6.667322059130966,6.995308620990097],\"coloraxis\":\"coloraxis\",\"symbol\":\"circle\"},\"mode\":\"markers\",\"name\":\"\",\"orientation\":\"v\",\"showlegend\":false,\"x\":[-0.26063,-0.474782,0.365682,-0.108488,0.461399,0.477204,-0.430987,-0.338216,-0.364136,-0.550559,-0.258991,0.454323,0.461764,-0.423448,0.360538,-0.442352,0.379563,0.207713,0.174647,0.749244,0.320336,-0.715573,-0.722695,0.236558,0.195474,0.345335,0.422314,-0.551227,-0.221547,0.567658,-0.328661,0.428701,0.55564,0.232817,0.447357,0.548875,0.16727,0.762908,0.493991,0.206659,-0.496957,0.536749,0.16348,-0.553534,0.192639,0.274278,-0.486547,0.405951,-0.28049,-0.576927,0.23341,0.181069,0.547307,0.123573,0.211979,-0.252658,0.36984,0.232526,-0.150968,0.438685,0.261127,-0.119536,0.547937,0.283958,0.152389,-0.443152,0.476044,-0.139592,0.192818,-0.674464,0.132318,0.191483,0.312485,0.276574,-0.143671,0.457001,0.242214,0.234882,0.571547,-0.52694,0.317789,0.146192,-0.491964,0.239625,0.231054,-0.515533,-0.15683,0.16463,0.252929,0.643445,0.206504,0.106194,0.182335,0.422179,0.190104,-0.18232,0.17626,-0.129162,0.399669,0.187542,-0.119203,0.603428,0.542874,0.350423,-0.322679,0.522668,0.488704,-0.513373,0.303741,0.268152,0.283784,-0.543106,0.247118,0.153777,0.16527,0.246682,-0.151588,0.245621,0.17118,0.331282,0.567412,0.442673,0.454598,0.119661,-0.166411,-0.202382,0.32998,0.600874,-0.21656,-0.22768,-0.452752,-0.4463,-0.574605,0.233134,0.246612,0.145115,0.189382,0.445716,-0.351667,0.343524,0.181132,-0.135201,0.607836,-0.116963,0.269886,-0.210863,0.203872,0.333891,-0.351288,-0.314353,0.233582,0.29335,0.120301,0.134112,0.482414,0.335952,0.452527,-0.332559,0.188447,0.156574,-0.471324,-0.11207,0.640756,-0.355211,0.401585,-0.214696,0.233205,0.579984,-0.183043,-0.199499,0.193658,0.26124,0.424782,0.487275,0.362493,0.397148,-0.157746,0.434101,-0.281725,0.516997,-0.21922,-0.26465,-0.568623,0.631386,0.748619,-0.360277,0.21039,0.212183,0.370947,0.302287,0.213398,0.173346,0.113798,-0.306514,0.219524,-0.43695,-0.454273,-0.273908,-0.332949,0.272296,0.13073,0.213077,0.237006,0.185485,0.216186,0.210262,0.27234,0.206905,0.206101,-0.328874,0.416016,0.323914,-0.3302,0.248385,0.194991,-0.165401,0.164599,0.292078,0.279711,0.438467,0.643575,0.343316,0.699383,0.547221,-0.548128,0.436807,0.326568,-0.331136,-0.522326,0.274314,-0.318272,0.349951,0.136023,0.288436,0.612819,0.682493,0.260675,0.180478,0.341108,0.390638,0.328948,-0.179223,0.678968,0.322363,0.11682,-0.380745,-0.530254,0.422464,-0.17321,0.310958,-0.369452,0.229215,-0.526039,-0.554629,0.231377,-0.108302,-0.670643,0.351564,0.202973,0.143204,0.172707,0.321721,0.297295,0.35643,-0.27656,0.145747,-0.271361,0.253354,0.222269,0.205477,-0.193347,0.19567,0.195207,0.109109,0.415739,0.194054,-0.594449,0.207762,0.217725,0.593997,-0.342789,0.290075,-0.616499,0.202457,0.460419,0.23109,0.344713,-0.276673,0.311817,0.41951,-0.460193,0.149868,-0.506428,0.312132,-0.175776,0.365894,-0.182486,0.35862,-0.643114,0.504825,-0.141942,-0.169296,0.274612,-0.571559,0.133539,0.439448,-0.186802,0.191398,0.418493,0.245162,0.41607,0.143573,0.138931,0.272639,0.207692,0.238427,0.2661,0.167613,0.49439,0.386494,0.383239,0.218794,0.106929,0.365127,-0.113512,0.280588,0.443736,-0.490904,0.292562,-0.400715,0.29077,-0.128239,0.174745,0.566332,0.329589,-0.452925,0.205136,0.115352,0.240514,0.231296,0.29151,0.14995,-0.479964,0.527632,0.116794,0.118975,0.317242,0.661481,-0.297839,-0.385295,-0.350199,-0.394925,-0.169127,0.385891,0.16203,0.47565,-0.334505,-0.256281,-0.538552,-0.308119,-0.419919,-0.437802,-0.225327,0.418255,-0.540754,0.271987,0.433024,0.723348,-0.505642,-0.211749,0.413141,0.150939,-0.182829,-0.488241,-0.587061,0.148287,0.543657,0.431411,0.255665,0.19159,0.350081,0.50585,0.219532,0.235102,0.22528,0.240956,0.364852,-0.256417,0.121634,0.456725,0.168245,0.22476,0.574547,0.137065,-0.42041,0.396332,0.148494,-0.640877,-0.106303,0.118204,0.194105,-0.458774,-0.433559,0.231722,-0.232912,0.353195,-0.41374,-0.426149,0.293261,0.519501,-0.307741,0.171777,0.199491,0.467806,0.303021,-0.462097,-0.318088,0.484614,-0.18615,0.344332,0.236557,-0.537166,0.136671,0.700901,0.346822,-0.213847,-0.165341,-0.603046,0.232167,0.12413,-0.46896,0.432322,-0.356403,-0.218644,-0.25089,-0.275999,0.640926,-0.398494,0.297365,-0.15292,0.431329,0.244254,0.592472,0.328251,0.643386,0.443721,-0.284455,-0.108685,0.280944,0.220003,0.651707,-0.172103,0.447092,-0.454312,-0.378337,-0.395607,0.662042,0.232133,0.170713,0.144869,-0.373052,-0.228525,0.161533,0.472458,0.27648,0.434232,0.376479,0.136293,-0.291601,0.28772,0.306076,0.197018,0.161657,0.133496,0.124887,0.356679,0.118246,0.219602,0.462683,0.264563,0.277447,-0.399117,-0.347449,0.292313,-0.393435,0.397499,0.153829,-0.122859,0.251494,0.211295,-0.549149,0.498756,0.20855,-0.314952,0.438522,0.31354,-0.32218,0.186517,-0.451038,-0.236112,0.136416,0.190878,0.785455,0.184087,0.32028,0.165119,-0.12816,-0.125981,0.198849,0.192451,-0.136156,0.430203,-0.300196,0.38032,-0.167709,0.254994,0.357547,0.171038,-0.20745,0.454334,-0.576874,0.2247,0.166747,-0.74542,0.315649,-0.398835,-0.28556,-0.517072,-0.295451,-0.335508,0.413082,0.481091,0.338386,0.53037,0.16949,-0.408475,0.5931,0.380668,0.357327,0.276546,0.376933,0.280164,0.18017,0.277153,-0.372806,0.115116,0.170485,0.580794,-0.145286,0.25488,-0.175253,0.340616,-0.1236,-0.767219,-0.248761,-0.197663,0.183453,0.348382,0.221034,-0.390198,0.466658,0.347512,-0.404764,-0.340415,-0.605029,0.252747,0.195447,0.276914,-0.24837,0.225687,0.149153,0.274749,0.132124,-0.484323,0.619124,0.635632,0.411671,0.424244,0.597813,-0.478921,0.229246,0.279257,0.227903,-0.637667,0.515458,0.122972,-0.635906,-0.590149,0.542669,0.451869,-0.240603,-0.238867,0.190244,0.239667,-0.40238,0.177294,0.417267,0.184487,0.692511,0.193255,-0.512053,-0.379442,0.354465,0.265073,0.440584,-0.516491,0.189286,0.550329,-0.237006,0.182933,0.432793,0.221885,0.378065,0.151077,0.21635,-0.328995,0.175577,0.445058,0.272428,0.195736,-0.278231,0.202961,0.397893,0.361292,-0.412427,-0.115271,0.45663,0.20606,-0.387116,-0.353169,0.622881,0.641582,0.611552,-0.349058,0.1382,-0.41603,0.412438,0.158293,-0.25933,0.323353,0.188702,0.160961,0.361388,-0.186902,0.284186,-0.20472,0.174449,0.262064,0.15418,0.239991,0.410721,-0.272612,0.517007,0.149473,-0.276207,0.178426,0.465715,0.171274,0.227781,0.168302,-0.284366,0.387689,0.505161,0.666886,0.159914,0.321041,-0.642037,0.295365,0.165984,-0.482074,-0.183735,-0.263695,0.578493,0.432493,-0.21613,-0.413211,0.377697,0.326635,0.554584,0.489672,-0.347409,0.361306,0.191625,0.13612,0.392328,0.324558,0.459913,0.263249,0.295022,-0.204746,-0.223178,0.356048,0.240362,-0.311066,-0.270684,0.143515,-0.579245,0.188358,0.189075,0.231376,0.178269,0.180801,0.373671,0.326647,0.310418,0.323669,0.297314,0.188787,0.462313,0.514184,0.548029,0.446957,0.364714,0.498027,-0.184426,-0.103618,-0.470339,0.294452,0.119425,0.415045,0.23155,0.149773,0.592632,0.156071,0.179643,0.206374,0.216096,0.286119,0.579024,0.331042,0.183406,0.453722,0.251957,0.128887,0.281609,0.186967,-0.344635,0.226232,0.130962,-0.186339,-0.520853,-0.323156,-0.3806,0.654096,-0.232394,0.238212,0.209942,-0.35755,0.427607,0.297756,-0.377736,0.347404,0.233072,-0.156405,0.32655,0.207084,0.301412,0.210107,0.283542,0.345769,0.199921,0.20065,0.238903,-0.291262,0.231796,0.456317,0.290268,0.385095,0.284903,0.52097,-0.145438,0.314158,-0.234524,0.230975],\"xaxis\":\"x\",\"y\":[6.5231733817903965,58.622481621047086,7.162970161296417,6.472601927172148,6.995243133105333,7.609196762366903,8.369463079391902,9.747167798281174,21.179287668671726,14.17272850644615,5.009850602047605,76.99536018049214,19.468704486509665,6.901673808666269,16.801530152664473,20.773212669799225,6.621449152710287,5.736977379513842,3.9018251804517,6.66582922836856,22.41467331224776,7.097415699479798,7.102651567358244,4.862413584499309,5.836377163267796,7.85936235598386,23.6797581667628,14.243558755272696,19.357276229166885,38.208166996440774,29.51726710426255,10.798750917218207,17.12016215985388,6.743937193752742,19.67601702056686,5.581874624422868,5.532673545076349,19.744639007489884,3.977415224195198,15.679131294309752,4.86591176771762,64.90669481749916,9.160027558102593,19.07739956789876,7.587413841361528,9.030605491078996,27.24331272940964,7.94938250216759,10.34491149949856,20.593290760524667,9.56884556122107,25.58728447511949,5.015592561065573,7.453241363011752,7.732241970381255,19.131991895139983,31.08533450474194,4.804731497044745,16.816737901800245,11.030808005340981,6.527881520540882,4.540319213668475,19.935490527307685,7.205218363289023,3.307761684876642,34.445286051823345,4.673770277480348,15.385631608021423,8.820259665911765,3.961003187649865,3.0912524754114035,7.474728063371129,7.365529987215304,8.458216986315941,15.833894630343195,10.219294788713757,13.135347304962623,5.65319392854539,7.8519569216171305,3.9170857997706086,20.870907744860844,5.815697759284702,47.573724310312066,4.941664422851308,3.400247832626567,19.244779789837047,26.110895407175136,6.7368317671405515,5.243034042924806,14.529146200951557,6.529866938644207,10.887575442476109,58.36162505053731,9.55923140360289,3.938366980767748,17.340809646103498,7.143464954355474,8.775899155631501,9.722099764902264,10.287122678057644,6.005441775038841,13.520828045867749,16.552948375961076,9.158222417714075,12.03396978893055,15.218869697710756,82.34315163531245,13.465628634433143,4.292990641935923,3.688199685209179,8.23344384199217,6.054745193035725,17.42288376052307,13.121713588562832,10.098189430219035,18.382710812700736,11.740616841984647,8.820056585863682,9.692562342066458,12.007320152278472,35.336639854249164,47.98957439725376,48.80340618720497,6.573285045031597,10.299883906384416,5.7340355178272215,15.967006796595463,9.320233366035307,9.182530671336915,10.592045280762266,6.1795305718094955,10.221546361646626,16.163082556692718,9.954949282160728,39.679218597569694,3.4461842873965534,3.170395232420674,8.97163848174612,3.586611716166358,9.649108934793613,6.086214883653793,3.4453373746563565,14.683296880778814,9.16422043636263,15.342309136877573,10.083882965536622,5.323491595096757,31.42286396110059,17.366368714180837,5.547522592190106,19.76353254722942,7.008891396653527,7.146101304539544,17.021593561033722,6.277547898196066,4.791391336323158,8.303050022299326,8.92681693467326,6.655907659539572,14.30543938201728,4.709076204384537,7.450863076668852,9.34794863518413,7.951311361902168,8.293329899177678,8.339758556195678,11.364505459851955,18.401760859099856,6.077414669245985,8.374565793166482,11.396476652326982,8.085638073548333,8.747172553739729,23.10098404275597,22.141587644905062,18.893359949361862,5.684450546356709,3.6649285799581497,7.629404820014795,4.068910760965291,5.78581716501053,3.4287947088542596,25.882586771438866,168.16227221834006,18.919149693508984,8.532713003074274,22.260290068871466,53.586910216227636,5.638950246654714,12.371749497196054,7.223823108628574,4.4058276448598335,7.693675859694437,7.886081001775825,13.357326505523881,3.124043031722029,45.00234984586685,4.464539056248346,22.88678488181746,10.221106632073223,35.75684812361612,18.691033834282372,10.920482988531916,3.283521018361732,3.19493959582473,7.398075907790788,3.8211773221285696,3.870449293518218,7.194690963384126,7.188514701695228,42.841826417210015,5.327437265121889,5.7067669236971605,11.711888730032747,6.881795177312606,9.756585940973434,7.305415921316063,5.470839098863844,27.34802500546748,8.27609185072825,18.715669444919918,7.8151853824240956,6.994730292996544,14.110673878630717,9.26789533501961,11.823044030298846,13.706297472990958,81.88887163473703,6.349054194975115,4.368360443910067,4.75972094583669,25.502075379345623,18.384155969269994,6.161256922925197,42.48742237400031,60.84002059255452,5.7500882275327125,7.26724847618282,3.6924859497080478,4.352545505351713,8.77066709253828,18.81443469613252,18.38377038993227,7.885495973172515,4.651779729440004,4.246866569057539,13.286471804778925,3.1328357527758164,13.277848280244724,4.400109142224648,3.372814027270386,3.4255617981147717,9.152260160899658,5.052801942258145,5.841872814936946,9.529829639077077,46.22808110721924,15.079481097307907,4.092885626985857,5.11846552365501,8.798893192190471,10.934852492255748,5.896554447324997,18.106965494453767,12.728566074163847,3.4313576647570465,16.09106431190729,15.590884997943006,5.504652966212879,5.30355103834665,40.4549108598029,4.053068270910262,17.30560472925359,10.193225069300322,15.369939587367575,4.588608097689113,35.03583061459276,15.565015459295493,17.67969623397826,24.97538764705147,4.831744616041761,34.79183806301218,9.477370504697102,5.660493126557804,13.116182518329248,10.338958362730699,14.085300323352255,26.9535461047629,52.46220319512715,6.905657480899991,6.484253808387874,9.324707996793984,5.655935612399014,3.8870865201381144,4.167044295640379,13.468381026869073,18.35902136356564,18.99512087144709,15.578682570340417,18.668667856749156,3.1303156478887204,7.2140223203770235,3.8326574500474053,103.56165162344136,16.84324962765335,14.884777659437919,19.46787774567432,10.89660533452361,11.002980228631545,14.047379565596842,6.044949715581635,5.892669537292321,22.588822557376172,23.23777020973336,25.960770364097936,9.013705080542769,12.373001283516649,8.669703550638562,13.702271162357762,7.318509349023912,12.791047267932486,6.46775992797715,4.7102973955305725,29.406690724007657,8.805342039457463,17.569333948718874,57.10707590354465,10.937436327878515,5.947715640177967,41.329904861961104,6.415623297663401,14.627824230715436,11.394609238152187,24.731359311125292,9.043640196085185,35.25697475233749,3.2803257871844234,15.834496903944174,5.41321207743325,4.747967229626813,4.950283650711514,6.804206403353578,7.510257691320032,4.793187935326927,9.260739329560035,5.931310624288235,27.821068439753567,28.62938995883831,33.37014065487443,45.78045409389256,51.27885271900116,3.7128853025807826,8.555830075031155,5.154372878875086,6.996357010825009,52.7408840160636,52.695171644217666,5.488993727724745,20.35924791875242,3.1322624437350823,3.0369710215705883,5.300018813187794,3.160394675118129,5.209153308240332,10.424902377856387,10.624869612110857,7.892833546283278,7.818834613805759,13.971135657547661,14.601145903959381,23.51165879073116,6.394811899245145,9.641923608239406,17.115379542042007,4.086197837086332,4.2167834194146785,15.631050555857733,29.465980404462822,14.058372240144587,20.43186568512622,12.18872400719556,15.52521089233677,10.520451772363787,12.056239845772952,13.925425875445132,6.521405034733655,8.677655413857298,7.878211848100074,7.124556485552768,9.574298919932621,5.088640079744227,5.84297557885048,4.861521564143467,6.796482276572708,16.82928461001903,4.463670623714392,11.634742877793148,3.15622971821793,14.988598578709189,12.365772024287848,4.404190447375603,10.84330282945724,6.936257639454849,6.467695526109473,9.321875466728809,17.558339462505966,48.17021692554689,9.264004896561875,5.020715933439206,22.944455291736464,34.227402210202115,5.764679633607507,8.097069382299413,4.114935099838109,5.256427142787852,16.385360905682518,15.694659657528918,9.484645647386325,8.081619270537756,13.568728608084665,7.103478234720354,13.742445987107269,12.810769484906235,24.88734640385341,4.393289826952592,13.81683142993169,11.901754719426966,30.935291443813696,7.871399707239762,6.375246444385004,4.817522176224102,3.9313587417348885,24.162196238925805,67.56016437898542,4.322777075469921,8.195798335104298,83.34823353847348,19.133377783757027,10.918052853678624,45.90354050890039,26.53187563609878,3.8403537187377865,28.89914140674496,16.614969061106308,7.076481670261783,11.388674502632371,13.333701883268777,27.04034972695784,7.987742103527082,3.7757453871355984,42.55283345104531,3.4890782274393364,8.68821878846834,7.753867176235046,13.918728925216744,34.10323481922005,16.697574918041358,4.951371597919162,12.563462130406775,5.572675267997555,6.937081108363966,16.24817016832415,6.057048948320827,7.966762313057887,8.257563431531617,4.139613931669636,13.89842488479227,4.705211540168317,4.673031555008328,13.37178673773902,5.018324782580636,13.145990308035485,3.154235746387751,4.875890263228648,7.731170610906093,11.09678421686483,4.342575178912954,6.253296953037303,22.18424064174289,7.32629042918605,4.71138662339801,19.2892294798411,5.424583784552869,18.34427541274996,3.929372643763259,7.623966399140634,3.655212596643452,6.566722031033362,20.112359611770376,10.694159362986126,4.027433856939473,4.072309135361488,3.8980214857923325,9.490292398366053,11.196583052025236,8.201069445333154,5.19903327501881,4.758519520311773,76.03323860256106,19.193628994715866,12.473455481990145,6.4818341623065905,9.156894396270557,7.718717995726602,6.052319195378473,3.7600317984420255,7.432105279568015,6.717713599173044,9.461047841636603,3.187789064336103,13.338407191603316,13.265137351395785,12.094745962893844,22.83160080228123,44.01396812160087,8.676071696483726,5.9637715620912335,28.864285424889882,24.5451282626666,4.69311654539213,19.793585151953497,4.027826751171789,4.189292807532617,8.21048084868271,15.064480728220946,4.771579024321997,6.114627026058877,4.771909774655763,7.786413096049441,35.7161072682902,10.793866902625782,31.20154880725315,9.676415727004102,55.91700770037699,3.93790507514225,18.461575657797837,8.499598883015286,7.546224898251387,31.493873077350244,18.861311996099634,9.151411304446896,21.198804757690823,7.5952186430737845,13.576493657493774,16.393585682644737,11.001000445760937,6.158038746934297,7.9152844912905636,4.517525676136045,9.373977573566009,3.2075155972975664,17.52655382477993,8.325870599091864,20.16788758613136,3.097853596620751,3.072570122278616,41.91685535434949,4.752070546351568,34.661023128058346,6.768428213761038,42.57555162498236,11.498233916227239,24.50509426071673,4.663498695888218,22.016908093269933,47.23544729052688,26.159420998229557,19.267981937678456,4.364108134171537,10.994429334900017,8.128670804038386,6.979015003554513,8.188933154217045,46.83071198622103,13.334505170610763,57.94887903656011,16.703626861311406,15.37820802451456,29.794279143701495,38.24423248542942,30.872474915809995,3.1671376294637863,7.424029050321854,22.797441268953747,11.110331140287085,3.5930966587372204,29.903756186953707,4.7812274047823635,15.333600675939099,47.163156256562324,12.129815555813419,7.781968804444197,11.483755087670449,19.071630875812524,3.9249056312591595,3.2429380112189596,3.3937352924310256,7.169808591800104,24.3609199989849,5.809242995314361,6.006253364581421,15.97990015220692,34.79474018617715,5.007754447721867,6.848731938532676,37.463826557879145,3.9448561625233864,49.459500985177634,6.461660194788077,7.193891879624268,4.122620587573837,3.3612461661599276,7.405944413872996,7.4320208151148295,12.124842950297493,4.77959500425544,11.49734743500691,11.449856773503246,38.193988991554136,3.524687924192452,8.188321192139593,13.080597828171861,10.933507049738626,7.210117918903869,7.157178639316828,5.428517172219508,4.426187530459651,5.761019715132299,12.526966852188067,8.036404184026786,8.715949054673617,22.886175947867976,30.651271517296266,10.728521764138732,5.181726151939402,5.719058562208717,11.672331597193443,3.778497862823155,101.17650707343293,3.3429096057916485,7.547228999996307,6.0610718930599905,50.354621609241825,12.321371269893637,9.462951354706378,10.666070559816067,5.276712442795652,8.023747731481784,4.138923605620068,29.511611798863218,11.26528444205563,55.53402157338159,13.219314903480779,9.3583416647667,15.600433449933341,5.177055943058546,13.766244316661355,3.7938844774111047,13.102413702096708,27.518228288453425,6.786334423777798,20.584896167681638,26.239764089228913,9.336266472575034,8.587079318880404,13.872038582306146,21.933592115244522,36.511122926039036,5.0915146016218795,11.64820695955877,6.2263264913763905,6.423109372999531,11.336035298173481,5.113349314813177,4.716492884632357,22.074888276535024,12.217760685325365,10.617327356321162,11.337712447413569,36.77951408457865,18.073833938332612,7.971618375323428,7.959751193021667,9.36221032131431,70.63009065512266,15.437983052668836,22.196949828402893,11.33052057831497,48.928460695477455,24.85456488216228,10.001409139096957,13.644249948529744,17.179180967735707,4.488276434516592,30.179852075520525,7.822197719998674,3.902765984165469,7.834652056643517,4.007763277708982,6.498696635363842,4.139676712220242,5.574387123671651,20.44291053988109,11.70064154608149,13.702271162357762,31.99183435420323,3.1485105622076373,4.192199978394154,4.703191036342532,3.155736719956915,11.729937850354197,12.951018511324007,4.798924852408513,7.357501482407438,5.846221998555448,3.264972120761174,5.405768955866174,10.600080663500373,16.825301188769306,36.81618118937443,3.4887179791916507,4.799689837965736,28.950741528798797,9.81874207409007,9.190243670277061,17.320736010050478,12.171941786814028,4.256134345846642,10.461929030243782,4.685577960290341,21.192214023367928,47.07970658138507,10.489611600352347,5.9770095261383975,16.769486873277938,41.93629729126052,4.473878800306916,8.836434732775784,12.312945415178998,75.40058163719799,41.26704747191903,35.184505781141475,5.017327637957381,26.92648899050204,16.928226187004086,7.721263816213266,7.748961729733024,12.793851310464293,7.263516354911186,4.700371371732484,4.874200620074777,4.790825292891309,7.14213673972315,4.815792456748629,7.010098130150642,7.457598969768857,13.197895440016765,8.073597707946806,5.672341948821882,8.051448619090886,48.27132543216061,18.395207947979333,41.8632599742797,3.7195036236577455,6.420955989819001,14.687951882560167,11.55337252978541,3.9974175084450945,6.197603499606368,3.369320879014897,6.222942735212249,9.839424144246793,6.667322059130966,6.995308620990097],\"yaxis\":\"y\",\"type\":\"scatter\"}],                        {\"template\":{\"data\":{\"histogram2dcontour\":[{\"type\":\"histogram2dcontour\",\"colorbar\":{\"outlinewidth\":0,\"ticks\":\"\"},\"colorscale\":[[0.0,\"#0d0887\"],[0.1111111111111111,\"#46039f\"],[0.2222222222222222,\"#7201a8\"],[0.3333333333333333,\"#9c179e\"],[0.4444444444444444,\"#bd3786\"],[0.5555555555555556,\"#d8576b\"],[0.6666666666666666,\"#ed7953\"],[0.7777777777777778,\"#fb9f3a\"],[0.8888888888888888,\"#fdca26\"],[1.0,\"#f0f921\"]]}],\"choropleth\":[{\"type\":\"choropleth\",\"colorbar\":{\"outlinewidth\":0,\"ticks\":\"\"}}],\"histogram2d\":[{\"type\":\"histogram2d\",\"colorbar\":{\"outlinewidth\":0,\"ticks\":\"\"},\"colorscale\":[[0.0,\"#0d0887\"],[0.1111111111111111,\"#46039f\"],[0.2222222222222222,\"#7201a8\"],[0.3333333333333333,\"#9c179e\"],[0.4444444444444444,\"#bd3786\"],[0.5555555555555556,\"#d8576b\"],[0.6666666666666666,\"#ed7953\"],[0.7777777777777778,\"#fb9f3a\"],[0.8888888888888888,\"#fdca26\"],[1.0,\"#f0f921\"]]}],\"heatmap\":[{\"type\":\"heatmap\",\"colorbar\":{\"outlinewidth\":0,\"ticks\":\"\"},\"colorscale\":[[0.0,\"#0d0887\"],[0.1111111111111111,\"#46039f\"],[0.2222222222222222,\"#7201a8\"],[0.3333333333333333,\"#9c179e\"],[0.4444444444444444,\"#bd3786\"],[0.5555555555555556,\"#d8576b\"],[0.6666666666666666,\"#ed7953\"],[0.7777777777777778,\"#fb9f3a\"],[0.8888888888888888,\"#fdca26\"],[1.0,\"#f0f921\"]]}],\"heatmapgl\":[{\"type\":\"heatmapgl\",\"colorbar\":{\"outlinewidth\":0,\"ticks\":\"\"},\"colorscale\":[[0.0,\"#0d0887\"],[0.1111111111111111,\"#46039f\"],[0.2222222222222222,\"#7201a8\"],[0.3333333333333333,\"#9c179e\"],[0.4444444444444444,\"#bd3786\"],[0.5555555555555556,\"#d8576b\"],[0.6666666666666666,\"#ed7953\"],[0.7777777777777778,\"#fb9f3a\"],[0.8888888888888888,\"#fdca26\"],[1.0,\"#f0f921\"]]}],\"contourcarpet\":[{\"type\":\"contourcarpet\",\"colorbar\":{\"outlinewidth\":0,\"ticks\":\"\"}}],\"contour\":[{\"type\":\"contour\",\"colorbar\":{\"outlinewidth\":0,\"ticks\":\"\"},\"colorscale\":[[0.0,\"#0d0887\"],[0.1111111111111111,\"#46039f\"],[0.2222222222222222,\"#7201a8\"],[0.3333333333333333,\"#9c179e\"],[0.4444444444444444,\"#bd3786\"],[0.5555555555555556,\"#d8576b\"],[0.6666666666666666,\"#ed7953\"],[0.7777777777777778,\"#fb9f3a\"],[0.8888888888888888,\"#fdca26\"],[1.0,\"#f0f921\"]]}],\"surface\":[{\"type\":\"surface\",\"colorbar\":{\"outlinewidth\":0,\"ticks\":\"\"},\"colorscale\":[[0.0,\"#0d0887\"],[0.1111111111111111,\"#46039f\"],[0.2222222222222222,\"#7201a8\"],[0.3333333333333333,\"#9c179e\"],[0.4444444444444444,\"#bd3786\"],[0.5555555555555556,\"#d8576b\"],[0.6666666666666666,\"#ed7953\"],[0.7777777777777778,\"#fb9f3a\"],[0.8888888888888888,\"#fdca26\"],[1.0,\"#f0f921\"]]}],\"mesh3d\":[{\"type\":\"mesh3d\",\"colorbar\":{\"outlinewidth\":0,\"ticks\":\"\"}}],\"scatter\":[{\"fillpattern\":{\"fillmode\":\"overlay\",\"size\":10,\"solidity\":0.2},\"type\":\"scatter\"}],\"parcoords\":[{\"type\":\"parcoords\",\"line\":{\"colorbar\":{\"outlinewidth\":0,\"ticks\":\"\"}}}],\"scatterpolargl\":[{\"type\":\"scatterpolargl\",\"marker\":{\"colorbar\":{\"outlinewidth\":0,\"ticks\":\"\"}}}],\"bar\":[{\"error_x\":{\"color\":\"#2a3f5f\"},\"error_y\":{\"color\":\"#2a3f5f\"},\"marker\":{\"line\":{\"color\":\"#E5ECF6\",\"width\":0.5},\"pattern\":{\"fillmode\":\"overlay\",\"size\":10,\"solidity\":0.2}},\"type\":\"bar\"}],\"scattergeo\":[{\"type\":\"scattergeo\",\"marker\":{\"colorbar\":{\"outlinewidth\":0,\"ticks\":\"\"}}}],\"scatterpolar\":[{\"type\":\"scatterpolar\",\"marker\":{\"colorbar\":{\"outlinewidth\":0,\"ticks\":\"\"}}}],\"histogram\":[{\"marker\":{\"pattern\":{\"fillmode\":\"overlay\",\"size\":10,\"solidity\":0.2}},\"type\":\"histogram\"}],\"scattergl\":[{\"type\":\"scattergl\",\"marker\":{\"colorbar\":{\"outlinewidth\":0,\"ticks\":\"\"}}}],\"scatter3d\":[{\"type\":\"scatter3d\",\"line\":{\"colorbar\":{\"outlinewidth\":0,\"ticks\":\"\"}},\"marker\":{\"colorbar\":{\"outlinewidth\":0,\"ticks\":\"\"}}}],\"scattermapbox\":[{\"type\":\"scattermapbox\",\"marker\":{\"colorbar\":{\"outlinewidth\":0,\"ticks\":\"\"}}}],\"scatterternary\":[{\"type\":\"scatterternary\",\"marker\":{\"colorbar\":{\"outlinewidth\":0,\"ticks\":\"\"}}}],\"scattercarpet\":[{\"type\":\"scattercarpet\",\"marker\":{\"colorbar\":{\"outlinewidth\":0,\"ticks\":\"\"}}}],\"carpet\":[{\"aaxis\":{\"endlinecolor\":\"#2a3f5f\",\"gridcolor\":\"white\",\"linecolor\":\"white\",\"minorgridcolor\":\"white\",\"startlinecolor\":\"#2a3f5f\"},\"baxis\":{\"endlinecolor\":\"#2a3f5f\",\"gridcolor\":\"white\",\"linecolor\":\"white\",\"minorgridcolor\":\"white\",\"startlinecolor\":\"#2a3f5f\"},\"type\":\"carpet\"}],\"table\":[{\"cells\":{\"fill\":{\"color\":\"#EBF0F8\"},\"line\":{\"color\":\"white\"}},\"header\":{\"fill\":{\"color\":\"#C8D4E3\"},\"line\":{\"color\":\"white\"}},\"type\":\"table\"}],\"barpolar\":[{\"marker\":{\"line\":{\"color\":\"#E5ECF6\",\"width\":0.5},\"pattern\":{\"fillmode\":\"overlay\",\"size\":10,\"solidity\":0.2}},\"type\":\"barpolar\"}],\"pie\":[{\"automargin\":true,\"type\":\"pie\"}]},\"layout\":{\"autotypenumbers\":\"strict\",\"colorway\":[\"#636efa\",\"#EF553B\",\"#00cc96\",\"#ab63fa\",\"#FFA15A\",\"#19d3f3\",\"#FF6692\",\"#B6E880\",\"#FF97FF\",\"#FECB52\"],\"font\":{\"color\":\"#2a3f5f\"},\"hovermode\":\"closest\",\"hoverlabel\":{\"align\":\"left\"},\"paper_bgcolor\":\"white\",\"plot_bgcolor\":\"#E5ECF6\",\"polar\":{\"bgcolor\":\"#E5ECF6\",\"angularaxis\":{\"gridcolor\":\"white\",\"linecolor\":\"white\",\"ticks\":\"\"},\"radialaxis\":{\"gridcolor\":\"white\",\"linecolor\":\"white\",\"ticks\":\"\"}},\"ternary\":{\"bgcolor\":\"#E5ECF6\",\"aaxis\":{\"gridcolor\":\"white\",\"linecolor\":\"white\",\"ticks\":\"\"},\"baxis\":{\"gridcolor\":\"white\",\"linecolor\":\"white\",\"ticks\":\"\"},\"caxis\":{\"gridcolor\":\"white\",\"linecolor\":\"white\",\"ticks\":\"\"}},\"coloraxis\":{\"colorbar\":{\"outlinewidth\":0,\"ticks\":\"\"}},\"colorscale\":{\"sequential\":[[0.0,\"#0d0887\"],[0.1111111111111111,\"#46039f\"],[0.2222222222222222,\"#7201a8\"],[0.3333333333333333,\"#9c179e\"],[0.4444444444444444,\"#bd3786\"],[0.5555555555555556,\"#d8576b\"],[0.6666666666666666,\"#ed7953\"],[0.7777777777777778,\"#fb9f3a\"],[0.8888888888888888,\"#fdca26\"],[1.0,\"#f0f921\"]],\"sequentialminus\":[[0.0,\"#0d0887\"],[0.1111111111111111,\"#46039f\"],[0.2222222222222222,\"#7201a8\"],[0.3333333333333333,\"#9c179e\"],[0.4444444444444444,\"#bd3786\"],[0.5555555555555556,\"#d8576b\"],[0.6666666666666666,\"#ed7953\"],[0.7777777777777778,\"#fb9f3a\"],[0.8888888888888888,\"#fdca26\"],[1.0,\"#f0f921\"]],\"diverging\":[[0,\"#8e0152\"],[0.1,\"#c51b7d\"],[0.2,\"#de77ae\"],[0.3,\"#f1b6da\"],[0.4,\"#fde0ef\"],[0.5,\"#f7f7f7\"],[0.6,\"#e6f5d0\"],[0.7,\"#b8e186\"],[0.8,\"#7fbc41\"],[0.9,\"#4d9221\"],[1,\"#276419\"]]},\"xaxis\":{\"gridcolor\":\"white\",\"linecolor\":\"white\",\"ticks\":\"\",\"title\":{\"standoff\":15},\"zerolinecolor\":\"white\",\"automargin\":true,\"zerolinewidth\":2},\"yaxis\":{\"gridcolor\":\"white\",\"linecolor\":\"white\",\"ticks\":\"\",\"title\":{\"standoff\":15},\"zerolinecolor\":\"white\",\"automargin\":true,\"zerolinewidth\":2},\"scene\":{\"xaxis\":{\"backgroundcolor\":\"#E5ECF6\",\"gridcolor\":\"white\",\"linecolor\":\"white\",\"showbackground\":true,\"ticks\":\"\",\"zerolinecolor\":\"white\",\"gridwidth\":2},\"yaxis\":{\"backgroundcolor\":\"#E5ECF6\",\"gridcolor\":\"white\",\"linecolor\":\"white\",\"showbackground\":true,\"ticks\":\"\",\"zerolinecolor\":\"white\",\"gridwidth\":2},\"zaxis\":{\"backgroundcolor\":\"#E5ECF6\",\"gridcolor\":\"white\",\"linecolor\":\"white\",\"showbackground\":true,\"ticks\":\"\",\"zerolinecolor\":\"white\",\"gridwidth\":2}},\"shapedefaults\":{\"line\":{\"color\":\"#2a3f5f\"}},\"annotationdefaults\":{\"arrowcolor\":\"#2a3f5f\",\"arrowhead\":0,\"arrowwidth\":1},\"geo\":{\"bgcolor\":\"white\",\"landcolor\":\"#E5ECF6\",\"subunitcolor\":\"white\",\"showland\":true,\"showlakes\":true,\"lakecolor\":\"white\"},\"title\":{\"x\":0.05},\"mapbox\":{\"style\":\"light\"}}},\"xaxis\":{\"anchor\":\"y\",\"domain\":[0.0,1.0],\"title\":{\"text\":\"mean methylation difference\"}},\"yaxis\":{\"anchor\":\"x\",\"domain\":[0.0,1.0],\"title\":{\"text\":\"y\"}},\"coloraxis\":{\"colorbar\":{\"title\":{\"text\":\"color\"}},\"colorscale\":[[0.0,\"#0d0887\"],[0.1111111111111111,\"#46039f\"],[0.2222222222222222,\"#7201a8\"],[0.3333333333333333,\"#9c179e\"],[0.4444444444444444,\"#bd3786\"],[0.5555555555555556,\"#d8576b\"],[0.6666666666666666,\"#ed7953\"],[0.7777777777777778,\"#fb9f3a\"],[0.8888888888888888,\"#fdca26\"],[1.0,\"#f0f921\"]]},\"legend\":{\"tracegroupgap\":0},\"margin\":{\"t\":60},\"height\":500,\"width\":500},                        {\"responsive\": true}                    ).then(function(){\n",
       "                            \n",
       "var gd = document.getElementById('f739b08e-6897-4d4b-97d8-1b2622bc4762');\n",
       "var x = new MutationObserver(function (mutations, observer) {{\n",
       "        var display = window.getComputedStyle(gd).display;\n",
       "        if (!display || display === 'none') {{\n",
       "            console.log([gd, 'removed!']);\n",
       "            Plotly.purge(gd);\n",
       "            observer.disconnect();\n",
       "        }}\n",
       "}});\n",
       "\n",
       "// Listen for the removal of the full notebook cells\n",
       "var notebookContainer = gd.closest('#notebook-container');\n",
       "if (notebookContainer) {{\n",
       "    x.observe(notebookContainer, {childList: true});\n",
       "}}\n",
       "\n",
       "// Listen for the clearing of the current output cell\n",
       "var outputEl = gd.closest('.output');\n",
       "if (outputEl) {{\n",
       "    x.observe(outputEl, {childList: true});\n",
       "}}\n",
       "\n",
       "                        })                };                });            </script>        </div>"
      ]
     },
     "metadata": {},
     "output_type": "display_data"
    }
   ],
   "source": [
    "fig = px.scatter(dmrs, x = \"mean methylation difference\", y = -np.log(dmrs['q-value']), color = -np.log(dmrs['q-value']), \n",
    "                 width = 500, height = 500, hover_data=['chr', 'start','stop'])\n",
    "fig.show()"
   ]
  },
  {
   "cell_type": "markdown",
   "id": "1941f7c7-fec2-4e2c-b88d-cf6ce5406657",
   "metadata": {},
   "source": [
    "Ora potremmo prendere le coordinate delle cpg islands più significative e valutare nei pressi di quali geni si trovino utilizzando un genome browser tipo quello di [UCSC](https://genome-euro.ucsc.edu/cgi-bin/hgGateway?hgsid=338735253_twmomjfQodaHIDEhB8IrH8OxZGDJ). La maggior parte delle volte, però, i risultati di questo tipo di analisi comprendono decine, centinaia o migliaia di geni. Cercarli uno ad uno nei genome browser sarebbe un'operazione estremamente noiosa e ripetitiva che aumenterebbe la possibilità di errore umano. \n",
    "\n",
    "Scarichiamo le annotazioni del genoma umano per recuperare più velocemente i geni e le loro funzioni:"
   ]
  },
  {
   "cell_type": "code",
   "execution_count": 110,
   "id": "2a8b603c-8b12-4e06-b960-daed11bb27fc",
   "metadata": {},
   "outputs": [
    {
     "name": "stdout",
     "output_type": "stream",
     "text": [
      "  % Total    % Received % Xferd  Average Speed   Time    Time     Time  Current\n",
      "                                 Dload  Upload   Total   Spent    Left  Speed\n",
      "100 43.9M  100 43.9M    0     0  15.0M      0  0:00:02  0:00:02 --:--:-- 15.0M\n"
     ]
    }
   ],
   "source": [
    "!curl https://ftp.ensembl.org/pub/release-111/gff3/homo_sapiens/Homo_sapiens.GRCh38.111.gff3.gz | gunzip - > hg38.gff"
   ]
  },
  {
   "cell_type": "code",
   "execution_count": 111,
   "id": "51cb0729-9e83-45f2-a392-141031589e8c",
   "metadata": {},
   "outputs": [
    {
     "name": "stdout",
     "output_type": "stream",
     "text": [
      "##gff-version 3\n",
      "##sequence-region   1 1 248956422\n",
      "##sequence-region   10 1 133797422\n",
      "##sequence-region   11 1 135086622\n",
      "##sequence-region   12 1 133275309\n",
      "##sequence-region   13 1 114364328\n",
      "##sequence-region   14 1 107043718\n",
      "##sequence-region   15 1 101991189\n",
      "##sequence-region   16 1 90338345\n",
      "##sequence-region   17 1 83257441\n"
     ]
    }
   ],
   "source": [
    "!head hg38.gff"
   ]
  },
  {
   "cell_type": "markdown",
   "id": "625def7a-95dc-4fd9-adf3-56a80e0d5514",
   "metadata": {},
   "source": [
    "ora possiamo sfruttare python per incrociare le posizioni delle nostre CpG island di interesse con quelle dei geni e fare anche una rappresentazione grafica dei risultati più significativi:"
   ]
  },
  {
   "cell_type": "code",
   "execution_count": 140,
   "id": "c6deda0c-8119-4564-9c5c-4d4b76deefe6",
   "metadata": {},
   "outputs": [
    {
     "name": "stderr",
     "output_type": "stream",
     "text": [
      "/tmp/ipykernel_114229/3144612680.py:25: DtypeWarning:\n",
      "\n",
      "Columns (0) have mixed types. Specify dtype option on import or set low_memory=False.\n",
      "\n",
      "/tmp/ipykernel_114229/3144612680.py:32: SettingWithCopyWarning:\n",
      "\n",
      "\n",
      "A value is trying to be set on a copy of a slice from a DataFrame.\n",
      "Try using .loc[row_indexer,col_indexer] = value instead\n",
      "\n",
      "See the caveats in the documentation: https://pandas.pydata.org/pandas-docs/stable/user_guide/indexing.html#returning-a-view-versus-a-copy\n",
      "\n"
     ]
    },
    {
     "data": {
      "image/png": "[encoded data removed]",
      "text/plain": [
       "<Figure size 1200x800 with 1 Axes>"
      ]
     },
     "metadata": {},
     "output_type": "display_data"
    }
   ],
   "source": [
    "import pandas as pd\n",
    "import seaborn as sns\n",
    "import matplotlib.pyplot as plt\n",
    "import re\n",
    "\n",
    "def extract_gene_name(attributes):\n",
    "    \"\"\"Extract the gene name from the GFF attributes field.\"\"\"\n",
    "    match = re.search(r'Name=([^;]+)', attributes)\n",
    "    if match:\n",
    "        return match.group(1)\n",
    "    else:\n",
    "        # If gene_name is unavailable, you could use other attributes like gene_id as a fallback\n",
    "        match = re.search(r'gene_id=([^;]+)', attributes)\n",
    "        return match.group(1) if match else \"Unknown\"\n",
    "\n",
    "def load_cpg_islands(bedgraph_file):\n",
    "    \"\"\"Load CpG islands from a BEDGraph file into a pandas DataFrame.\"\"\"\n",
    "    return pd.read_csv(\n",
    "        bedgraph_file, sep=\"\\t\", header=None,\n",
    "        names=[\"Chromosome\", \"Start\", \"End\", \"MethylationLevel\"]\n",
    "    )\n",
    "\n",
    "def load_genes_from_gff(gff_file):\n",
    "    \"\"\"Load genes from a GFF file into a pandas DataFrame.\"\"\"\n",
    "    gff_data = pd.read_csv(\n",
    "        gff_file, sep=\"\\t\", comment=\"#\", header=None,\n",
    "        names=[\"Chromosome\", \"Source\", \"Feature\", \"Start\", \"End\", \"Score\", \"Strand\", \"Frame\", \"Attributes\"]\n",
    "    )\n",
    "\n",
    "    # Filter to only include gene features\n",
    "    genes_data = gff_data[gff_data[\"Feature\"] == \"gene\"]\n",
    "    genes_data[\"GeneName\"] = genes_data[\"Attributes\"].apply(extract_gene_name)\n",
    "    return genes_data[[\"Chromosome\", \"Start\", \"End\", \"Strand\", \"Attributes\", \"GeneName\"]]\n",
    "\n",
    "def find_genes_near_cpg_islands(gff_file, bedgraph_file, distance_threshold=1000):\n",
    "    \"\"\"Find genes near CpG islands with methylation levels using pandas.\"\"\"\n",
    "    # Load CpG islands and genes\n",
    "    cpg_islands = load_cpg_islands(bedgraph_file)\n",
    "    genes = load_genes_from_gff(gff_file)\n",
    "\n",
    "    # Create an empty list to collect results\n",
    "    results = []\n",
    "\n",
    "    # Iterate through CpG islands to find nearby genes\n",
    "    for _, island in cpg_islands.iterrows():\n",
    "        chrom = island[\"Chromosome\"]\n",
    "        start = island[\"Start\"] - distance_threshold\n",
    "        end = island[\"End\"] + distance_threshold\n",
    "        methylation_level = island[\"MethylationLevel\"]\n",
    "\n",
    "        # Identify genes on the same chromosome and within the threshold range\n",
    "        nearby_genes = genes[\n",
    "            (genes[\"Chromosome\"] == chrom) &\n",
    "            ((genes[\"Start\"] >= start) & (genes[\"Start\"] <= end) |\n",
    "             (genes[\"End\"] >= start) & (genes[\"End\"] <= end))\n",
    "        ]\n",
    "\n",
    "        for _, gene in nearby_genes.iterrows():\n",
    "            results.append({\n",
    "                \"Gene_Chromosome\": gene[\"Chromosome\"],\n",
    "                \"Gene_Start\": gene[\"Start\"],\n",
    "                \"Gene_End\": gene[\"End\"],\n",
    "                \"CpG_Chromosome\": island[\"Chromosome\"],\n",
    "                \"CpG_Start\": island[\"Start\"],\n",
    "                \"CpG_End\": island[\"End\"],\n",
    "                \"Strand\": gene[\"Strand\"],\n",
    "                \"Attributes\": gene[\"Attributes\"],\n",
    "                \"Methylation_Level\": methylation_level,\n",
    "                \"Gene_Name\": gene[\"GeneName\"]\n",
    "            })\n",
    "\n",
    "    # Return the results as a DataFrame\n",
    "    return pd.DataFrame(results)\n",
    "\n",
    "\n",
    "def plot_methylation_by_gene(data):\n",
    "    \"\"\"Plot a single barplot with bars colored by methylation levels.\"\"\"\n",
    "    # Sort data by chromosome and gene name to keep a logical order\n",
    "    sorted_data = data.sort_values(by=[\"Methylation_Level\", \"Gene_Name\"])\n",
    "    # Create a bar plot using seaborn\n",
    "    plt.figure(figsize=(12, 8))\n",
    "    sns.barplot(\n",
    "        x=\"Gene_Name\", y=\"Methylation_Level\", data=sorted_data,\n",
    "        hue = \"Gene_Chromosome\"\n",
    "    )\n",
    "\n",
    "    # Rotate x-axis labels for readability\n",
    "    plt.xticks(rotation=90)\n",
    "    plt.xlabel(\"Gene Name\")\n",
    "    plt.ylabel(\"Methylation Level difference (tumor vs. normal)\")\n",
    "\n",
    "    plt.tight_layout()\n",
    "    plt.show()\n",
    "\n",
    "genes_near_islands = find_genes_near_cpg_islands(\"hg38.gff\", \"metilene_qval.0.05.bedgraph\", distance_threshold=1000)\n",
    "plot_methylation_by_gene(genes_near_islands)\n"
   ]
  },
  {
   "cell_type": "code",
   "execution_count": null,
   "id": "f5163b0e-df86-4114-85fb-78a88f1dfd24",
   "metadata": {},
   "outputs": [],
   "source": []
  },
  {
   "cell_type": "code",
   "execution_count": null,
   "id": "57eb1b0f-f6d6-4f60-a4b9-b0fe8807c774",
   "metadata": {},
   "outputs": [],
   "source": []
  }
 ],
 "metadata": {
  "kernelspec": {
   "display_name": "Python 3 (ipykernel)",
   "language": "python",
   "name": "python3"
  },
  "language_info": {
   "codemirror_mode": {
    "name": "ipython",
    "version": 3
   },
   "file_extension": ".py",
   "mimetype": "text/x-python",
   "name": "python",
   "nbconvert_exporter": "python",
   "pygments_lexer": "ipython3",
   "version": "3.11.6"
  }
 },
 "nbformat": 4,
 "nbformat_minor": 5
}
