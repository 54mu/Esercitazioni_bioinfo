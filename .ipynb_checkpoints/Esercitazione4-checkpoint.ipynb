{
 "cells": [
  {
   "cell_type": "markdown",
   "id": "206324c3-2b6e-403f-91b9-e762de6b63fe",
   "metadata": {},
   "source": [
    "---\n",
    "title: Esercitazione 4\n",
    "authors:\n",
    "    - name: Samuele Greco\n",
    "      email: samuele.greco@units.it\n",
    "---"
   ]
  },
  {
   "cell_type": "code",
   "execution_count": 37,
   "id": "2a8d22a9-1826-42d1-9bf6-39c9110efc70",
   "metadata": {},
   "outputs": [
    {
     "name": "stdout",
     "output_type": "stream",
     "text": [
      "Requirement already satisfied: scikit-allel in /opt/conda/lib/python3.11/site-packages (1.3.8)\n",
      "Requirement already satisfied: networkx in /opt/conda/lib/python3.11/site-packages (3.2)\n",
      "Collecting scikit-bio\n",
      "  Downloading scikit-bio-0.6.0.tar.gz (1.7 MB)\n",
      "\u001b[2K     \u001b[90m━━━━━━━━━━━━━━━━━━━━━━━━━━━━━━━━━━━━━━━━\u001b[0m \u001b[32m1.7/1.7 MB\u001b[0m \u001b[31m16.1 MB/s\u001b[0m eta \u001b[36m0:00:00\u001b[0m00:01\u001b[0m0:01\u001b[0m\n",
      "\u001b[?25h  Installing build dependencies: started\n",
      "  Installing build dependencies: finished with status 'done'\n",
      "  Getting requirements to build wheel: started\n",
      "  Getting requirements to build wheel: finished with status 'done'\n",
      "  Preparing metadata (pyproject.toml): started\n",
      "  Preparing metadata (pyproject.toml): finished with status 'done'\n",
      "Collecting ete3\n",
      "  Downloading ete3-3.1.3.tar.gz (4.8 MB)\n",
      "\u001b[2K     \u001b[90m━━━━━━━━━━━━━━━━━━━━━━━━━━━━━━━━━━━━━━━━\u001b[0m \u001b[32m4.8/4.8 MB\u001b[0m \u001b[31m26.9 MB/s\u001b[0m eta \u001b[36m0:00:00\u001b[0m00:01\u001b[0m00:01\u001b[0m\n",
      "\u001b[?25h  Preparing metadata (setup.py): started\n",
      "  Preparing metadata (setup.py): finished with status 'done'\n",
      "Requirement already satisfied: numpy in /opt/conda/lib/python3.11/site-packages (from scikit-allel) (1.24.4)\n",
      "Requirement already satisfied: dask[array] in /opt/conda/lib/python3.11/site-packages (from scikit-allel) (2023.10.0)\n",
      "Requirement already satisfied: requests>=2.20.0 in /opt/conda/lib/python3.11/site-packages (from scikit-bio) (2.31.0)\n",
      "Requirement already satisfied: decorator>=3.4.2 in /opt/conda/lib/python3.11/site-packages (from scikit-bio) (5.1.1)\n",
      "Collecting natsort>=4.0.3 (from scikit-bio)\n",
      "  Downloading natsort-8.4.0-py3-none-any.whl.metadata (21 kB)\n",
      "Requirement already satisfied: pandas>=1.5.0 in /opt/conda/lib/python3.11/site-packages (from scikit-bio) (2.1.1)\n",
      "Requirement already satisfied: scipy>=1.9.0 in /opt/conda/lib/python3.11/site-packages (from scikit-bio) (1.11.3)\n",
      "Requirement already satisfied: h5py>=3.6.0 in /opt/conda/lib/python3.11/site-packages (from scikit-bio) (3.10.0)\n",
      "Collecting hdmedians>=0.14.1 (from scikit-bio)\n",
      "  Downloading hdmedians-0.14.2.tar.gz (7.6 kB)\n",
      "  Installing build dependencies: started\n",
      "  Installing build dependencies: finished with status 'done'\n",
      "  Getting requirements to build wheel: started\n",
      "  Getting requirements to build wheel: finished with status 'done'\n",
      "  Installing backend dependencies: started\n",
      "  Installing backend dependencies: finished with status 'done'\n",
      "  Preparing metadata (pyproject.toml): started\n",
      "  Preparing metadata (pyproject.toml): finished with status 'done'\n",
      "Collecting biom-format (from scikit-bio)\n",
      "  Downloading biom_format-2.1.15-cp311-cp311-manylinux_2_5_x86_64.manylinux1_x86_64.manylinux_2_17_x86_64.manylinux2014_x86_64.whl.metadata (1.8 kB)\n",
      "Requirement already satisfied: Cython>=0.23 in /opt/conda/lib/python3.11/site-packages (from hdmedians>=0.14.1->scikit-bio) (3.0.4)\n",
      "Requirement already satisfied: python-dateutil>=2.8.2 in /opt/conda/lib/python3.11/site-packages (from pandas>=1.5.0->scikit-bio) (2.8.2)\n",
      "Requirement already satisfied: pytz>=2020.1 in /opt/conda/lib/python3.11/site-packages (from pandas>=1.5.0->scikit-bio) (2023.3.post1)\n",
      "Requirement already satisfied: tzdata>=2022.1 in /opt/conda/lib/python3.11/site-packages (from pandas>=1.5.0->scikit-bio) (2023.3)\n",
      "Requirement already satisfied: charset-normalizer<4,>=2 in /opt/conda/lib/python3.11/site-packages (from requests>=2.20.0->scikit-bio) (3.3.0)\n",
      "Requirement already satisfied: idna<4,>=2.5 in /opt/conda/lib/python3.11/site-packages (from requests>=2.20.0->scikit-bio) (3.4)\n",
      "Requirement already satisfied: urllib3<3,>=1.21.1 in /opt/conda/lib/python3.11/site-packages (from requests>=2.20.0->scikit-bio) (2.0.7)\n",
      "Requirement already satisfied: certifi>=2017.4.17 in /opt/conda/lib/python3.11/site-packages (from requests>=2.20.0->scikit-bio) (2024.2.2)\n",
      "Requirement already satisfied: click in /opt/conda/lib/python3.11/site-packages (from biom-format->scikit-bio) (8.1.7)\n",
      "Requirement already satisfied: cloudpickle>=1.5.0 in /opt/conda/lib/python3.11/site-packages (from dask[array]->scikit-allel) (3.0.0)\n",
      "Requirement already satisfied: fsspec>=2021.09.0 in /opt/conda/lib/python3.11/site-packages (from dask[array]->scikit-allel) (2023.9.2)\n",
      "Requirement already satisfied: packaging>=20.0 in /opt/conda/lib/python3.11/site-packages (from dask[array]->scikit-allel) (23.2)\n",
      "Requirement already satisfied: partd>=1.2.0 in /opt/conda/lib/python3.11/site-packages (from dask[array]->scikit-allel) (1.4.1)\n",
      "Requirement already satisfied: pyyaml>=5.3.1 in /opt/conda/lib/python3.11/site-packages (from dask[array]->scikit-allel) (6.0.1)\n",
      "Requirement already satisfied: toolz>=0.10.0 in /opt/conda/lib/python3.11/site-packages (from dask[array]->scikit-allel) (0.12.0)\n",
      "Requirement already satisfied: importlib-metadata>=4.13.0 in /opt/conda/lib/python3.11/site-packages (from dask[array]->scikit-allel) (6.8.0)\n",
      "Requirement already satisfied: zipp>=0.5 in /opt/conda/lib/python3.11/site-packages (from importlib-metadata>=4.13.0->dask[array]->scikit-allel) (3.17.0)\n",
      "Requirement already satisfied: locket in /opt/conda/lib/python3.11/site-packages (from partd>=1.2.0->dask[array]->scikit-allel) (1.0.0)\n",
      "Requirement already satisfied: six>=1.5 in /opt/conda/lib/python3.11/site-packages (from python-dateutil>=2.8.2->pandas>=1.5.0->scikit-bio) (1.16.0)\n",
      "Downloading natsort-8.4.0-py3-none-any.whl (38 kB)\n",
      "Downloading biom_format-2.1.15-cp311-cp311-manylinux_2_5_x86_64.manylinux1_x86_64.manylinux_2_17_x86_64.manylinux2014_x86_64.whl (12.0 MB)\n",
      "\u001b[2K   \u001b[90m━━━━━━━━━━━━━━━━━━━━━━━━━━━━━━━━━━━━━━━━\u001b[0m \u001b[32m12.0/12.0 MB\u001b[0m \u001b[31m10.7 MB/s\u001b[0m eta \u001b[36m0:00:00\u001b[0m00:01\u001b[0m00:01\u001b[0m\n",
      "\u001b[?25hBuilding wheels for collected packages: scikit-bio, ete3, hdmedians\n",
      "  Building wheel for scikit-bio (pyproject.toml): started\n",
      "  Building wheel for scikit-bio (pyproject.toml): finished with status 'done'\n",
      "  Created wheel for scikit-bio: filename=scikit_bio-0.6.0-cp311-cp311-linux_x86_64.whl size=1467756 sha256=e652cf3c8ebea9ac2c6c61875e37d94573fe9a03d97bc06a23983449ee1e59a9\n",
      "  Stored in directory: /home/jovyan/.cache/pip/wheels/4e/80/89/7800084092056e1cfe49693ade2da4d97b7e8d690e490dac1d\n",
      "  Building wheel for ete3 (setup.py): started\n",
      "  Building wheel for ete3 (setup.py): finished with status 'done'\n",
      "  Created wheel for ete3: filename=ete3-3.1.3-py3-none-any.whl size=2273785 sha256=11ee25dc88d6af49690540f6e4e69d5ae90a41c9e5735d3c0d05bc86b4688f9b\n",
      "  Stored in directory: /home/jovyan/.cache/pip/wheels/dd/a8/60/0a29caa9f8ceb7316704be63c1578ab13c36668abb646366ac\n",
      "  Building wheel for hdmedians (pyproject.toml): started\n",
      "  Building wheel for hdmedians (pyproject.toml): finished with status 'done'\n",
      "  Created wheel for hdmedians: filename=hdmedians-0.14.2-cp311-cp311-linux_x86_64.whl size=154272 sha256=64186bb44d97fbe1b7fdf77ed092b0c965e10d5997652fe60ef8054998338d50\n",
      "  Stored in directory: /home/jovyan/.cache/pip/wheels/3f/5e/27/00e60e8474d23dd6ec28f6058a44cd23054bdd7b92445e7af6\n",
      "Successfully built scikit-bio ete3 hdmedians\n",
      "Installing collected packages: ete3, natsort, hdmedians, biom-format, scikit-bio\n",
      "Successfully installed biom-format-2.1.15 ete3-3.1.3 hdmedians-0.14.2 natsort-8.4.0 scikit-bio-0.6.0\n"
     ]
    }
   ],
   "source": [
    "%%bash\n",
    "pip install scikit-allel networkx scikit-bio ete3"
   ]
  },
  {
   "cell_type": "markdown",
   "id": "dadc5a48-db9d-4597-92c8-920981d10326",
   "metadata": {},
   "source": [
    "# Genetica delle popolazioni\n",
    "\n",
    "\n",
    "## Cenni teorici\n",
    "La genetica delle popolazioni è una sotto-disciplina della genetica che si occupa delle differenze genetiche all'interno e tra le popolazioni, ed è parte della biologia evolutiva. Gli studi in questo ramo della biologia esaminano fenomeni quali l'adattamento, la speciazione e la struttura delle popolazioni.\n",
    "I concetti principali della genetica delle popolazioni sono i seguenti:\n",
    "\n",
    "### 1. **Patrimonio Genetico (Gene Pool)**\n",
    "Il patrimonio genetico comprende tutti gli alleli disponibili all'interno di una popolazione che possono essere trasmessi alla generazione successiva. Rappresenta la diversità genetica disponibile per la selezione ed è cruciale per l'adattabilità di una popolazione a ambienti in cambiamento.\n",
    "\n",
    "### 2. **Frequenza degli Alleli**\n",
    "La frequenza degli alleli, spesso rappresentata da $p$ e $q$ in un gene biallelico, è la proporzione di tutti gli alleli in un particolare locus genetico che sono di un tipo specificato. I cambiamenti nelle frequenze degli alleli nel tempo possono indicare l'evoluzione in una popolazione.\n",
    "\n",
    "### 3. **Principio di Hardy-Weinberg**\n",
    "Questo principio fornisce un modello matematico dove le frequenze degli alleli e dei genotipi in una popolazione rimangono costanti da una generazione all'altra in assenza di altre influenze evolutive. Queste influenze includono mutazione, selezione naturale, accoppiamento non casuale, deriva genetica e flusso genico.\n",
    "\n",
    ":::{note}Approfondimento - Principio di Hardy-Weinberg\n",
    ":class: dropdown\n",
    "### **Presupposti del Principio di Hardy-Weinberg**\n",
    "Perché il principio di Hardy-Weinberg sia valido, diverse condizioni devono essere soddisfatte:\n",
    "\n",
    "1. **Grande Dimensione della Popolazione**: Elimina gli effetti della deriva genetica, che possono causare cambiamenti casuali nelle frequenze degli alleli nelle popolazioni piccole.\n",
    "2. **Nessuna Selezione**: Tutti i genotipi devono avere uguale successo riproduttivo.\n",
    "3. **Nessuna Mutazione**: Non devono verificarsi cambiamenti negli alleli.\n",
    "4. **Nessun Flusso Genico**: Non deve esserci migrazione di individui da e verso altre popolazioni.\n",
    "5. **Accoppiamento Casuale**: Gli individui si accoppiano senza preferenze per specifici genotipi.\n",
    "\n",
    "### **Equazioni del Principio di Hardy-Weinberg**\n",
    "Considerando un gene con due alleli, **A** e **a**, e con $p$ e $q$ che rappresentano le frequenze di questi alleli rispettivamente (dove $p + q = 1$), il principio predice le frequenze dei genotipi nella popolazione come segue:\n",
    "\n",
    "- **AA** = $p^2$\n",
    "- **Aa** = $2pq$\n",
    "- **aa** = $q^2$\n",
    "\n",
    "Queste frequenze sono stabili e si mantengono costanti di generazione in generazione a meno che le condizioni di equilibrio non vengano violate.\n",
    "\n",
    "### **Applicazioni e Importanza**\n",
    "Il principio di Hardy-Weinberg è fondamentale perché fornisce un modello di base per studiare le popolazioni genetiche in assenza di forze evolutive. Permette ai genetisti di:\n",
    "\n",
    "- **Misurare Cambiamenti Genetici**: Determinare se le forze evolutive stanno influenzando una popolazione. Qualsiasi deviazione dalle frequenze previste suggerisce un'influenza evolutiva o un problema con le ipotesi.\n",
    "- **Validare Dati Sperimentali**: Verificare la correttezza delle frequenze alleliche e genotipiche osservate nei dati raccolti.\n",
    "- **Studiare Malattie Ereditarie**: Aiutare a capire la distribuzione di geni responsabili di malattie ereditarie nella popolazione.\n",
    "\n",
    "### **Significato Evolutivo**\n",
    "In biologia evolutiva, il principio di Hardy-Weinberg viene usato come punto di partenza per studiare i cambiamenti genetici nelle popolazioni. Deviazioni dall'equilibrio possono indicare che fattori evolutivi stanno giocando un ruolo significativo nella popolazione, guidando le decisioni in conservazione, medicina, e altre aree applicative.\n",
    ":::\n",
    "\n",
    "### 4. **Mutazione**\n",
    "La mutazione è un cambiamento permanente nella sequenza del DNA di un gene. Le mutazioni sono importanti fonti di variazione genetica, che possono introdurre nuovi alleli in una popolazione. Sono casuali per natura e possono essere vantaggiose, neutre o deleterie.\n",
    "\n",
    "### 5. **Selezione Naturale**\n",
    "La selezione naturale agisce sulle variazioni fenotipiche tra gli individui, dove quelli con tratti vantaggiosi sono più propensi a sopravvivere e riprodursi, aumentando così la frequenza degli alleli favorevoli nel patrimonio genetico.\n",
    "\n",
    "\n",
    "### 6. **Deriva Genetica (Genetic Drift)**\n",
    "La deriva genetica è il cambiamento nella frequenza di un allele in una popolazione dovuto al campionamento casuale degli organismi. Questo effetto è più pronunciato nelle piccole popolazioni e può portare alla perdita o fissazione casuale degli alleli (*evolution by luck*).\n",
    "\n",
    "### 7. **Flusso Genico (Migrazione)**\n",
    "Il flusso genico è il trasferimento di alleli da una popolazione all'altra attraverso la migrazione. Questo processo può introdurre nuovo materiale genetico nel patrimonio genetico, aumentando la diversità genetica e influenzando potenzialmente i percorsi evolutivi.\n",
    "\n",
    ":::{figure}https://microbenotes.com/wp-content/uploads/2022/10/Gene-Flow.jpg\n",
    ":width: 500\n",
    "schema del flusso genico. Due popolazioni di farfalle inizialmente isolate si scambiano materiale genetico con la migrazione di singoli o pochi individui\n",
    ":::\n",
    "\n",
    "### 8. **Effetto Bottleneck**\n",
    "Un collo di bottiglia demografico si verifica quando la dimensione di una popolazione si riduce per almeno una generazione. Ciò può ridurre drasticamente la diversità genetica e influenzare le frequenze degli alleli, aumentando la deriva genetica e l'endogamia.\n",
    "\n",
    ":::{figure}https://evolution.berkeley.edu/wp-content/uploads/2021/11/marbles4_sm.gif\n",
    "schema dell'effetto collo di bottiglia \n",
    ":::\n",
    "\n",
    "### 9. **Effetto Fondatore**\n",
    "L'effetto fondatore è una forma di deriva genetica che si verifica quando una nuova popolazione viene stabilita da un numero molto piccolo di individui di una popolazione più grande. Questo può portare a una riduzione della variazione genetica e a una distribuzione delle frequenze degli alleli diversa rispetto alla popolazione originale.\n",
    "\n",
    ":::{figure} https://useruploads.socratic.org/CBUUQNZIR7a1oAXZMRuR_founder.jpg\n",
    "\n",
    "schematizzazione del fenomeno di effetto fondatore\n",
    ":::\n",
    "\n",
    "### 10. **Struttura e Suddivisione della Popolazione**\n",
    "La struttura della popolazione si riferisce alla presenza di sottopopolazioni all'interno di una popolazione più ampia che hanno frequenze alleliche divergenti, spesso a causa di barriere geografiche, nicchie ecologiche o strutture sociali che limitano l'accoppiamento casuale.\n",
    "\n",
    "### 11. **Fitness e Coefficienti di Selezione**\n",
    "La fitness si riferisce alla capacità di un organismo di sopravvivere e riprodursi nel suo ambiente. Il coefficiente di selezione misura la forza della selezione naturale agente su un particolare fenotipo o genotipo, indicando la sua fitness relativa rispetto agli altri.\n",
    "\n"
   ]
  },
  {
   "cell_type": "markdown",
   "id": "7131c1a7-cc6a-4de2-b004-3b2d7254c0f2",
   "metadata": {},
   "source": [
    "## Analisi delle varianti per lo studio di popolazioni\n",
    "\n",
    "Basato su [Tabima *et al.*, 2018](https://apsjournals.apsnet.org/doi/10.1094/MPMI-10-17-0258-R)\n",
    "\n",
    "Nel contesto della genetica di popolazione, l'analisi delle varianti genomiche rappresenta uno strumento fondamentale per comprendere la diversità genetica e le relazioni tra individui e gruppi. In questa esercitazione useremo i dati derivanti dal variant calling di tre diversi gattili, insieme agli stessi dati ottenuti dai miei due gatti, al fine di investigare la struttura genetica della popolazione dei gatti domestici della zona e confermare l'origine genetica di Jojo e Eevee. \n",
    "\n",
    ":::{figure}https://github.com/54mu/Bioinformatica-esperimenti/blob/main/mappa.png?raw=true\n",
    ":height: 250\n",
    "I tre punti geografici di origine dei gatti. \n",
    ":::\n",
    "\n",
    ":::{figure}https://github.com/54mu/Bioinformatica-esperimenti/blob/main/jojoeevee.png?raw=true\n",
    ":height: 250\n",
    "Jojo (a sinistra) e Eevee (a destra).\n",
    ":::\n",
    "\n",
    "Usando metodologie moderne di analisi di dati e genetica computazionale, metteremo in relazione tra loro le frequenze di SNPs (*Single Nucleotide Polymorphisms*). Questo approccio non solo aiuta a identificare l'origine dei miei due gatti, ma offre anche una visione più ampia sulla diversità genetica presente nei gattili studiati, sull'origine dei gatti residenti e sugli spostamenti dei gatti stessi. \n",
    "\n",
    "### Sequenziamento e preparazione dei dati\n",
    "\n",
    "Per questo studio sono stati sequenziati i genomi di un totale di 94 campioni con tecnologia **illumina** paired-end (150bp × 2). Le read di sequenziamento sono state poi filtrate e **Mappate** sul genoma di riferimento di *Felis catus* con impostazioni per mantenere l'accuratezza più alta possibile. Successivamente gli allineamenti sono stati processati con un programma di *variant calling* chiamato **GATK Haplotype Caller**. Questo software lavora ricostruendo gli aplotipi locali (cioè gruppi di alleli che coesistono sullo stesso *locus*) e utilizza questi aplotipi per identificare le varianti geniche come **SNP** (polimorfismi a singolo nucleotide), **indel** (inserzioni e delezioni) e varianti strutturali. L'output consiste in uno o più files in formato *VCF*, che vengono poi filtrati ed analizzati. \n",
    "\n",
    "Tutto questo processo è stato fatto dai nostri collaboratori del centro di sequenziamento, a noi sono arrivati direttamente i file VCF filtrati e i metadati che collegano i campioni alla popolazione di origine. Scarichiamoli con il prossimo comando.\n"
   ]
  },
  {
   "cell_type": "code",
   "execution_count": 23,
   "id": "28ddefbf-17bc-48ca-90bd-9bd025a4e3ea",
   "metadata": {
    "scrolled": true
   },
   "outputs": [
    {
     "name": "stderr",
     "output_type": "stream",
     "text": [
      "--2024-05-11 12:55:53--  https://grunwaldlab.github.io/Population_Genetics_in_R/prubi_gbs.vcf.gz\n",
      "Resolving grunwaldlab.github.io (grunwaldlab.github.io)... 185.199.109.153, 185.199.111.153, 185.199.108.153, ...\n",
      "Connecting to grunwaldlab.github.io (grunwaldlab.github.io)|185.199.109.153|:443... connected.\n",
      "HTTP request sent, awaiting response... 200 OK\n",
      "Length: 304243 (297K) [application/gzip]\n",
      "Saving to: ‘prubi_gbs.vcf.gz.7’\n",
      "\n",
      "     0K .......... .......... .......... .......... .......... 16% 3.29M 0s\n",
      "    50K .......... .......... .......... .......... .......... 33% 4.35M 0s\n",
      "   100K .......... .......... .......... .......... .......... 50% 14.9M 0s\n",
      "   150K .......... .......... .......... .......... .......... 67% 25.4M 0s\n",
      "   200K .......... .......... .......... .......... .......... 84% 6.53M 0s\n",
      "   250K .......... .......... .......... .......... .......   100% 23.8M=0.04s\n",
      "\n",
      "2024-05-11 12:55:54 (7.13 MB/s) - ‘prubi_gbs.vcf.gz.7’ saved [304243/304243]\n",
      "\n",
      "  % Total    % Received % Xferd  Average Speed   Time    Time     Time  Current\n",
      "                                 Dload  Upload   Total   Spent    Left  Speed\n",
      "100  1150  100  1150    0     0   7299      0 --:--:-- --:--:-- --:--:--  7324\n"
     ]
    }
   ],
   "source": [
    "%%bash\n",
    "wget https://grunwaldlab.github.io/Population_Genetics_in_R/prubi_gbs.vcf.gz\n",
    "curl https://grunwaldlab.github.io/Population_Genetics_in_R/population_data.gbs.txt | sed \"s/USA/ITA/g; s/5354/jojo/g; s/5357/eevee/g; s/CA/Grado/g; s/OR/Trieste/g; s/WA/Monfalcone/g\" > population_data.gbs.txt"
   ]
  },
  {
   "cell_type": "markdown",
   "id": "5762d47e-7c8d-49e9-a944-6326d3f5f10f",
   "metadata": {},
   "source": [
    "### Analisi dei dati\n",
    "Importiamo in python i pacchetti necessari per l'analisi, il file di variant calling e i metadati."
   ]
  },
  {
   "cell_type": "code",
   "execution_count": 26,
   "id": "b0cf085f-3234-4f92-9944-e88599750b2b",
   "metadata": {},
   "outputs": [
    {
     "data": {
      "text/html": [
       "<div class=\"allel allel-DisplayAs2D\"><span>&lt;GenotypeArray shape=(615, 94, 2) dtype=int8&gt;</span><table><thead><tr><th></th><th style=\"text-align: center\">0</th><th style=\"text-align: center\">1</th><th style=\"text-align: center\">2</th><th style=\"text-align: center\">3</th><th style=\"text-align: center\">4</th><th style=\"text-align: center\">...</th><th style=\"text-align: center\">89</th><th style=\"text-align: center\">90</th><th style=\"text-align: center\">91</th><th style=\"text-align: center\">92</th><th style=\"text-align: center\">93</th></tr></thead><tbody><tr><th style=\"text-align: center; background-color: white; border-right: 1px solid black; \">0</th><td style=\"text-align: center\">0/0</td><td style=\"text-align: center\">0/0</td><td style=\"text-align: center\">0/0</td><td style=\"text-align: center\">0/0</td><td style=\"text-align: center\">0/0</td><td style=\"text-align: center\">...</td><td style=\"text-align: center\">0/0</td><td style=\"text-align: center\">0/0</td><td style=\"text-align: center\">0/0</td><td style=\"text-align: center\">0/0</td><td style=\"text-align: center\">0/0</td></tr><tr><th style=\"text-align: center; background-color: white; border-right: 1px solid black; \">1</th><td style=\"text-align: center\">0/0</td><td style=\"text-align: center\">0/0</td><td style=\"text-align: center\">./.</td><td style=\"text-align: center\">0/0</td><td style=\"text-align: center\">0/0</td><td style=\"text-align: center\">...</td><td style=\"text-align: center\">0/0</td><td style=\"text-align: center\">0/0</td><td style=\"text-align: center\">0/0</td><td style=\"text-align: center\">0/0</td><td style=\"text-align: center\">0/0</td></tr><tr><th style=\"text-align: center; background-color: white; border-right: 1px solid black; \">2</th><td style=\"text-align: center\">0/0</td><td style=\"text-align: center\">0/0</td><td style=\"text-align: center\">./.</td><td style=\"text-align: center\">0/0</td><td style=\"text-align: center\">0/0</td><td style=\"text-align: center\">...</td><td style=\"text-align: center\">0/0</td><td style=\"text-align: center\">0/0</td><td style=\"text-align: center\">0/0</td><td style=\"text-align: center\">0/0</td><td style=\"text-align: center\">0/0</td></tr><tr><th style=\"text-align: center; background-color: white; border-right: 1px solid black; \">...</th><td style=\"text-align: center\" colspan=\"12\">...</td></tr><tr><th style=\"text-align: center; background-color: white; border-right: 1px solid black; \">612</th><td style=\"text-align: center\">0/0</td><td style=\"text-align: center\">0/0</td><td style=\"text-align: center\">0/0</td><td style=\"text-align: center\">0/0</td><td style=\"text-align: center\">0/0</td><td style=\"text-align: center\">...</td><td style=\"text-align: center\">./.</td><td style=\"text-align: center\">0/0</td><td style=\"text-align: center\">0/0</td><td style=\"text-align: center\">0/0</td><td style=\"text-align: center\">0/0</td></tr><tr><th style=\"text-align: center; background-color: white; border-right: 1px solid black; \">613</th><td style=\"text-align: center\">0/1</td><td style=\"text-align: center\">0/0</td><td style=\"text-align: center\">0/0</td><td style=\"text-align: center\">0/0</td><td style=\"text-align: center\">0/0</td><td style=\"text-align: center\">...</td><td style=\"text-align: center\">0/0</td><td style=\"text-align: center\">0/0</td><td style=\"text-align: center\">0/0</td><td style=\"text-align: center\">0/0</td><td style=\"text-align: center\">0/0</td></tr><tr><th style=\"text-align: center; background-color: white; border-right: 1px solid black; \">614</th><td style=\"text-align: center\">0/0</td><td style=\"text-align: center\">0/0</td><td style=\"text-align: center\">0/0</td><td style=\"text-align: center\">0/0</td><td style=\"text-align: center\">0/0</td><td style=\"text-align: center\">...</td><td style=\"text-align: center\">0/0</td><td style=\"text-align: center\">0/0</td><td style=\"text-align: center\">0/0</td><td style=\"text-align: center\">0/0</td><td style=\"text-align: center\">0/0</td></tr></tbody></table></div>"
      ],
      "text/plain": [
       "<GenotypeArray shape=(615, 94, 2) dtype=int8>\n",
       "0/0 0/0 0/0 0/0 0/0 ... 0/0 0/0 0/0 0/0 0/0\n",
       "0/0 0/0 ./. 0/0 0/0 ... 0/0 0/0 0/0 0/0 0/0\n",
       "0/0 0/0 ./. 0/0 0/0 ... 0/0 0/0 0/0 0/0 0/0\n",
       "...\n",
       "0/0 0/0 0/0 0/0 0/0 ... ./. 0/0 0/0 0/0 0/0\n",
       "0/1 0/0 0/0 0/0 0/0 ... 0/0 0/0 0/0 0/0 0/0\n",
       "0/0 0/0 0/0 0/0 0/0 ... 0/0 0/0 0/0 0/0 0/0"
      ]
     },
     "metadata": {},
     "output_type": "display_data"
    },
    {
     "data": {
      "text/html": [
       "<div>\n",
       "<style scoped>\n",
       "    .dataframe tbody tr th:only-of-type {\n",
       "        vertical-align: middle;\n",
       "    }\n",
       "\n",
       "    .dataframe tbody tr th {\n",
       "        vertical-align: top;\n",
       "    }\n",
       "\n",
       "    .dataframe thead th {\n",
       "        text-align: right;\n",
       "    }\n",
       "</style>\n",
       "<table border=\"1\" class=\"dataframe\">\n",
       "  <thead>\n",
       "    <tr style=\"text-align: right;\">\n",
       "      <th></th>\n",
       "      <th>AccessID</th>\n",
       "      <th>Country</th>\n",
       "      <th>State</th>\n",
       "    </tr>\n",
       "  </thead>\n",
       "  <tbody>\n",
       "    <tr>\n",
       "      <th>0</th>\n",
       "      <td>4291</td>\n",
       "      <td>ITA</td>\n",
       "      <td>Monfalcone</td>\n",
       "    </tr>\n",
       "    <tr>\n",
       "      <th>1</th>\n",
       "      <td>4798</td>\n",
       "      <td>ITA</td>\n",
       "      <td>Grado</td>\n",
       "    </tr>\n",
       "    <tr>\n",
       "      <th>2</th>\n",
       "      <td>4799</td>\n",
       "      <td>ITA</td>\n",
       "      <td>Grado</td>\n",
       "    </tr>\n",
       "    <tr>\n",
       "      <th>3</th>\n",
       "      <td>4801</td>\n",
       "      <td>ITA</td>\n",
       "      <td>Grado</td>\n",
       "    </tr>\n",
       "    <tr>\n",
       "      <th>4</th>\n",
       "      <td>4805</td>\n",
       "      <td>ITA</td>\n",
       "      <td>Grado</td>\n",
       "    </tr>\n",
       "    <tr>\n",
       "      <th>...</th>\n",
       "      <td>...</td>\n",
       "      <td>...</td>\n",
       "      <td>...</td>\n",
       "    </tr>\n",
       "    <tr>\n",
       "      <th>89</th>\n",
       "      <td>5295</td>\n",
       "      <td>ITA</td>\n",
       "      <td>Monfalcone</td>\n",
       "    </tr>\n",
       "    <tr>\n",
       "      <th>90</th>\n",
       "      <td>5296</td>\n",
       "      <td>ITA</td>\n",
       "      <td>Monfalcone</td>\n",
       "    </tr>\n",
       "    <tr>\n",
       "      <th>91</th>\n",
       "      <td>5353</td>\n",
       "      <td>ITA</td>\n",
       "      <td>Monfalcone</td>\n",
       "    </tr>\n",
       "    <tr>\n",
       "      <th>92</th>\n",
       "      <td>jojo</td>\n",
       "      <td>ITA</td>\n",
       "      <td>Trieste</td>\n",
       "    </tr>\n",
       "    <tr>\n",
       "      <th>93</th>\n",
       "      <td>eevee</td>\n",
       "      <td>ITA</td>\n",
       "      <td>Trieste</td>\n",
       "    </tr>\n",
       "  </tbody>\n",
       "</table>\n",
       "<p>94 rows × 3 columns</p>\n",
       "</div>"
      ],
      "text/plain": [
       "   AccessID Country       State\n",
       "0      4291     ITA  Monfalcone\n",
       "1      4798     ITA       Grado\n",
       "2      4799     ITA       Grado\n",
       "3      4801     ITA       Grado\n",
       "4      4805     ITA       Grado\n",
       "..      ...     ...         ...\n",
       "89     5295     ITA  Monfalcone\n",
       "90     5296     ITA  Monfalcone\n",
       "91     5353     ITA  Monfalcone\n",
       "92     jojo     ITA     Trieste\n",
       "93    eevee     ITA     Trieste\n",
       "\n",
       "[94 rows x 3 columns]"
      ]
     },
     "metadata": {},
     "output_type": "display_data"
    }
   ],
   "source": [
    "import allel\n",
    "import pandas as pd\n",
    "import matplotlib.pyplot as plt\n",
    "from sklearn.decomposition import PCA\n",
    "from collections import defaultdict\n",
    "from matplotlib import colors\n",
    "import seaborn as sns\n",
    "import networkx as nx\n",
    "import numpy as np\n",
    "import scipy.stats as stats\n",
    "\n",
    "# Load the VCF data\n",
    "vcf_path = \"prubi_gbs.vcf.gz\"\n",
    "callset = allel.read_vcf(vcf_path, fields=[\"calldata/GT\", \"samples\"])\n",
    "genotype = allel.GenotypeArray(callset['calldata/GT'])\n",
    "\n",
    "# Load the population data\n",
    "pop_data = pd.read_csv(\"population_data.gbs.txt\", sep=\"\\t\")\n",
    "sample_ids = pop_data['AccessID'].values\n",
    "population = pop_data['State'].values\n",
    "\n",
    "display(genotype)\n",
    "display(pop_data)"
   ]
  },
  {
   "cell_type": "markdown",
   "id": "6534bdac-ccfe-4689-905e-940cef9cb6cc",
   "metadata": {},
   "source": [
    "Per questa analisi useremo un pacchetto python chiamato **allel** che fornisce tutti gli strumenti necessari per processare i file di variant calling. Nella cella successiva prepariamo il dataset per l'analisi vera e propria. Andiamo a convertire la tabella dei genotipi in conte alleliche e impostiamo la **ploidia** a 2. Il gatto è una specie diploide, solo due alleli possono essere presenti contemporaneamente per lo stesso locus nello stesso individuo."
   ]
  },
  {
   "cell_type": "code",
   "execution_count": 29,
   "id": "d0fdc07e-c0a5-4492-8ecd-af8eaf43adbb",
   "metadata": {},
   "outputs": [],
   "source": [
    "allele_counts = genotype.to_allele_counts()\n",
    "is_biallelic = allele_counts.shape[2] == 2\n",
    "\n",
    "genotype_ploidy = 2"
   ]
  },
  {
   "cell_type": "markdown",
   "id": "6d229ae3-0a69-46ad-b9d4-175993d76c52",
   "metadata": {},
   "source": [
    "#### Albero delle distanze\n",
    "Iniziamo la nostra analisi costruendo un albero delle distanze genetiche che rappresenta le relazioni genetiche tra i campioni. La somiglianza tra campioni e gruppi di campioni è rappresentata dalla lunghezza dei rami. Nella maggior parte degli alberi, la lunghezza del ramo è rappresentata dal numero di sostituzioni per sito per un gruppo o un campione. Quando i campioni sono molto simili, sono raggruppati sotto rami corti. Più lungo è il ramo, maggiore è il numero di sostituzioni e maggiore è la distanza genetica tra i campioni o i gruppi."
   ]
  },
  {
   "cell_type": "code",
   "execution_count": 31,
   "id": "a3b1e00f-dc75-4d84-a26a-83e37e9e19d5",
   "metadata": {},
   "outputs": [
    {
     "data": {
      "image/png": "[encoded data removed]",
      "text/plain": [
       "<Figure size 800x1200 with 1 Axes>"
      ]
     },
     "metadata": {},
     "output_type": "display_data"
    }
   ],
   "source": [
    "# Build a genetic distance matrix\n",
    "dist_matrix = allel.pairwise_distance(genotype.to_n_alt(), metric=\"hamming\")\n",
    "\n",
    "# Create a distance tree using the genetic distance matrix\n",
    "from scipy.cluster.hierarchy import linkage, dendrogram\n",
    "linkage_matrix = linkage(dist_matrix, method=\"average\")\n",
    "plt.figure(figsize=(8, 12))\n",
    "dendrogram(linkage_matrix, labels=[a + \"-\" + b for a,b in zip(sample_ids, population)], orientation=\"left\", color_threshold=0)\n",
    "plt.xlabel(\"Samples\")\n",
    "plt.ylabel(\"Genetic Distance\")\n",
    "plt.title(\"Distance Tree\")\n",
    "plt.show()"
   ]
  },
  {
   "cell_type": "markdown",
   "id": "7fa506c4-11ce-41dd-8374-35bcee9b3a2d",
   "metadata": {},
   "source": [
    ":::{attention}Domanda\n",
    "Cosa rende apparente il raggruppamento dei rami in questo albero?\n",
    ":::\n",
    "\n",
    "#### Mininum Spanning Network\n",
    "Un'altra analisi indipendente utile (e anche molto estetica) per visualizzare la struttura della popolazione è la rete di connessione minima (MSN, Minimum Spanning Network). La MSN raggruppa i genotipi multilocus (MLG) in base alle distanze genetiche di ogni coppia. Ogni campione è un nodo e la distanza genetica è rappresentata dagli archi della rete. Negli studi di sequenziamento ad alto *throughput* come questo, la densità dei marcatori è elevata ed ogni campione consiste tipicamente in un genotipo unico.\n",
    "\n",
    "I nodi saranno connessi dalla minima distanza tra i campioni. Questo permette la formazione di **reticolazioni** (ad esempio, una rete che collega nodi con distanze genetiche identiche; a differenza di un albero, dove i nodi a coppie sono collegati solo al nodo con la distanza più breve, anche se diversi nodi condividono la stessa minima distanza genetica).\n",
    "\n",
    "La rete che andiamo a rappresentare avrà i nodi colorati a seconda della regione a cui apparteneva ogni gatto quando sono stati raccolti i campioni. "
   ]
  },
  {
   "cell_type": "code",
   "execution_count": 32,
   "id": "8be6c5cb-6afd-40fa-9a41-b1c5ba37d5a4",
   "metadata": {},
   "outputs": [
    {
     "data": {
      "image/png": "[encoded data removed]",
      "text/plain": [
       "<Figure size 1000x800 with 1 Axes>"
      ]
     },
     "metadata": {},
     "output_type": "display_data"
    }
   ],
   "source": [
    "from scipy.spatial.distance import squareform\n",
    "import networkx as nx\n",
    "\n",
    "# Compute the pairwise distance using scikit-allel\n",
    "dist_condensed = allel.pairwise_distance(genotype.to_n_alt(), metric=\"hamming\")\n",
    "\n",
    "# Convert to a 2D symmetric matrix\n",
    "dist_matrix = squareform(dist_condensed)\n",
    "\n",
    "# Create a NetworkX graph from the symmetric distance matrix\n",
    "# Create a NetworkX graph from the symmetric distance matrix\n",
    "graph = nx.from_numpy_array(dist_matrix)\n",
    "\n",
    "# Build a minimum spanning tree (MSN)\n",
    "msn = nx.minimum_spanning_tree(graph)\n",
    "\n",
    "# Use Kamada-Kawai layout for better distance representation\n",
    "pos = nx.kamada_kawai_layout(msn)\n",
    "num_nodes = len(msn.nodes)\n",
    "\n",
    "population_dict = {sample: pop for sample, pop in zip(callset['samples'], population)}\n",
    "\n",
    "# Create a list of unique populations for consistent color mapping\n",
    "unique_pops = sorted(set(population_dict.values()))\n",
    "\n",
    "# Create a color palette with the same number of colors as unique populations\n",
    "palette = sns.color_palette(\"Dark2\", n_colors=len(unique_pops))\n",
    "\n",
    "# Map each population to a color from the palette\n",
    "pop_to_color = {pop: colors.to_hex(palette[i]) for i, pop in enumerate(unique_pops)}\n",
    "\n",
    "# Assign colors to each node based on its population\n",
    "node_colors = [pop_to_color[population_dict[sample]] for sample in callset['samples']]\n",
    "\n",
    "# Retrieve the distances (weights) for each edge in the MSN\n",
    "edges, weights = zip(*nx.get_edge_attributes(msn, 'weight').items())\n",
    "\n",
    "# Normalize the weights to a scale from 0 to 1 (inverse distance)\n",
    "max_weight = max(weights)\n",
    "normalized_weights = [(max_weight - w) / max_weight for w in weights]\n",
    "\n",
    "# Set the edge width and alpha based on normalized weights\n",
    "edge_widths = [3 + 7 * w for w in normalized_weights]  # Min width of 3, max of 10\n",
    "edge_alphas = [0.2 + 0.8 * w for w in normalized_weights]  # Min alpha of 0.2, max of 1.0\n",
    "\n",
    "# Prepare an edge color with varying alpha\n",
    "edge_colors = [(0, 0, 0, alpha) for alpha in edge_alphas]  # Black color with varying alpha\n",
    "\n",
    "# Plot the MSN using Kamada-Kawai layout with modified edge properties\n",
    "\n",
    "node_labels = {i: label for i, label in enumerate(list(callset['samples'][:-2]) + [\"jojo\", \"eevee\"])}\n",
    "\n",
    "plt.figure(figsize=(10, 8))\n",
    "nx.draw(msn, pos, with_labels=True, node_color=node_colors, edge_color=edge_colors, width=edge_widths, labels = node_labels)\n",
    "plt.title(\"Minimum Spanning Network (Kamada-Kawai Layout) with Distance-Weighted Edges\")\n",
    "plt.show()"
   ]
  },
  {
   "cell_type": "markdown",
   "id": "a13606da-8fc9-4d9a-a045-e5c36ed51373",
   "metadata": {},
   "source": [
    "Il colpo d'occhio mostrato è sicuramente migliore di quello offerto dall'albero, e conferma il trend visto in precedenza di assenza di un vero e proprio isolamento delle tre popolazioni. \n",
    "\n",
    "#### Principal Component Analysis\n",
    "\n",
    "L'analisi delle componenti principali (PCA) trasforma i dati SNP osservati in un insieme di valori per variabili non linearmente correlate, chiamate componenti principali, che rappresentano la variazione tra i campioni. Eseguiamo la PCA sui nostri dati e mostriamo la percentuale di variabilità rappresentata da ogni **autovalore** (o **eigenvalue**) in quello che si chiama **scree plot**.\n",
    "\n",
    ":::{note}Eigenvalues\n",
    "Le eigenvalues, o autovalori, sono concetti fondamentali nella matematica e nella statistica, particolarmente importanti nell'analisi delle componenti principali (PCA) e in altri metodi di decomposizione di matrici usati nel machine learning e nelle analisi di dati.\n",
    "\n",
    "In PCA, gli autovalori sono utilizzati per misurare la quantità di varianza spiegata da ciascuna componente principale. Quando si scompone la matrice di covarianza (o di correlazione) dei dati, gli autovalori indicano quanto ogni componente principale contribuisce alla spiegazione della varianza totale nei dati. In pratica, un autovalore alto significa che la corrispondente componente principale ha una forte influenza nel catturare le informazioni importanti nei dati, mentre un autovalore basso indica che la componente principale contribuisce poco alla varianza dei dati.\n",
    ":::"
   ]
  },
  {
   "cell_type": "code",
   "execution_count": 33,
   "id": "5e1d1c05-d3d7-48c7-b8ce-6a246a9ecde2",
   "metadata": {},
   "outputs": [
    {
     "data": {
      "image/png": "[encoded data removed]",
      "text/plain": [
       "<Figure size 800x600 with 1 Axes>"
      ]
     },
     "metadata": {},
     "output_type": "display_data"
    }
   ],
   "source": [
    "pca = PCA(n_components=20)\n",
    "scores = pca.fit_transform(genotype.to_n_alt().T)\n",
    "explained_variance = pca.explained_variance_ratio_\n",
    "# Plot the scree plot\n",
    "plt.figure(figsize=(8, 6))\n",
    "plt.bar(range(1, len(explained_variance) + 1), explained_variance * 100, tick_label=[f'PC{i}' for i in range(1, len(explained_variance) + 1)])\n",
    "plt.ylabel('Percentage of Explained Variance (%)')\n",
    "plt.xlabel('Principal Components')\n",
    "plt.xticks(rotation = 90)\n",
    "plt.title('Scree Plot')\n",
    "plt.show()"
   ]
  },
  {
   "cell_type": "markdown",
   "id": "3ae7f22a-56c0-45f6-bd16-f6428b297a17",
   "metadata": {},
   "source": [
    "Come vedete questo grafico ci mostra che la maggior parte della variabilità (63% circa) è spiegata dai primi tre componenti. Questo ci consente di proseguire la nostra analisi con una approssimazione ai soli primi tre autovalori. Possiamo anche mostrare questi tre componenti nello spazio 3D per analizzare visivamente le relazioni ed i raggruppamenti tra i campioni."
   ]
  },
  {
   "cell_type": "code",
   "execution_count": 39,
   "id": "c6419c7f-b0f7-40ce-8eb0-51b8eac117a0",
   "metadata": {},
   "outputs": [
    {
     "data": {
      "application/vnd.plotly.v1+json": {
       "config": {
        "plotlyServerURL": "https://plot.ly"
       },
       "data": [
        {
         "hovertemplate": "Population=Monfalcone<br>PC1=%{x}<br>PC2=%{y}<br>PC3=%{z}<extra></extra>",
         "legendgroup": "Monfalcone",
         "marker": {
          "color": "#636efa",
          "symbol": "circle"
         },
         "mode": "markers",
         "name": "Monfalcone",
         "scene": "scene",
         "showlegend": true,
         "type": "scatter3d",
         "x": [
          0.6916384487612453,
          -4.498444569875061,
          -4.665686820718592,
          -3.9889958007282256,
          -3.4856826697885395,
          5.095611002832378,
          -4.403949530205554,
          -4.45262228392634,
          -2.34176325438624,
          -2.5088257432228067,
          -2.3590970930364326,
          -2.545576740223416,
          -2.3254534679821544,
          1.5919487751231198,
          -1.3141809239643332,
          -2.5001405345404084,
          -2.03736374917834,
          -1.8184890049581413,
          -2.086175888070934,
          -2.9495364315182386,
          5.176713918793985,
          1.8868548475836568,
          -3.4608626418911985,
          5.214240250281452,
          0.49683687789227243,
          -3.44461037181746,
          5.293773570394993,
          -2.889623010173304,
          4.876497986532033,
          -3.51641784800285,
          -4.060747266270831,
          -0.579442530560167,
          -2.0293626024811777,
          -1.3631640053147844,
          0.5871748962614984,
          1.2241693457563654,
          -0.19558233554706195,
          0.9218238444187957,
          -2.3425777453268157
         ],
         "y": [
          0.08537891829518113,
          3.101662298665302,
          4.1661294147620245,
          4.16457876160636,
          -1.8960573903731441,
          0.8458737609363958,
          4.019506428508279,
          3.959044104632062,
          -3.6051153838355274,
          -3.007066035671714,
          -3.628464862163463,
          -3.0467984392668845,
          -2.780415163132413,
          -1.3290677353698204,
          -2.2391506800584273,
          -3.1271067480930927,
          -4.166738638735042,
          -4.016663364394411,
          -1.511186148905987,
          1.2818825626944121,
          0.3464516376332861,
          -2.8897197206265255,
          3.640898327728246,
          0.7335456870063704,
          2.089348148481598,
          -2.015852298310908,
          0.6181549183281421,
          -1.4932021410758582,
          0.954417838032081,
          -1.6922566554957268,
          0.8209790143988099,
          -4.1033232196433005,
          -3.074436098227475,
          -3.0811564850365425,
          -0.13629332044117953,
          -0.45042430248412524,
          -1.4232347218822925,
          0.09223971308724113,
          -3.5766460460293876
         ],
         "z": [
          0.14660939150447752,
          0.3908261593786298,
          -0.6587991941653393,
          -0.30809932116554084,
          3.306044462208533,
          -0.15454055599618152,
          -0.8260456482164246,
          -0.8042772389416097,
          -2.3334177478803335,
          -2.5366757372104995,
          -2.583114143295834,
          -2.50306010456137,
          -2.6417200610267133,
          -1.2809191753871123,
          -2.5711229240847207,
          -2.638952508330477,
          -2.563732416093416,
          -2.5887068649933545,
          2.943694509306284,
          -2.710985657992262,
          -0.14945586696393506,
          -0.5226892309437845,
          -1.1712090522928078,
          -0.21095219626155204,
          -0.40273388544498895,
          3.52974499979179,
          -0.22448535997183852,
          3.1627576371616364,
          -0.16300117688383572,
          3.172587773823051,
          -2.527754967835088,
          -1.8180331592679972,
          -2.5407743368030213,
          -1.5766308786720944,
          2.142257647376269,
          1.2464224665919252,
          2.0752500289340037,
          0.4046963669649142,
          -2.4440879106786673
         ]
        },
        {
         "hovertemplate": "Population=Grado<br>PC1=%{x}<br>PC2=%{y}<br>PC3=%{z}<extra></extra>",
         "legendgroup": "Grado",
         "marker": {
          "color": "#EF553B",
          "symbol": "circle"
         },
         "mode": "markers",
         "name": "Grado",
         "scene": "scene",
         "showlegend": true,
         "type": "scatter3d",
         "x": [
          5.2161544045194415,
          5.163199603709427,
          -3.2683905557482005,
          4.972054241795737,
          5.351335346207075,
          5.235546346002096,
          5.0968710924551965,
          5.143500324932321,
          4.886727176357596,
          4.937932349043315,
          -2.4590653755125618,
          5.27747321170471,
          4.851729524185061,
          0.9408923705170354,
          5.383221349542844,
          0.9330071517742275,
          1.123404110663026,
          5.218632390399065,
          4.592688161103322,
          5.138131325321913,
          2.0922837591849928,
          5.23619253460847,
          5.227939199233215,
          5.0868681266816544,
          2.9027944616195485,
          2.3531737324262494,
          2.9890491260378167,
          4.164769124767578,
          5.253159726220549,
          2.917712276218915,
          5.1863726487739585,
          2.8329764097233516
         ],
         "y": [
          0.5135103344998502,
          1.0364883609852016,
          -1.9506579569052787,
          0.6322377186749261,
          0.5560018274697139,
          0.5288834558010933,
          0.867703592067077,
          0.17110362865871853,
          0.8649786322501604,
          0.9312254030754212,
          -3.231558644172654,
          0.5864432789201838,
          0.936719735534709,
          -1.1983133954214629,
          0.2815868050335699,
          -1.2020604407231124,
          -1.5079693122098887,
          0.6699097348536487,
          0.19544477374748317,
          0.7665655511576926,
          1.1263985104926106,
          0.5323571584836806,
          0.6125465878136973,
          0.7732302040368708,
          1.407676699128739,
          0.37871438515932043,
          1.2660202040887907,
          0.6035479179545399,
          0.5733649882248082,
          0.9947035500264259,
          0.7661311768085722,
          0.6013463918432765
         ],
         "z": [
          -0.1247132217932103,
          -0.2286377843886332,
          3.5052861050692794,
          -0.27048687492989365,
          -0.18269866085986655,
          -0.14167050181683874,
          -0.15829577930035976,
          -0.04231759150251091,
          -0.2619293788408506,
          -0.25818394169762704,
          -2.505709710860921,
          0.003510902516384163,
          -0.1762759861558242,
          2.025826247918832,
          -0.07665025632610516,
          1.5963932122617972,
          2.0945751647837505,
          -0.263612503874855,
          -0.17746163824350372,
          -0.10361024317478054,
          -0.5524788776930867,
          -0.11818011058370083,
          -0.05629100501156486,
          -0.14319717073843893,
          0.1902824259427667,
          0.43308110994346666,
          0.36072196901796694,
          0.0467550869328874,
          -0.07440734066310084,
          0.328072789450389,
          -0.16363970523435287,
          0.830673399802265
         ]
        },
        {
         "hovertemplate": "Population=Trieste<br>PC1=%{x}<br>PC2=%{y}<br>PC3=%{z}<extra></extra>",
         "legendgroup": "Trieste",
         "marker": {
          "color": "#00cc96",
          "symbol": "circle"
         },
         "mode": "markers",
         "name": "Trieste",
         "scene": "scene",
         "showlegend": true,
         "type": "scatter3d",
         "x": [
          -4.755730325646385,
          -2.497364649073461,
          -4.624901284822731,
          -4.721352322999164,
          -4.277067663620201,
          -2.422214653733173,
          -4.479002682426666,
          -4.42786014155156,
          -4.63412711702918,
          -4.9882178749372255,
          -3.493202422252675,
          -1.7189186080067176,
          -1.6805289579708942,
          -2.4546826448776544,
          -3.3641768001069168,
          -3.2171704049846914,
          -3.427563759463595,
          -3.1326213945026975,
          1.7483914981483282,
          -3.8084778389006466,
          -3.802070638606844,
          -3.6515995584745906,
          -5.040784329552016
         ],
         "y": [
          2.8509569219926925,
          -3.1683745164929427,
          4.12350290029184,
          3.8495307257155265,
          4.195110132385454,
          -3.4506882737841327,
          4.131960180324053,
          4.423684593473272,
          4.519426610423301,
          4.261232532516343,
          -1.560693151113524,
          -0.6910147001172428,
          -1.2943980440028666,
          -1.588028553519936,
          -1.9268694228057748,
          -1.802648411844895,
          -2.0998853785249296,
          -2.2638435551924325,
          0.16987303767303213,
          -1.5022926072482463,
          -0.4329881713255588,
          3.732239989159566,
          2.810210369116481
         ],
         "z": [
          0.37204070589018684,
          -2.691177700754303,
          -0.5655764168539196,
          -0.529307982017926,
          -1.1926884722044386,
          -2.5095412570985833,
          -0.8777417789073163,
          -0.7488182135825421,
          -0.6721927741040765,
          -0.7000340329064111,
          3.2471203754992883,
          2.8846500794032286,
          2.5403892440311995,
          3.164153496647164,
          3.420296865316774,
          2.7044631875775407,
          3.2244431183578217,
          0.37509757547450695,
          1.7622661164440936,
          3.0106481147041735,
          0.776744819679078,
          -1.0915287733174168,
          -0.3033505489085795
         ]
        },
        {
         "marker": {
          "color": "orange",
          "size": 5
         },
         "mode": "markers+text",
         "name": "jojo",
         "text": [
          "jojo"
         ],
         "type": "scatter3d",
         "x": [
          -3.6515995584745906
         ],
         "y": [
          3.732239989159566
         ],
         "z": [
          -1.0915287733174168
         ]
        },
        {
         "marker": {
          "color": "orange",
          "size": 5
         },
         "mode": "markers+text",
         "name": "eevee",
         "text": [
          "eevee"
         ],
         "type": "scatter3d",
         "x": [
          -5.040784329552016
         ],
         "y": [
          2.810210369116481
         ],
         "z": [
          -0.3033505489085795
         ]
        }
       ],
       "layout": {
        "height": 800,
        "legend": {
         "title": {
          "text": "Population"
         },
         "tracegroupgap": 0
        },
        "scene": {
         "aspectmode": "auto",
         "aspectratio": {
          "x": 1.2608649841795367,
          "y": 1.050659597339347,
          "z": 0.7548651645380623
         },
         "camera": {
          "center": {
           "x": 0,
           "y": 0,
           "z": 0
          },
          "eye": {
           "x": -0.00038035955482472293,
           "y": 0.0806203316015484,
           "z": -1.9877569071780297
          },
          "projection": {
           "type": "perspective"
          },
          "up": {
           "x": 0,
           "y": 0,
           "z": 1
          }
         },
         "domain": {
          "x": [
           0,
           1
          ],
          "y": [
           0,
           1
          ]
         },
         "xaxis": {
          "title": {
           "text": "PC1"
          },
          "type": "linear"
         },
         "yaxis": {
          "title": {
           "text": "PC2"
          },
          "type": "linear"
         },
         "zaxis": {
          "title": {
           "text": "PC3"
          },
          "type": "linear"
         }
        },
        "template": {
         "data": {
          "bar": [
           {
            "error_x": {
             "color": "#2a3f5f"
            },
            "error_y": {
             "color": "#2a3f5f"
            },
            "marker": {
             "line": {
              "color": "#E5ECF6",
              "width": 0.5
             },
             "pattern": {
              "fillmode": "overlay",
              "size": 10,
              "solidity": 0.2
             }
            },
            "type": "bar"
           }
          ],
          "barpolar": [
           {
            "marker": {
             "line": {
              "color": "#E5ECF6",
              "width": 0.5
             },
             "pattern": {
              "fillmode": "overlay",
              "size": 10,
              "solidity": 0.2
             }
            },
            "type": "barpolar"
           }
          ],
          "carpet": [
           {
            "aaxis": {
             "endlinecolor": "#2a3f5f",
             "gridcolor": "white",
             "linecolor": "white",
             "minorgridcolor": "white",
             "startlinecolor": "#2a3f5f"
            },
            "baxis": {
             "endlinecolor": "#2a3f5f",
             "gridcolor": "white",
             "linecolor": "white",
             "minorgridcolor": "white",
             "startlinecolor": "#2a3f5f"
            },
            "type": "carpet"
           }
          ],
          "choropleth": [
           {
            "colorbar": {
             "outlinewidth": 0,
             "ticks": ""
            },
            "type": "choropleth"
           }
          ],
          "contour": [
           {
            "colorbar": {
             "outlinewidth": 0,
             "ticks": ""
            },
            "colorscale": [
             [
              0,
              "#0d0887"
             ],
             [
              0.1111111111111111,
              "#46039f"
             ],
             [
              0.2222222222222222,
              "#7201a8"
             ],
             [
              0.3333333333333333,
              "#9c179e"
             ],
             [
              0.4444444444444444,
              "#bd3786"
             ],
             [
              0.5555555555555556,
              "#d8576b"
             ],
             [
              0.6666666666666666,
              "#ed7953"
             ],
             [
              0.7777777777777778,
              "#fb9f3a"
             ],
             [
              0.8888888888888888,
              "#fdca26"
             ],
             [
              1,
              "#f0f921"
             ]
            ],
            "type": "contour"
           }
          ],
          "contourcarpet": [
           {
            "colorbar": {
             "outlinewidth": 0,
             "ticks": ""
            },
            "type": "contourcarpet"
           }
          ],
          "heatmap": [
           {
            "colorbar": {
             "outlinewidth": 0,
             "ticks": ""
            },
            "colorscale": [
             [
              0,
              "#0d0887"
             ],
             [
              0.1111111111111111,
              "#46039f"
             ],
             [
              0.2222222222222222,
              "#7201a8"
             ],
             [
              0.3333333333333333,
              "#9c179e"
             ],
             [
              0.4444444444444444,
              "#bd3786"
             ],
             [
              0.5555555555555556,
              "#d8576b"
             ],
             [
              0.6666666666666666,
              "#ed7953"
             ],
             [
              0.7777777777777778,
              "#fb9f3a"
             ],
             [
              0.8888888888888888,
              "#fdca26"
             ],
             [
              1,
              "#f0f921"
             ]
            ],
            "type": "heatmap"
           }
          ],
          "heatmapgl": [
           {
            "colorbar": {
             "outlinewidth": 0,
             "ticks": ""
            },
            "colorscale": [
             [
              0,
              "#0d0887"
             ],
             [
              0.1111111111111111,
              "#46039f"
             ],
             [
              0.2222222222222222,
              "#7201a8"
             ],
             [
              0.3333333333333333,
              "#9c179e"
             ],
             [
              0.4444444444444444,
              "#bd3786"
             ],
             [
              0.5555555555555556,
              "#d8576b"
             ],
             [
              0.6666666666666666,
              "#ed7953"
             ],
             [
              0.7777777777777778,
              "#fb9f3a"
             ],
             [
              0.8888888888888888,
              "#fdca26"
             ],
             [
              1,
              "#f0f921"
             ]
            ],
            "type": "heatmapgl"
           }
          ],
          "histogram": [
           {
            "marker": {
             "pattern": {
              "fillmode": "overlay",
              "size": 10,
              "solidity": 0.2
             }
            },
            "type": "histogram"
           }
          ],
          "histogram2d": [
           {
            "colorbar": {
             "outlinewidth": 0,
             "ticks": ""
            },
            "colorscale": [
             [
              0,
              "#0d0887"
             ],
             [
              0.1111111111111111,
              "#46039f"
             ],
             [
              0.2222222222222222,
              "#7201a8"
             ],
             [
              0.3333333333333333,
              "#9c179e"
             ],
             [
              0.4444444444444444,
              "#bd3786"
             ],
             [
              0.5555555555555556,
              "#d8576b"
             ],
             [
              0.6666666666666666,
              "#ed7953"
             ],
             [
              0.7777777777777778,
              "#fb9f3a"
             ],
             [
              0.8888888888888888,
              "#fdca26"
             ],
             [
              1,
              "#f0f921"
             ]
            ],
            "type": "histogram2d"
           }
          ],
          "histogram2dcontour": [
           {
            "colorbar": {
             "outlinewidth": 0,
             "ticks": ""
            },
            "colorscale": [
             [
              0,
              "#0d0887"
             ],
             [
              0.1111111111111111,
              "#46039f"
             ],
             [
              0.2222222222222222,
              "#7201a8"
             ],
             [
              0.3333333333333333,
              "#9c179e"
             ],
             [
              0.4444444444444444,
              "#bd3786"
             ],
             [
              0.5555555555555556,
              "#d8576b"
             ],
             [
              0.6666666666666666,
              "#ed7953"
             ],
             [
              0.7777777777777778,
              "#fb9f3a"
             ],
             [
              0.8888888888888888,
              "#fdca26"
             ],
             [
              1,
              "#f0f921"
             ]
            ],
            "type": "histogram2dcontour"
           }
          ],
          "mesh3d": [
           {
            "colorbar": {
             "outlinewidth": 0,
             "ticks": ""
            },
            "type": "mesh3d"
           }
          ],
          "parcoords": [
           {
            "line": {
             "colorbar": {
              "outlinewidth": 0,
              "ticks": ""
             }
            },
            "type": "parcoords"
           }
          ],
          "pie": [
           {
            "automargin": true,
            "type": "pie"
           }
          ],
          "scatter": [
           {
            "fillpattern": {
             "fillmode": "overlay",
             "size": 10,
             "solidity": 0.2
            },
            "type": "scatter"
           }
          ],
          "scatter3d": [
           {
            "line": {
             "colorbar": {
              "outlinewidth": 0,
              "ticks": ""
             }
            },
            "marker": {
             "colorbar": {
              "outlinewidth": 0,
              "ticks": ""
             }
            },
            "type": "scatter3d"
           }
          ],
          "scattercarpet": [
           {
            "marker": {
             "colorbar": {
              "outlinewidth": 0,
              "ticks": ""
             }
            },
            "type": "scattercarpet"
           }
          ],
          "scattergeo": [
           {
            "marker": {
             "colorbar": {
              "outlinewidth": 0,
              "ticks": ""
             }
            },
            "type": "scattergeo"
           }
          ],
          "scattergl": [
           {
            "marker": {
             "colorbar": {
              "outlinewidth": 0,
              "ticks": ""
             }
            },
            "type": "scattergl"
           }
          ],
          "scattermapbox": [
           {
            "marker": {
             "colorbar": {
              "outlinewidth": 0,
              "ticks": ""
             }
            },
            "type": "scattermapbox"
           }
          ],
          "scatterpolar": [
           {
            "marker": {
             "colorbar": {
              "outlinewidth": 0,
              "ticks": ""
             }
            },
            "type": "scatterpolar"
           }
          ],
          "scatterpolargl": [
           {
            "marker": {
             "colorbar": {
              "outlinewidth": 0,
              "ticks": ""
             }
            },
            "type": "scatterpolargl"
           }
          ],
          "scatterternary": [
           {
            "marker": {
             "colorbar": {
              "outlinewidth": 0,
              "ticks": ""
             }
            },
            "type": "scatterternary"
           }
          ],
          "surface": [
           {
            "colorbar": {
             "outlinewidth": 0,
             "ticks": ""
            },
            "colorscale": [
             [
              0,
              "#0d0887"
             ],
             [
              0.1111111111111111,
              "#46039f"
             ],
             [
              0.2222222222222222,
              "#7201a8"
             ],
             [
              0.3333333333333333,
              "#9c179e"
             ],
             [
              0.4444444444444444,
              "#bd3786"
             ],
             [
              0.5555555555555556,
              "#d8576b"
             ],
             [
              0.6666666666666666,
              "#ed7953"
             ],
             [
              0.7777777777777778,
              "#fb9f3a"
             ],
             [
              0.8888888888888888,
              "#fdca26"
             ],
             [
              1,
              "#f0f921"
             ]
            ],
            "type": "surface"
           }
          ],
          "table": [
           {
            "cells": {
             "fill": {
              "color": "#EBF0F8"
             },
             "line": {
              "color": "white"
             }
            },
            "header": {
             "fill": {
              "color": "#C8D4E3"
             },
             "line": {
              "color": "white"
             }
            },
            "type": "table"
           }
          ]
         },
         "layout": {
          "annotationdefaults": {
           "arrowcolor": "#2a3f5f",
           "arrowhead": 0,
           "arrowwidth": 1
          },
          "autotypenumbers": "strict",
          "coloraxis": {
           "colorbar": {
            "outlinewidth": 0,
            "ticks": ""
           }
          },
          "colorscale": {
           "diverging": [
            [
             0,
             "#8e0152"
            ],
            [
             0.1,
             "#c51b7d"
            ],
            [
             0.2,
             "#de77ae"
            ],
            [
             0.3,
             "#f1b6da"
            ],
            [
             0.4,
             "#fde0ef"
            ],
            [
             0.5,
             "#f7f7f7"
            ],
            [
             0.6,
             "#e6f5d0"
            ],
            [
             0.7,
             "#b8e186"
            ],
            [
             0.8,
             "#7fbc41"
            ],
            [
             0.9,
             "#4d9221"
            ],
            [
             1,
             "#276419"
            ]
           ],
           "sequential": [
            [
             0,
             "#0d0887"
            ],
            [
             0.1111111111111111,
             "#46039f"
            ],
            [
             0.2222222222222222,
             "#7201a8"
            ],
            [
             0.3333333333333333,
             "#9c179e"
            ],
            [
             0.4444444444444444,
             "#bd3786"
            ],
            [
             0.5555555555555556,
             "#d8576b"
            ],
            [
             0.6666666666666666,
             "#ed7953"
            ],
            [
             0.7777777777777778,
             "#fb9f3a"
            ],
            [
             0.8888888888888888,
             "#fdca26"
            ],
            [
             1,
             "#f0f921"
            ]
           ],
           "sequentialminus": [
            [
             0,
             "#0d0887"
            ],
            [
             0.1111111111111111,
             "#46039f"
            ],
            [
             0.2222222222222222,
             "#7201a8"
            ],
            [
             0.3333333333333333,
             "#9c179e"
            ],
            [
             0.4444444444444444,
             "#bd3786"
            ],
            [
             0.5555555555555556,
             "#d8576b"
            ],
            [
             0.6666666666666666,
             "#ed7953"
            ],
            [
             0.7777777777777778,
             "#fb9f3a"
            ],
            [
             0.8888888888888888,
             "#fdca26"
            ],
            [
             1,
             "#f0f921"
            ]
           ]
          },
          "colorway": [
           "#636efa",
           "#EF553B",
           "#00cc96",
           "#ab63fa",
           "#FFA15A",
           "#19d3f3",
           "#FF6692",
           "#B6E880",
           "#FF97FF",
           "#FECB52"
          ],
          "font": {
           "color": "#2a3f5f"
          },
          "geo": {
           "bgcolor": "white",
           "lakecolor": "white",
           "landcolor": "#E5ECF6",
           "showlakes": true,
           "showland": true,
           "subunitcolor": "white"
          },
          "hoverlabel": {
           "align": "left"
          },
          "hovermode": "closest",
          "mapbox": {
           "style": "light"
          },
          "paper_bgcolor": "white",
          "plot_bgcolor": "#E5ECF6",
          "polar": {
           "angularaxis": {
            "gridcolor": "white",
            "linecolor": "white",
            "ticks": ""
           },
           "bgcolor": "#E5ECF6",
           "radialaxis": {
            "gridcolor": "white",
            "linecolor": "white",
            "ticks": ""
           }
          },
          "scene": {
           "xaxis": {
            "backgroundcolor": "#E5ECF6",
            "gridcolor": "white",
            "gridwidth": 2,
            "linecolor": "white",
            "showbackground": true,
            "ticks": "",
            "zerolinecolor": "white"
           },
           "yaxis": {
            "backgroundcolor": "#E5ECF6",
            "gridcolor": "white",
            "gridwidth": 2,
            "linecolor": "white",
            "showbackground": true,
            "ticks": "",
            "zerolinecolor": "white"
           },
           "zaxis": {
            "backgroundcolor": "#E5ECF6",
            "gridcolor": "white",
            "gridwidth": 2,
            "linecolor": "white",
            "showbackground": true,
            "ticks": "",
            "zerolinecolor": "white"
           }
          },
          "shapedefaults": {
           "line": {
            "color": "#2a3f5f"
           }
          },
          "ternary": {
           "aaxis": {
            "gridcolor": "white",
            "linecolor": "white",
            "ticks": ""
           },
           "baxis": {
            "gridcolor": "white",
            "linecolor": "white",
            "ticks": ""
           },
           "bgcolor": "#E5ECF6",
           "caxis": {
            "gridcolor": "white",
            "linecolor": "white",
            "ticks": ""
           }
          },
          "title": {
           "x": 0.05
          },
          "xaxis": {
           "automargin": true,
           "gridcolor": "white",
           "linecolor": "white",
           "ticks": "",
           "title": {
            "standoff": 15
           },
           "zerolinecolor": "white",
           "zerolinewidth": 2
          },
          "yaxis": {
           "automargin": true,
           "gridcolor": "white",
           "linecolor": "white",
           "ticks": "",
           "title": {
            "standoff": 15
           },
           "zerolinecolor": "white",
           "zerolinewidth": 2
          }
         }
        },
        "title": {
         "text": "PCA of Genetic Data"
        },
        "width": 1000
       }
      },
      "image/png": "[encoded data removed]",
      "text/html": [
       "<div>                            <div id=\"5aaecf0a-1f56-45fb-a398-27f8a951b24f\" class=\"plotly-graph-div\" style=\"height:800px; width:1000px;\"></div>            <script type=\"text/javascript\">                require([\"plotly\"], function(Plotly) {                    window.PLOTLYENV=window.PLOTLYENV || {};                                    if (document.getElementById(\"5aaecf0a-1f56-45fb-a398-27f8a951b24f\")) {                    Plotly.newPlot(                        \"5aaecf0a-1f56-45fb-a398-27f8a951b24f\",                        [{\"hovertemplate\":\"Population=Monfalcone\\u003cbr\\u003ePC1=%{x}\\u003cbr\\u003ePC2=%{y}\\u003cbr\\u003ePC3=%{z}\\u003cextra\\u003e\\u003c\\u002fextra\\u003e\",\"legendgroup\":\"Monfalcone\",\"marker\":{\"color\":\"#636efa\",\"symbol\":\"circle\"},\"mode\":\"markers\",\"name\":\"Monfalcone\",\"scene\":\"scene\",\"showlegend\":true,\"x\":[0.6916384487612453,-4.498444569875061,-4.665686820718592,-3.9889958007282256,-3.4856826697885395,5.095611002832378,-4.403949530205554,-4.45262228392634,-2.34176325438624,-2.5088257432228067,-2.3590970930364326,-2.545576740223416,-2.3254534679821544,1.5919487751231198,-1.3141809239643332,-2.5001405345404084,-2.03736374917834,-1.8184890049581413,-2.086175888070934,-2.9495364315182386,5.176713918793985,1.8868548475836568,-3.4608626418911985,5.214240250281452,0.49683687789227243,-3.44461037181746,5.293773570394993,-2.889623010173304,4.876497986532033,-3.51641784800285,-4.060747266270831,-0.579442530560167,-2.0293626024811777,-1.3631640053147844,0.5871748962614984,1.2241693457563654,-0.19558233554706195,0.9218238444187957,-2.3425777453268157],\"y\":[0.08537891829518113,3.101662298665302,4.1661294147620245,4.16457876160636,-1.8960573903731441,0.8458737609363958,4.019506428508279,3.959044104632062,-3.6051153838355274,-3.007066035671714,-3.628464862163463,-3.0467984392668845,-2.780415163132413,-1.3290677353698204,-2.2391506800584273,-3.1271067480930927,-4.166738638735042,-4.016663364394411,-1.511186148905987,1.2818825626944121,0.3464516376332861,-2.8897197206265255,3.640898327728246,0.7335456870063704,2.089348148481598,-2.015852298310908,0.6181549183281421,-1.4932021410758582,0.954417838032081,-1.6922566554957268,0.8209790143988099,-4.1033232196433005,-3.074436098227475,-3.0811564850365425,-0.13629332044117953,-0.45042430248412524,-1.4232347218822925,0.09223971308724113,-3.5766460460293876],\"z\":[0.14660939150447752,0.3908261593786298,-0.6587991941653393,-0.30809932116554084,3.306044462208533,-0.15454055599618152,-0.8260456482164246,-0.8042772389416097,-2.3334177478803335,-2.5366757372104995,-2.583114143295834,-2.50306010456137,-2.6417200610267133,-1.2809191753871123,-2.5711229240847207,-2.638952508330477,-2.563732416093416,-2.5887068649933545,2.943694509306284,-2.710985657992262,-0.14945586696393506,-0.5226892309437845,-1.1712090522928078,-0.21095219626155204,-0.40273388544498895,3.52974499979179,-0.22448535997183852,3.1627576371616364,-0.16300117688383572,3.172587773823051,-2.527754967835088,-1.8180331592679972,-2.5407743368030213,-1.5766308786720944,2.142257647376269,1.2464224665919252,2.0752500289340037,0.4046963669649142,-2.4440879106786673],\"type\":\"scatter3d\"},{\"hovertemplate\":\"Population=Grado\\u003cbr\\u003ePC1=%{x}\\u003cbr\\u003ePC2=%{y}\\u003cbr\\u003ePC3=%{z}\\u003cextra\\u003e\\u003c\\u002fextra\\u003e\",\"legendgroup\":\"Grado\",\"marker\":{\"color\":\"#EF553B\",\"symbol\":\"circle\"},\"mode\":\"markers\",\"name\":\"Grado\",\"scene\":\"scene\",\"showlegend\":true,\"x\":[5.2161544045194415,5.163199603709427,-3.2683905557482005,4.972054241795737,5.351335346207075,5.235546346002096,5.0968710924551965,5.143500324932321,4.886727176357596,4.937932349043315,-2.4590653755125618,5.27747321170471,4.851729524185061,0.9408923705170354,5.383221349542844,0.9330071517742275,1.123404110663026,5.218632390399065,4.592688161103322,5.138131325321913,2.0922837591849928,5.23619253460847,5.227939199233215,5.0868681266816544,2.9027944616195485,2.3531737324262494,2.9890491260378167,4.164769124767578,5.253159726220549,2.917712276218915,5.1863726487739585,2.8329764097233516],\"y\":[0.5135103344998502,1.0364883609852016,-1.9506579569052787,0.6322377186749261,0.5560018274697139,0.5288834558010933,0.867703592067077,0.17110362865871853,0.8649786322501604,0.9312254030754212,-3.231558644172654,0.5864432789201838,0.936719735534709,-1.1983133954214629,0.2815868050335699,-1.2020604407231124,-1.5079693122098887,0.6699097348536487,0.19544477374748317,0.7665655511576926,1.1263985104926106,0.5323571584836806,0.6125465878136973,0.7732302040368708,1.407676699128739,0.37871438515932043,1.2660202040887907,0.6035479179545399,0.5733649882248082,0.9947035500264259,0.7661311768085722,0.6013463918432765],\"z\":[-0.1247132217932103,-0.2286377843886332,3.5052861050692794,-0.27048687492989365,-0.18269866085986655,-0.14167050181683874,-0.15829577930035976,-0.04231759150251091,-0.2619293788408506,-0.25818394169762704,-2.505709710860921,0.003510902516384163,-0.1762759861558242,2.025826247918832,-0.07665025632610516,1.5963932122617972,2.0945751647837505,-0.263612503874855,-0.17746163824350372,-0.10361024317478054,-0.5524788776930867,-0.11818011058370083,-0.05629100501156486,-0.14319717073843893,0.1902824259427667,0.43308110994346666,0.36072196901796694,0.0467550869328874,-0.07440734066310084,0.328072789450389,-0.16363970523435287,0.830673399802265],\"type\":\"scatter3d\"},{\"hovertemplate\":\"Population=Trieste\\u003cbr\\u003ePC1=%{x}\\u003cbr\\u003ePC2=%{y}\\u003cbr\\u003ePC3=%{z}\\u003cextra\\u003e\\u003c\\u002fextra\\u003e\",\"legendgroup\":\"Trieste\",\"marker\":{\"color\":\"#00cc96\",\"symbol\":\"circle\"},\"mode\":\"markers\",\"name\":\"Trieste\",\"scene\":\"scene\",\"showlegend\":true,\"x\":[-4.755730325646385,-2.497364649073461,-4.624901284822731,-4.721352322999164,-4.277067663620201,-2.422214653733173,-4.479002682426666,-4.42786014155156,-4.63412711702918,-4.9882178749372255,-3.493202422252675,-1.7189186080067176,-1.6805289579708942,-2.4546826448776544,-3.3641768001069168,-3.2171704049846914,-3.427563759463595,-3.1326213945026975,1.7483914981483282,-3.8084778389006466,-3.802070638606844,-3.6515995584745906,-5.040784329552016],\"y\":[2.8509569219926925,-3.1683745164929427,4.12350290029184,3.8495307257155265,4.195110132385454,-3.4506882737841327,4.131960180324053,4.423684593473272,4.519426610423301,4.261232532516343,-1.560693151113524,-0.6910147001172428,-1.2943980440028666,-1.588028553519936,-1.9268694228057748,-1.802648411844895,-2.0998853785249296,-2.2638435551924325,0.16987303767303213,-1.5022926072482463,-0.4329881713255588,3.732239989159566,2.810210369116481],\"z\":[0.37204070589018684,-2.691177700754303,-0.5655764168539196,-0.529307982017926,-1.1926884722044386,-2.5095412570985833,-0.8777417789073163,-0.7488182135825421,-0.6721927741040765,-0.7000340329064111,3.2471203754992883,2.8846500794032286,2.5403892440311995,3.164153496647164,3.420296865316774,2.7044631875775407,3.2244431183578217,0.37509757547450695,1.7622661164440936,3.0106481147041735,0.776744819679078,-1.0915287733174168,-0.3033505489085795],\"type\":\"scatter3d\"},{\"marker\":{\"color\":\"orange\",\"size\":5},\"mode\":\"markers+text\",\"name\":\"jojo\",\"text\":[\"jojo\"],\"x\":[-3.6515995584745906],\"y\":[3.732239989159566],\"z\":[-1.0915287733174168],\"type\":\"scatter3d\"},{\"marker\":{\"color\":\"orange\",\"size\":5},\"mode\":\"markers+text\",\"name\":\"eevee\",\"text\":[\"eevee\"],\"x\":[-5.040784329552016],\"y\":[2.810210369116481],\"z\":[-0.3033505489085795],\"type\":\"scatter3d\"}],                        {\"template\":{\"data\":{\"histogram2dcontour\":[{\"type\":\"histogram2dcontour\",\"colorbar\":{\"outlinewidth\":0,\"ticks\":\"\"},\"colorscale\":[[0.0,\"#0d0887\"],[0.1111111111111111,\"#46039f\"],[0.2222222222222222,\"#7201a8\"],[0.3333333333333333,\"#9c179e\"],[0.4444444444444444,\"#bd3786\"],[0.5555555555555556,\"#d8576b\"],[0.6666666666666666,\"#ed7953\"],[0.7777777777777778,\"#fb9f3a\"],[0.8888888888888888,\"#fdca26\"],[1.0,\"#f0f921\"]]}],\"choropleth\":[{\"type\":\"choropleth\",\"colorbar\":{\"outlinewidth\":0,\"ticks\":\"\"}}],\"histogram2d\":[{\"type\":\"histogram2d\",\"colorbar\":{\"outlinewidth\":0,\"ticks\":\"\"},\"colorscale\":[[0.0,\"#0d0887\"],[0.1111111111111111,\"#46039f\"],[0.2222222222222222,\"#7201a8\"],[0.3333333333333333,\"#9c179e\"],[0.4444444444444444,\"#bd3786\"],[0.5555555555555556,\"#d8576b\"],[0.6666666666666666,\"#ed7953\"],[0.7777777777777778,\"#fb9f3a\"],[0.8888888888888888,\"#fdca26\"],[1.0,\"#f0f921\"]]}],\"heatmap\":[{\"type\":\"heatmap\",\"colorbar\":{\"outlinewidth\":0,\"ticks\":\"\"},\"colorscale\":[[0.0,\"#0d0887\"],[0.1111111111111111,\"#46039f\"],[0.2222222222222222,\"#7201a8\"],[0.3333333333333333,\"#9c179e\"],[0.4444444444444444,\"#bd3786\"],[0.5555555555555556,\"#d8576b\"],[0.6666666666666666,\"#ed7953\"],[0.7777777777777778,\"#fb9f3a\"],[0.8888888888888888,\"#fdca26\"],[1.0,\"#f0f921\"]]}],\"heatmapgl\":[{\"type\":\"heatmapgl\",\"colorbar\":{\"outlinewidth\":0,\"ticks\":\"\"},\"colorscale\":[[0.0,\"#0d0887\"],[0.1111111111111111,\"#46039f\"],[0.2222222222222222,\"#7201a8\"],[0.3333333333333333,\"#9c179e\"],[0.4444444444444444,\"#bd3786\"],[0.5555555555555556,\"#d8576b\"],[0.6666666666666666,\"#ed7953\"],[0.7777777777777778,\"#fb9f3a\"],[0.8888888888888888,\"#fdca26\"],[1.0,\"#f0f921\"]]}],\"contourcarpet\":[{\"type\":\"contourcarpet\",\"colorbar\":{\"outlinewidth\":0,\"ticks\":\"\"}}],\"contour\":[{\"type\":\"contour\",\"colorbar\":{\"outlinewidth\":0,\"ticks\":\"\"},\"colorscale\":[[0.0,\"#0d0887\"],[0.1111111111111111,\"#46039f\"],[0.2222222222222222,\"#7201a8\"],[0.3333333333333333,\"#9c179e\"],[0.4444444444444444,\"#bd3786\"],[0.5555555555555556,\"#d8576b\"],[0.6666666666666666,\"#ed7953\"],[0.7777777777777778,\"#fb9f3a\"],[0.8888888888888888,\"#fdca26\"],[1.0,\"#f0f921\"]]}],\"surface\":[{\"type\":\"surface\",\"colorbar\":{\"outlinewidth\":0,\"ticks\":\"\"},\"colorscale\":[[0.0,\"#0d0887\"],[0.1111111111111111,\"#46039f\"],[0.2222222222222222,\"#7201a8\"],[0.3333333333333333,\"#9c179e\"],[0.4444444444444444,\"#bd3786\"],[0.5555555555555556,\"#d8576b\"],[0.6666666666666666,\"#ed7953\"],[0.7777777777777778,\"#fb9f3a\"],[0.8888888888888888,\"#fdca26\"],[1.0,\"#f0f921\"]]}],\"mesh3d\":[{\"type\":\"mesh3d\",\"colorbar\":{\"outlinewidth\":0,\"ticks\":\"\"}}],\"scatter\":[{\"fillpattern\":{\"fillmode\":\"overlay\",\"size\":10,\"solidity\":0.2},\"type\":\"scatter\"}],\"parcoords\":[{\"type\":\"parcoords\",\"line\":{\"colorbar\":{\"outlinewidth\":0,\"ticks\":\"\"}}}],\"scatterpolargl\":[{\"type\":\"scatterpolargl\",\"marker\":{\"colorbar\":{\"outlinewidth\":0,\"ticks\":\"\"}}}],\"bar\":[{\"error_x\":{\"color\":\"#2a3f5f\"},\"error_y\":{\"color\":\"#2a3f5f\"},\"marker\":{\"line\":{\"color\":\"#E5ECF6\",\"width\":0.5},\"pattern\":{\"fillmode\":\"overlay\",\"size\":10,\"solidity\":0.2}},\"type\":\"bar\"}],\"scattergeo\":[{\"type\":\"scattergeo\",\"marker\":{\"colorbar\":{\"outlinewidth\":0,\"ticks\":\"\"}}}],\"scatterpolar\":[{\"type\":\"scatterpolar\",\"marker\":{\"colorbar\":{\"outlinewidth\":0,\"ticks\":\"\"}}}],\"histogram\":[{\"marker\":{\"pattern\":{\"fillmode\":\"overlay\",\"size\":10,\"solidity\":0.2}},\"type\":\"histogram\"}],\"scattergl\":[{\"type\":\"scattergl\",\"marker\":{\"colorbar\":{\"outlinewidth\":0,\"ticks\":\"\"}}}],\"scatter3d\":[{\"type\":\"scatter3d\",\"line\":{\"colorbar\":{\"outlinewidth\":0,\"ticks\":\"\"}},\"marker\":{\"colorbar\":{\"outlinewidth\":0,\"ticks\":\"\"}}}],\"scattermapbox\":[{\"type\":\"scattermapbox\",\"marker\":{\"colorbar\":{\"outlinewidth\":0,\"ticks\":\"\"}}}],\"scatterternary\":[{\"type\":\"scatterternary\",\"marker\":{\"colorbar\":{\"outlinewidth\":0,\"ticks\":\"\"}}}],\"scattercarpet\":[{\"type\":\"scattercarpet\",\"marker\":{\"colorbar\":{\"outlinewidth\":0,\"ticks\":\"\"}}}],\"carpet\":[{\"aaxis\":{\"endlinecolor\":\"#2a3f5f\",\"gridcolor\":\"white\",\"linecolor\":\"white\",\"minorgridcolor\":\"white\",\"startlinecolor\":\"#2a3f5f\"},\"baxis\":{\"endlinecolor\":\"#2a3f5f\",\"gridcolor\":\"white\",\"linecolor\":\"white\",\"minorgridcolor\":\"white\",\"startlinecolor\":\"#2a3f5f\"},\"type\":\"carpet\"}],\"table\":[{\"cells\":{\"fill\":{\"color\":\"#EBF0F8\"},\"line\":{\"color\":\"white\"}},\"header\":{\"fill\":{\"color\":\"#C8D4E3\"},\"line\":{\"color\":\"white\"}},\"type\":\"table\"}],\"barpolar\":[{\"marker\":{\"line\":{\"color\":\"#E5ECF6\",\"width\":0.5},\"pattern\":{\"fillmode\":\"overlay\",\"size\":10,\"solidity\":0.2}},\"type\":\"barpolar\"}],\"pie\":[{\"automargin\":true,\"type\":\"pie\"}]},\"layout\":{\"autotypenumbers\":\"strict\",\"colorway\":[\"#636efa\",\"#EF553B\",\"#00cc96\",\"#ab63fa\",\"#FFA15A\",\"#19d3f3\",\"#FF6692\",\"#B6E880\",\"#FF97FF\",\"#FECB52\"],\"font\":{\"color\":\"#2a3f5f\"},\"hovermode\":\"closest\",\"hoverlabel\":{\"align\":\"left\"},\"paper_bgcolor\":\"white\",\"plot_bgcolor\":\"#E5ECF6\",\"polar\":{\"bgcolor\":\"#E5ECF6\",\"angularaxis\":{\"gridcolor\":\"white\",\"linecolor\":\"white\",\"ticks\":\"\"},\"radialaxis\":{\"gridcolor\":\"white\",\"linecolor\":\"white\",\"ticks\":\"\"}},\"ternary\":{\"bgcolor\":\"#E5ECF6\",\"aaxis\":{\"gridcolor\":\"white\",\"linecolor\":\"white\",\"ticks\":\"\"},\"baxis\":{\"gridcolor\":\"white\",\"linecolor\":\"white\",\"ticks\":\"\"},\"caxis\":{\"gridcolor\":\"white\",\"linecolor\":\"white\",\"ticks\":\"\"}},\"coloraxis\":{\"colorbar\":{\"outlinewidth\":0,\"ticks\":\"\"}},\"colorscale\":{\"sequential\":[[0.0,\"#0d0887\"],[0.1111111111111111,\"#46039f\"],[0.2222222222222222,\"#7201a8\"],[0.3333333333333333,\"#9c179e\"],[0.4444444444444444,\"#bd3786\"],[0.5555555555555556,\"#d8576b\"],[0.6666666666666666,\"#ed7953\"],[0.7777777777777778,\"#fb9f3a\"],[0.8888888888888888,\"#fdca26\"],[1.0,\"#f0f921\"]],\"sequentialminus\":[[0.0,\"#0d0887\"],[0.1111111111111111,\"#46039f\"],[0.2222222222222222,\"#7201a8\"],[0.3333333333333333,\"#9c179e\"],[0.4444444444444444,\"#bd3786\"],[0.5555555555555556,\"#d8576b\"],[0.6666666666666666,\"#ed7953\"],[0.7777777777777778,\"#fb9f3a\"],[0.8888888888888888,\"#fdca26\"],[1.0,\"#f0f921\"]],\"diverging\":[[0,\"#8e0152\"],[0.1,\"#c51b7d\"],[0.2,\"#de77ae\"],[0.3,\"#f1b6da\"],[0.4,\"#fde0ef\"],[0.5,\"#f7f7f7\"],[0.6,\"#e6f5d0\"],[0.7,\"#b8e186\"],[0.8,\"#7fbc41\"],[0.9,\"#4d9221\"],[1,\"#276419\"]]},\"xaxis\":{\"gridcolor\":\"white\",\"linecolor\":\"white\",\"ticks\":\"\",\"title\":{\"standoff\":15},\"zerolinecolor\":\"white\",\"automargin\":true,\"zerolinewidth\":2},\"yaxis\":{\"gridcolor\":\"white\",\"linecolor\":\"white\",\"ticks\":\"\",\"title\":{\"standoff\":15},\"zerolinecolor\":\"white\",\"automargin\":true,\"zerolinewidth\":2},\"scene\":{\"xaxis\":{\"backgroundcolor\":\"#E5ECF6\",\"gridcolor\":\"white\",\"linecolor\":\"white\",\"showbackground\":true,\"ticks\":\"\",\"zerolinecolor\":\"white\",\"gridwidth\":2},\"yaxis\":{\"backgroundcolor\":\"#E5ECF6\",\"gridcolor\":\"white\",\"linecolor\":\"white\",\"showbackground\":true,\"ticks\":\"\",\"zerolinecolor\":\"white\",\"gridwidth\":2},\"zaxis\":{\"backgroundcolor\":\"#E5ECF6\",\"gridcolor\":\"white\",\"linecolor\":\"white\",\"showbackground\":true,\"ticks\":\"\",\"zerolinecolor\":\"white\",\"gridwidth\":2}},\"shapedefaults\":{\"line\":{\"color\":\"#2a3f5f\"}},\"annotationdefaults\":{\"arrowcolor\":\"#2a3f5f\",\"arrowhead\":0,\"arrowwidth\":1},\"geo\":{\"bgcolor\":\"white\",\"landcolor\":\"#E5ECF6\",\"subunitcolor\":\"white\",\"showland\":true,\"showlakes\":true,\"lakecolor\":\"white\"},\"title\":{\"x\":0.05},\"mapbox\":{\"style\":\"light\"}}},\"scene\":{\"domain\":{\"x\":[0.0,1.0],\"y\":[0.0,1.0]},\"xaxis\":{\"title\":{\"text\":\"PC1\"}},\"yaxis\":{\"title\":{\"text\":\"PC2\"}},\"zaxis\":{\"title\":{\"text\":\"PC3\"}}},\"legend\":{\"title\":{\"text\":\"Population\"},\"tracegroupgap\":0},\"title\":{\"text\":\"PCA of Genetic Data\"},\"height\":800,\"width\":1000},                        {\"responsive\": true}                    ).then(function(){\n",
       "                            \n",
       "var gd = document.getElementById('5aaecf0a-1f56-45fb-a398-27f8a951b24f');\n",
       "var x = new MutationObserver(function (mutations, observer) {{\n",
       "        var display = window.getComputedStyle(gd).display;\n",
       "        if (!display || display === 'none') {{\n",
       "            console.log([gd, 'removed!']);\n",
       "            Plotly.purge(gd);\n",
       "            observer.disconnect();\n",
       "        }}\n",
       "}});\n",
       "\n",
       "// Listen for the removal of the full notebook cells\n",
       "var notebookContainer = gd.closest('#notebook-container');\n",
       "if (notebookContainer) {{\n",
       "    x.observe(notebookContainer, {childList: true});\n",
       "}}\n",
       "\n",
       "// Listen for the clearing of the current output cell\n",
       "var outputEl = gd.closest('.output');\n",
       "if (outputEl) {{\n",
       "    x.observe(outputEl, {childList: true});\n",
       "}}\n",
       "\n",
       "                        })                };                });            </script>        </div>"
      ]
     },
     "metadata": {},
     "output_type": "display_data"
    }
   ],
   "source": [
    "import plotly.express as px\n",
    "from sklearn.decomposition import PCA\n",
    "import pandas as pd\n",
    "\n",
    "pca = PCA(n_components=3)\n",
    "scores = pca.fit_transform(genotype.to_n_alt().T)\n",
    "scores_df = pd.DataFrame(scores, columns=['PC1', 'PC2', 'PC3'])\n",
    "scores_df['Population'] = population\n",
    "\n",
    "# Create a 3D scatter plot\n",
    "fig = px.scatter_3d(scores_df, x='PC1', y='PC2', z='PC3',\n",
    "                    color='Population', title=\"PCA of Genetic Data\",\n",
    "                    labels={'PC1': 'PC1', 'PC2': 'PC2', 'PC3': 'PC3'}, width = 1000, height = 800)\n",
    "\n",
    "fig.add_scatter3d(x=[scores[-2,0]], y=[scores[-2,1]], z=[scores[-2,2]], mode='markers+text',\n",
    "                  marker=dict(color='orange', size=5), text=[\"jojo\"], name=\"jojo\")\n",
    "\n",
    "fig.add_scatter3d(x=[scores[-1,0]], y=[scores[-1,1]], z=[scores[-1,2]], mode='markers+text',\n",
    "                  marker=dict(color='orange', size=5), text=[\"eevee\"], name=\"eevee\")\n",
    "\n",
    "fig.show()\n"
   ]
  },
  {
   "cell_type": "markdown",
   "id": "19ce659b-c83e-416a-83e3-949293c9918d",
   "metadata": {},
   "source": [
    "#### Struttura della popolazione tramite DAPC\n",
    "\n",
    "Il [DAPC](https://it.wikipedia.org/wiki/Analisi_discriminante), o Discriminant Analysis of Principal Components, è un metodo statistico **multivariato** che impiega popolazioni definite a priori per ottimizzare la varianza tra le popolazioni in un campione, dividendo questa varianza in componenti interne e esterne alle popolazioni. Questo metodo è quindi particolarmente efficace nel massimizzare la discriminazione tra i gruppi. \n",
    "\n",
    "L'obiettivo principale nell'uso del DAPC nei nostri studi è calcolare le assegnazioni della popolazione basandosi sui risultati di una analisi preliminare come la PCA, che già scompone la varianza genetica in componenti principali. Utilizzando gli stessi parametri della PCA, possiamo confrontare direttamente i risultati di entrambi i metodi e analizzare come le popolazioni si distinguono geneticamente, inclusa la possibilità di [**admixture**](https://it.wikipedia.org/wiki/Commistione_genetica) tra differenti aree geografiche. Questo ci consente di ottenere una visione chiara della struttura genetica e delle relazioni tra le popolazioni studiate.\n",
    "\n",
    "La cella successiva esegue questo tipo di analisi e mostra su due dimensioni le due **discriminanti** calcolate sugli autovalori ottenuti dalla PCA."
   ]
  },
  {
   "cell_type": "code",
   "execution_count": 38,
   "id": "6f7a423a-e5b0-491f-a0ff-f0a7b006a990",
   "metadata": {},
   "outputs": [
    {
     "data": {
      "image/png": "[encoded data removed]",
      "text/plain": [
       "<Figure size 800x600 with 1 Axes>"
      ]
     },
     "metadata": {},
     "output_type": "display_data"
    }
   ],
   "source": [
    "# Perform DAPC-like analysis (using discriminant analysis on PCA scores)\n",
    "from sklearn.discriminant_analysis import LinearDiscriminantAnalysis as LDA\n",
    "lda = LDA(n_components=2)\n",
    "lda_transformed = lda.fit_transform(scores, population)\n",
    "plt.figure(figsize=(8, 6))\n",
    "sns.scatterplot(x=lda_transformed[:, 0], y=lda_transformed[:, 1], hue=population)\n",
    "sns.scatterplot(x=lda_transformed[-2:, 0], y=lda_transformed[-2:, 1], c = \"red\")\n",
    "plt.text(lda_transformed[-2, 0], lda_transformed[-2, 1]+0.02, \"jojo\")\n",
    "plt.text(lda_transformed[-1, 0]-0.1, lda_transformed[-1, 1]-0.12, \"eevee\")\n",
    "plt.title(\"DAPC-like Analysis\")\n",
    "plt.xlabel(\"Discriminant Axis 1\")\n",
    "plt.ylabel(\"Discriminant Axis 2\")\n",
    "plt.legend(title=\"Population\")\n",
    "plt.show()\n"
   ]
  },
  {
   "cell_type": "markdown",
   "id": "ece4c10a-d6a1-41ee-ad22-44d8d9027d74",
   "metadata": {},
   "source": [
    "Anche qui vediamo un raggruppamento simile a quello che ci mostravano i primi 3 componenti della PCA. DAPC ci permette anche di calcolare la percentuale di appartenenza di ciascun campione ad uno dei tre gruppi di partenza. Possiamo rappresentarla su dei grafici a barre con il codice nella cella seguente:"
   ]
  },
  {
   "cell_type": "code",
   "execution_count": 40,
   "id": "74806935-93c2-44a9-b35a-103661a0c667",
   "metadata": {},
   "outputs": [
    {
     "data": {
      "application/vnd.plotly.v1+json": {
       "config": {
        "plotlyServerURL": "https://plot.ly"
       },
       "data": [
        {
         "alignmentgroup": "True",
         "hovertemplate": "<b>%{hovertext}</b><br><br>Assigned Population=Prob_A<br>facet_col=Monfalcone<br>Sample=%{x}<br>Posterior Probability=%{y}<extra></extra>",
         "hovertext": [
          "4291",
          "4813",
          "4821",
          "4822",
          "4823",
          "4824",
          "4826",
          "4827",
          "4833",
          "4834",
          "4835",
          "4839",
          "4840",
          "4845",
          "5090",
          "5091",
          "5093",
          "5097",
          "5098",
          "5099",
          "5114",
          "5115",
          "5116",
          "5117",
          "5118",
          "5119",
          "5120",
          "5121",
          "5122",
          "5123",
          "5126",
          "5140",
          "5141",
          "5142",
          "5293",
          "5294",
          "5295",
          "5296",
          "5353"
         ],
         "legendgroup": "Prob_A",
         "marker": {
          "color": "#636efa",
          "pattern": {
           "shape": ""
          }
         },
         "name": "Prob_A",
         "offsetgroup": "Prob_A",
         "orientation": "v",
         "showlegend": true,
         "textposition": "auto",
         "type": "bar",
         "x": [
          "4291",
          "4813",
          "4821",
          "4822",
          "4823",
          "4824",
          "4826",
          "4827",
          "4833",
          "4834",
          "4835",
          "4839",
          "4840",
          "4845",
          "5090",
          "5091",
          "5093",
          "5097",
          "5098",
          "5099",
          "5114",
          "5115",
          "5116",
          "5117",
          "5118",
          "5119",
          "5120",
          "5121",
          "5122",
          "5123",
          "5126",
          "5140",
          "5141",
          "5142",
          "5293",
          "5294",
          "5295",
          "5296",
          "5353"
         ],
         "xaxis": "x",
         "y": [
          0.3186040619107266,
          0.0034021959413290405,
          0.003211594980192712,
          0.006496910935672443,
          0.007505052219985071,
          0.9527207521522272,
          0.004392803688079219,
          0.0041542627429213465,
          0.011413788229139665,
          0.01076092997876351,
          0.010655129674468624,
          0.010427909647314965,
          0.012809017189996462,
          0.3663237977968747,
          0.032717711935804604,
          0.010375445813979936,
          0.012454981284387764,
          0.015242050843246377,
          0.03341045749541465,
          0.01525254718113933,
          0.9509823334582185,
          0.3843870600999042,
          0.01233593657393191,
          0.9553851821509914,
          0.33559376778445765,
          0.007660811632293588,
          0.9569516613045131,
          0.014449626443695551,
          0.9450853745344273,
          0.007369533733277591,
          0.005349994507675709,
          0.046911595426955,
          0.015694086160712495,
          0.032413024515017895,
          0.34409338140129897,
          0.44481382243798234,
          0.17670029778918814,
          0.3729099361807647,
          0.011220854788251213
         ],
         "yaxis": "y"
        },
        {
         "alignmentgroup": "True",
         "hovertemplate": "<b>%{hovertext}</b><br><br>Assigned Population=Prob_A<br>facet_col=Grado<br>Sample=%{x}<br>Posterior Probability=%{y}<extra></extra>",
         "hovertext": [
          "4798",
          "4799",
          "4801",
          "4805",
          "4807",
          "4808",
          "4809",
          "4810",
          "4811",
          "4812",
          "4838",
          "4957",
          "4958",
          "4959",
          "4960",
          "4961",
          "4966",
          "4967",
          "4969",
          "4972",
          "4975",
          "4981",
          "4982",
          "4983",
          "4985",
          "4987",
          "4988",
          "4989",
          "5135",
          "5136",
          "5138",
          "5139"
         ],
         "legendgroup": "Prob_A",
         "marker": {
          "color": "#636efa",
          "pattern": {
           "shape": ""
          }
         },
         "name": "Prob_A",
         "offsetgroup": "Prob_A",
         "orientation": "v",
         "showlegend": false,
         "textposition": "auto",
         "type": "bar",
         "x": [
          "4798",
          "4799",
          "4801",
          "4805",
          "4807",
          "4808",
          "4809",
          "4810",
          "4811",
          "4812",
          "4838",
          "4957",
          "4958",
          "4959",
          "4960",
          "4961",
          "4966",
          "4967",
          "4969",
          "4972",
          "4975",
          "4981",
          "4982",
          "4983",
          "4985",
          "4987",
          "4988",
          "4989",
          "5135",
          "5136",
          "5138",
          "5139"
         ],
         "xaxis": "x2",
         "y": [
          0.9542589674109849,
          0.956156925840636,
          0.009293849645224887,
          0.9444305519526764,
          0.9586767126357059,
          0.9549232313920827,
          0.9529360918916328,
          0.9490490412324841,
          0.9434319363645712,
          0.9463663015760799,
          0.010790858013765874,
          0.9581472352369009,
          0.9436821331624766,
          0.38132614295097,
          0.9583170318335966,
          0.36597296706735305,
          0.41048857467791916,
          0.9544715101675615,
          0.9207503977533336,
          0.9540074954008533,
          0.6228777375474689,
          0.955195514228742,
          0.9561919190059348,
          0.9518162911187038,
          0.797878704429884,
          0.6813755071858949,
          0.8100062614442848,
          0.9033250255594278,
          0.956540748536802,
          0.7913024088508469,
          0.9551457481469531,
          0.7821430389887888
         ],
         "yaxis": "y2"
        },
        {
         "alignmentgroup": "True",
         "hovertemplate": "<b>%{hovertext}</b><br><br>Assigned Population=Prob_A<br>facet_col=Trieste<br>Sample=%{x}<br>Posterior Probability=%{y}<extra></extra>",
         "hovertext": [
          "4815",
          "4828",
          "4829",
          "4830",
          "4831",
          "4832",
          "4976",
          "4977",
          "4978",
          "4979",
          "4993",
          "5079",
          "5080",
          "5081",
          "5082",
          "5083",
          "5084",
          "5085",
          "5086",
          "5089",
          "5094",
          "jojo",
          "eevee"
         ],
         "legendgroup": "Prob_A",
         "marker": {
          "color": "#636efa",
          "pattern": {
           "shape": ""
          }
         },
         "name": "Prob_A",
         "offsetgroup": "Prob_A",
         "orientation": "v",
         "showlegend": false,
         "textposition": "auto",
         "type": "bar",
         "x": [
          "4815",
          "4828",
          "4829",
          "4830",
          "4831",
          "4832",
          "4976",
          "4977",
          "4978",
          "4979",
          "4993",
          "5079",
          "5080",
          "5081",
          "5082",
          "5083",
          "5084",
          "5085",
          "5086",
          "5089",
          "5094",
          "5354",
          "5357"
         ],
         "xaxis": "x3",
         "y": [
          0.0025691921901448904,
          0.010208667192437827,
          0.0033202193497822033,
          0.002979888257610264,
          0.005258341829478297,
          0.010641328929001376,
          0.004067462039292603,
          0.004220692396612884,
          0.0033114700467682706,
          0.0022461439810193104,
          0.0075024821316735674,
          0.04999776402698443,
          0.05061978963663842,
          0.022687859188774834,
          0.008456021975265559,
          0.01051381644895642,
          0.008033150882826941,
          0.010875254721700605,
          0.6013236721280968,
          0.005464785232041597,
          0.006679591500539099,
          0.010090569848883525,
          0.002055103696581394
         ],
         "yaxis": "y3"
        },
        {
         "alignmentgroup": "True",
         "hovertemplate": "<b>%{hovertext}</b><br><br>Assigned Population=Prob_B<br>facet_col=Monfalcone<br>Sample=%{x}<br>Posterior Probability=%{y}<extra></extra>",
         "hovertext": [
          "4291",
          "4813",
          "4821",
          "4822",
          "4823",
          "4824",
          "4826",
          "4827",
          "4833",
          "4834",
          "4835",
          "4839",
          "4840",
          "4845",
          "5090",
          "5091",
          "5093",
          "5097",
          "5098",
          "5099",
          "5114",
          "5115",
          "5116",
          "5117",
          "5118",
          "5119",
          "5120",
          "5121",
          "5122",
          "5123",
          "5126",
          "5140",
          "5141",
          "5142",
          "5293",
          "5294",
          "5295",
          "5296",
          "5353"
         ],
         "legendgroup": "Prob_B",
         "marker": {
          "color": "#EF553B",
          "pattern": {
           "shape": ""
          }
         },
         "name": "Prob_B",
         "offsetgroup": "Prob_B",
         "orientation": "v",
         "showlegend": true,
         "textposition": "auto",
         "type": "bar",
         "x": [
          "4291",
          "4813",
          "4821",
          "4822",
          "4823",
          "4824",
          "4826",
          "4827",
          "4833",
          "4834",
          "4835",
          "4839",
          "4840",
          "4845",
          "5090",
          "5091",
          "5093",
          "5097",
          "5098",
          "5099",
          "5114",
          "5115",
          "5116",
          "5117",
          "5118",
          "5119",
          "5120",
          "5121",
          "5122",
          "5123",
          "5126",
          "5140",
          "5141",
          "5142",
          "5293",
          "5294",
          "5295",
          "5296",
          "5353"
         ],
         "xaxis": "x",
         "y": [
          0.5721159359226812,
          0.18989111911670847,
          0.20662273164467504,
          0.22434932584931072,
          0.2849159117959662,
          0.0456644976507936,
          0.24598918156759525,
          0.24388099125414514,
          0.9257986403146173,
          0.9169428628938147,
          0.9330238874326169,
          0.915992209577054,
          0.9186555629761753,
          0.6064970207235775,
          0.9122731059371959,
          0.9229187882770363,
          0.9444922506027069,
          0.9440307738886823,
          0.41324943364350836,
          0.7508350441187556,
          0.04761015872852571,
          0.5944474408091578,
          0.38202346232130396,
          0.043241646204214015,
          0.5148468474176909,
          0.2744026531933102,
          0.04181363617657037,
          0.3220327128841096,
          0.052816020375927246,
          0.2827579127138562,
          0.680030562843353,
          0.9194575811854658,
          0.9254544118716885,
          0.8991585689189057,
          0.44525578523132164,
          0.45525532268474367,
          0.5764425570347698,
          0.5239791410513545,
          0.9284509012035399
         ],
         "yaxis": "y"
        },
        {
         "alignmentgroup": "True",
         "hovertemplate": "<b>%{hovertext}</b><br><br>Assigned Population=Prob_B<br>facet_col=Grado<br>Sample=%{x}<br>Posterior Probability=%{y}<extra></extra>",
         "hovertext": [
          "4798",
          "4799",
          "4801",
          "4805",
          "4807",
          "4808",
          "4809",
          "4810",
          "4811",
          "4812",
          "4838",
          "4957",
          "4958",
          "4959",
          "4960",
          "4961",
          "4966",
          "4967",
          "4969",
          "4972",
          "4975",
          "4981",
          "4982",
          "4983",
          "4985",
          "4987",
          "4988",
          "4989",
          "5135",
          "5136",
          "5138",
          "5139"
         ],
         "legendgroup": "Prob_B",
         "marker": {
          "color": "#EF553B",
          "pattern": {
           "shape": ""
          }
         },
         "name": "Prob_B",
         "offsetgroup": "Prob_B",
         "orientation": "v",
         "showlegend": false,
         "textposition": "auto",
         "type": "bar",
         "x": [
          "4798",
          "4799",
          "4801",
          "4805",
          "4807",
          "4808",
          "4809",
          "4810",
          "4811",
          "4812",
          "4838",
          "4957",
          "4958",
          "4959",
          "4960",
          "4961",
          "4966",
          "4967",
          "4969",
          "4972",
          "4975",
          "4981",
          "4982",
          "4983",
          "4985",
          "4987",
          "4988",
          "4989",
          "5135",
          "5136",
          "5138",
          "5139"
         ],
         "xaxis": "x2",
         "y": [
          0.04436838092695916,
          0.04235286500348548,
          0.2865957675756526,
          0.05379234705715518,
          0.04016335073875625,
          0.04373858693725198,
          0.045449908528535,
          0.049472076525283314,
          0.054560637581522214,
          0.05172879962471188,
          0.9216239873222439,
          0.040525637642467825,
          0.05416872941124299,
          0.4821326982379863,
          0.04056317686400792,
          0.514520859580933,
          0.4724522816926818,
          0.0441874250573436,
          0.07654829104528783,
          0.04444727185377105,
          0.34067963197244444,
          0.043459160315355835,
          0.042419194178428835,
          0.04655834520483332,
          0.18067529649971595,
          0.2839637119144,
          0.16978797612829288,
          0.09184714199187789,
          0.04212125205390511,
          0.18780367032514514,
          0.043415000707230665,
          0.19289003310837993
         ],
         "yaxis": "y2"
        },
        {
         "alignmentgroup": "True",
         "hovertemplate": "<b>%{hovertext}</b><br><br>Assigned Population=Prob_B<br>facet_col=Trieste<br>Sample=%{x}<br>Posterior Probability=%{y}<extra></extra>",
         "hovertext": [
          "4815",
          "4828",
          "4829",
          "4830",
          "4831",
          "4832",
          "4976",
          "4977",
          "4978",
          "4979",
          "4993",
          "5079",
          "5080",
          "5081",
          "5082",
          "5083",
          "5084",
          "5085",
          "5086",
          "5089",
          "5094",
          "jojo",
          "eevee"
         ],
         "legendgroup": "Prob_B",
         "marker": {
          "color": "#EF553B",
          "pattern": {
           "shape": ""
          }
         },
         "name": "Prob_B",
         "offsetgroup": "Prob_B",
         "orientation": "v",
         "showlegend": false,
         "textposition": "auto",
         "type": "bar",
         "x": [
          "4815",
          "4828",
          "4829",
          "4830",
          "4831",
          "4832",
          "4976",
          "4977",
          "4978",
          "4979",
          "4993",
          "5079",
          "5080",
          "5081",
          "5082",
          "5083",
          "5084",
          "5085",
          "5086",
          "5089",
          "5094",
          "5354",
          "5357"
         ],
         "xaxis": "x3",
         "y": [
          0.18697592449745587,
          0.9253867394965207,
          0.2042567499463882,
          0.20856409081306906,
          0.2785234986384524,
          0.9267431294489004,
          0.2388059187707506,
          0.21657133671261714,
          0.19282219421995545,
          0.1849681175382618,
          0.2698373629939122,
          0.39020167614906887,
          0.47348470468106213,
          0.3643442826890608,
          0.2856167206952524,
          0.36230312777987633,
          0.31020242776805473,
          0.6629696985610487,
          0.3134237486689875,
          0.26374964185491206,
          0.42440928221667695,
          0.3503213284371316,
          0.22152630044695165
         ],
         "yaxis": "y3"
        },
        {
         "alignmentgroup": "True",
         "hovertemplate": "<b>%{hovertext}</b><br><br>Assigned Population=Prob_C<br>facet_col=Monfalcone<br>Sample=%{x}<br>Posterior Probability=%{y}<extra></extra>",
         "hovertext": [
          "4291",
          "4813",
          "4821",
          "4822",
          "4823",
          "4824",
          "4826",
          "4827",
          "4833",
          "4834",
          "4835",
          "4839",
          "4840",
          "4845",
          "5090",
          "5091",
          "5093",
          "5097",
          "5098",
          "5099",
          "5114",
          "5115",
          "5116",
          "5117",
          "5118",
          "5119",
          "5120",
          "5121",
          "5122",
          "5123",
          "5126",
          "5140",
          "5141",
          "5142",
          "5293",
          "5294",
          "5295",
          "5296",
          "5353"
         ],
         "legendgroup": "Prob_C",
         "marker": {
          "color": "#00cc96",
          "pattern": {
           "shape": ""
          }
         },
         "name": "Prob_C",
         "offsetgroup": "Prob_C",
         "orientation": "v",
         "showlegend": true,
         "textposition": "auto",
         "type": "bar",
         "x": [
          "4291",
          "4813",
          "4821",
          "4822",
          "4823",
          "4824",
          "4826",
          "4827",
          "4833",
          "4834",
          "4835",
          "4839",
          "4840",
          "4845",
          "5090",
          "5091",
          "5093",
          "5097",
          "5098",
          "5099",
          "5114",
          "5115",
          "5116",
          "5117",
          "5118",
          "5119",
          "5120",
          "5121",
          "5122",
          "5123",
          "5126",
          "5140",
          "5141",
          "5142",
          "5293",
          "5294",
          "5295",
          "5296",
          "5353"
         ],
         "xaxis": "x",
         "y": [
          0.10928000216659228,
          0.8067066849419625,
          0.7901656733751322,
          0.7691537632150168,
          0.7075790359840487,
          0.001614750196979266,
          0.7496180147443255,
          0.7519647460029334,
          0.06278757145624304,
          0.07229620712742195,
          0.05632098289291428,
          0.0735798807756312,
          0.06853541983382834,
          0.027179181479547794,
          0.05500918212699947,
          0.06670576590898378,
          0.043052768112905364,
          0.04072717526807137,
          0.553340108861077,
          0.23391240870010507,
          0.0014075078132556808,
          0.021165499090937897,
          0.605640601104764,
          0.0013731716447944822,
          0.14955938479785144,
          0.7179365351743963,
          0.0012347025189165582,
          0.6635176606721949,
          0.002098605089645414,
          0.7098725535528663,
          0.31461944264897135,
          0.03363082338757906,
          0.05885150196759907,
          0.06842840656607638,
          0.2106508333673794,
          0.099930854877274,
          0.24685714517604207,
          0.10311092276788085,
          0.06032824400820883
         ],
         "yaxis": "y"
        },
        {
         "alignmentgroup": "True",
         "hovertemplate": "<b>%{hovertext}</b><br><br>Assigned Population=Prob_C<br>facet_col=Grado<br>Sample=%{x}<br>Posterior Probability=%{y}<extra></extra>",
         "hovertext": [
          "4798",
          "4799",
          "4801",
          "4805",
          "4807",
          "4808",
          "4809",
          "4810",
          "4811",
          "4812",
          "4838",
          "4957",
          "4958",
          "4959",
          "4960",
          "4961",
          "4966",
          "4967",
          "4969",
          "4972",
          "4975",
          "4981",
          "4982",
          "4983",
          "4985",
          "4987",
          "4988",
          "4989",
          "5135",
          "5136",
          "5138",
          "5139"
         ],
         "legendgroup": "Prob_C",
         "marker": {
          "color": "#00cc96",
          "pattern": {
           "shape": ""
          }
         },
         "name": "Prob_C",
         "offsetgroup": "Prob_C",
         "orientation": "v",
         "showlegend": false,
         "textposition": "auto",
         "type": "bar",
         "x": [
          "4798",
          "4799",
          "4801",
          "4805",
          "4807",
          "4808",
          "4809",
          "4810",
          "4811",
          "4812",
          "4838",
          "4957",
          "4958",
          "4959",
          "4960",
          "4961",
          "4966",
          "4967",
          "4969",
          "4972",
          "4975",
          "4981",
          "4982",
          "4983",
          "4985",
          "4987",
          "4988",
          "4989",
          "5135",
          "5136",
          "5138",
          "5139"
         ],
         "xaxis": "x2",
         "y": [
          0.0013726516620558636,
          0.0014902091558785233,
          0.7041103827791224,
          0.001777100990168262,
          0.001159936625537826,
          0.0013381816706652997,
          0.0016139995798322322,
          0.0014788822422326837,
          0.0020074260539067147,
          0.0019048987992082253,
          0.06758515466399007,
          0.001327127120631144,
          0.0021491374262802487,
          0.13654115881104364,
          0.0011197913023954945,
          0.11950617335171396,
          0.11705914362939915,
          0.0013410647750950347,
          0.0027013112013787306,
          0.0015452327453757035,
          0.036442630480086724,
          0.001345325455902201,
          0.0013888868156363284,
          0.0016253636764628797,
          0.021445999070400058,
          0.034660780899705174,
          0.0202057624274222,
          0.0048278324486942525,
          0.0013379994092928664,
          0.02089392082400803,
          0.0014392511458162535,
          0.024966927902831264
         ],
         "yaxis": "y2"
        },
        {
         "alignmentgroup": "True",
         "hovertemplate": "<b>%{hovertext}</b><br><br>Assigned Population=Prob_C<br>facet_col=Trieste<br>Sample=%{x}<br>Posterior Probability=%{y}<extra></extra>",
         "hovertext": [
          "4815",
          "4828",
          "4829",
          "4830",
          "4831",
          "4832",
          "4976",
          "4977",
          "4978",
          "4979",
          "4993",
          "5079",
          "5080",
          "5081",
          "5082",
          "5083",
          "5084",
          "5085",
          "5086",
          "5089",
          "5094",
          "jojo",
          "eevee"
         ],
         "legendgroup": "Prob_C",
         "marker": {
          "color": "#00cc96",
          "pattern": {
           "shape": ""
          }
         },
         "name": "Prob_C",
         "offsetgroup": "Prob_C",
         "orientation": "v",
         "showlegend": false,
         "textposition": "auto",
         "type": "bar",
         "x": [
          "4815",
          "4828",
          "4829",
          "4830",
          "4831",
          "4832",
          "4976",
          "4977",
          "4978",
          "4979",
          "4993",
          "5079",
          "5080",
          "5081",
          "5082",
          "5083",
          "5084",
          "5085",
          "5086",
          "5089",
          "5094",
          "5354",
          "5357"
         ],
         "xaxis": "x3",
         "y": [
          0.8104548833123993,
          0.06440459331104144,
          0.7924230307038297,
          0.7884560209293208,
          0.7162181595320694,
          0.06261554162209823,
          0.7571266191899568,
          0.77920797089077,
          0.8038663357332763,
          0.8127857384807188,
          0.7226601548744143,
          0.5598005598239467,
          0.4758955056822993,
          0.6129678581221644,
          0.705927257329482,
          0.6271830557711673,
          0.6817644213491183,
          0.3261550467172506,
          0.08525257920291565,
          0.7307855729130465,
          0.5689111262827838,
          0.6395881017139848,
          0.776418595856467
         ],
         "yaxis": "y3"
        }
       ],
       "layout": {
        "annotations": [
         {
          "font": {},
          "showarrow": false,
          "text": "facet_col=Monfalcone",
          "x": 0.15999999999999998,
          "xanchor": "center",
          "xref": "paper",
          "y": 1,
          "yanchor": "bottom",
          "yref": "paper"
         },
         {
          "font": {},
          "showarrow": false,
          "text": "facet_col=Grado",
          "x": 0.49999999999999994,
          "xanchor": "center",
          "xref": "paper",
          "y": 1,
          "yanchor": "bottom",
          "yref": "paper"
         },
         {
          "font": {},
          "showarrow": false,
          "text": "facet_col=Trieste",
          "x": 0.8399999999999999,
          "xanchor": "center",
          "xref": "paper",
          "y": 1,
          "yanchor": "bottom",
          "yref": "paper"
         }
        ],
        "barmode": "stack",
        "height": 700,
        "legend": {
         "title": {
          "text": "Assigned Population"
         },
         "tracegroupgap": 0
        },
        "template": {
         "data": {
          "bar": [
           {
            "error_x": {
             "color": "#2a3f5f"
            },
            "error_y": {
             "color": "#2a3f5f"
            },
            "marker": {
             "line": {
              "color": "#E5ECF6",
              "width": 0.5
             },
             "pattern": {
              "fillmode": "overlay",
              "size": 10,
              "solidity": 0.2
             }
            },
            "type": "bar"
           }
          ],
          "barpolar": [
           {
            "marker": {
             "line": {
              "color": "#E5ECF6",
              "width": 0.5
             },
             "pattern": {
              "fillmode": "overlay",
              "size": 10,
              "solidity": 0.2
             }
            },
            "type": "barpolar"
           }
          ],
          "carpet": [
           {
            "aaxis": {
             "endlinecolor": "#2a3f5f",
             "gridcolor": "white",
             "linecolor": "white",
             "minorgridcolor": "white",
             "startlinecolor": "#2a3f5f"
            },
            "baxis": {
             "endlinecolor": "#2a3f5f",
             "gridcolor": "white",
             "linecolor": "white",
             "minorgridcolor": "white",
             "startlinecolor": "#2a3f5f"
            },
            "type": "carpet"
           }
          ],
          "choropleth": [
           {
            "colorbar": {
             "outlinewidth": 0,
             "ticks": ""
            },
            "type": "choropleth"
           }
          ],
          "contour": [
           {
            "colorbar": {
             "outlinewidth": 0,
             "ticks": ""
            },
            "colorscale": [
             [
              0,
              "#0d0887"
             ],
             [
              0.1111111111111111,
              "#46039f"
             ],
             [
              0.2222222222222222,
              "#7201a8"
             ],
             [
              0.3333333333333333,
              "#9c179e"
             ],
             [
              0.4444444444444444,
              "#bd3786"
             ],
             [
              0.5555555555555556,
              "#d8576b"
             ],
             [
              0.6666666666666666,
              "#ed7953"
             ],
             [
              0.7777777777777778,
              "#fb9f3a"
             ],
             [
              0.8888888888888888,
              "#fdca26"
             ],
             [
              1,
              "#f0f921"
             ]
            ],
            "type": "contour"
           }
          ],
          "contourcarpet": [
           {
            "colorbar": {
             "outlinewidth": 0,
             "ticks": ""
            },
            "type": "contourcarpet"
           }
          ],
          "heatmap": [
           {
            "colorbar": {
             "outlinewidth": 0,
             "ticks": ""
            },
            "colorscale": [
             [
              0,
              "#0d0887"
             ],
             [
              0.1111111111111111,
              "#46039f"
             ],
             [
              0.2222222222222222,
              "#7201a8"
             ],
             [
              0.3333333333333333,
              "#9c179e"
             ],
             [
              0.4444444444444444,
              "#bd3786"
             ],
             [
              0.5555555555555556,
              "#d8576b"
             ],
             [
              0.6666666666666666,
              "#ed7953"
             ],
             [
              0.7777777777777778,
              "#fb9f3a"
             ],
             [
              0.8888888888888888,
              "#fdca26"
             ],
             [
              1,
              "#f0f921"
             ]
            ],
            "type": "heatmap"
           }
          ],
          "heatmapgl": [
           {
            "colorbar": {
             "outlinewidth": 0,
             "ticks": ""
            },
            "colorscale": [
             [
              0,
              "#0d0887"
             ],
             [
              0.1111111111111111,
              "#46039f"
             ],
             [
              0.2222222222222222,
              "#7201a8"
             ],
             [
              0.3333333333333333,
              "#9c179e"
             ],
             [
              0.4444444444444444,
              "#bd3786"
             ],
             [
              0.5555555555555556,
              "#d8576b"
             ],
             [
              0.6666666666666666,
              "#ed7953"
             ],
             [
              0.7777777777777778,
              "#fb9f3a"
             ],
             [
              0.8888888888888888,
              "#fdca26"
             ],
             [
              1,
              "#f0f921"
             ]
            ],
            "type": "heatmapgl"
           }
          ],
          "histogram": [
           {
            "marker": {
             "pattern": {
              "fillmode": "overlay",
              "size": 10,
              "solidity": 0.2
             }
            },
            "type": "histogram"
           }
          ],
          "histogram2d": [
           {
            "colorbar": {
             "outlinewidth": 0,
             "ticks": ""
            },
            "colorscale": [
             [
              0,
              "#0d0887"
             ],
             [
              0.1111111111111111,
              "#46039f"
             ],
             [
              0.2222222222222222,
              "#7201a8"
             ],
             [
              0.3333333333333333,
              "#9c179e"
             ],
             [
              0.4444444444444444,
              "#bd3786"
             ],
             [
              0.5555555555555556,
              "#d8576b"
             ],
             [
              0.6666666666666666,
              "#ed7953"
             ],
             [
              0.7777777777777778,
              "#fb9f3a"
             ],
             [
              0.8888888888888888,
              "#fdca26"
             ],
             [
              1,
              "#f0f921"
             ]
            ],
            "type": "histogram2d"
           }
          ],
          "histogram2dcontour": [
           {
            "colorbar": {
             "outlinewidth": 0,
             "ticks": ""
            },
            "colorscale": [
             [
              0,
              "#0d0887"
             ],
             [
              0.1111111111111111,
              "#46039f"
             ],
             [
              0.2222222222222222,
              "#7201a8"
             ],
             [
              0.3333333333333333,
              "#9c179e"
             ],
             [
              0.4444444444444444,
              "#bd3786"
             ],
             [
              0.5555555555555556,
              "#d8576b"
             ],
             [
              0.6666666666666666,
              "#ed7953"
             ],
             [
              0.7777777777777778,
              "#fb9f3a"
             ],
             [
              0.8888888888888888,
              "#fdca26"
             ],
             [
              1,
              "#f0f921"
             ]
            ],
            "type": "histogram2dcontour"
           }
          ],
          "mesh3d": [
           {
            "colorbar": {
             "outlinewidth": 0,
             "ticks": ""
            },
            "type": "mesh3d"
           }
          ],
          "parcoords": [
           {
            "line": {
             "colorbar": {
              "outlinewidth": 0,
              "ticks": ""
             }
            },
            "type": "parcoords"
           }
          ],
          "pie": [
           {
            "automargin": true,
            "type": "pie"
           }
          ],
          "scatter": [
           {
            "fillpattern": {
             "fillmode": "overlay",
             "size": 10,
             "solidity": 0.2
            },
            "type": "scatter"
           }
          ],
          "scatter3d": [
           {
            "line": {
             "colorbar": {
              "outlinewidth": 0,
              "ticks": ""
             }
            },
            "marker": {
             "colorbar": {
              "outlinewidth": 0,
              "ticks": ""
             }
            },
            "type": "scatter3d"
           }
          ],
          "scattercarpet": [
           {
            "marker": {
             "colorbar": {
              "outlinewidth": 0,
              "ticks": ""
             }
            },
            "type": "scattercarpet"
           }
          ],
          "scattergeo": [
           {
            "marker": {
             "colorbar": {
              "outlinewidth": 0,
              "ticks": ""
             }
            },
            "type": "scattergeo"
           }
          ],
          "scattergl": [
           {
            "marker": {
             "colorbar": {
              "outlinewidth": 0,
              "ticks": ""
             }
            },
            "type": "scattergl"
           }
          ],
          "scattermapbox": [
           {
            "marker": {
             "colorbar": {
              "outlinewidth": 0,
              "ticks": ""
             }
            },
            "type": "scattermapbox"
           }
          ],
          "scatterpolar": [
           {
            "marker": {
             "colorbar": {
              "outlinewidth": 0,
              "ticks": ""
             }
            },
            "type": "scatterpolar"
           }
          ],
          "scatterpolargl": [
           {
            "marker": {
             "colorbar": {
              "outlinewidth": 0,
              "ticks": ""
             }
            },
            "type": "scatterpolargl"
           }
          ],
          "scatterternary": [
           {
            "marker": {
             "colorbar": {
              "outlinewidth": 0,
              "ticks": ""
             }
            },
            "type": "scatterternary"
           }
          ],
          "surface": [
           {
            "colorbar": {
             "outlinewidth": 0,
             "ticks": ""
            },
            "colorscale": [
             [
              0,
              "#0d0887"
             ],
             [
              0.1111111111111111,
              "#46039f"
             ],
             [
              0.2222222222222222,
              "#7201a8"
             ],
             [
              0.3333333333333333,
              "#9c179e"
             ],
             [
              0.4444444444444444,
              "#bd3786"
             ],
             [
              0.5555555555555556,
              "#d8576b"
             ],
             [
              0.6666666666666666,
              "#ed7953"
             ],
             [
              0.7777777777777778,
              "#fb9f3a"
             ],
             [
              0.8888888888888888,
              "#fdca26"
             ],
             [
              1,
              "#f0f921"
             ]
            ],
            "type": "surface"
           }
          ],
          "table": [
           {
            "cells": {
             "fill": {
              "color": "#EBF0F8"
             },
             "line": {
              "color": "white"
             }
            },
            "header": {
             "fill": {
              "color": "#C8D4E3"
             },
             "line": {
              "color": "white"
             }
            },
            "type": "table"
           }
          ]
         },
         "layout": {
          "annotationdefaults": {
           "arrowcolor": "#2a3f5f",
           "arrowhead": 0,
           "arrowwidth": 1
          },
          "autotypenumbers": "strict",
          "coloraxis": {
           "colorbar": {
            "outlinewidth": 0,
            "ticks": ""
           }
          },
          "colorscale": {
           "diverging": [
            [
             0,
             "#8e0152"
            ],
            [
             0.1,
             "#c51b7d"
            ],
            [
             0.2,
             "#de77ae"
            ],
            [
             0.3,
             "#f1b6da"
            ],
            [
             0.4,
             "#fde0ef"
            ],
            [
             0.5,
             "#f7f7f7"
            ],
            [
             0.6,
             "#e6f5d0"
            ],
            [
             0.7,
             "#b8e186"
            ],
            [
             0.8,
             "#7fbc41"
            ],
            [
             0.9,
             "#4d9221"
            ],
            [
             1,
             "#276419"
            ]
           ],
           "sequential": [
            [
             0,
             "#0d0887"
            ],
            [
             0.1111111111111111,
             "#46039f"
            ],
            [
             0.2222222222222222,
             "#7201a8"
            ],
            [
             0.3333333333333333,
             "#9c179e"
            ],
            [
             0.4444444444444444,
             "#bd3786"
            ],
            [
             0.5555555555555556,
             "#d8576b"
            ],
            [
             0.6666666666666666,
             "#ed7953"
            ],
            [
             0.7777777777777778,
             "#fb9f3a"
            ],
            [
             0.8888888888888888,
             "#fdca26"
            ],
            [
             1,
             "#f0f921"
            ]
           ],
           "sequentialminus": [
            [
             0,
             "#0d0887"
            ],
            [
             0.1111111111111111,
             "#46039f"
            ],
            [
             0.2222222222222222,
             "#7201a8"
            ],
            [
             0.3333333333333333,
             "#9c179e"
            ],
            [
             0.4444444444444444,
             "#bd3786"
            ],
            [
             0.5555555555555556,
             "#d8576b"
            ],
            [
             0.6666666666666666,
             "#ed7953"
            ],
            [
             0.7777777777777778,
             "#fb9f3a"
            ],
            [
             0.8888888888888888,
             "#fdca26"
            ],
            [
             1,
             "#f0f921"
            ]
           ]
          },
          "colorway": [
           "#636efa",
           "#EF553B",
           "#00cc96",
           "#ab63fa",
           "#FFA15A",
           "#19d3f3",
           "#FF6692",
           "#B6E880",
           "#FF97FF",
           "#FECB52"
          ],
          "font": {
           "color": "#2a3f5f"
          },
          "geo": {
           "bgcolor": "white",
           "lakecolor": "white",
           "landcolor": "#E5ECF6",
           "showlakes": true,
           "showland": true,
           "subunitcolor": "white"
          },
          "hoverlabel": {
           "align": "left"
          },
          "hovermode": "closest",
          "mapbox": {
           "style": "light"
          },
          "paper_bgcolor": "white",
          "plot_bgcolor": "#E5ECF6",
          "polar": {
           "angularaxis": {
            "gridcolor": "white",
            "linecolor": "white",
            "ticks": ""
           },
           "bgcolor": "#E5ECF6",
           "radialaxis": {
            "gridcolor": "white",
            "linecolor": "white",
            "ticks": ""
           }
          },
          "scene": {
           "xaxis": {
            "backgroundcolor": "#E5ECF6",
            "gridcolor": "white",
            "gridwidth": 2,
            "linecolor": "white",
            "showbackground": true,
            "ticks": "",
            "zerolinecolor": "white"
           },
           "yaxis": {
            "backgroundcolor": "#E5ECF6",
            "gridcolor": "white",
            "gridwidth": 2,
            "linecolor": "white",
            "showbackground": true,
            "ticks": "",
            "zerolinecolor": "white"
           },
           "zaxis": {
            "backgroundcolor": "#E5ECF6",
            "gridcolor": "white",
            "gridwidth": 2,
            "linecolor": "white",
            "showbackground": true,
            "ticks": "",
            "zerolinecolor": "white"
           }
          },
          "shapedefaults": {
           "line": {
            "color": "#2a3f5f"
           }
          },
          "ternary": {
           "aaxis": {
            "gridcolor": "white",
            "linecolor": "white",
            "ticks": ""
           },
           "baxis": {
            "gridcolor": "white",
            "linecolor": "white",
            "ticks": ""
           },
           "bgcolor": "#E5ECF6",
           "caxis": {
            "gridcolor": "white",
            "linecolor": "white",
            "ticks": ""
           }
          },
          "title": {
           "x": 0.05
          },
          "xaxis": {
           "automargin": true,
           "gridcolor": "white",
           "linecolor": "white",
           "ticks": "",
           "title": {
            "standoff": 15
           },
           "zerolinecolor": "white",
           "zerolinewidth": 2
          },
          "yaxis": {
           "automargin": true,
           "gridcolor": "white",
           "linecolor": "white",
           "ticks": "",
           "title": {
            "standoff": 15
           },
           "zerolinecolor": "white",
           "zerolinewidth": 2
          }
         }
        },
        "title": {
         "text": "DAPC Posterior Membership Probabilities per Sample"
        },
        "width": 1200,
        "xaxis": {
         "anchor": "y",
         "autorange": true,
         "categoryorder": "total descending",
         "domain": [
          0,
          0.31999999999999995
         ],
         "range": [
          -0.5,
          38.5
         ],
         "title": {
          "text": "Sample"
         },
         "type": "category"
        },
        "xaxis2": {
         "anchor": "y2",
         "autorange": true,
         "domain": [
          0.33999999999999997,
          0.6599999999999999
         ],
         "range": [
          -0.5,
          31.5
         ],
         "title": {
          "text": "Sample"
         },
         "type": "category"
        },
        "xaxis3": {
         "anchor": "y3",
         "autorange": true,
         "domain": [
          0.6799999999999999,
          0.9999999999999999
         ],
         "range": [
          -0.5,
          22.5
         ],
         "title": {
          "text": "Sample"
         },
         "type": "category"
        },
        "yaxis": {
         "anchor": "x",
         "autorange": true,
         "domain": [
          0,
          1
         ],
         "range": [
          0,
          1.0526315789473686
         ],
         "title": {
          "text": "Posterior Probability"
         },
         "type": "linear"
        },
        "yaxis2": {
         "anchor": "x2",
         "autorange": true,
         "domain": [
          0,
          1
         ],
         "matches": "y",
         "range": [
          0,
          1.0526315789473686
         ],
         "showticklabels": false,
         "type": "linear"
        },
        "yaxis3": {
         "anchor": "x3",
         "autorange": true,
         "domain": [
          0,
          1
         ],
         "matches": "y",
         "range": [
          0,
          1.0526315789473686
         ],
         "showticklabels": false,
         "type": "linear"
        }
       }
      },
      "image/png": "[encoded data removed]",
      "text/html": [
       "<div>                            <div id=\"58667c87-74c2-4aff-aa0b-f267fbac1804\" class=\"plotly-graph-div\" style=\"height:700px; width:1200px;\"></div>            <script type=\"text/javascript\">                require([\"plotly\"], function(Plotly) {                    window.PLOTLYENV=window.PLOTLYENV || {};                                    if (document.getElementById(\"58667c87-74c2-4aff-aa0b-f267fbac1804\")) {                    Plotly.newPlot(                        \"58667c87-74c2-4aff-aa0b-f267fbac1804\",                        [{\"alignmentgroup\":\"True\",\"hovertemplate\":\"\\u003cb\\u003e%{hovertext}\\u003c\\u002fb\\u003e\\u003cbr\\u003e\\u003cbr\\u003eAssigned Population=Prob_A\\u003cbr\\u003efacet_col=Monfalcone\\u003cbr\\u003eSample=%{x}\\u003cbr\\u003ePosterior Probability=%{y}\\u003cextra\\u003e\\u003c\\u002fextra\\u003e\",\"hovertext\":[\"4291\",\"4813\",\"4821\",\"4822\",\"4823\",\"4824\",\"4826\",\"4827\",\"4833\",\"4834\",\"4835\",\"4839\",\"4840\",\"4845\",\"5090\",\"5091\",\"5093\",\"5097\",\"5098\",\"5099\",\"5114\",\"5115\",\"5116\",\"5117\",\"5118\",\"5119\",\"5120\",\"5121\",\"5122\",\"5123\",\"5126\",\"5140\",\"5141\",\"5142\",\"5293\",\"5294\",\"5295\",\"5296\",\"5353\"],\"legendgroup\":\"Prob_A\",\"marker\":{\"color\":\"#636efa\",\"pattern\":{\"shape\":\"\"}},\"name\":\"Prob_A\",\"offsetgroup\":\"Prob_A\",\"orientation\":\"v\",\"showlegend\":true,\"textposition\":\"auto\",\"x\":[\"4291\",\"4813\",\"4821\",\"4822\",\"4823\",\"4824\",\"4826\",\"4827\",\"4833\",\"4834\",\"4835\",\"4839\",\"4840\",\"4845\",\"5090\",\"5091\",\"5093\",\"5097\",\"5098\",\"5099\",\"5114\",\"5115\",\"5116\",\"5117\",\"5118\",\"5119\",\"5120\",\"5121\",\"5122\",\"5123\",\"5126\",\"5140\",\"5141\",\"5142\",\"5293\",\"5294\",\"5295\",\"5296\",\"5353\"],\"xaxis\":\"x\",\"y\":[0.3186040619107266,0.0034021959413290405,0.003211594980192712,0.006496910935672443,0.007505052219985071,0.9527207521522272,0.004392803688079219,0.0041542627429213465,0.011413788229139665,0.01076092997876351,0.010655129674468624,0.010427909647314965,0.012809017189996462,0.3663237977968747,0.032717711935804604,0.010375445813979936,0.012454981284387764,0.015242050843246377,0.03341045749541465,0.01525254718113933,0.9509823334582185,0.3843870600999042,0.01233593657393191,0.9553851821509914,0.33559376778445765,0.007660811632293588,0.9569516613045131,0.014449626443695551,0.9450853745344273,0.007369533733277591,0.005349994507675709,0.046911595426955,0.015694086160712495,0.032413024515017895,0.34409338140129897,0.44481382243798234,0.17670029778918814,0.3729099361807647,0.011220854788251213],\"yaxis\":\"y\",\"type\":\"bar\"},{\"alignmentgroup\":\"True\",\"hovertemplate\":\"\\u003cb\\u003e%{hovertext}\\u003c\\u002fb\\u003e\\u003cbr\\u003e\\u003cbr\\u003eAssigned Population=Prob_A\\u003cbr\\u003efacet_col=Grado\\u003cbr\\u003eSample=%{x}\\u003cbr\\u003ePosterior Probability=%{y}\\u003cextra\\u003e\\u003c\\u002fextra\\u003e\",\"hovertext\":[\"4798\",\"4799\",\"4801\",\"4805\",\"4807\",\"4808\",\"4809\",\"4810\",\"4811\",\"4812\",\"4838\",\"4957\",\"4958\",\"4959\",\"4960\",\"4961\",\"4966\",\"4967\",\"4969\",\"4972\",\"4975\",\"4981\",\"4982\",\"4983\",\"4985\",\"4987\",\"4988\",\"4989\",\"5135\",\"5136\",\"5138\",\"5139\"],\"legendgroup\":\"Prob_A\",\"marker\":{\"color\":\"#636efa\",\"pattern\":{\"shape\":\"\"}},\"name\":\"Prob_A\",\"offsetgroup\":\"Prob_A\",\"orientation\":\"v\",\"showlegend\":false,\"textposition\":\"auto\",\"x\":[\"4798\",\"4799\",\"4801\",\"4805\",\"4807\",\"4808\",\"4809\",\"4810\",\"4811\",\"4812\",\"4838\",\"4957\",\"4958\",\"4959\",\"4960\",\"4961\",\"4966\",\"4967\",\"4969\",\"4972\",\"4975\",\"4981\",\"4982\",\"4983\",\"4985\",\"4987\",\"4988\",\"4989\",\"5135\",\"5136\",\"5138\",\"5139\"],\"xaxis\":\"x2\",\"y\":[0.9542589674109849,0.956156925840636,0.009293849645224887,0.9444305519526764,0.9586767126357059,0.9549232313920827,0.9529360918916328,0.9490490412324841,0.9434319363645712,0.9463663015760799,0.010790858013765874,0.9581472352369009,0.9436821331624766,0.38132614295097,0.9583170318335966,0.36597296706735305,0.41048857467791916,0.9544715101675615,0.9207503977533336,0.9540074954008533,0.6228777375474689,0.955195514228742,0.9561919190059348,0.9518162911187038,0.797878704429884,0.6813755071858949,0.8100062614442848,0.9033250255594278,0.956540748536802,0.7913024088508469,0.9551457481469531,0.7821430389887888],\"yaxis\":\"y2\",\"type\":\"bar\"},{\"alignmentgroup\":\"True\",\"hovertemplate\":\"\\u003cb\\u003e%{hovertext}\\u003c\\u002fb\\u003e\\u003cbr\\u003e\\u003cbr\\u003eAssigned Population=Prob_A\\u003cbr\\u003efacet_col=Trieste\\u003cbr\\u003eSample=%{x}\\u003cbr\\u003ePosterior Probability=%{y}\\u003cextra\\u003e\\u003c\\u002fextra\\u003e\",\"hovertext\":[\"4815\",\"4828\",\"4829\",\"4830\",\"4831\",\"4832\",\"4976\",\"4977\",\"4978\",\"4979\",\"4993\",\"5079\",\"5080\",\"5081\",\"5082\",\"5083\",\"5084\",\"5085\",\"5086\",\"5089\",\"5094\",\"jojo\",\"eevee\"],\"legendgroup\":\"Prob_A\",\"marker\":{\"color\":\"#636efa\",\"pattern\":{\"shape\":\"\"}},\"name\":\"Prob_A\",\"offsetgroup\":\"Prob_A\",\"orientation\":\"v\",\"showlegend\":false,\"textposition\":\"auto\",\"x\":[\"4815\",\"4828\",\"4829\",\"4830\",\"4831\",\"4832\",\"4976\",\"4977\",\"4978\",\"4979\",\"4993\",\"5079\",\"5080\",\"5081\",\"5082\",\"5083\",\"5084\",\"5085\",\"5086\",\"5089\",\"5094\",\"5354\",\"5357\"],\"xaxis\":\"x3\",\"y\":[0.0025691921901448904,0.010208667192437827,0.0033202193497822033,0.002979888257610264,0.005258341829478297,0.010641328929001376,0.004067462039292603,0.004220692396612884,0.0033114700467682706,0.0022461439810193104,0.0075024821316735674,0.04999776402698443,0.05061978963663842,0.022687859188774834,0.008456021975265559,0.01051381644895642,0.008033150882826941,0.010875254721700605,0.6013236721280968,0.005464785232041597,0.006679591500539099,0.010090569848883525,0.002055103696581394],\"yaxis\":\"y3\",\"type\":\"bar\"},{\"alignmentgroup\":\"True\",\"hovertemplate\":\"\\u003cb\\u003e%{hovertext}\\u003c\\u002fb\\u003e\\u003cbr\\u003e\\u003cbr\\u003eAssigned Population=Prob_B\\u003cbr\\u003efacet_col=Monfalcone\\u003cbr\\u003eSample=%{x}\\u003cbr\\u003ePosterior Probability=%{y}\\u003cextra\\u003e\\u003c\\u002fextra\\u003e\",\"hovertext\":[\"4291\",\"4813\",\"4821\",\"4822\",\"4823\",\"4824\",\"4826\",\"4827\",\"4833\",\"4834\",\"4835\",\"4839\",\"4840\",\"4845\",\"5090\",\"5091\",\"5093\",\"5097\",\"5098\",\"5099\",\"5114\",\"5115\",\"5116\",\"5117\",\"5118\",\"5119\",\"5120\",\"5121\",\"5122\",\"5123\",\"5126\",\"5140\",\"5141\",\"5142\",\"5293\",\"5294\",\"5295\",\"5296\",\"5353\"],\"legendgroup\":\"Prob_B\",\"marker\":{\"color\":\"#EF553B\",\"pattern\":{\"shape\":\"\"}},\"name\":\"Prob_B\",\"offsetgroup\":\"Prob_B\",\"orientation\":\"v\",\"showlegend\":true,\"textposition\":\"auto\",\"x\":[\"4291\",\"4813\",\"4821\",\"4822\",\"4823\",\"4824\",\"4826\",\"4827\",\"4833\",\"4834\",\"4835\",\"4839\",\"4840\",\"4845\",\"5090\",\"5091\",\"5093\",\"5097\",\"5098\",\"5099\",\"5114\",\"5115\",\"5116\",\"5117\",\"5118\",\"5119\",\"5120\",\"5121\",\"5122\",\"5123\",\"5126\",\"5140\",\"5141\",\"5142\",\"5293\",\"5294\",\"5295\",\"5296\",\"5353\"],\"xaxis\":\"x\",\"y\":[0.5721159359226812,0.18989111911670847,0.20662273164467504,0.22434932584931072,0.2849159117959662,0.0456644976507936,0.24598918156759525,0.24388099125414514,0.9257986403146173,0.9169428628938147,0.9330238874326169,0.915992209577054,0.9186555629761753,0.6064970207235775,0.9122731059371959,0.9229187882770363,0.9444922506027069,0.9440307738886823,0.41324943364350836,0.7508350441187556,0.04761015872852571,0.5944474408091578,0.38202346232130396,0.043241646204214015,0.5148468474176909,0.2744026531933102,0.04181363617657037,0.3220327128841096,0.052816020375927246,0.2827579127138562,0.680030562843353,0.9194575811854658,0.9254544118716885,0.8991585689189057,0.44525578523132164,0.45525532268474367,0.5764425570347698,0.5239791410513545,0.9284509012035399],\"yaxis\":\"y\",\"type\":\"bar\"},{\"alignmentgroup\":\"True\",\"hovertemplate\":\"\\u003cb\\u003e%{hovertext}\\u003c\\u002fb\\u003e\\u003cbr\\u003e\\u003cbr\\u003eAssigned Population=Prob_B\\u003cbr\\u003efacet_col=Grado\\u003cbr\\u003eSample=%{x}\\u003cbr\\u003ePosterior Probability=%{y}\\u003cextra\\u003e\\u003c\\u002fextra\\u003e\",\"hovertext\":[\"4798\",\"4799\",\"4801\",\"4805\",\"4807\",\"4808\",\"4809\",\"4810\",\"4811\",\"4812\",\"4838\",\"4957\",\"4958\",\"4959\",\"4960\",\"4961\",\"4966\",\"4967\",\"4969\",\"4972\",\"4975\",\"4981\",\"4982\",\"4983\",\"4985\",\"4987\",\"4988\",\"4989\",\"5135\",\"5136\",\"5138\",\"5139\"],\"legendgroup\":\"Prob_B\",\"marker\":{\"color\":\"#EF553B\",\"pattern\":{\"shape\":\"\"}},\"name\":\"Prob_B\",\"offsetgroup\":\"Prob_B\",\"orientation\":\"v\",\"showlegend\":false,\"textposition\":\"auto\",\"x\":[\"4798\",\"4799\",\"4801\",\"4805\",\"4807\",\"4808\",\"4809\",\"4810\",\"4811\",\"4812\",\"4838\",\"4957\",\"4958\",\"4959\",\"4960\",\"4961\",\"4966\",\"4967\",\"4969\",\"4972\",\"4975\",\"4981\",\"4982\",\"4983\",\"4985\",\"4987\",\"4988\",\"4989\",\"5135\",\"5136\",\"5138\",\"5139\"],\"xaxis\":\"x2\",\"y\":[0.04436838092695916,0.04235286500348548,0.2865957675756526,0.05379234705715518,0.04016335073875625,0.04373858693725198,0.045449908528535,0.049472076525283314,0.054560637581522214,0.05172879962471188,0.9216239873222439,0.040525637642467825,0.05416872941124299,0.4821326982379863,0.04056317686400792,0.514520859580933,0.4724522816926818,0.0441874250573436,0.07654829104528783,0.04444727185377105,0.34067963197244444,0.043459160315355835,0.042419194178428835,0.04655834520483332,0.18067529649971595,0.2839637119144,0.16978797612829288,0.09184714199187789,0.04212125205390511,0.18780367032514514,0.043415000707230665,0.19289003310837993],\"yaxis\":\"y2\",\"type\":\"bar\"},{\"alignmentgroup\":\"True\",\"hovertemplate\":\"\\u003cb\\u003e%{hovertext}\\u003c\\u002fb\\u003e\\u003cbr\\u003e\\u003cbr\\u003eAssigned Population=Prob_B\\u003cbr\\u003efacet_col=Trieste\\u003cbr\\u003eSample=%{x}\\u003cbr\\u003ePosterior Probability=%{y}\\u003cextra\\u003e\\u003c\\u002fextra\\u003e\",\"hovertext\":[\"4815\",\"4828\",\"4829\",\"4830\",\"4831\",\"4832\",\"4976\",\"4977\",\"4978\",\"4979\",\"4993\",\"5079\",\"5080\",\"5081\",\"5082\",\"5083\",\"5084\",\"5085\",\"5086\",\"5089\",\"5094\",\"jojo\",\"eevee\"],\"legendgroup\":\"Prob_B\",\"marker\":{\"color\":\"#EF553B\",\"pattern\":{\"shape\":\"\"}},\"name\":\"Prob_B\",\"offsetgroup\":\"Prob_B\",\"orientation\":\"v\",\"showlegend\":false,\"textposition\":\"auto\",\"x\":[\"4815\",\"4828\",\"4829\",\"4830\",\"4831\",\"4832\",\"4976\",\"4977\",\"4978\",\"4979\",\"4993\",\"5079\",\"5080\",\"5081\",\"5082\",\"5083\",\"5084\",\"5085\",\"5086\",\"5089\",\"5094\",\"5354\",\"5357\"],\"xaxis\":\"x3\",\"y\":[0.18697592449745587,0.9253867394965207,0.2042567499463882,0.20856409081306906,0.2785234986384524,0.9267431294489004,0.2388059187707506,0.21657133671261714,0.19282219421995545,0.1849681175382618,0.2698373629939122,0.39020167614906887,0.47348470468106213,0.3643442826890608,0.2856167206952524,0.36230312777987633,0.31020242776805473,0.6629696985610487,0.3134237486689875,0.26374964185491206,0.42440928221667695,0.3503213284371316,0.22152630044695165],\"yaxis\":\"y3\",\"type\":\"bar\"},{\"alignmentgroup\":\"True\",\"hovertemplate\":\"\\u003cb\\u003e%{hovertext}\\u003c\\u002fb\\u003e\\u003cbr\\u003e\\u003cbr\\u003eAssigned Population=Prob_C\\u003cbr\\u003efacet_col=Monfalcone\\u003cbr\\u003eSample=%{x}\\u003cbr\\u003ePosterior Probability=%{y}\\u003cextra\\u003e\\u003c\\u002fextra\\u003e\",\"hovertext\":[\"4291\",\"4813\",\"4821\",\"4822\",\"4823\",\"4824\",\"4826\",\"4827\",\"4833\",\"4834\",\"4835\",\"4839\",\"4840\",\"4845\",\"5090\",\"5091\",\"5093\",\"5097\",\"5098\",\"5099\",\"5114\",\"5115\",\"5116\",\"5117\",\"5118\",\"5119\",\"5120\",\"5121\",\"5122\",\"5123\",\"5126\",\"5140\",\"5141\",\"5142\",\"5293\",\"5294\",\"5295\",\"5296\",\"5353\"],\"legendgroup\":\"Prob_C\",\"marker\":{\"color\":\"#00cc96\",\"pattern\":{\"shape\":\"\"}},\"name\":\"Prob_C\",\"offsetgroup\":\"Prob_C\",\"orientation\":\"v\",\"showlegend\":true,\"textposition\":\"auto\",\"x\":[\"4291\",\"4813\",\"4821\",\"4822\",\"4823\",\"4824\",\"4826\",\"4827\",\"4833\",\"4834\",\"4835\",\"4839\",\"4840\",\"4845\",\"5090\",\"5091\",\"5093\",\"5097\",\"5098\",\"5099\",\"5114\",\"5115\",\"5116\",\"5117\",\"5118\",\"5119\",\"5120\",\"5121\",\"5122\",\"5123\",\"5126\",\"5140\",\"5141\",\"5142\",\"5293\",\"5294\",\"5295\",\"5296\",\"5353\"],\"xaxis\":\"x\",\"y\":[0.10928000216659228,0.8067066849419625,0.7901656733751322,0.7691537632150168,0.7075790359840487,0.001614750196979266,0.7496180147443255,0.7519647460029334,0.06278757145624304,0.07229620712742195,0.05632098289291428,0.0735798807756312,0.06853541983382834,0.027179181479547794,0.05500918212699947,0.06670576590898378,0.043052768112905364,0.04072717526807137,0.553340108861077,0.23391240870010507,0.0014075078132556808,0.021165499090937897,0.605640601104764,0.0013731716447944822,0.14955938479785144,0.7179365351743963,0.0012347025189165582,0.6635176606721949,0.002098605089645414,0.7098725535528663,0.31461944264897135,0.03363082338757906,0.05885150196759907,0.06842840656607638,0.2106508333673794,0.099930854877274,0.24685714517604207,0.10311092276788085,0.06032824400820883],\"yaxis\":\"y\",\"type\":\"bar\"},{\"alignmentgroup\":\"True\",\"hovertemplate\":\"\\u003cb\\u003e%{hovertext}\\u003c\\u002fb\\u003e\\u003cbr\\u003e\\u003cbr\\u003eAssigned Population=Prob_C\\u003cbr\\u003efacet_col=Grado\\u003cbr\\u003eSample=%{x}\\u003cbr\\u003ePosterior Probability=%{y}\\u003cextra\\u003e\\u003c\\u002fextra\\u003e\",\"hovertext\":[\"4798\",\"4799\",\"4801\",\"4805\",\"4807\",\"4808\",\"4809\",\"4810\",\"4811\",\"4812\",\"4838\",\"4957\",\"4958\",\"4959\",\"4960\",\"4961\",\"4966\",\"4967\",\"4969\",\"4972\",\"4975\",\"4981\",\"4982\",\"4983\",\"4985\",\"4987\",\"4988\",\"4989\",\"5135\",\"5136\",\"5138\",\"5139\"],\"legendgroup\":\"Prob_C\",\"marker\":{\"color\":\"#00cc96\",\"pattern\":{\"shape\":\"\"}},\"name\":\"Prob_C\",\"offsetgroup\":\"Prob_C\",\"orientation\":\"v\",\"showlegend\":false,\"textposition\":\"auto\",\"x\":[\"4798\",\"4799\",\"4801\",\"4805\",\"4807\",\"4808\",\"4809\",\"4810\",\"4811\",\"4812\",\"4838\",\"4957\",\"4958\",\"4959\",\"4960\",\"4961\",\"4966\",\"4967\",\"4969\",\"4972\",\"4975\",\"4981\",\"4982\",\"4983\",\"4985\",\"4987\",\"4988\",\"4989\",\"5135\",\"5136\",\"5138\",\"5139\"],\"xaxis\":\"x2\",\"y\":[0.0013726516620558636,0.0014902091558785233,0.7041103827791224,0.001777100990168262,0.001159936625537826,0.0013381816706652997,0.0016139995798322322,0.0014788822422326837,0.0020074260539067147,0.0019048987992082253,0.06758515466399007,0.001327127120631144,0.0021491374262802487,0.13654115881104364,0.0011197913023954945,0.11950617335171396,0.11705914362939915,0.0013410647750950347,0.0027013112013787306,0.0015452327453757035,0.036442630480086724,0.001345325455902201,0.0013888868156363284,0.0016253636764628797,0.021445999070400058,0.034660780899705174,0.0202057624274222,0.0048278324486942525,0.0013379994092928664,0.02089392082400803,0.0014392511458162535,0.024966927902831264],\"yaxis\":\"y2\",\"type\":\"bar\"},{\"alignmentgroup\":\"True\",\"hovertemplate\":\"\\u003cb\\u003e%{hovertext}\\u003c\\u002fb\\u003e\\u003cbr\\u003e\\u003cbr\\u003eAssigned Population=Prob_C\\u003cbr\\u003efacet_col=Trieste\\u003cbr\\u003eSample=%{x}\\u003cbr\\u003ePosterior Probability=%{y}\\u003cextra\\u003e\\u003c\\u002fextra\\u003e\",\"hovertext\":[\"4815\",\"4828\",\"4829\",\"4830\",\"4831\",\"4832\",\"4976\",\"4977\",\"4978\",\"4979\",\"4993\",\"5079\",\"5080\",\"5081\",\"5082\",\"5083\",\"5084\",\"5085\",\"5086\",\"5089\",\"5094\",\"jojo\",\"eevee\"],\"legendgroup\":\"Prob_C\",\"marker\":{\"color\":\"#00cc96\",\"pattern\":{\"shape\":\"\"}},\"name\":\"Prob_C\",\"offsetgroup\":\"Prob_C\",\"orientation\":\"v\",\"showlegend\":false,\"textposition\":\"auto\",\"x\":[\"4815\",\"4828\",\"4829\",\"4830\",\"4831\",\"4832\",\"4976\",\"4977\",\"4978\",\"4979\",\"4993\",\"5079\",\"5080\",\"5081\",\"5082\",\"5083\",\"5084\",\"5085\",\"5086\",\"5089\",\"5094\",\"5354\",\"5357\"],\"xaxis\":\"x3\",\"y\":[0.8104548833123993,0.06440459331104144,0.7924230307038297,0.7884560209293208,0.7162181595320694,0.06261554162209823,0.7571266191899568,0.77920797089077,0.8038663357332763,0.8127857384807188,0.7226601548744143,0.5598005598239467,0.4758955056822993,0.6129678581221644,0.705927257329482,0.6271830557711673,0.6817644213491183,0.3261550467172506,0.08525257920291565,0.7307855729130465,0.5689111262827838,0.6395881017139848,0.776418595856467],\"yaxis\":\"y3\",\"type\":\"bar\"}],                        {\"template\":{\"data\":{\"histogram2dcontour\":[{\"type\":\"histogram2dcontour\",\"colorbar\":{\"outlinewidth\":0,\"ticks\":\"\"},\"colorscale\":[[0.0,\"#0d0887\"],[0.1111111111111111,\"#46039f\"],[0.2222222222222222,\"#7201a8\"],[0.3333333333333333,\"#9c179e\"],[0.4444444444444444,\"#bd3786\"],[0.5555555555555556,\"#d8576b\"],[0.6666666666666666,\"#ed7953\"],[0.7777777777777778,\"#fb9f3a\"],[0.8888888888888888,\"#fdca26\"],[1.0,\"#f0f921\"]]}],\"choropleth\":[{\"type\":\"choropleth\",\"colorbar\":{\"outlinewidth\":0,\"ticks\":\"\"}}],\"histogram2d\":[{\"type\":\"histogram2d\",\"colorbar\":{\"outlinewidth\":0,\"ticks\":\"\"},\"colorscale\":[[0.0,\"#0d0887\"],[0.1111111111111111,\"#46039f\"],[0.2222222222222222,\"#7201a8\"],[0.3333333333333333,\"#9c179e\"],[0.4444444444444444,\"#bd3786\"],[0.5555555555555556,\"#d8576b\"],[0.6666666666666666,\"#ed7953\"],[0.7777777777777778,\"#fb9f3a\"],[0.8888888888888888,\"#fdca26\"],[1.0,\"#f0f921\"]]}],\"heatmap\":[{\"type\":\"heatmap\",\"colorbar\":{\"outlinewidth\":0,\"ticks\":\"\"},\"colorscale\":[[0.0,\"#0d0887\"],[0.1111111111111111,\"#46039f\"],[0.2222222222222222,\"#7201a8\"],[0.3333333333333333,\"#9c179e\"],[0.4444444444444444,\"#bd3786\"],[0.5555555555555556,\"#d8576b\"],[0.6666666666666666,\"#ed7953\"],[0.7777777777777778,\"#fb9f3a\"],[0.8888888888888888,\"#fdca26\"],[1.0,\"#f0f921\"]]}],\"heatmapgl\":[{\"type\":\"heatmapgl\",\"colorbar\":{\"outlinewidth\":0,\"ticks\":\"\"},\"colorscale\":[[0.0,\"#0d0887\"],[0.1111111111111111,\"#46039f\"],[0.2222222222222222,\"#7201a8\"],[0.3333333333333333,\"#9c179e\"],[0.4444444444444444,\"#bd3786\"],[0.5555555555555556,\"#d8576b\"],[0.6666666666666666,\"#ed7953\"],[0.7777777777777778,\"#fb9f3a\"],[0.8888888888888888,\"#fdca26\"],[1.0,\"#f0f921\"]]}],\"contourcarpet\":[{\"type\":\"contourcarpet\",\"colorbar\":{\"outlinewidth\":0,\"ticks\":\"\"}}],\"contour\":[{\"type\":\"contour\",\"colorbar\":{\"outlinewidth\":0,\"ticks\":\"\"},\"colorscale\":[[0.0,\"#0d0887\"],[0.1111111111111111,\"#46039f\"],[0.2222222222222222,\"#7201a8\"],[0.3333333333333333,\"#9c179e\"],[0.4444444444444444,\"#bd3786\"],[0.5555555555555556,\"#d8576b\"],[0.6666666666666666,\"#ed7953\"],[0.7777777777777778,\"#fb9f3a\"],[0.8888888888888888,\"#fdca26\"],[1.0,\"#f0f921\"]]}],\"surface\":[{\"type\":\"surface\",\"colorbar\":{\"outlinewidth\":0,\"ticks\":\"\"},\"colorscale\":[[0.0,\"#0d0887\"],[0.1111111111111111,\"#46039f\"],[0.2222222222222222,\"#7201a8\"],[0.3333333333333333,\"#9c179e\"],[0.4444444444444444,\"#bd3786\"],[0.5555555555555556,\"#d8576b\"],[0.6666666666666666,\"#ed7953\"],[0.7777777777777778,\"#fb9f3a\"],[0.8888888888888888,\"#fdca26\"],[1.0,\"#f0f921\"]]}],\"mesh3d\":[{\"type\":\"mesh3d\",\"colorbar\":{\"outlinewidth\":0,\"ticks\":\"\"}}],\"scatter\":[{\"fillpattern\":{\"fillmode\":\"overlay\",\"size\":10,\"solidity\":0.2},\"type\":\"scatter\"}],\"parcoords\":[{\"type\":\"parcoords\",\"line\":{\"colorbar\":{\"outlinewidth\":0,\"ticks\":\"\"}}}],\"scatterpolargl\":[{\"type\":\"scatterpolargl\",\"marker\":{\"colorbar\":{\"outlinewidth\":0,\"ticks\":\"\"}}}],\"bar\":[{\"error_x\":{\"color\":\"#2a3f5f\"},\"error_y\":{\"color\":\"#2a3f5f\"},\"marker\":{\"line\":{\"color\":\"#E5ECF6\",\"width\":0.5},\"pattern\":{\"fillmode\":\"overlay\",\"size\":10,\"solidity\":0.2}},\"type\":\"bar\"}],\"scattergeo\":[{\"type\":\"scattergeo\",\"marker\":{\"colorbar\":{\"outlinewidth\":0,\"ticks\":\"\"}}}],\"scatterpolar\":[{\"type\":\"scatterpolar\",\"marker\":{\"colorbar\":{\"outlinewidth\":0,\"ticks\":\"\"}}}],\"histogram\":[{\"marker\":{\"pattern\":{\"fillmode\":\"overlay\",\"size\":10,\"solidity\":0.2}},\"type\":\"histogram\"}],\"scattergl\":[{\"type\":\"scattergl\",\"marker\":{\"colorbar\":{\"outlinewidth\":0,\"ticks\":\"\"}}}],\"scatter3d\":[{\"type\":\"scatter3d\",\"line\":{\"colorbar\":{\"outlinewidth\":0,\"ticks\":\"\"}},\"marker\":{\"colorbar\":{\"outlinewidth\":0,\"ticks\":\"\"}}}],\"scattermapbox\":[{\"type\":\"scattermapbox\",\"marker\":{\"colorbar\":{\"outlinewidth\":0,\"ticks\":\"\"}}}],\"scatterternary\":[{\"type\":\"scatterternary\",\"marker\":{\"colorbar\":{\"outlinewidth\":0,\"ticks\":\"\"}}}],\"scattercarpet\":[{\"type\":\"scattercarpet\",\"marker\":{\"colorbar\":{\"outlinewidth\":0,\"ticks\":\"\"}}}],\"carpet\":[{\"aaxis\":{\"endlinecolor\":\"#2a3f5f\",\"gridcolor\":\"white\",\"linecolor\":\"white\",\"minorgridcolor\":\"white\",\"startlinecolor\":\"#2a3f5f\"},\"baxis\":{\"endlinecolor\":\"#2a3f5f\",\"gridcolor\":\"white\",\"linecolor\":\"white\",\"minorgridcolor\":\"white\",\"startlinecolor\":\"#2a3f5f\"},\"type\":\"carpet\"}],\"table\":[{\"cells\":{\"fill\":{\"color\":\"#EBF0F8\"},\"line\":{\"color\":\"white\"}},\"header\":{\"fill\":{\"color\":\"#C8D4E3\"},\"line\":{\"color\":\"white\"}},\"type\":\"table\"}],\"barpolar\":[{\"marker\":{\"line\":{\"color\":\"#E5ECF6\",\"width\":0.5},\"pattern\":{\"fillmode\":\"overlay\",\"size\":10,\"solidity\":0.2}},\"type\":\"barpolar\"}],\"pie\":[{\"automargin\":true,\"type\":\"pie\"}]},\"layout\":{\"autotypenumbers\":\"strict\",\"colorway\":[\"#636efa\",\"#EF553B\",\"#00cc96\",\"#ab63fa\",\"#FFA15A\",\"#19d3f3\",\"#FF6692\",\"#B6E880\",\"#FF97FF\",\"#FECB52\"],\"font\":{\"color\":\"#2a3f5f\"},\"hovermode\":\"closest\",\"hoverlabel\":{\"align\":\"left\"},\"paper_bgcolor\":\"white\",\"plot_bgcolor\":\"#E5ECF6\",\"polar\":{\"bgcolor\":\"#E5ECF6\",\"angularaxis\":{\"gridcolor\":\"white\",\"linecolor\":\"white\",\"ticks\":\"\"},\"radialaxis\":{\"gridcolor\":\"white\",\"linecolor\":\"white\",\"ticks\":\"\"}},\"ternary\":{\"bgcolor\":\"#E5ECF6\",\"aaxis\":{\"gridcolor\":\"white\",\"linecolor\":\"white\",\"ticks\":\"\"},\"baxis\":{\"gridcolor\":\"white\",\"linecolor\":\"white\",\"ticks\":\"\"},\"caxis\":{\"gridcolor\":\"white\",\"linecolor\":\"white\",\"ticks\":\"\"}},\"coloraxis\":{\"colorbar\":{\"outlinewidth\":0,\"ticks\":\"\"}},\"colorscale\":{\"sequential\":[[0.0,\"#0d0887\"],[0.1111111111111111,\"#46039f\"],[0.2222222222222222,\"#7201a8\"],[0.3333333333333333,\"#9c179e\"],[0.4444444444444444,\"#bd3786\"],[0.5555555555555556,\"#d8576b\"],[0.6666666666666666,\"#ed7953\"],[0.7777777777777778,\"#fb9f3a\"],[0.8888888888888888,\"#fdca26\"],[1.0,\"#f0f921\"]],\"sequentialminus\":[[0.0,\"#0d0887\"],[0.1111111111111111,\"#46039f\"],[0.2222222222222222,\"#7201a8\"],[0.3333333333333333,\"#9c179e\"],[0.4444444444444444,\"#bd3786\"],[0.5555555555555556,\"#d8576b\"],[0.6666666666666666,\"#ed7953\"],[0.7777777777777778,\"#fb9f3a\"],[0.8888888888888888,\"#fdca26\"],[1.0,\"#f0f921\"]],\"diverging\":[[0,\"#8e0152\"],[0.1,\"#c51b7d\"],[0.2,\"#de77ae\"],[0.3,\"#f1b6da\"],[0.4,\"#fde0ef\"],[0.5,\"#f7f7f7\"],[0.6,\"#e6f5d0\"],[0.7,\"#b8e186\"],[0.8,\"#7fbc41\"],[0.9,\"#4d9221\"],[1,\"#276419\"]]},\"xaxis\":{\"gridcolor\":\"white\",\"linecolor\":\"white\",\"ticks\":\"\",\"title\":{\"standoff\":15},\"zerolinecolor\":\"white\",\"automargin\":true,\"zerolinewidth\":2},\"yaxis\":{\"gridcolor\":\"white\",\"linecolor\":\"white\",\"ticks\":\"\",\"title\":{\"standoff\":15},\"zerolinecolor\":\"white\",\"automargin\":true,\"zerolinewidth\":2},\"scene\":{\"xaxis\":{\"backgroundcolor\":\"#E5ECF6\",\"gridcolor\":\"white\",\"linecolor\":\"white\",\"showbackground\":true,\"ticks\":\"\",\"zerolinecolor\":\"white\",\"gridwidth\":2},\"yaxis\":{\"backgroundcolor\":\"#E5ECF6\",\"gridcolor\":\"white\",\"linecolor\":\"white\",\"showbackground\":true,\"ticks\":\"\",\"zerolinecolor\":\"white\",\"gridwidth\":2},\"zaxis\":{\"backgroundcolor\":\"#E5ECF6\",\"gridcolor\":\"white\",\"linecolor\":\"white\",\"showbackground\":true,\"ticks\":\"\",\"zerolinecolor\":\"white\",\"gridwidth\":2}},\"shapedefaults\":{\"line\":{\"color\":\"#2a3f5f\"}},\"annotationdefaults\":{\"arrowcolor\":\"#2a3f5f\",\"arrowhead\":0,\"arrowwidth\":1},\"geo\":{\"bgcolor\":\"white\",\"landcolor\":\"#E5ECF6\",\"subunitcolor\":\"white\",\"showland\":true,\"showlakes\":true,\"lakecolor\":\"white\"},\"title\":{\"x\":0.05},\"mapbox\":{\"style\":\"light\"}}},\"xaxis\":{\"anchor\":\"y\",\"domain\":[0.0,0.31999999999999995],\"title\":{\"text\":\"Sample\"},\"categoryorder\":\"total descending\"},\"yaxis\":{\"anchor\":\"x\",\"domain\":[0.0,1.0],\"title\":{\"text\":\"Posterior Probability\"}},\"xaxis2\":{\"anchor\":\"y2\",\"domain\":[0.33999999999999997,0.6599999999999999],\"title\":{\"text\":\"Sample\"}},\"yaxis2\":{\"anchor\":\"x2\",\"domain\":[0.0,1.0],\"matches\":\"y\",\"showticklabels\":false},\"xaxis3\":{\"anchor\":\"y3\",\"domain\":[0.6799999999999999,0.9999999999999999],\"title\":{\"text\":\"Sample\"}},\"yaxis3\":{\"anchor\":\"x3\",\"domain\":[0.0,1.0],\"matches\":\"y\",\"showticklabels\":false},\"annotations\":[{\"font\":{},\"showarrow\":false,\"text\":\"facet_col=Monfalcone\",\"x\":0.15999999999999998,\"xanchor\":\"center\",\"xref\":\"paper\",\"y\":1.0,\"yanchor\":\"bottom\",\"yref\":\"paper\"},{\"font\":{},\"showarrow\":false,\"text\":\"facet_col=Grado\",\"x\":0.49999999999999994,\"xanchor\":\"center\",\"xref\":\"paper\",\"y\":1.0,\"yanchor\":\"bottom\",\"yref\":\"paper\"},{\"font\":{},\"showarrow\":false,\"text\":\"facet_col=Trieste\",\"x\":0.8399999999999999,\"xanchor\":\"center\",\"xref\":\"paper\",\"y\":1.0,\"yanchor\":\"bottom\",\"yref\":\"paper\"}],\"legend\":{\"title\":{\"text\":\"Assigned Population\"},\"tracegroupgap\":0},\"title\":{\"text\":\"DAPC Posterior Membership Probabilities per Sample\"},\"barmode\":\"stack\",\"height\":700,\"width\":1200},                        {\"responsive\": true}                    ).then(function(){\n",
       "                            \n",
       "var gd = document.getElementById('58667c87-74c2-4aff-aa0b-f267fbac1804');\n",
       "var x = new MutationObserver(function (mutations, observer) {{\n",
       "        var display = window.getComputedStyle(gd).display;\n",
       "        if (!display || display === 'none') {{\n",
       "            console.log([gd, 'removed!']);\n",
       "            Plotly.purge(gd);\n",
       "            observer.disconnect();\n",
       "        }}\n",
       "}});\n",
       "\n",
       "// Listen for the removal of the full notebook cells\n",
       "var notebookContainer = gd.closest('#notebook-container');\n",
       "if (notebookContainer) {{\n",
       "    x.observe(notebookContainer, {childList: true});\n",
       "}}\n",
       "\n",
       "// Listen for the clearing of the current output cell\n",
       "var outputEl = gd.closest('.output');\n",
       "if (outputEl) {{\n",
       "    x.observe(outputEl, {childList: true});\n",
       "}}\n",
       "\n",
       "                        })                };                });            </script>        </div>"
      ]
     },
     "metadata": {},
     "output_type": "display_data"
    }
   ],
   "source": [
    "import plotly.express as px\n",
    "import plotly.graph_objs as go\n",
    "import pandas as pd\n",
    "\n",
    "population_probabilities = lda.predict_proba(scores)\n",
    "\n",
    "# Assuming population_probabilities and populations are computed as before\n",
    "prob_df = pd.DataFrame(\n",
    "    population_probabilities, \n",
    "    columns=[f'Prob_{pop}' for pop in [\"A\",\"B\",\"C\"]],\n",
    "    index=callset['samples']\n",
    ")\n",
    "\n",
    "# Convert the DataFrame to long format\n",
    "prob_df_long = prob_df.reset_index().melt(id_vars='index', var_name='Assigned_Pop', value_name='Probability')\n",
    "prob_df_long.rename(columns={'index': 'Sample'}, inplace=True)\n",
    "\n",
    "# Create a Plotly stacked bar plot\n",
    "fig = px.bar(\n",
    "    prob_df_long, \n",
    "    x='Sample', \n",
    "    y='Probability', \n",
    "    color='Assigned_Pop', \n",
    "    facet_col = prob_df_long['Sample'].map(population_dict) ,\n",
    "    title='DAPC Posterior Membership Probabilities per Sample',\n",
    "    labels={'Sample': 'Sample', 'Probability': 'Posterior Probability', 'Assigned_Pop': 'Assigned Population'},\n",
    "    width=1200, \n",
    "    height=700,\n",
    "    hover_name=list(sample_ids)*3\n",
    ")\n",
    "\n",
    "fig.update_xaxes(matches=None)\n",
    "\n",
    "# Update the layout for better visibility\n",
    "fig.update_layout(barmode='stack', xaxis={'categoryorder': 'total descending'}, legend_title_text='Assigned Population')\n",
    "\n",
    "# Show the interactive plot\n",
    "fig.show()"
   ]
  },
  {
   "cell_type": "markdown",
   "id": "ba5751ea-b2c9-4c64-9af2-630be98f1ac2",
   "metadata": {},
   "source": [
    ":::{attention}Domande\n",
    "1. Cosa possiamo concludere sulla composizione allelica delle tre popolazioni?\n",
    "2. Qual è la probabile origine geografica degli antenati di Jojo e Eevee?\n",
    "3. Qual è la popolazione più isolata? E quella più eterogenea?\n",
    ":::"
   ]
  },
  {
   "cell_type": "markdown",
   "id": "cd5b789a-9876-4cd6-b8ca-d3430628e0d4",
   "metadata": {},
   "source": [
    "### Bonus, ma non faremo mai in tempo\n",
    "\n",
    "Verifica numerica che le popolazioni non sono in equilibrio"
   ]
  },
  {
   "cell_type": "code",
   "execution_count": 14,
   "id": "a6bfbc3a-c79c-457e-970f-cb3a0e92147b",
   "metadata": {},
   "outputs": [],
   "source": [
    "# This should output something like (num_samples, num_variants, ploidy)\n",
    "# Ensure you use the correct indices based on this output\n",
    "\n",
    "# Calculate allele counts (axis=0 indicates that the counting is over samples)\n",
    "allele_counts = genotype.count_alleles()\n",
    "\n",
    "# Initialize array to store p-values for HWE test\n",
    "hwe_p_values = np.zeros(genotype.shape[0])  # Assuming shape[1] is the number of variants\n",
    "\n",
    "# Perform the HWE test\n",
    "for i in range(genotype.shape[0]):\n",
    "    if np.any(allele_counts[i] < 5):\n",
    "        # If any allele count is less than 5, avoid chi-square due to small expected counts\n",
    "        continue\n",
    "    \n",
    "    # Count genotypes\n",
    "    obs_homo_ref = np.sum(genotype[:, i].is_hom_ref())\n",
    "    obs_homo_alt = np.sum(genotype[:, i].is_hom_alt())\n",
    "    obs_het = np.sum(genotype[:, i].is_het())\n",
    "    print(\"hello\", obs_homo_ref, obs_homo_alt, obs_het)\n",
    "    break\n",
    "\n",
    "    # Calculate allele frequencies\n",
    "    n = obs_homo_ref + obs_het + obs_homo_alt\n",
    "    p = allele_counts[i][0] / (2 * n)  # Frequency of reference allele\n",
    "    q = 1 - p  # Frequency of alternate allele\n",
    "\n",
    "    # Expected genotype counts under HWE\n",
    "    exp_homo_ref = (p ** 2) * n\n",
    "    exp_homo_alt = (q ** 2) * n\n",
    "    exp_het = 2 * p * q * n\n",
    "\n",
    "    observed = [obs_homo_ref, obs_het, obs_homo_alt]\n",
    "    expected = [exp_homo_ref, exp_het, exp_homo_alt]\n",
    "\n",
    "    # Chi-squared test\n",
    "    chi2, p_val = stats.chisquare(f_obs=observed, f_exp=expected, ddof=1)\n",
    "    hwe_p_values[i] = p_val\n",
    "\n",
    "# Output p-values\n",
    "#print(\"P-values for HWE tests:\", hwe_p_values)"
   ]
  },
  {
   "cell_type": "code",
   "execution_count": 15,
   "id": "1d8b5d4b-6880-4079-a0c6-b2397b91da0e",
   "metadata": {},
   "outputs": [
    {
     "name": "stdout",
     "output_type": "stream",
     "text": [
      "{(0, 0): 84, (0, 1): 1}\n",
      "{(0, 0): 87, (0, 1): 1}\n",
      "{(0, 0): 68, (1, 1): 15, (0, 1): 2}\n",
      "{(0, 0): 86, (0, 1): 2}\n",
      "{(0, 0): 86, (0, 1): 1}\n",
      "{(0, 0): 86, (0, 1): 1}\n",
      "{(0, 0): 86, (0, 1): 1}\n",
      "{(0, 0): 89, (0, 1): 1}\n",
      "{(0, 0): 51, (1, 1): 34, (0, 1): 7}\n",
      "{(0, 0): 89, (0, 1): 1}\n",
      "{(0, 0): 88, (0, 1): 1}\n",
      "{(0, 0): 88, (0, 1): 1}\n",
      "{(0, 0): 88, (0, 1): 1}\n",
      "{(0, 0): 88, (0, 1): 1}\n",
      "{(0, 0): 88, (0, 1): 1}\n",
      "{(0, 0): 69, (1, 1): 16, (0, 1): 5}\n",
      "{(0, 0): 88, (0, 1): 1}\n",
      "{(0, 0): 56, (1, 1): 31, (0, 1): 5}\n",
      "{(0, 0): 90, (0, 1): 1}\n",
      "{(0, 0): 86, (0, 1): 3}\n",
      "{(0, 0): 91, (0, 1): 1}\n",
      "{(0, 0): 91, (0, 1): 1}\n",
      "{(1, 1): 39, (0, 0): 47, (0, 1): 6}\n",
      "{(0, 0): 91, (0, 1): 1}\n",
      "{(0, 0): 83, (0, 1): 7}\n",
      "{(0, 0): 83, (0, 1): 7}\n",
      "{(0, 0): 86, (0, 1): 1}\n",
      "{(0, 0): 86, (0, 1): 1}\n",
      "{(0, 0): 91, (0, 1): 1}\n",
      "{(0, 0): 71, (1, 1): 17, (0, 1): 3}\n",
      "{(0, 0): 90, (0, 1): 1}\n",
      "{(0, 0): 92, (0, 1): 1}\n",
      "{(0, 0): 92, (0, 1): 1}\n",
      "{(0, 0): 92, (0, 1): 1}\n",
      "{(0, 0): 88, (0, 1): 2}\n",
      "{(0, 0): 87, (0, 1): 1}\n",
      "{(0, 0): 37, (1, 1): 50, (0, 1): 4}\n",
      "{(0, 0): 83, (1, 1): 4, (0, 1): 1}\n",
      "{(0, 0): 86, (0, 1): 1}\n",
      "{(0, 0): 84, (0, 1): 1}\n",
      "{(0, 0): 92, (0, 1): 1}\n",
      "{(0, 0): 92, (0, 1): 1}\n",
      "{(0, 0): 92, (0, 1): 1}\n",
      "{(0, 0): 92, (0, 1): 1}\n",
      "{(0, 0): 92, (0, 1): 1}\n",
      "{(0, 0): 92, (0, 1): 1}\n",
      "{(0, 0): 92, (0, 1): 1}\n",
      "{(0, 0): 92, (0, 1): 1}\n",
      "{(0, 0): 92, (0, 1): 1}\n",
      "{(0, 0): 87, (0, 1): 1}\n",
      "{(1, 1): 38, (0, 0): 45, (0, 1): 6}\n",
      "{(1, 1): 39, (0, 1): 54}\n",
      "{(0, 0): 87, (0, 1): 6}\n",
      "{(0, 1): 87, (1, 1): 1, (0, 0): 1}\n",
      "{(0, 1): 64, (0, 0): 25}\n",
      "{(0, 1): 82, (1, 1): 7}\n",
      "{(1, 2): 47, (0, 1): 35, (1, 1): 7}\n",
      "{(1, 2): 48, (0, 1): 33, (1, 1): 8}\n",
      "{(1, 2): 47, (0, 1): 33, (1, 1): 8}\n",
      "{(0, 0): 71, (0, 1): 16}\n",
      "{(0, 0): 89, (0, 1): 1}\n",
      "{(0, 0): 84, (0, 1): 9}\n",
      "{(0, 0): 89, (0, 1): 1}\n",
      "{(0, 0): 85, (0, 1): 1}\n",
      "{(0, 0): 70, (1, 1): 18, (0, 1): 3}\n",
      "{(0, 0): 92, (0, 1): 1}\n",
      "{(0, 0): 93, (0, 1): 1}\n",
      "{(0, 1): 58, (0, 0): 31}\n",
      "{(0, 0): 86, (0, 1): 1}\n",
      "{(0, 0): 88, (1, 1): 4, (0, 1): 1}\n",
      "{(0, 0): 93, (0, 1): 1}\n",
      "{(0, 0): 68, (1, 1): 22, (0, 1): 3}\n",
      "{(0, 0): 90, (0, 1): 1}\n",
      "{(1, 1): 56, (0, 0): 30, (0, 1): 6}\n",
      "{(1, 1): 59, (0, 0): 27, (0, 1): 7}\n",
      "{(0, 0): 92, (0, 1): 1}\n",
      "{(0, 0): 92, (0, 1): 1}\n",
      "{(0, 0): 85, (0, 1): 2}\n",
      "{(0, 0): 89, (0, 1): 1}\n",
      "{(0, 0): 88, (0, 1): 2}\n",
      "{(0, 0): 89, (0, 1): 2}\n",
      "{(0, 0): 91, (0, 1): 1}\n",
      "{(0, 1): 1, (0, 0): 93}\n",
      "{(1, 1): 50, (0, 0): 39, (0, 1): 1}\n",
      "{(0, 0): 92, (0, 1): 1}\n",
      "{(0, 0): 85, (0, 1): 1}\n",
      "{(0, 0): 85, (0, 1): 2}\n",
      "{(0, 0): 38, (1, 1): 49, (0, 1): 4}\n",
      "{(0, 0): 39, (1, 1): 51, (0, 1): 3}\n",
      "{(0, 0): 81, (0, 1): 4}\n",
      "{(0, 0): 80, (1, 1): 5, (0, 1): 1}\n",
      "{(0, 0): 87, (0, 1): 1}\n",
      "{(0, 0): 92, (0, 1): 1}\n",
      "{(0, 0): 91, (0, 1): 2}\n",
      "{(0, 0): 84, (0, 1): 1}\n",
      "{(0, 1): 84, (0, 0): 1}\n",
      "{(0, 0): 92, (0, 1): 1}\n",
      "{(0, 0): 92, (0, 1): 1}\n",
      "{(1, 1): 55, (0, 0): 33, (0, 1): 6}\n",
      "{(0, 0): 53, (1, 1): 31, (0, 1): 5}\n",
      "{(0, 0): 86, (0, 1): 1}\n",
      "{(0, 1): 85, (0, 0): 3}\n",
      "{(0, 1): 86, (1, 1): 2}\n",
      "{(0, 0): 91, (0, 1): 1}\n",
      "{(0, 0): 76, (1, 1): 16, (0, 1): 2}\n",
      "{(0, 0): 88, (1, 1): 2, (0, 1): 3}\n",
      "{(0, 0): 87, (0, 1): 1}\n",
      "{(0, 0): 91, (0, 1): 1}\n",
      "{(0, 0): 89, (0, 1): 1}\n",
      "{(0, 0): 88, (0, 1): 1}\n",
      "{(0, 0): 87, (0, 1): 1}\n",
      "{(0, 1): 1, (0, 0): 88}\n",
      "{(0, 0): 85, (0, 1): 1, (1, 1): 1}\n",
      "{(1, 1): 42, (0, 0): 45, (0, 1): 6}\n",
      "{(0, 0): 84, (0, 1): 1}\n",
      "{(1, 1): 49, (0, 0): 32, (0, 1): 5}\n",
      "{(0, 0): 85, (0, 1): 1}\n",
      "{(0, 0): 81, (0, 1): 7}\n",
      "{(0, 0): 90, (0, 1): 1}\n",
      "{(0, 0): 32, (1, 1): 54, (0, 1): 4}\n",
      "{(0, 0): 86, (0, 1): 1}\n",
      "{(0, 0): 89, (0, 1): 1}\n",
      "{(0, 0): 90, (0, 1): 1}\n",
      "{(0, 0): 89, (0, 1): 2}\n",
      "{(0, 0): 34, (1, 1): 51, (0, 1): 7}\n",
      "{(0, 0): 91, (0, 1): 1}\n",
      "{(0, 0): 88, (0, 1): 1}\n",
      "{(0, 0): 92, (0, 1): 1}\n",
      "{(0, 0): 92, (0, 1): 1}\n",
      "{(0, 0): 84, (0, 1): 2}\n",
      "{(0, 0): 53, (1, 1): 28, (0, 1): 6}\n",
      "{(0, 0): 91, (0, 1): 1}\n",
      "{(0, 0): 89, (0, 1): 1, (1, 1): 3}\n",
      "{(0, 1): 1, (0, 0): 91}\n",
      "{(0, 1): 1, (0, 0): 91}\n",
      "{(0, 1): 1, (0, 0): 91}\n",
      "{(0, 0): 85, (0, 1): 1, (1, 1): 1}\n",
      "{(0, 0): 44, (0, 1): 43}\n",
      "{(0, 0): 91, (0, 1): 1}\n",
      "{(0, 0): 92, (0, 1): 1}\n",
      "{(0, 0): 86, (0, 1): 1}\n",
      "{(0, 0): 89, (0, 1): 2}\n",
      "{(0, 0): 85, (1, 1): 1, (0, 1): 1}\n",
      "{(0, 0): 55, (0, 1): 35}\n",
      "{(0, 1): 86, (0, 0): 4}\n",
      "{(0, 0): 49, (1, 1): 31, (0, 1): 6}\n",
      "{(0, 0): 92, (0, 1): 1}\n",
      "{(0, 0): 84, (0, 1): 1}\n",
      "{(0, 0): 88, (0, 1): 1}\n",
      "{(0, 0): 84, (0, 1): 1}\n",
      "{(0, 1): 22, (0, 0): 69}\n",
      "{(0, 0): 81, (0, 1): 3, (0, 2): 4}\n",
      "{(0, 0): 57, (0, 1): 32}\n",
      "{(0, 1): 84, (1, 1): 4, (0, 0): 1}\n",
      "{(0, 0): 86, (0, 1): 1}\n",
      "{(0, 1): 83, (0, 0): 2}\n",
      "{(0, 0): 52, (1, 1): 34, (0, 1): 3}\n",
      "{(0, 0): 71, (1, 1): 19, (0, 1): 3}\n",
      "{(0, 0): 92, (0, 1): 1}\n",
      "{(0, 0): 91, (0, 1): 1}\n",
      "{(0, 0): 23, (1, 1): 57, (0, 1): 7}\n",
      "{(0, 1): 92}\n",
      "{(0, 0): 5, (0, 1): 87}\n",
      "{(0, 0): 86, (0, 1): 1}\n",
      "{(0, 0): 89, (0, 1): 1}\n",
      "{(0, 0): 88, (0, 1): 1}\n",
      "{(0, 0): 90, (0, 1): 1}\n",
      "{(0, 0): 89, (0, 1): 1}\n",
      "{(0, 0): 90, (0, 1): 1}\n",
      "{(0, 0): 47, (0, 1): 44}\n",
      "{(0, 1): 77, (0, 0): 14}\n",
      "{(1, 1): 36, (0, 1): 50}\n",
      "{(1, 1): 36, (0, 1): 50}\n",
      "{(1, 1): 36, (0, 1): 50}\n",
      "{(0, 0): 83, (0, 1): 1, (1, 1): 2}\n",
      "{(0, 0): 90, (0, 1): 1}\n",
      "{(0, 0): 89, (0, 1): 1, (1, 1): 3}\n",
      "{(0, 0): 88, (0, 1): 1}\n",
      "{(0, 0): 89, (0, 1): 1}\n",
      "{(0, 1): 72, (0, 0): 20}\n",
      "{(0, 1): 72, (0, 0): 20}\n",
      "{(0, 1): 74, (1, 1): 18}\n",
      "{(0, 1): 71, (0, 0): 21}\n",
      "{(0, 0): 90, (0, 1): 2}\n",
      "{(0, 1): 68, (1, 1): 20}\n",
      "{(0, 1): 68, (1, 1): 20}\n",
      "{(0, 1): 81, (0, 0): 7}\n",
      "{(0, 0): 83, (1, 1): 5, (0, 1): 1}\n",
      "{(0, 1): 36, (0, 0): 51}\n",
      "{(0, 0): 89, (0, 1): 1}\n",
      "{(0, 0): 86, (0, 1): 1}\n",
      "{(1, 1): 48, (0, 0): 37, (0, 1): 5}\n",
      "{(0, 0): 85, (0, 1): 5}\n",
      "{(0, 1): 37, (1, 1): 55}\n",
      "{(0, 1): 82, (0, 0): 5}\n",
      "{(0, 0): 85, (0, 1): 1}\n",
      "{(0, 0): 86, (0, 1): 1}\n",
      "{(0, 0): 86, (0, 1): 1}\n",
      "{(0, 0): 91, (0, 1): 1}\n",
      "{(0, 0): 91, (0, 1): 1}\n",
      "{(0, 0): 89, (0, 1): 1}\n",
      "{(0, 0): 81, (0, 1): 2, (0, 2): 4, (0, 3): 1}\n",
      "{(0, 0): 23, (0, 1): 64}\n",
      "{(0, 0): 48, (0, 1): 40}\n",
      "{(0, 0): 47, (0, 1): 40}\n",
      "{(0, 0): 38, (1, 1): 50, (0, 1): 3}\n",
      "{(0, 0): 76, (0, 1): 15}\n",
      "{(0, 0): 62, (0, 1): 29}\n",
      "{(0, 0): 82, (0, 1): 9}\n",
      "{(0, 0): 64, (0, 1): 27}\n",
      "{(0, 1): 87, (1, 1): 4}\n",
      "{(0, 1): 87, (1, 1): 4}\n",
      "{(0, 1): 23, (0, 0): 68}\n",
      "{(0, 0): 81, (0, 1): 6}\n",
      "{(0, 1): 67, (0, 0): 20}\n",
      "{(0, 1): 48, (0, 0): 39}\n",
      "{(0, 0): 90, (0, 1): 1}\n",
      "{(0, 0): 90, (0, 1): 1}\n",
      "{(0, 0): 87, (0, 1): 2}\n",
      "{(0, 0): 81, (0, 1): 11}\n",
      "{(0, 0): 90, (0, 1): 1}\n",
      "{(0, 1): 75, (0, 0): 9, (1, 1): 1}\n",
      "{(0, 1): 65, (1, 1): 20}\n",
      "{(0, 1): 67, (1, 1): 23}\n",
      "{(0, 0): 93, (0, 1): 1}\n",
      "{(0, 0): 84, (0, 1): 1}\n",
      "{(0, 1): 1, (0, 0): 86}\n"
     ]
    }
   ],
   "source": [
    "for i in genotype:\n",
    "    genotypes_counts = {}\n",
    "    for j in i:\n",
    "        if  -1 not in j:\n",
    "            j_tuple = tuple(j)\n",
    "            if j_tuple in genotypes_counts:\n",
    "                genotypes_counts[j_tuple] += 1\n",
    "            else:\n",
    "                genotypes_counts[j_tuple] = 1\n",
    "    try:\n",
    "        if genotypes_counts[(0,1)] or genotypes_counts[(1,0)]:\n",
    "            print(genotypes_counts)\n",
    "    except:\n",
    "        pass"
   ]
  }
 ],
 "metadata": {
  "kernelspec": {
   "display_name": "Python 3 (ipykernel)",
   "language": "python",
   "name": "python3"
  },
  "language_info": {
   "codemirror_mode": {
    "name": "ipython",
    "version": 3
   },
   "file_extension": ".py",
   "mimetype": "text/x-python",
   "name": "python",
   "nbconvert_exporter": "python",
   "pygments_lexer": "ipython3",
   "version": "3.11.6"
  }
 },
 "nbformat": 4,
 "nbformat_minor": 5
}
